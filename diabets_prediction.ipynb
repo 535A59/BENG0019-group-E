{
 "cells": [
  {
   "attachments": {},
   "cell_type": "markdown",
   "metadata": {},
   "source": [
    "# Diabetic patients readmission rates preditction\n"
   ]
  },
  {
   "cell_type": "code",
<<<<<<< HEAD
   "execution_count": 1569,
=======
   "execution_count": null,
>>>>>>> 0cbe272301b89bc470bde29c9c4e1f709ba538f3
   "metadata": {},
   "outputs": [],
   "source": [
    "# !pip install tqdm\n",
    "# !pip install tensorflow\n",
    "# !pip install umap-learn"
   ]
  },
  {
   "cell_type": "code",
<<<<<<< HEAD
   "execution_count": 1570,
=======
   "execution_count": 1,
>>>>>>> 0cbe272301b89bc470bde29c9c4e1f709ba538f3
   "metadata": {},
   "outputs": [],
   "source": [
    "# Importing package\n",
    "#Standard Python libraries for data and visualisation\n",
    "import numpy as np\n",
    "import pandas as pd\n",
    "import matplotlib.pyplot as plt\n",
    "import seaborn as sns\n",
    "import os\n",
    "from tqdm import tqdm\n",
    "import seaborn as sns; sns.set()\n",
    "\n",
    "#sklearn packages for machine learning\n",
    "from sklearn.metrics import accuracy_score\n",
    "from sklearn.model_selection import train_test_split\n",
    "from sklearn.ensemble import RandomForestClassifier\n",
    "from sklearn.model_selection import RandomizedSearchCV\n",
    "from sklearn.ensemble import HistGradientBoostingClassifier\n",
    "from sklearn.decomposition import PCA\n",
    "from sklearn.manifold import TSNE\n",
    "from sklearn.preprocessing import MinMaxScaler\n",
    "from sklearn.discriminant_analysis import LinearDiscriminantAnalysis as LDA\n",
    "from sklearn.discriminant_analysis import QuadraticDiscriminantAnalysis as QDA\n",
    "from sklearn.naive_bayes import GaussianNB\n",
    "from sklearn.metrics import confusion_matrix\n",
    "\n",
    "#pytorch packages for deep learning\n",
    "import torch\n",
    "import torch.nn as nn\n",
    "import torch.optim as optim\n",
    "from torch.utils.data import TensorDataset, DataLoader\n",
    "import torch.nn.functional as F\n",
    "from torch.utils.data import Dataset\n",
    "\n",
    "%matplotlib inline\n"
   ]
  },
  {
   "attachments": {},
   "cell_type": "markdown",
   "metadata": {},
   "source": [
    "# Project introduction\n",
    "\n",
    "- Overview: <br>\n",
    "This project is focusing on developing a predictive model to ascertain the likelihood of readmission for diabetes patients.\n",
    "<br>\n",
    "\n",
    "- Target:<br>\n",
    "The main goal of this project is developing a powerful machine learning model which can predict the readmission rate of patient "
   ]
  },
  {
   "attachments": {},
   "cell_type": "markdown",
   "metadata": {},
   "source": [
    "# Data loading\n",
    "The following cells are used to load training and testing data for our prediction"
   ]
  },
  {
   "cell_type": "code",
   "execution_count": 1571,
   "metadata": {},
   "outputs": [],
   "source": [
    "train_data = pd.read_csv(\"Dataset/diabetic_data_training.csv\")\n",
    "test_data = pd.read_csv(\"Dataset/diabetic_data_test.csv\")\n",
    "mapping_info = pd.read_csv(\"Dataset/IDS_mapping.csv\", header=None)\n",
    "pd.set_option('display.max_columns', None)"
   ]
  },
  {
   "cell_type": "code",
   "execution_count": 1572,
   "metadata": {},
   "outputs": [],
   "source": [
    "# Function to handle different data types for plotting\n",
    "def plot_column(ax, column, df):\n",
    "    if df[column].dtype == 'object':\n",
    "        # Check if binary\n",
    "        if df[column].nunique() == 2:\n",
    "            # Binary data visualization\n",
    "            df[column].value_counts().plot(kind='bar', ax=ax)\n",
    "        else:\n",
    "            # Categorical data visualization\n",
    "            df[column].value_counts().plot(kind='pie', autopct='%1.1f%%', ax=ax)\n",
    "    elif df[column].dtype == 'int64' or df[column].dtype == 'float64':\n",
    "        # Numeric data visualization\n",
    "        df[column].plot(kind='hist', bins=20, ax=ax)\n",
    "    else:\n",
    "        ax.text(0.5, 0.5, f\"Unhandled data type for column: {column}\", \n",
    "                fontsize=12, ha='center')\n",
    "    ax.set_title(column)\n",
    "\n"
   ]
  },
  {
   "attachments": {},
   "cell_type": "markdown",
   "metadata": {},
   "source": [
    "# Data preprocessing\n",
    "The following cells are used to preprocess the training and testing data. There are two main goals in our preprocessing data section of the code\n",
    "- Change the string type data in our dataset to integer type data \n",
    "- Apply some applicable method to full up the missing value"
   ]
  },
  {
   "cell_type": "code",
   "execution_count": 1573,
   "metadata": {},
   "outputs": [],
   "source": [
    "# this part is used to change all string type data to integer type\n",
    "# for the missing value, we will skip and process it at next step\n",
    "\n",
    "df = train_data.copy()\n",
    "df_test = test_data.copy()"
   ]
  },
  {
   "cell_type": "markdown",
   "metadata": {},
   "source": [
    "One-Hot Encoding For race:\n",
    "cons: One-hot encoding can lead to a significant increase in the dataset's dimensionality (a problem known as the \"curse of dimensionality\"), especially if the categorical feature has many unique values. This can increase the computational cost and may require more data to achieve good performance.\n",
    "Dems Redct Would be apply, so it doesn't matter\n",
    "pros: Map to a fix number implies an ordinal relationship between the categories which may not exist, but is ideal for non-ordinal categorical data. It's suitable for many machine learning models, especially those that assume no ordinal relationship between categories"
   ]
  },
  {
   "cell_type": "markdown",
   "metadata": {},
   "source": [
    "Race Process\n",
    "1. Remove missing since race is proved to be a significant impact to medical result.\n",
    "2. One-hot encode race"
   ]
  },
  {
   "cell_type": "code",
   "execution_count": 1574,
   "metadata": {},
   "outputs": [],
   "source": [
    "def race_filter(df):\n",
    "    \"\"\"\n",
    "    Remove missing value from race\n",
    "    \n",
    "    Parameters:\n",
    "    df (pandas.dataframe): series containing a colum of the feature matrix.\n",
    "\n",
    "    Return:\n",
    "    Filtered dataframe free from ? for race\n",
    "    \"\"\"\n",
    "    race_mask = (df['race'] != \"?\")\n",
    "    df = df[race_mask]\n",
    "    return df"
   ]
  },
  {
   "cell_type": "code",
   "execution_count": 1575,
   "metadata": {},
   "outputs": [],
   "source": [
    "df = race_filter(df)\n",
    "df_encoded = pd.get_dummies(df, columns=[\"race\"], prefix=\"race\",dtype=int)\n",
    "\n",
    "df_test = race_filter(df_test)\n",
    "df_test_encoded = pd.get_dummies(df_test, columns=[\"race\"], prefix=\"race\",dtype=int)"
   ]
  },
  {
   "cell_type": "markdown",
   "metadata": {},
   "source": [
    "Gender Process\n",
    "\n",
    "1. Remove Unknown/Invalid and missing\n",
    "2. One hot encode Gender"
   ]
  },
  {
   "cell_type": "code",
   "execution_count": 1576,
   "metadata": {},
   "outputs": [],
   "source": [
    "def gender_filter(df):\n",
    "    \"\"\"\n",
    "    Remove missing value from race\n",
    "    \n",
    "    Parameters:\n",
    "    df (pandas.dataframe): series containing a colum of the feature matrix.\n",
    "\n",
    "    Return:\n",
    "    Filtered dataframe free from ? for race\n",
    "    \"\"\"\n",
    "    gender_mask = (df['gender'] != \"Unknown/Invalid\")\n",
    "    df = df[gender_mask]\n",
    "    return df"
   ]
  },
  {
   "cell_type": "code",
   "execution_count": 1577,
   "metadata": {},
   "outputs": [],
   "source": [
    "df_encoded = gender_filter(df_encoded)\n",
    "df_test_encoded = gender_filter(df_test_encoded)\n",
    "gender_mapping = {'Male':0,'Female':1}\n",
    "df_encoded['gender'] = df_encoded['gender'].map(gender_mapping)\n",
    "df_test_encoded['gender'] = df_test_encoded['gender'].map(gender_mapping)"
   ]
  },
  {
   "cell_type": "markdown",
   "metadata": {},
   "source": [
    "encounter_id and patient_nbr Process \n",
    "1. n/a\n",
    "2. Drop since it provide no info to the result"
   ]
  },
  {
   "cell_type": "code",
   "execution_count": 1578,
   "metadata": {},
   "outputs": [],
   "source": [
    "df_encoded.drop(columns=['encounter_id','patient_nbr'], inplace=True)\n",
    "df_test_encoded.drop(columns=['encounter_id','patient_nbr'],inplace=True)"
   ]
  },
  {
   "cell_type": "markdown",
   "metadata": {},
   "source": [
    "Age Process\n",
    "1. n/a\n",
    "2. Map age from range to mean"
   ]
  },
  {
   "cell_type": "code",
   "execution_count": 1579,
   "metadata": {},
   "outputs": [],
   "source": [
    "def age_processing(df):\n",
    "    return (df.str.extract(r'(\\d+)-(\\d+)')[0].astype(int)+df.str.extract(r'(\\d+)-(\\d+)')[1].astype(int))//2"
   ]
  },
  {
   "cell_type": "code",
   "execution_count": 1580,
   "metadata": {},
   "outputs": [],
   "source": [
    "df_encoded['age'] = age_processing(df_encoded['age'])\n",
    "df_test_encoded['age'] = age_processing(df_test_encoded['age'])"
   ]
  },
  {
   "cell_type": "markdown",
   "metadata": {},
   "source": [
    "Weight Process\n",
    "1. Drop Weight for too many missing values and no information to predict.\n",
    "2. n/a"
   ]
  },
  {
   "cell_type": "code",
   "execution_count": 1581,
   "metadata": {},
   "outputs": [],
   "source": [
    "df_encoded.drop(columns=['weight'], inplace=True)\n",
    "df_test_encoded.drop(columns=['weight'], inplace=True)"
   ]
  },
  {
   "cell_type": "markdown",
   "metadata": {},
   "source": [
    "num_lab_procedures num_procedures num_medications number_outpatient number_emergency number_inpatient No need to be encode since no missing and integer."
   ]
  },
  {
   "cell_type": "markdown",
   "metadata": {},
   "source": [
    "diag_1,diag_2 and diag_3 Process:\n",
    "\n",
    "Filte diag_1, diag_2 and diag_3 by number_diagnoses. If the amount of diagnoses in diag_1, diag_2 and diag_3 doesn't match the number_diagnoses, then remove.\n",
    "Layer encoding diags according to the ICD-9 Code Category, drop original 3 diag"
   ]
  },
  {
   "cell_type": "code",
   "execution_count": 1582,
   "metadata": {},
   "outputs": [],
   "source": [
    "def diag_missing_value_filter(df):\n",
    "\n",
    "    df['number_diagnoses'] = pd.to_numeric(df['number_diagnoses'], errors='coerce')\n",
    "    mask = ((df['number_diagnoses'] <= 3) & (\n",
    "            (3 - df[['diag_1', 'diag_2', 'diag_3']].apply(lambda x: x == \"?\").sum(axis=1)) >= df['number_diagnoses'])) | (\n",
    "    (df['number_diagnoses'] > 3) & (df[['diag_1', 'diag_2', 'diag_3']].apply(lambda x: x == \"?\").sum(axis=1)) == 0) \n",
    "    df_filtered = df[mask].copy()\n",
    "\n",
    "    return df_filtered\n",
    "\n",
    "def diag_layer_encoding(df):\n",
    "\n",
    "    # Define the encoding function\n",
    "    def encode_element(element):\n",
    "        encoding_result = [0] * 20  # Default encoding\n",
    "\n",
    "        if pd.notna(element):\n",
    "            if element[0].isdigit():\n",
    "                element = float(element)\n",
    "                # Encode based on numeric range\n",
    "                if 1 <= element <= 139:\n",
    "                    encoding_result[0] = 1\n",
    "                elif 140 <= element <= 239:\n",
    "                    encoding_result[1] = 1\n",
    "                elif 240 <= element <= 279:\n",
    "                    encoding_result[2] = 1\n",
    "                elif 280 <= element <= 289:\n",
    "                    encoding_result[3] = 1\n",
    "                elif 290 <= element <= 319:\n",
    "                    encoding_result[4] = 1\n",
    "                elif 320 <= element <= 389:\n",
    "                    encoding_result[5] = 1\n",
    "                elif 390 <= element <= 459:\n",
    "                    encoding_result[6] = 1\n",
    "                elif 460 <= element <= 519:\n",
    "                    encoding_result[7] = 1\n",
    "                elif 520 <= element <= 579:\n",
    "                    encoding_result[8] = 1\n",
    "                elif 580 <= element <= 629:\n",
    "                    encoding_result[9] = 1\n",
    "                elif 630 <= element <= 679:\n",
    "                    encoding_result[10] = 1\n",
    "                elif 680 <= element <= 709:\n",
    "                    encoding_result[11] = 1\n",
    "                elif 710 <= element <= 739:\n",
    "                    encoding_result[12] = 1\n",
    "                elif 740 <= element <= 759:\n",
    "                    encoding_result[13] = 1\n",
    "                elif 760 <= element <= 779:\n",
    "                    encoding_result[14] = 1\n",
    "                elif 780 <= element <= 799:\n",
    "                    encoding_result[15] = 1\n",
    "                elif 800 <= element <= 999:\n",
    "                    encoding_result[16] = 1\n",
    "                # Add more conditions for other ranges if needed\n",
    "            elif element[0].isalpha():\n",
    "                # Encode based on string prefix\n",
    "                if element.startswith('E'):\n",
    "                    encoding_result[17] = 1\n",
    "                elif element.startswith('V'):\n",
    "                    encoding_result[18] = 1\n",
    "                elif element.startswith('M'):\n",
    "                    encoding_result[19] = 1\n",
    "                # Add more conditions for other prefixes if needed\n",
    "\n",
    "        return encoding_result\n",
    "\n",
    "    for i in range(1,4):\n",
    "        encoded_columns = df[\"diag_\"+str(i)].apply(encode_element)\n",
    "\n",
    "    # Create new columns with \"diag_1\" as a prefix\n",
    "        for j in range(20):\n",
    "            new_column_name = \"diag_\" + str(i)+\"_\"+ str(j+1)\n",
    "            df[new_column_name] = encoded_columns.apply(lambda x: x[j])\n",
    "\n",
    "    return df\n"
   ]
  },
  {
   "cell_type": "code",
   "execution_count": 1583,
   "metadata": {},
   "outputs": [],
   "source": [
    "df_encoded = diag_missing_value_filter(df_encoded)\n",
    "df_encoded = diag_layer_encoding(df_encoded)\n",
    "df_test_encoded = diag_missing_value_filter(df_test_encoded)\n",
    "df_test_encoded = diag_layer_encoding(df_test_encoded)\n",
    "\n",
    "for i in range(1,4):\n",
    "        df_encoded.drop(columns=[f'diag_{i}'], inplace=True)\n",
    "        df_test_encoded.drop(columns=[f'diag_{i}'], inplace=True)"
   ]
  },
  {
   "cell_type": "code",
   "execution_count": null,
   "metadata": {},
   "outputs": [],
   "source": []
  },
  {
   "cell_type": "markdown",
   "metadata": {},
   "source": [
    "number_diagnoses pass since no missing and integer max_glu_serum and A1Cresult Process: \n",
    "1. n/a \n",
    "2. index map to 0-3\n",
    "\n"
   ]
  },
  {
   "cell_type": "code",
   "execution_count": 1584,
   "metadata": {},
   "outputs": [],
   "source": [
    "max_glu_serum_mapping = {'>200': 2, '>300': 3, 'normal': 1}\n",
    "A1Cresult_mapping = {'>8':3,'>7':2,'normal':1}"
   ]
  },
  {
   "cell_type": "code",
   "execution_count": 1585,
   "metadata": {},
   "outputs": [],
   "source": [
    "df_encoded['max_glu_serum'] = df_encoded['max_glu_serum'].map(max_glu_serum_mapping).fillna(0)\n",
    "df_test_encoded['max_glu_serum'] = df_test_encoded['max_glu_serum'].map(max_glu_serum_mapping).fillna(0)\n",
    "\n",
    "df_encoded[\"A1Cresult\"] = df_encoded['A1Cresult'].map(A1Cresult_mapping).fillna(0)\n",
    "df_test_encoded[\"A1Cresult\"] = df_test_encoded['A1Cresult'].map(A1Cresult_mapping).fillna(0)"
   ]
  },
  {
   "cell_type": "markdown",
   "metadata": {},
   "source": [
    "metformin repaglinide nateglinide chlorpropamide glimepiride acetohexamide glipizide glyburide tolbutamide pioglitazone rosiglitazone acarbose miglitol troglitazone tolazamide examide citoglipton insulin glyburide-metformin glipizide-metformin glimepiride-pioglitazone metformin-rosiglitazone metformin-pioglitazone Process:\n",
    "\n",
    "1. drop 'examide', 'citoglipton','glimepiride-pioglitazone' and 'metformin-rosiglitazone' since single value observed\n",
    "2. index map to 0-3"
   ]
  },
  {
   "cell_type": "code",
   "execution_count": 1586,
   "metadata": {},
   "outputs": [],
   "source": [
    "df_encoded.drop(columns=['examide', 'citoglipton','glimepiride-pioglitazone','metformin-rosiglitazone'],axis=1,inplace=True)\n",
    "df_test_encoded.drop(columns=['examide', 'citoglipton','glimepiride-pioglitazone','metformin-rosiglitazone'],axis=1,inplace=True)\n",
    "medics = ['metformin','repaglinide', 'nateglinide', 'chlorpropamide', 'glimepiride',\n",
    "       'acetohexamide', 'glipizide', 'glyburide', 'tolbutamide',\n",
    "       'pioglitazone', 'rosiglitazone', 'acarbose', 'miglitol', 'troglitazone',\n",
    "       'tolazamide', 'insulin', 'glyburide-metformin', 'glipizide-metformin',\n",
    "        'metformin-pioglitazone']\n",
    "for i in medics:\n",
    "    df_encoded.loc[df_encoded[i] == 'Up', [i]] = 3  \n",
    "    df_encoded.loc[df_encoded[i] == 'Down', [i]] = 1 \n",
    "    df_encoded.loc[df_encoded[i] == 'Steady', [i]] = 2 \n",
    "    df_encoded.loc[df_encoded[i] == 'No', [i]] = 0\n",
    "    df_test_encoded.loc[df_test_encoded[i] == 'Up', [i]] = 3  \n",
    "    df_test_encoded.loc[df_test_encoded[i] == 'Down', [i]] = 1 \n",
    "    df_test_encoded.loc[df_test_encoded[i] == 'Steady', [i]] = 2 \n",
    "    df_test_encoded.loc[df_test_encoded[i] == 'No', [i]] = 0 \n",
    " "
   ]
  },
  {
   "cell_type": "markdown",
   "metadata": {},
   "source": [
    "change and diabetesMed Process\n",
    "\n",
    "1. n/a\n",
    "2. binary map to 1/0"
   ]
  },
  {
   "cell_type": "code",
   "execution_count": 1587,
   "metadata": {},
   "outputs": [],
   "source": [
    "change_mapping = {'No':0,'Ch':1}\n",
    "diabetesMed_mapping = {'No':0,'Yes':1}\n",
    "\n",
    "df_encoded['change'] = df_encoded['change'].map(change_mapping)\n",
    "df_encoded['diabetesMed'] = df_encoded['diabetesMed'].map(diabetesMed_mapping)\n",
    "\n",
    "df_test_encoded['change'] = df_test_encoded['change'].map(change_mapping)\n",
    "df_test_encoded['diabetesMed'] = df_test_encoded['diabetesMed'].map(diabetesMed_mapping)"
   ]
  },
  {
   "cell_type": "markdown",
   "metadata": {},
   "source": [
    "readmitted Process: \n",
    "1. n/a \n",
    "2. index mapping, No as 0, >30 as 1 and <30 as most significant as 2 and drop readmitted for test"
   ]
  },
  {
   "cell_type": "code",
   "execution_count": 1588,
   "metadata": {},
   "outputs": [],
   "source": [
    "readmitted_mapping = {'NO':0,'>30':1,'<30':2}\n",
    "df_encoded['readmitted'] = df_encoded['readmitted'].map(readmitted_mapping)\n",
    "df_test_encoded['readmitted'] = df_test_encoded['readmitted'].map(readmitted_mapping)\n",
    "\n",
    "y_readmitted = df_encoded[\"readmitted\"]\n",
    "y_test_readmitted = df_test_encoded[\"readmitted\"]\n",
    "\n",
    "df_encoded.drop(columns=[\"readmitted\"],axis=1,inplace=True)\n",
    "df_test_encoded.drop(columns=[\"readmitted\"],axis=1,inplace=True)"
   ]
  },
  {
   "cell_type": "markdown",
   "metadata": {},
   "source": [
    "'admission_type_id','discharge_disposition_id','admission_source_id' Process:\n",
    "1. n/a\n",
    "2. target encoding"
   ]
  },
  {
   "cell_type": "code",
   "execution_count": 1589,
   "metadata": {},
   "outputs": [],
   "source": [
    "X_train = df_encoded\n",
    "Y_train = y_readmitted\n",
    "\n",
    "features = ['admission_type_id','discharge_disposition_id','admission_source_id']\n",
    "\n",
    "'''for name in names:\n",
    "    category_means = df_encoded.groupby(name)['readmitted'].mean().reset_index()\n",
    "    category_means.columns = [name,name+'_readmitted_Mean']\n",
    "    df_encoded = pd.merge(df_encoded, category_means, on=name, how='left')\n",
    "    df_encoded = df_encoded.drop(name, axis=1)'''\n",
    "\n",
    "\n",
    "for feature in features:\n",
    "    \n",
    "    mean_col_name = f'{feature}_Encoded'\n",
    "    means = X_train.join(Y_train).groupby(feature)['readmitted'].mean()\n",
    "    df_encoded[mean_col_name] = df_encoded[feature].map(means)\n",
    "    df_test_encoded[mean_col_name] = df_test_encoded[feature].map(means)\n",
    "\n",
    "    df_encoded = df_encoded.drop(feature, axis=1)\n",
    "    df_test_encoded = df_test_encoded.drop(feature, axis=1)"
   ]
  },
  {
   "cell_type": "markdown",
   "metadata": {},
   "source": [
    "Payer Code Process:\n",
    "\n",
    "1.2 RandomForestClassifier fill missing\n",
    "1.3 KNN filling missing\n",
    "\n",
    "2. index encoding payer code"
   ]
  },
  {
   "cell_type": "code",
   "execution_count": 1590,
   "metadata": {},
   "outputs": [],
   "source": [
    "def payer_code_index_encoding(df):\n",
    "    df.loc[df['payer_code'] == 'MD', ['payer_code']] = 1\n",
    "    df.loc[df['payer_code'] == 'MC', ['payer_code']] = 2\n",
    "    df.loc[df['payer_code'] == 'HM', ['payer_code']] = 3\n",
    "    df.loc[df['payer_code'] == 'UN', ['payer_code']] = 4\n",
    "    df.loc[df['payer_code'] == 'BC', ['payer_code']] = 5\n",
    "    df.loc[df['payer_code'] == 'CP', ['payer_code']] = 6\n",
    "    df.loc[df['payer_code'] == 'SP', ['payer_code']] = 7\n",
    "    df.loc[df['payer_code'] == 'SI', ['payer_code']] = 8\n",
    "    df.loc[df['payer_code'] == 'CM', ['payer_code']] = 9\n",
    "    df.loc[df['payer_code'] == 'DM', ['payer_code']] = 10\n",
    "    df.loc[df['payer_code'] == 'CH', ['payer_code']] = 11\n",
    "    df.loc[df['payer_code'] == 'PO', ['payer_code']] = 12\n",
    "    df.loc[df['payer_code'] == 'WC', ['payer_code']] = 13\n",
    "    df.loc[df['payer_code'] == 'OG', ['payer_code']] = 14\n",
    "    df.loc[df['payer_code'] == 'OT', ['payer_code']] = 15\n",
    "    df.loc[df['payer_code'] == 'MP', ['payer_code']] = 16\n",
    "    df.loc[df['payer_code'] == 'FR', ['payer_code']] = 17\n",
    "    return df"
   ]
  },
  {
   "cell_type": "code",
   "execution_count": 1591,
   "metadata": {},
   "outputs": [],
   "source": [
    "df_encoded = payer_code_index_encoding(df_encoded)\n",
    "df_test_encoded = payer_code_index_encoding(df_test_encoded)"
   ]
  },
  {
   "cell_type": "code",
   "execution_count": 1592,
   "metadata": {},
   "outputs": [],
   "source": [
    "#separating the columns that contain null values and need to predicted.\n",
    "payer_code_col = ['payer_code']\n",
    "other_cols = list(df_encoded.columns)\n",
    "other_cols.remove(\"payer_code\")\n",
    "other_cols.remove(\"medical_specialty\")"
   ]
  },
  {
   "cell_type": "markdown",
   "metadata": {},
   "source": [
    "Random Forst"
   ]
  },
  {
   "cell_type": "code",
   "execution_count": 1593,
   "metadata": {},
   "outputs": [],
   "source": [
    "payer_code_mask = (df_encoded[\"payer_code\"] != \"?\")\n",
    "df_notnans = df_encoded[payer_code_mask]\n",
    "X_train, X_test, y_train, y_test = train_test_split(df_notnans[other_cols], df_notnans[payer_code_col].astype(int),\n",
    "                                                    train_size=0.75,\n",
    "                                                    random_state=1)"
   ]
  },
  {
   "cell_type": "code",
   "execution_count": 1594,
   "metadata": {},
   "outputs": [],
   "source": [
    "\n",
    "\n",
    "# rf = RandomForestClassifier()\n",
    "# paramsgrid  = {'n_estimators': [100,200,400],\n",
    "#                'max_depth': [25, 30,50,100],\n",
    "#  'min_samples_leaf': [1, 2, 3],\n",
    "#  'min_samples_split': [2, 5, 10]\n",
    "#  }\n",
    "\n",
    "# rf_random = RandomizedSearchCV(estimator = rf, param_distributions = paramsgrid, n_iter = 5, cv = 3, verbose=2, random_state=1, n_jobs = -1)\n",
    " \n",
    "# rf_random.fit(X_test, y_test.values.ravel())"
   ]
  },
  {
   "cell_type": "code",
   "execution_count": 1595,
   "metadata": {},
   "outputs": [],
   "source": [
    "# rf_random.best_params_"
   ]
  },
  {
   "cell_type": "code",
   "execution_count": 1596,
   "metadata": {},
   "outputs": [
    {
     "name": "stdout",
     "output_type": "stream",
     "text": [
      "Score is 0.5640011934954497\n"
     ]
    }
   ],
   "source": [
    "rf1 =(RandomForestClassifier(max_depth=100,n_estimators = 400,min_samples_leaf=1,min_samples_split=10))\n",
    "rf1.fit(X_train, y_train.values.ravel())\n",
    "score = rf1.score(X_test, y_test.values.ravel())\n",
    "\n",
    "print(f\"Score is {score}\")"
   ]
  },
  {
   "cell_type": "markdown",
   "metadata": {},
   "source": [
    "KNN filling"
   ]
  },
  {
   "cell_type": "code",
   "execution_count": 1597,
   "metadata": {},
   "outputs": [],
   "source": [
    "# train_score = []\n",
    "# test_score = []\n",
    "\n",
    "# for i in range(6,30,2):\n",
    "\n",
    "#     knn = KNeighborsClassifier(i)\n",
    "#     knn.fit(X_train,y_train.values.ravel())\n",
    "    \n",
    "#     train_score.append(knn.score(X_train,y_train.values.ravel()))\n",
    "#     test_score.append(knn.score(X_test,y_test.values.ravel()))"
   ]
  },
  {
   "cell_type": "code",
   "execution_count": 1598,
   "metadata": {},
   "outputs": [],
   "source": [
    "# plt.plot(train_score)\n",
    "# plt.plot(test_score)"
   ]
  },
  {
   "cell_type": "code",
   "execution_count": 1599,
   "metadata": {},
   "outputs": [],
   "source": [
    "# knn2 =(KNeighborsClassifier(n_neighbors= 21))\n",
    "# # # Fit on the train data\n",
    "# knn2.fit(X_train, y_train.values.ravel())\n",
    "\n",
    "# # # Check the prediction score\n",
    "# score = knn2.score(X_test, y_test.values.ravel())\n",
    "# print(f\"The score on the testset is {score}\")"
   ]
  },
  {
   "cell_type": "markdown",
   "metadata": {},
   "source": [
    "56>53, therefore use randomforst for medical_specialty and payercode"
   ]
  },
  {
   "cell_type": "code",
   "execution_count": 1600,
   "metadata": {},
   "outputs": [
    {
     "name": "stderr",
     "output_type": "stream",
     "text": [
      "/var/folders/wy/3sxd9blx6bxgs72tmypqqrzr0000gn/T/ipykernel_26725/2230776403.py:3: SettingWithCopyWarning: \n",
      "A value is trying to be set on a copy of a slice from a DataFrame.\n",
      "Try using .loc[row_indexer,col_indexer] = value instead\n",
      "\n",
      "See the caveats in the documentation: https://pandas.pydata.org/pandas-docs/stable/user_guide/indexing.html#returning-a-view-versus-a-copy\n",
      "  df_notnans[\"payer_code\"] = rf1.predict(df_notnans[other_cols])\n"
     ]
    }
   ],
   "source": [
    "payer_code_mask = (df_encoded[\"payer_code\"] == \"?\")\n",
    "df_notnans = df_encoded[payer_code_mask]\n",
    "df_notnans[\"payer_code\"] = rf1.predict(df_notnans[other_cols])\n",
    "df_encoded.loc[payer_code_mask, 'payer_code'] = df_notnans['payer_code']\n"
   ]
  },
  {
   "cell_type": "code",
   "execution_count": 1601,
   "metadata": {},
   "outputs": [
    {
     "name": "stderr",
     "output_type": "stream",
     "text": [
      "/var/folders/wy/3sxd9blx6bxgs72tmypqqrzr0000gn/T/ipykernel_26725/1322505668.py:3: SettingWithCopyWarning: \n",
      "A value is trying to be set on a copy of a slice from a DataFrame.\n",
      "Try using .loc[row_indexer,col_indexer] = value instead\n",
      "\n",
      "See the caveats in the documentation: https://pandas.pydata.org/pandas-docs/stable/user_guide/indexing.html#returning-a-view-versus-a-copy\n",
      "  df_notnans[\"payer_code\"] = rf1.predict(df_notnans[other_cols])\n"
     ]
    }
   ],
   "source": [
    "test_payer_code_mask = (df_test_encoded[\"payer_code\"] == \"?\")\n",
    "df_notnans = df_test_encoded[test_payer_code_mask]\n",
    "df_notnans[\"payer_code\"] = rf1.predict(df_notnans[other_cols])\n",
    "df_test_encoded.loc[test_payer_code_mask, 'payer_code'] = df_notnans['payer_code']\n"
   ]
  },
  {
   "cell_type": "markdown",
   "metadata": {},
   "source": [
    "medical_specialty Proces:\n",
    "1. index encoding label\n",
    "2. RF and KNN filling"
   ]
  },
  {
   "cell_type": "code",
   "execution_count": 1602,
   "metadata": {},
   "outputs": [],
   "source": [
    "train_medical_specialty = df_encoded[\"medical_specialty\"].unique()\n",
    "test_medical_specialty = df_test_encoded[\"medical_specialty\"].unique()\n",
    "\n",
    "train_medical_specialty = list(train_medical_specialty)\n",
    "train_medical_specialty.remove(\"?\")\n",
    "train_medical_specialty = set(train_medical_specialty)\n",
    "\n",
    "test_medical_specialty = list(test_medical_specialty)\n",
    "test_medical_specialty.remove(\"?\")\n",
    "test_medical_specialty = set(test_medical_specialty)"
   ]
  },
  {
   "cell_type": "code",
   "execution_count": 1603,
   "metadata": {},
   "outputs": [
    {
     "name": "stderr",
     "output_type": "stream",
     "text": [
      "/var/folders/wy/3sxd9blx6bxgs72tmypqqrzr0000gn/T/ipykernel_26725/2194747546.py:10: SettingWithCopyWarning: \n",
      "A value is trying to be set on a copy of a slice from a DataFrame.\n",
      "Try using .loc[row_indexer,col_indexer] = value instead\n",
      "\n",
      "See the caveats in the documentation: https://pandas.pydata.org/pandas-docs/stable/user_guide/indexing.html#returning-a-view-versus-a-copy\n",
      "  medical_specialty_test_to_be_encoded['medical_specialty']= medical_specialty_test_to_be_encoded['medical_specialty'].map(lambda x: medical_specialty_dict[x])\n",
      "/var/folders/wy/3sxd9blx6bxgs72tmypqqrzr0000gn/T/ipykernel_26725/2194747546.py:13: SettingWithCopyWarning: \n",
      "A value is trying to be set on a copy of a slice from a DataFrame.\n",
      "Try using .loc[row_indexer,col_indexer] = value instead\n",
      "\n",
      "See the caveats in the documentation: https://pandas.pydata.org/pandas-docs/stable/user_guide/indexing.html#returning-a-view-versus-a-copy\n",
      "  medical_specialty_to_be_encoded['medical_specialty'] = medical_specialty_to_be_encoded['medical_specialty'].map(lambda x: medical_specialty_dict[x])\n"
     ]
    }
   ],
   "source": [
    "medical_specialty_lable = train_medical_specialty.union(test_medical_specialty)\n",
    "\n",
    "medical_specialty_nan_mask = (df_encoded['medical_specialty'] != \"?\")\n",
    "medical_specialty_test_nan_mask = (df_test_encoded['medical_specialty'] != \"?\")\n",
    "\n",
    "medical_specialty_dict = {element: index for index, element in enumerate(medical_specialty_lable)}\n",
    "\n",
    "\n",
    "medical_specialty_test_to_be_encoded = df_test_encoded[medical_specialty_test_nan_mask]\n",
    "medical_specialty_test_to_be_encoded['medical_specialty']= medical_specialty_test_to_be_encoded['medical_specialty'].map(lambda x: medical_specialty_dict[x])\n",
    "\n",
    "medical_specialty_to_be_encoded = df_encoded[medical_specialty_nan_mask]\n",
    "medical_specialty_to_be_encoded['medical_specialty'] = medical_specialty_to_be_encoded['medical_specialty'].map(lambda x: medical_specialty_dict[x])\n"
   ]
  },
  {
   "cell_type": "code",
   "execution_count": 1604,
   "metadata": {},
   "outputs": [],
   "source": [
    "df_encoded['medical_specialty'] = medical_specialty_to_be_encoded['medical_specialty']\n",
    "df_test_encoded['medical_specialty'] = medical_specialty_test_to_be_encoded['medical_specialty']\n"
   ]
  },
  {
   "cell_type": "markdown",
   "metadata": {},
   "source": [
    "RF for medical_specialty"
   ]
  },
  {
   "cell_type": "code",
   "execution_count": 1605,
   "metadata": {},
   "outputs": [
    {
     "data": {
      "text/plain": [
       "\"\\nrf = RandomForestClassifier()\\nparamsgrid  = {'n_estimators': [100,200,400],\\n               'max_depth': [25, 30,50,100],\\n 'min_samples_leaf': [1, 2, 3],\\n 'min_samples_split': [2, 5, 10]\\n }\\n\\nrf_random = RandomizedSearchCV(estimator = rf, param_distributions = paramsgrid, n_iter = 5, cv = 3, verbose=2, random_state=1, n_jobs = -1)\\n \\nrf_random.fit(X_test, y_test.values.ravel())\""
      ]
     },
     "execution_count": 1605,
     "metadata": {},
     "output_type": "execute_result"
    }
   ],
   "source": [
    "medical_specialty_mask = df_encoded[\"medical_specialty\"].notnull()\n",
    "df_notnans = df_encoded[medical_specialty_mask]\n",
    "X_train, X_test, y_train, y_test = train_test_split(df_notnans[other_cols], df_notnans[\"medical_specialty\"].astype(int),\n",
    "                                                    train_size=0.75,\n",
    "                                                    random_state=1)\n",
    "\n",
    "'''\n",
    "rf = RandomForestClassifier()\n",
    "paramsgrid  = {'n_estimators': [100,200,400],\n",
    "               'max_depth': [25, 30,50,100],\n",
    " 'min_samples_leaf': [1, 2, 3],\n",
    " 'min_samples_split': [2, 5, 10]\n",
    " }\n",
    "\n",
    "rf_random = RandomizedSearchCV(estimator = rf, param_distributions = paramsgrid, n_iter = 5, cv = 3, verbose=2, random_state=1, n_jobs = -1)\n",
    " \n",
    "rf_random.fit(X_test, y_test.values.ravel())'''"
   ]
  },
  {
   "cell_type": "code",
   "execution_count": 1606,
   "metadata": {},
   "outputs": [
    {
     "data": {
      "text/plain": [
       "{'n_estimators': 400,\n",
       " 'min_samples_split': 2,\n",
       " 'min_samples_leaf': 2,\n",
       " 'max_depth': 100}"
      ]
     },
     "execution_count": 1606,
     "metadata": {},
     "output_type": "execute_result"
    }
   ],
   "source": [
    "rf_random.best_params_"
   ]
  },
  {
   "cell_type": "code",
   "execution_count": 1607,
   "metadata": {},
   "outputs": [
    {
     "name": "stdout",
     "output_type": "stream",
     "text": [
      "Score is 0.5361223413605203\n"
     ]
    }
   ],
   "source": [
    "rf1 =(RandomForestClassifier(max_depth=100,n_estimators = 400,min_samples_leaf=2,min_samples_split=2))\n",
    "rf1.fit(X_train, y_train.values.ravel())\n",
    "score = rf1.score(X_test, y_test.values.ravel())\n",
    "\n",
    "print(f\"Score is {score}\")"
   ]
  },
  {
   "cell_type": "markdown",
   "metadata": {},
   "source": [
    "KNN for medical_specialty"
   ]
  },
  {
   "cell_type": "code",
   "execution_count": 1608,
   "metadata": {},
   "outputs": [],
   "source": [
    "# train_score = []\n",
    "# test_score = []\n",
    "\n",
    "# for i in range(5,100,2):\n",
    "\n",
    "#     knn = KNeighborsClassifier(i)\n",
    "#     knn.fit(X_train,y_train.values.ravel())\n",
    "#     trianscore = knn.score(X_train,y_train.values.ravel())\n",
    "#     testscore = knn.score(X_test,y_test.values.ravel())\n",
    "#     train_score.append(trianscore)\n",
    "#     test_score.append(testscore)\n",
    "#     print(f\"train score is: {trianscore}, test score is: {testscore}\")"
   ]
  },
  {
   "cell_type": "code",
   "execution_count": 1609,
   "metadata": {},
   "outputs": [],
   "source": [
    "# plt.plot(train_score)\n",
    "# plt.plot(test_score)"
   ]
  },
  {
   "cell_type": "code",
   "execution_count": 1610,
   "metadata": {},
   "outputs": [],
   "source": [
    "# knn2 =(KNeighborsClassifier(n_neighbors= 25))\n",
    "# # # Fit on the train data\n",
    "# knn2.fit(X_train, y_train.values.ravel())\n",
    "\n",
    "# # # Check the prediction score\n",
    "# score = knn2.score(X_test, y_test.values.ravel())\n",
    "# print(f\"The score on the testset is {score}\")"
   ]
  },
  {
   "cell_type": "markdown",
   "metadata": {},
   "source": [
    "53>35, therefore use RF"
   ]
  },
  {
   "cell_type": "code",
   "execution_count": 1611,
   "metadata": {},
   "outputs": [
    {
     "name": "stderr",
     "output_type": "stream",
     "text": [
      "/var/folders/wy/3sxd9blx6bxgs72tmypqqrzr0000gn/T/ipykernel_26725/2029475354.py:3: SettingWithCopyWarning: \n",
      "A value is trying to be set on a copy of a slice from a DataFrame.\n",
      "Try using .loc[row_indexer,col_indexer] = value instead\n",
      "\n",
      "See the caveats in the documentation: https://pandas.pydata.org/pandas-docs/stable/user_guide/indexing.html#returning-a-view-versus-a-copy\n",
      "  df_notnans[\"medical_specialty\"] = rf1.predict(df_notnans[other_cols])\n"
     ]
    }
   ],
   "source": [
    "medical_specialty_code_mask = df_encoded[\"medical_specialty\"].isna()\n",
    "df_notnans = df_encoded[medical_specialty_code_mask]\n",
    "df_notnans[\"medical_specialty\"] = rf1.predict(df_notnans[other_cols])\n",
    "df_encoded.loc[medical_specialty_code_mask, 'medical_specialty'] = df_notnans['medical_specialty']\n"
   ]
  },
  {
   "cell_type": "code",
   "execution_count": 1612,
   "metadata": {},
   "outputs": [
    {
     "name": "stderr",
     "output_type": "stream",
     "text": [
      "/var/folders/wy/3sxd9blx6bxgs72tmypqqrzr0000gn/T/ipykernel_26725/156946292.py:3: SettingWithCopyWarning: \n",
      "A value is trying to be set on a copy of a slice from a DataFrame.\n",
      "Try using .loc[row_indexer,col_indexer] = value instead\n",
      "\n",
      "See the caveats in the documentation: https://pandas.pydata.org/pandas-docs/stable/user_guide/indexing.html#returning-a-view-versus-a-copy\n",
      "  df_notnans[\"medical_specialty\"] = rf1.predict(df_notnans[other_cols])\n"
     ]
    }
   ],
   "source": [
    "medical_specialty_code_mask = df_test_encoded[\"medical_specialty\"].isna()\n",
    "df_notnans = df_test_encoded[medical_specialty_code_mask]\n",
    "df_notnans[\"medical_specialty\"] = rf1.predict(df_notnans[other_cols])\n",
    "df_test_encoded.loc[medical_specialty_code_mask, 'medical_specialty'] = df_notnans['medical_specialty']\n"
   ]
  },
  {
   "cell_type": "markdown",
   "metadata": {},
   "source": [
    "Normalization age, medical_specialty, num_lab_procedures and num_medications to keep the same order of magnitude"
   ]
  },
  {
   "cell_type": "code",
   "execution_count": 1613,
   "metadata": {},
   "outputs": [],
   "source": [
    "scaler = MinMaxScaler(feature_range=(0, 1))\n",
    "features_to_scale = [\"age\",\"medical_speicalty\",\"num_lab_procedures\",\"num_medications\"]\n",
    "df_encoded[features_to_scale] = scaler.fit_transform(df_encoded[features_to_scale])\n",
    "df_test_encoded[features_to_scale] = scaler.fit_transform(df_test_encoded[features_to_scale])"
   ]
  },
  {
   "cell_type": "code",
   "execution_count": 1614,
   "metadata": {},
   "outputs": [],
   "source": [
    "df_encoded.to_csv('normalised.csv')\n",
    "df_test_encoded.to_csv('normalised_test.csv')"
   ]
  },
  {
   "cell_type": "markdown",
   "metadata": {},
   "source": [
    "Feature Selection by random forest"
   ]
  },
  {
   "cell_type": "code",
   "execution_count": 1615,
   "metadata": {},
   "outputs": [
    {
     "name": "stderr",
     "output_type": "stream",
     "text": [
      "/Users/szy/Downloads/yes/envs/COMP0169/lib/python3.10/site-packages/sklearn/base.py:458: UserWarning: X has feature names, but SelectFromModel was fitted without feature names\n",
      "  warnings.warn(\n"
     ]
    }
   ],
   "source": [
    "from sklearn.feature_selection import SelectFromModel\n",
    "\n",
    "clf = RandomForestClassifier(n_estimators=100, random_state=42)\n",
    "clf.fit(df_encoded, y_readmitted)\n",
    "\n",
    "feature_importances = pd.DataFrame(clf.feature_importances_, \n",
    "                                   index = df_encoded.columns,\n",
    "                                   columns=['importance']).sort_values('importance', ascending=False)\n",
    "                                  \n",
    "feature_importances.head(10)\n",
    "Selector = SelectFromModel(clf, prefit=True, threshold='mean')\n",
    "X_selected = Selector.transform(df_encoded)\n",
    "\n",
    "selected_features = df_encoded.columns[(Selector.get_support())]\n",
    "\n",
    "df_encoded = pd.DataFrame(X_selected, columns=selected_features)\n",
    "df_test_encoded = df_test_encoded[selected_features]"
   ]
  },
  {
   "cell_type": "code",
   "execution_count": 1616,
   "metadata": {},
   "outputs": [],
   "source": [
    "df_encoded.to_csv('encoded_train.csv',index=False)\n",
    "df_test_encoded.to_csv('encoded_test.csv',index=False)\n",
    "y_readmitted.to_csv('y_readmitted.csv',index=False)\n",
    "y_test_readmitted.to_csv('y_test_readmitted.csv',index=False)"
   ]
  },
  {
   "cell_type": "code",
   "execution_count": 1617,
   "metadata": {},
   "outputs": [],
   "source": [
    "df_encoded = pd.read_csv('encoded_train.csv')\n",
    "df_test_encoded = pd.read_csv('encoded_test.csv')\n"
   ]
  },
  {
   "cell_type": "code",
   "execution_count": 1618,
   "metadata": {},
   "outputs": [],
   "source": [
    "y_readmitted = pd.read_csv('y_readmitted.csv').to_numpy()\n",
    "y_test_readmitted = pd.read_csv('y_test_readmitted.csv').to_numpy()"
   ]
  },
  {
   "cell_type": "markdown",
   "metadata": {},
   "source": [
    "Dems Redct\n",
    "1. PCA/PPCA\n",
    "2. LDA/QDA\n",
    "3. following to T-SNE\n",
    "3. Autoencoders\n",
    "4. Unsupervised Algorithmn"
   ]
  },
  {
   "cell_type": "code",
   "execution_count": 1619,
   "metadata": {},
   "outputs": [],
   "source": [
    "               \n",
    "def plot_2d(projected, y_train, title):\n",
    "    fig = plt.figure(figsize=(8, 6), dpi=80)\n",
    "    ax = fig.add_subplot(111)\n",
    "\n",
    "    p = ax.scatter(projected[:, 0], projected[:, 1],\n",
    "                c=y_train, edgecolor='none', alpha=0.5,\n",
    "                  cmap='tab10')\n",
    "    ax.set_xlabel('component 1')\n",
    "    ax.set_ylabel('component 2')\n",
    "    ax.set_title(title)\n",
    "    fig.colorbar(p);\n",
    "    \n",
    "def print_results(y_pred, y_test):\n",
    "    mat = confusion_matrix(y_test, y_pred)\n",
    "    sns.heatmap(mat.T, square=True, annot=True, fmt='d', cbar=False)\n",
    "    plt.xlabel('true label')\n",
    "    plt.ylabel('predicted label');\n",
    "\n",
    "    print(\"Accuracy on test set: \", accuracy_score(y_test, y_pred))\n"
   ]
  },
  {
   "cell_type": "markdown",
   "metadata": {},
   "source": [
    "Correlation"
   ]
  },
  {
   "cell_type": "code",
   "execution_count": 1620,
   "metadata": {},
   "outputs": [
    {
     "data": {
      "image/png": "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",
      "text/plain": [
       "<Figure size 1000x800 with 2 Axes>"
      ]
     },
     "metadata": {},
     "output_type": "display_data"
    }
   ],
   "source": [
    "corr = df_encoded.corr()\n",
    "\n",
    "from seaborn import heatmap\n",
    "heatmap(corr)\n",
    "\n",
    "plt.show()"
   ]
  },
  {
   "cell_type": "code",
   "execution_count": 1621,
   "metadata": {},
   "outputs": [],
   "source": [
    "pca = PCA(n_components=0.95)  # Keep 95% of the variance\n",
    "pca_result = pca.fit_transform(df_encoded)\n",
    "test_pca_result = pca.fit_transform(df_test_encoded)\n"
   ]
  },
  {
   "cell_type": "markdown",
   "metadata": {},
   "source": [
    "Naive Bayes for demstionality reduction result evaluation, This algorithm is very fast and works well with high-dimensional data. It assumes independence between the features, which may or may not hold after dimensionality reduction. According to the covr graph, mostly independent."
   ]
  },
  {
   "cell_type": "code",
   "execution_count": 1622,
   "metadata": {},
   "outputs": [],
   "source": [
    "def naive_bayes_score(train, label, test, test_label):\n",
    "    nb = GaussianNB()\n",
    "    nb.fit(train, label)\n",
    "    y_nb = nb.predict(test)\n",
    "    mse = np.mean((test_label - y_nb) ** 2)\n",
    "    accuracy = accuracy_score(y_nb,test_label)\n",
    "\n",
    "    return mse, accuracy"
   ]
  },
  {
   "cell_type": "code",
   "execution_count": 1623,
   "metadata": {},
   "outputs": [
    {
     "name": "stderr",
     "output_type": "stream",
     "text": [
      "/Users/szy/Downloads/yes/envs/COMP0169/lib/python3.10/site-packages/sklearn/utils/validation.py:1183: DataConversionWarning: A column-vector y was passed when a 1d array was expected. Please change the shape of y to (n_samples, ), for example using ravel().\n",
      "  y = column_or_1d(y, warn=True)\n"
     ]
    },
    {
     "name": "stdout",
     "output_type": "stream",
     "text": [
      "Full param mse score is (0.16453860734841275, 0.8548306021916156)\n"
     ]
    }
   ],
   "source": [
    "non_dr_score = naive_bayes_score(df_encoded,y_readmitted,df_test_encoded,y_test_readmitted)\n",
    "print(f\"Full param mse score is {non_dr_score}\")"
   ]
  },
  {
   "cell_type": "code",
   "execution_count": 1624,
   "metadata": {},
   "outputs": [],
   "source": [
    "#pca_score = naive_bayes_score(pca_result,y_readmitted,test_pca_result,y_test_readmitted)\n",
    "#print(f\"PCA mse score is {pca_score}\")"
   ]
  },
  {
   "cell_type": "code",
   "execution_count": 1625,
   "metadata": {},
   "outputs": [],
   "source": [
    "#tsne = TSNE(n_components=3, perplexity=30, n_iter=300)\n",
    "#tsne_result = tsne.fit_transform(df_encoded)"
   ]
  },
  {
   "cell_type": "code",
   "execution_count": 1626,
   "metadata": {},
   "outputs": [],
   "source": [
    "#tsne = TSNE(n_components=3, perplexity=30, n_iter=300)\n",
    "#tsne_test_result = tsne.fit_transform(df_test_encoded)"
   ]
  },
  {
   "cell_type": "code",
   "execution_count": 1627,
   "metadata": {},
   "outputs": [],
   "source": [
    "#tsne_score = naive_bayes_score(tsne_result,y_readmitted,tsne_test_result,y_test_readmitted)\n",
    "#print(f\"tsne mse score is {tsne_score}\")"
   ]
  },
  {
   "cell_type": "markdown",
   "metadata": {},
   "source": [
    "UMAP"
   ]
  },
  {
   "cell_type": "code",
   "execution_count": 1628,
   "metadata": {},
   "outputs": [],
   "source": [
    "#umap_model = umap.UMAP(n_neighbors=5, min_dist=0.3, n_components=2)\n",
    "#umap_result = umap_model.fit_transform(df_encoded)\n",
    "#umap_test_result = umap_model.fit_transform(df_test_encoded)\n"
   ]
  },
  {
   "cell_type": "code",
   "execution_count": 1629,
   "metadata": {},
   "outputs": [],
   "source": [
    "#umpa_score = naive_bayes_score(umap_result,y_readmitted,umap_test_result,y_test_readmitted)\n",
    "#print(f\"umpa mse score is {umpa_score}\")"
   ]
  },
  {
   "cell_type": "markdown",
   "metadata": {},
   "source": [
    "PCA and t-sne"
   ]
  },
  {
   "cell_type": "code",
   "execution_count": 1630,
   "metadata": {},
   "outputs": [],
   "source": [
    "#tsne = TSNE(n_components=3, perplexity=30, n_iter=300)\n",
    "#pca_tsne_trian_result = tsne.fit_transform(pca_result)"
   ]
  },
  {
   "cell_type": "code",
   "execution_count": 1631,
   "metadata": {},
   "outputs": [],
   "source": [
    "#tsne = TSNE(n_components=3, perplexity=30, n_iter=300)\n",
    "#pca_tsne_result = tsne.fit_transform(test_pca_result)"
   ]
  },
  {
   "cell_type": "code",
   "execution_count": 1632,
   "metadata": {},
   "outputs": [],
   "source": [
    "#pca_tsne_score = naive_bayes_score(pca_tsne_trian_result,y_readmitted,pca_tsne_result,y_test_readmitted)\n",
    "#print(f\"pca-tsne mse score is {pca_tsne_score}\")"
   ]
  },
  {
   "cell_type": "code",
   "execution_count": 1633,
   "metadata": {},
   "outputs": [],
   "source": [
    "from sklearn.preprocessing import MinMaxScaler\n",
    "from tensorflow.keras.models import Model\n",
    "from tensorflow.keras.layers import Input, Dense\n",
    "from tensorflow.keras.optimizers import Adam"
   ]
  },
  {
   "cell_type": "code",
   "execution_count": 1634,
   "metadata": {},
   "outputs": [],
   "source": [
    "# Number of features in your dataset\n",
    "n_features = len(df_encoded.columns)  # Change this to the actual number of features\n",
    "\n",
    "# Define the encoder\n",
    "input_layer = Input(shape=(n_features,))\n",
    "encoder = Dense(64, activation='relu')(input_layer)\n",
    "encoder = Dense(32, activation='relu')(encoder)\n",
    "\n",
    "# Define the bottleneck\n",
    "bottleneck = Dense(10, activation='relu')(encoder)  # This is the latent space representation\n",
    "\n",
    "# Define the decoder (mirror the encoder)\n",
    "decoder = Dense(32, activation='relu')(bottleneck)\n",
    "decoder = Dense(64, activation='relu')(decoder)\n",
    "\n",
    "# Output layer\n",
    "output_layer = Dense(n_features, activation='sigmoid')(decoder)  # Use 'sigmoid' or 'relu'\n",
    "\n",
    "# Define the autoencoder model\n",
    "autoencoder = Model(inputs=input_layer, outputs=output_layer)\n",
    "\n",
    "# Compile the autoencoder\n",
    "autoencoder.compile(optimizer='adam', loss='mse')"
   ]
  },
  {
   "cell_type": "code",
   "execution_count": 1635,
   "metadata": {},
   "outputs": [
    {
     "name": "stdout",
     "output_type": "stream",
     "text": [
      "Epoch 1/100\n"
     ]
    },
    {
     "name": "stdout",
     "output_type": "stream",
     "text": [
      "699/699 [==============================] - 3s 2ms/step - loss: 51.0594 - val_loss: 51.3509\n",
      "Epoch 2/100\n",
      "699/699 [==============================] - 1s 1ms/step - loss: 50.9693 - val_loss: 51.3232\n",
      "Epoch 3/100\n",
      "699/699 [==============================] - 1s 1ms/step - loss: 50.9472 - val_loss: 51.3013\n",
      "Epoch 4/100\n",
      "699/699 [==============================] - 1s 1ms/step - loss: 50.9329 - val_loss: 51.2954\n",
      "Epoch 5/100\n",
      "699/699 [==============================] - 1s 1ms/step - loss: 50.9287 - val_loss: 51.2920\n",
      "Epoch 6/100\n",
      "699/699 [==============================] - 1s 2ms/step - loss: 50.9263 - val_loss: 51.2901\n",
      "Epoch 7/100\n",
      "699/699 [==============================] - 1s 2ms/step - loss: 50.9249 - val_loss: 51.2891\n",
      "Epoch 8/100\n",
      "699/699 [==============================] - 1s 2ms/step - loss: 50.9244 - val_loss: 51.2886\n",
      "Epoch 9/100\n",
      "699/699 [==============================] - 1s 1ms/step - loss: 50.9241 - val_loss: 51.2884\n",
      "Epoch 10/100\n",
      "699/699 [==============================] - 1s 1ms/step - loss: 50.9232 - val_loss: 51.2879\n",
      "Epoch 11/100\n",
      "699/699 [==============================] - 1s 1ms/step - loss: 50.9236 - val_loss: 51.2909\n",
      "Epoch 12/100\n",
      "699/699 [==============================] - 1s 1ms/step - loss: 50.9228 - val_loss: 51.2876\n",
      "Epoch 13/100\n",
      "699/699 [==============================] - 1s 1ms/step - loss: 50.9232 - val_loss: 51.2886\n",
      "Epoch 14/100\n",
      "699/699 [==============================] - 1s 1ms/step - loss: 50.9222 - val_loss: 51.2875\n",
      "Epoch 15/100\n",
      "699/699 [==============================] - 1s 2ms/step - loss: 50.9221 - val_loss: 51.2882\n",
      "Epoch 16/100\n",
      "699/699 [==============================] - 1s 2ms/step - loss: 50.9218 - val_loss: 51.2865\n",
      "Epoch 17/100\n",
      "699/699 [==============================] - 1s 1ms/step - loss: 50.9216 - val_loss: 51.2866\n",
      "Epoch 18/100\n",
      "699/699 [==============================] - 1s 1ms/step - loss: 50.9217 - val_loss: 51.2861\n",
      "Epoch 19/100\n",
      "699/699 [==============================] - 1s 2ms/step - loss: 50.9211 - val_loss: 51.2860\n",
      "Epoch 20/100\n",
      "699/699 [==============================] - 2s 2ms/step - loss: 50.9218 - val_loss: 51.2861\n",
      "Epoch 21/100\n",
      "699/699 [==============================] - 1s 2ms/step - loss: 50.9209 - val_loss: 51.2860\n",
      "Epoch 22/100\n",
      "699/699 [==============================] - 1s 2ms/step - loss: 50.9218 - val_loss: 51.2868\n",
      "Epoch 23/100\n",
      "699/699 [==============================] - 1s 2ms/step - loss: 50.9212 - val_loss: 51.2857\n",
      "Epoch 24/100\n",
      "699/699 [==============================] - 1s 1ms/step - loss: 50.9206 - val_loss: 51.2858\n",
      "Epoch 25/100\n",
      "699/699 [==============================] - 1s 2ms/step - loss: 50.9215 - val_loss: 51.2862\n",
      "Epoch 26/100\n",
      "699/699 [==============================] - 1s 1ms/step - loss: 50.9205 - val_loss: 51.2852\n",
      "Epoch 27/100\n",
      "699/699 [==============================] - 1s 1ms/step - loss: 50.9206 - val_loss: 51.2853\n",
      "Epoch 28/100\n",
      "699/699 [==============================] - 1s 1ms/step - loss: 50.9204 - val_loss: 51.2855\n",
      "Epoch 29/100\n",
      "699/699 [==============================] - 1s 1ms/step - loss: 50.9211 - val_loss: 51.2853\n",
      "Epoch 30/100\n",
      "699/699 [==============================] - 1s 1ms/step - loss: 50.9208 - val_loss: 51.2868\n",
      "Epoch 31/100\n",
      "699/699 [==============================] - 1s 1ms/step - loss: 50.9207 - val_loss: 51.2851\n",
      "Epoch 32/100\n",
      "699/699 [==============================] - 1s 1ms/step - loss: 50.9202 - val_loss: 51.2850\n",
      "Epoch 33/100\n",
      "699/699 [==============================] - 1s 1ms/step - loss: 50.9206 - val_loss: 51.2852\n",
      "Epoch 34/100\n",
      "699/699 [==============================] - 1s 2ms/step - loss: 50.9203 - val_loss: 51.2851\n",
      "Epoch 35/100\n",
      "699/699 [==============================] - 1s 1ms/step - loss: 50.9206 - val_loss: 51.2864\n",
      "Epoch 36/100\n",
      "699/699 [==============================] - 1s 1ms/step - loss: 50.9201 - val_loss: 51.2848\n",
      "Epoch 37/100\n",
      "699/699 [==============================] - 1s 1ms/step - loss: 50.9203 - val_loss: 51.2847\n",
      "Epoch 38/100\n",
      "699/699 [==============================] - 1s 2ms/step - loss: 50.9200 - val_loss: 51.2848\n",
      "Epoch 39/100\n",
      "699/699 [==============================] - 1s 1ms/step - loss: 50.9199 - val_loss: 51.3238\n",
      "Epoch 40/100\n",
      "699/699 [==============================] - 1s 1ms/step - loss: 50.9229 - val_loss: 51.2847\n",
      "Epoch 41/100\n",
      "699/699 [==============================] - 1s 1ms/step - loss: 50.9200 - val_loss: 51.2847\n",
      "Epoch 42/100\n",
      "699/699 [==============================] - 1s 2ms/step - loss: 50.9201 - val_loss: 51.2861\n",
      "Epoch 43/100\n",
      "699/699 [==============================] - 1s 1ms/step - loss: 50.9198 - val_loss: 51.2847\n",
      "Epoch 44/100\n",
      "699/699 [==============================] - 1s 1ms/step - loss: 50.9197 - val_loss: 51.2845\n",
      "Epoch 45/100\n",
      "699/699 [==============================] - 1s 1ms/step - loss: 50.9238 - val_loss: 51.2848\n",
      "Epoch 46/100\n",
      "699/699 [==============================] - 1s 2ms/step - loss: 50.9198 - val_loss: 51.2847\n",
      "Epoch 47/100\n",
      "699/699 [==============================] - 1s 1ms/step - loss: 50.9203 - val_loss: 51.2847\n",
      "Epoch 48/100\n",
      "699/699 [==============================] - 1s 1ms/step - loss: 50.9198 - val_loss: 51.2900\n",
      "Epoch 49/100\n",
      "699/699 [==============================] - 1s 1ms/step - loss: 50.9198 - val_loss: 51.2852\n",
      "Epoch 50/100\n",
      "699/699 [==============================] - 1s 2ms/step - loss: 50.9198 - val_loss: 51.2846\n",
      "Epoch 51/100\n",
      "699/699 [==============================] - 1s 1ms/step - loss: 50.9197 - val_loss: 51.2846\n",
      "Epoch 52/100\n",
      "699/699 [==============================] - 1s 1ms/step - loss: 50.9203 - val_loss: 51.2846\n",
      "Epoch 53/100\n",
      "699/699 [==============================] - 1s 2ms/step - loss: 50.9197 - val_loss: 51.2847\n",
      "Epoch 54/100\n",
      "699/699 [==============================] - 1s 1ms/step - loss: 50.9200 - val_loss: 51.2975\n",
      "Epoch 55/100\n",
      "699/699 [==============================] - 1s 1ms/step - loss: 50.9207 - val_loss: 51.2845\n",
      "Epoch 56/100\n",
      "699/699 [==============================] - 1s 1ms/step - loss: 50.9196 - val_loss: 51.2844\n",
      "Epoch 57/100\n",
      "699/699 [==============================] - 1s 1ms/step - loss: 50.9196 - val_loss: 51.2844\n",
      "Epoch 58/100\n",
      "699/699 [==============================] - 1s 2ms/step - loss: 50.9211 - val_loss: 51.3279\n",
      "Epoch 59/100\n",
      "699/699 [==============================] - 1s 1ms/step - loss: 50.9204 - val_loss: 51.2846\n",
      "Epoch 60/100\n",
      "699/699 [==============================] - 1s 2ms/step - loss: 50.9199 - val_loss: 51.2847\n",
      "Epoch 61/100\n",
      "699/699 [==============================] - 1s 2ms/step - loss: 50.9197 - val_loss: 51.2845\n",
      "Epoch 62/100\n",
      "699/699 [==============================] - 1s 1ms/step - loss: 50.9196 - val_loss: 51.2843\n",
      "Epoch 63/100\n",
      "699/699 [==============================] - 1s 1ms/step - loss: 50.9204 - val_loss: 51.2844\n",
      "Epoch 64/100\n",
      "699/699 [==============================] - 1s 1ms/step - loss: 50.9200 - val_loss: 51.2849\n",
      "Epoch 65/100\n",
      "699/699 [==============================] - 1s 1ms/step - loss: 50.9196 - val_loss: 51.2843\n",
      "Epoch 66/100\n",
      "699/699 [==============================] - 1s 1ms/step - loss: 50.9202 - val_loss: 51.2958\n",
      "Epoch 67/100\n",
      "699/699 [==============================] - 1s 1ms/step - loss: 50.9205 - val_loss: 51.2851\n",
      "Epoch 68/100\n",
      "699/699 [==============================] - 1s 1ms/step - loss: 50.9200 - val_loss: 51.2844\n",
      "Epoch 69/100\n",
      "699/699 [==============================] - 1s 1ms/step - loss: 50.9196 - val_loss: 51.2847\n",
      "Epoch 70/100\n",
      "699/699 [==============================] - 1s 1ms/step - loss: 50.9197 - val_loss: 51.2845\n",
      "Epoch 71/100\n",
      "699/699 [==============================] - 1s 1ms/step - loss: 50.9198 - val_loss: 51.2843\n",
      "Epoch 72/100\n",
      "699/699 [==============================] - 1s 1ms/step - loss: 50.9197 - val_loss: 51.2846\n",
      "Epoch 73/100\n",
      "699/699 [==============================] - 1s 1ms/step - loss: 50.9195 - val_loss: 51.2843\n",
      "Epoch 74/100\n",
      "699/699 [==============================] - 1s 2ms/step - loss: 50.9198 - val_loss: 51.2844\n",
      "Epoch 75/100\n",
      "699/699 [==============================] - 1s 1ms/step - loss: 50.9200 - val_loss: 51.2854\n",
      "Epoch 76/100\n",
      "699/699 [==============================] - 1s 1ms/step - loss: 50.9197 - val_loss: 51.2844\n",
      "Epoch 77/100\n",
      "699/699 [==============================] - 1s 2ms/step - loss: 50.9196 - val_loss: 51.2852\n",
      "Epoch 78/100\n",
      "699/699 [==============================] - 1s 1ms/step - loss: 50.9197 - val_loss: 51.2844\n",
      "Epoch 79/100\n",
      "699/699 [==============================] - 1s 1ms/step - loss: 50.9195 - val_loss: 51.2843\n",
      "Epoch 80/100\n",
      "699/699 [==============================] - 1s 2ms/step - loss: 50.9197 - val_loss: 51.2844\n",
      "Epoch 81/100\n",
      "699/699 [==============================] - 1s 1ms/step - loss: 50.9195 - val_loss: 51.2844\n",
      "Epoch 82/100\n",
      "699/699 [==============================] - 1s 1ms/step - loss: 50.9201 - val_loss: 51.2843\n",
      "Epoch 83/100\n",
      "699/699 [==============================] - 1s 1ms/step - loss: 50.9196 - val_loss: 51.2844\n",
      "Epoch 84/100\n",
      "699/699 [==============================] - 1s 2ms/step - loss: 50.9195 - val_loss: 51.2848\n",
      "Epoch 85/100\n",
      "699/699 [==============================] - 1s 1ms/step - loss: 50.9195 - val_loss: 51.2842\n",
      "Epoch 86/100\n",
      "699/699 [==============================] - 1s 1ms/step - loss: 50.9200 - val_loss: 51.2843\n",
      "Epoch 87/100\n",
      "699/699 [==============================] - 1s 1ms/step - loss: 50.9195 - val_loss: 51.2843\n",
      "Epoch 88/100\n",
      "699/699 [==============================] - 1s 1ms/step - loss: 50.9197 - val_loss: 51.2843\n",
      "Epoch 89/100\n",
      "699/699 [==============================] - 1s 1ms/step - loss: 50.9196 - val_loss: 51.2873\n",
      "Epoch 90/100\n",
      "699/699 [==============================] - 1s 1ms/step - loss: 50.9194 - val_loss: 51.2842\n",
      "Epoch 91/100\n",
      "699/699 [==============================] - 1s 2ms/step - loss: 50.9194 - val_loss: 51.2843\n",
      "Epoch 92/100\n",
      "699/699 [==============================] - 1s 2ms/step - loss: 50.9198 - val_loss: 51.2852\n",
      "Epoch 93/100\n",
      "699/699 [==============================] - 1s 1ms/step - loss: 50.9201 - val_loss: 51.2849\n",
      "Epoch 94/100\n",
      "699/699 [==============================] - 1s 2ms/step - loss: 50.9202 - val_loss: 51.2862\n",
      "Epoch 95/100\n",
      "699/699 [==============================] - 1s 1ms/step - loss: 50.9202 - val_loss: 51.2849\n",
      "Epoch 96/100\n",
      "699/699 [==============================] - 1s 1ms/step - loss: 50.9208 - val_loss: 51.2845\n",
      "Epoch 97/100\n",
      "699/699 [==============================] - 1s 1ms/step - loss: 50.9194 - val_loss: 51.2841\n",
      "Epoch 98/100\n",
      "699/699 [==============================] - 1s 1ms/step - loss: 50.9194 - val_loss: 51.2842\n",
      "Epoch 99/100\n",
      "699/699 [==============================] - 1s 1ms/step - loss: 50.9203 - val_loss: 51.2857\n",
      "Epoch 100/100\n",
      "699/699 [==============================] - 1s 1ms/step - loss: 50.9198 - val_loss: 51.2841\n"
     ]
    },
    {
     "data": {
      "text/plain": [
       "<keras.callbacks.History at 0x28d82e4a0>"
      ]
     },
     "execution_count": 1635,
     "metadata": {},
     "output_type": "execute_result"
    }
   ],
   "source": [
    "df_encoded = df_encoded.astype('float32')\n",
    "df_test_encoded = df_test_encoded.astype('float32')\n",
    "autoencoder.fit(df_encoded, df_encoded,  # The target is the input data itself\n",
    "                epochs=100,\n",
    "                batch_size=128,\n",
    "                shuffle=True,\n",
    "                validation_data=(df_test_encoded, df_test_encoded))"
   ]
  },
  {
   "cell_type": "code",
   "execution_count": 1636,
   "metadata": {},
   "outputs": [
    {
     "name": "stdout",
     "output_type": "stream",
     "text": [
      "2793/2793 [==============================] - 2s 745us/step\n",
      "2793/2793 [==============================] - 3s 915us/step\n",
      "311/311 [==============================] - 0s 913us/step\n",
      "311/311 [==============================] - 0s 735us/step\n"
     ]
    }
   ],
   "source": [
    "encoder_model = Model(inputs=input_layer, outputs=bottleneck)\n",
    "compressed_data = encoder_model.predict(df_encoded)\n",
    "reconstructed_data = autoencoder.predict(df_encoded)\n",
    "\n",
    "compressed_test_data = encoder_model.predict(df_test_encoded)\n",
    "reconstructed_test_data = autoencoder.predict(df_test_encoded)"
   ]
  },
  {
   "cell_type": "code",
   "execution_count": 1637,
   "metadata": {},
   "outputs": [
    {
     "name": "stderr",
     "output_type": "stream",
     "text": [
      "/Users/szy/Downloads/yes/envs/COMP0169/lib/python3.10/site-packages/sklearn/utils/validation.py:1183: DataConversionWarning: A column-vector y was passed when a 1d array was expected. Please change the shape of y to (n_samples, ), for example using ravel().\n",
      "  y = column_or_1d(y, warn=True)\n"
     ]
    },
    {
     "name": "stdout",
     "output_type": "stream",
     "text": [
      "AE mse score is 0.16704995711209292, AE accuracy score is 0.8451794510907812\n"
     ]
    }
   ],
   "source": [
    "AE_score, accuracy = naive_bayes_score(reconstructed_data,y_readmitted,reconstructed_test_data,y_test_readmitted)\n",
    "print(f\"AE mse score is {AE_score}, AE accuracy score is {accuracy}\")"
   ]
  },
  {
   "attachments": {},
   "cell_type": "markdown",
   "metadata": {},
   "source": [
    "# Model Building\n",
    "We will build two models: \n",
    "1. A traditional machine learning model using Random Forest.\n",
    "2. A deep learning model using PyTorch.\n"
   ]
  },
  {
   "attachments": {},
   "cell_type": "markdown",
   "metadata": {},
   "source": [
    "At the first step we will try to use the Random Forest method to get the result"
   ]
  },
  {
   "cell_type": "code",
   "execution_count": 1638,
   "metadata": {},
   "outputs": [],
   "source": [
    "from sklearn.metrics import f1_score, precision_score, recall_score"
   ]
  },
  {
   "cell_type": "code",
   "execution_count": 1639,
   "metadata": {},
   "outputs": [],
   "source": [
    "'''\n",
    "X = df_encoded\n",
    "y = y_readmitted\n",
    "X_test = df_test_encoded\n",
    "y_test = y_test_readmitted\n",
    "\n",
    "from sklearn.datasets import make_classification\n",
    "from imblearn.over_sampling import SMOTE\n",
    "from collections import Counter\n",
    "\n",
    "sm = SMOTE(random_state=0)\n",
    "X, y = sm.fit_resample(X, y)\n",
    "'''\n",
    "X = reconstructed_data\n",
    "y = y_readmitted\n",
    "X_test = reconstructed_test_data\n",
    "y_test = y_test_readmitted\n",
    "\n"
   ]
  },
  {
   "cell_type": "code",
   "execution_count": 1640,
   "metadata": {},
   "outputs": [
    {
     "name": "stderr",
     "output_type": "stream",
     "text": [
      "/Users/szy/Downloads/yes/envs/COMP0169/lib/python3.10/site-packages/sklearn/utils/validation.py:1183: DataConversionWarning: A column-vector y was passed when a 1d array was expected. Please change the shape of y to (n_samples, ), for example using ravel().\n",
      "  y = column_or_1d(y, warn=True)\n"
     ]
    },
    {
     "name": "stdout",
     "output_type": "stream",
     "text": [
      "accuracy: 0.8903186890519754\n",
      "F1 Score: 0.8386600340631063\n",
      "Precision: 0.7926673680752282\n",
      "Recall: 0.8903186890519754\n"
     ]
    },
    {
     "name": "stderr",
     "output_type": "stream",
     "text": [
      "/Users/szy/Downloads/yes/envs/COMP0169/lib/python3.10/site-packages/sklearn/metrics/_classification.py:1469: UndefinedMetricWarning: Precision is ill-defined and being set to 0.0 in labels with no predicted samples. Use `zero_division` parameter to control this behavior.\n",
      "  _warn_prf(average, modifier, msg_start, len(result))\n"
     ]
    }
   ],
   "source": [
    "HGB_classifier = HistGradientBoostingClassifier(max_iter=100)\n",
    "HGB_classifier.fit(X, y)\n",
    "Y_pred = HGB_classifier.predict(X_test)\n",
    "print(\"accuracy:\", accuracy_score(y_test,Y_pred))\n",
    "print(\"F1 Score:\", f1_score(y_test, Y_pred,average = 'weighted' ))\n",
    "print(\"Precision:\", precision_score(y_test, Y_pred,average = 'weighted'))\n",
    "print(\"Recall:\", recall_score(y_test, Y_pred,average = 'weighted'))"
   ]
  },
  {
   "cell_type": "code",
   "execution_count": 1641,
   "metadata": {},
   "outputs": [],
   "source": [
    "pd.DataFrame(Y_pred).to_csv(\"temp.csv\",index = False)"
   ]
  },
  {
   "cell_type": "code",
   "execution_count": 1642,
   "metadata": {},
   "outputs": [
    {
     "name": "stderr",
     "output_type": "stream",
     "text": [
      "/Users/szy/Downloads/yes/envs/COMP0169/lib/python3.10/site-packages/sklearn/base.py:1152: DataConversionWarning: A column-vector y was passed when a 1d array was expected. Please change the shape of y to (n_samples,), for example using ravel().\n",
      "  return fit_method(estimator, *args, **kwargs)\n"
     ]
    },
    {
     "name": "stdout",
     "output_type": "stream",
     "text": [
      "accuracy: 0.8897154921081734\n",
      "F1 Score: 0.8391313045552099\n",
      "Precision: 0.8242257811159034\n",
      "Recall: 0.8897154921081734\n"
     ]
    }
   ],
   "source": [
    "# the code for Random Forest algorithm\n",
    "from sklearn.feature_selection import SelectFromModel\n",
    "\n",
    "RF_classifier = RandomForestClassifier(n_estimators=100)\n",
    "RF_classifier.fit(X, y)\n",
    "\n",
    "Y_pred = RF_classifier.predict(X_test)\n",
    "print(\"accuracy:\", accuracy_score(y_test,Y_pred))\n",
    "print(\"F1 Score:\", f1_score(y_test, Y_pred,average = 'weighted' ))\n",
    "print(\"Precision:\", precision_score(y_test, Y_pred,average = 'weighted'))\n",
    "print(\"Recall:\", recall_score(y_test, Y_pred,average = 'weighted'))"
   ]
  },
  {
   "cell_type": "code",
   "execution_count": 1643,
   "metadata": {},
   "outputs": [],
   "source": [
    "X = pd.DataFrame(X)"
   ]
  },
  {
   "cell_type": "code",
   "execution_count": 1645,
   "metadata": {},
   "outputs": [
    {
     "name": "stdout",
     "output_type": "stream",
     "text": [
      "torch.Size([89361, 2])\n",
      "tensor([[1., 0.],\n",
      "        [1., 0.],\n",
      "        [1., 0.],\n",
      "        ...,\n",
      "        [1., 0.],\n",
      "        [1., 0.],\n",
      "        [1., 0.]])\n"
     ]
    },
    {
     "name": "stderr",
     "output_type": "stream",
     "text": []
    },
    {
     "name": "stderr",
     "output_type": "stream",
     "text": [
      "100%|██████████| 90/90 [00:01<00:00, 77.60it/s]\n",
      "100%|██████████| 90/90 [00:01<00:00, 87.68it/s]\n",
      "100%|██████████| 90/90 [00:00<00:00, 110.74it/s]\n",
      "100%|██████████| 90/90 [00:00<00:00, 100.06it/s]\n",
      "100%|██████████| 90/90 [00:00<00:00, 101.19it/s]\n",
      "100%|██████████| 90/90 [00:00<00:00, 102.68it/s]\n",
      "100%|██████████| 90/90 [00:00<00:00, 103.35it/s]\n",
      "100%|██████████| 90/90 [00:00<00:00, 96.93it/s]\n",
      "100%|██████████| 90/90 [00:00<00:00, 109.02it/s]\n",
      "100%|██████████| 90/90 [00:00<00:00, 112.59it/s]\n",
      "100%|██████████| 90/90 [00:00<00:00, 110.81it/s]\n",
      "100%|██████████| 90/90 [00:00<00:00, 113.66it/s]\n",
      "100%|██████████| 90/90 [00:00<00:00, 109.65it/s]\n",
      "100%|██████████| 90/90 [00:00<00:00, 111.25it/s]\n",
      "100%|██████████| 90/90 [00:00<00:00, 112.36it/s]\n",
      "100%|██████████| 90/90 [00:00<00:00, 112.23it/s]\n",
      "100%|██████████| 90/90 [00:00<00:00, 110.70it/s]\n",
      "100%|██████████| 90/90 [00:00<00:00, 110.42it/s]\n",
      "100%|██████████| 90/90 [00:00<00:00, 115.39it/s]\n",
      "100%|██████████| 90/90 [00:00<00:00, 110.90it/s]\n",
      "100%|██████████| 90/90 [00:00<00:00, 109.93it/s]\n",
      "100%|██████████| 90/90 [00:00<00:00, 95.38it/s] \n",
      "100%|██████████| 90/90 [00:00<00:00, 102.82it/s]\n",
      "100%|██████████| 90/90 [00:00<00:00, 113.29it/s]\n",
      "100%|██████████| 90/90 [00:00<00:00, 109.68it/s]\n",
      "100%|██████████| 90/90 [00:00<00:00, 115.39it/s]\n",
      "100%|██████████| 90/90 [00:00<00:00, 107.64it/s]\n",
      "100%|██████████| 90/90 [00:00<00:00, 112.73it/s]\n",
      "100%|██████████| 90/90 [00:00<00:00, 108.31it/s]\n",
      "100%|██████████| 90/90 [00:00<00:00, 115.09it/s]\n",
      "100%|██████████| 90/90 [00:00<00:00, 107.83it/s]\n",
      "100%|██████████| 90/90 [00:13<00:00,  6.75it/s]\n",
      "100%|██████████| 90/90 [00:00<00:00, 92.52it/s] \n",
      "100%|██████████| 90/90 [00:00<00:00, 107.06it/s]\n",
      "100%|██████████| 90/90 [00:00<00:00, 111.58it/s]\n",
      "100%|██████████| 90/90 [00:00<00:00, 109.70it/s]\n",
      "100%|██████████| 90/90 [00:00<00:00, 107.44it/s]\n",
      "100%|██████████| 90/90 [00:00<00:00, 98.42it/s] \n",
      "100%|██████████| 90/90 [00:00<00:00, 109.27it/s]\n",
      "100%|██████████| 90/90 [00:00<00:00, 110.69it/s]\n",
      "100%|██████████| 90/90 [00:00<00:00, 109.38it/s]\n",
      "100%|██████████| 90/90 [00:00<00:00, 110.10it/s]\n",
      "100%|██████████| 90/90 [00:00<00:00, 111.17it/s]\n",
      "100%|██████████| 90/90 [00:00<00:00, 110.00it/s]\n",
      "100%|██████████| 90/90 [00:00<00:00, 110.41it/s]\n",
      "100%|██████████| 90/90 [00:00<00:00, 111.33it/s]\n",
      "100%|██████████| 90/90 [00:00<00:00, 106.05it/s]\n",
      "100%|██████████| 90/90 [00:00<00:00, 111.43it/s]\n",
      "100%|██████████| 90/90 [00:00<00:00, 107.79it/s]\n",
      "100%|██████████| 90/90 [00:00<00:00, 108.23it/s]\n"
     ]
    }
   ],
   "source": [
    "# the code for Nerual Network\n",
    "class MLP(nn.Module):\n",
    "    '''\n",
    "    MLP class for predicting pixel values based on positions.\n",
    "    '''\n",
    "    def __init__(self, input_dimension, nb_layers, embedding_dimension, output_dimension):\n",
    "        super(MLP, self).__init__()\n",
    "\n",
    "        # Create a list to hold all layers\n",
    "        layers = []\n",
    "\n",
    "        # First layer\n",
    "        layers.append(nn.Linear(input_dimension, embedding_dimension))\n",
    "        layers.append(nn.ReLU())\n",
    "\n",
    "        # Additional hidden layers\n",
    "        for _ in range(nb_layers - 2):\n",
    "            layers.append(nn.Linear(embedding_dimension, embedding_dimension))\n",
    "            layers.append(nn.ReLU())\n",
    "\n",
    "        # Output layer\n",
    "        layers.append(nn.Linear(embedding_dimension, output_dimension))\n",
    "\n",
    "        # Combine all layers\n",
    "        self.layers = nn.Sequential(*layers)\n",
    "\n",
    "    def forward(self, input):\n",
    "        # Pass the input through all layers\n",
    "        prediction = self.layers(input)\n",
    "\n",
    "        return prediction\n",
    "\n",
    "model = MLP(len(X.columns),5,32,3)\n",
    "\n",
    "class CustomDataset(Dataset):\n",
    "    def __init__(self, data, labels):\n",
    "        self.data = data\n",
    "        self.labels = labels\n",
    "\n",
    "    def __len__(self):\n",
    "        return len(self.data)\n",
    "\n",
    "    def __getitem__(self, idx):\n",
    "        return self.data[idx], self.labels[idx]\n",
    "\n",
    "def loss_function(predict,target):\n",
    "    loss_func = nn.BCEWithLogitsLoss()\n",
    "    return loss_func(predict,target) \n",
    "\n",
    "\n",
    "X_tensor = torch.tensor(X.values.astype(float), dtype=torch.float32)\n",
    "df_y = pd.DataFrame(y)\n",
    "Y_dl = pd.get_dummies(df_y[0])\n",
    "\n",
    "y_tensor = torch.tensor(Y_dl.values.astype(float), dtype=torch.float32).squeeze(1)\n",
    "print(y_tensor.shape)\n",
    "print(y_tensor)\n",
    "\n",
    "\n",
    "target_task_data = CustomDataset(X_tensor,y_tensor)  # Load your target task data\n",
    "optimizer = torch.optim.Adam(model.parameters(), lr=0.001)\n",
    "device = 'cpu'\n",
    "model.to(device)\n",
    "model.train()\n",
    "\n",
    "for _ in range(50):\n",
    "    for batch in tqdm(DataLoader(target_task_data, batch_size=1000, shuffle=True)):\n",
    "        inputs, targets = batch\n",
    "        optimizer.zero_grad()\n",
    "        predictions = nn.functional.softmax(model(inputs),dim = 1)\n",
    "        loss = loss_function(predictions, targets)\n",
    "        loss.backward()\n",
    "        optimizer.step()\n",
    "\n",
    "if not os.path.exists(\"models/\"):\n",
    "  os.makedirs(\"./models/\")\n",
    "torch.save({\"model\":model}, \"models/diabets_prediction.pth\")"
   ]
  },
  {
   "cell_type": "code",
   "execution_count": 1646,
   "metadata": {},
   "outputs": [],
   "source": [
    "X_test = pd.DataFrame(X_test)"
   ]
  },
  {
   "cell_type": "code",
   "execution_count": 1647,
   "metadata": {},
   "outputs": [
    {
     "name": "stdout",
     "output_type": "stream",
     "text": [
      "0.8903186890519754\n",
      "8856\n",
      "9947\n"
     ]
    }
   ],
   "source": [
    "X_test_tensor = torch.tensor(X_test.values.astype(float),dtype=torch.float32)\n",
    "y_test_tensor = torch.tensor(y_test.astype(float), dtype=torch.float32)\n",
    "test_loader = TensorDataset(X_test_tensor, y_test_tensor)\n",
    "\n",
    "model.eval()\n",
    "total = 0\n",
    "correct = 0\n",
    "with torch.no_grad():\n",
    "    for data in test_loader:  # 假设 test_loader 是测试数据的 DataLoader\n",
    "        inputs, labels = data\n",
    "        outputs = model(inputs)\n",
    "        _, predicted = torch.max(outputs.data,0)\n",
    "        \n",
    "        y_pred = predicted.item()\n",
    "        total += 1\n",
    "        if( y_pred == labels):\n",
    "            correct += 1\n",
    "\n",
    "accuracy = correct / total\n",
    "print(accuracy)\n",
    "print(correct)\n",
    "print(total)"
   ]
  },
  {
   "cell_type": "code",
   "execution_count": null,
   "metadata": {},
   "outputs": [
    {
     "ename": "AttributeError",
     "evalue": "'numpy.ndarray' object has no attribute 'values'",
     "output_type": "error",
     "traceback": [
      "\u001b[0;31m---------------------------------------------------------------------------\u001b[0m",
      "\u001b[0;31mAttributeError\u001b[0m                            Traceback (most recent call last)",
      "Cell \u001b[0;32mIn[1383], line 69\u001b[0m\n\u001b[1;32m     65\u001b[0m optimizer \u001b[38;5;241m=\u001b[39m optim\u001b[38;5;241m.\u001b[39mAdam(model\u001b[38;5;241m.\u001b[39mparameters(), lr\u001b[38;5;241m=\u001b[39mmeta_lr)\n\u001b[1;32m     68\u001b[0m X_tensor \u001b[38;5;241m=\u001b[39m torch\u001b[38;5;241m.\u001b[39mtensor(X\u001b[38;5;241m.\u001b[39mastype(\u001b[38;5;28mfloat\u001b[39m)\u001b[38;5;241m.\u001b[39mvalues, dtype\u001b[38;5;241m=\u001b[39mtorch\u001b[38;5;241m.\u001b[39mfloat32)\n\u001b[0;32m---> 69\u001b[0m y_tensor \u001b[38;5;241m=\u001b[39m torch\u001b[38;5;241m.\u001b[39mtensor(\u001b[43my\u001b[49m\u001b[38;5;241;43m.\u001b[39;49m\u001b[43mastype\u001b[49m\u001b[43m(\u001b[49m\u001b[38;5;28;43mint\u001b[39;49m\u001b[43m)\u001b[49m\u001b[38;5;241;43m.\u001b[39;49m\u001b[43mvalues\u001b[49m, dtype\u001b[38;5;241m=\u001b[39mtorch\u001b[38;5;241m.\u001b[39mlong)\n\u001b[1;32m     70\u001b[0m train_dataset \u001b[38;5;241m=\u001b[39m TensorDataset(X_tensor, y_tensor)\n\u001b[1;32m     72\u001b[0m X_test_tensor \u001b[38;5;241m=\u001b[39m torch\u001b[38;5;241m.\u001b[39mtensor(X_test\u001b[38;5;241m.\u001b[39mastype(\u001b[38;5;28mfloat\u001b[39m)\u001b[38;5;241m.\u001b[39mvalues,dtype\u001b[38;5;241m=\u001b[39mtorch\u001b[38;5;241m.\u001b[39mfloat32)\n",
      "\u001b[0;31mAttributeError\u001b[0m: 'numpy.ndarray' object has no attribute 'values'"
     ]
    }
   ],
   "source": [
    "# meta learning\n",
    "np.random.seed(0)\n",
    "torch.manual_seed(0)\n",
    "\n",
    "# 模型配置\n",
    "inner_lr = 0.01    # 内循环学习率\n",
    "meta_lr = 0.001    # 元学习率\n",
    "num_inner_updates = 1  # 每个任务的内部更新次数\n",
    "\n",
    "class Model(nn.Module):\n",
    "    def __init__(self):\n",
    "        super(Model, self).__init__()\n",
    "        self.fc = nn.Sequential(\n",
    "            nn.Linear(50, 40),\n",
    "            nn.ReLU(),\n",
    "            nn.Linear(40, 40),\n",
    "            nn.ReLU(),\n",
    "            nn.Linear(40,20),\n",
    "            nn.Sigmoid(),\n",
    "            nn.Linear(20, 3)\n",
    "        )\n",
    "\n",
    "    def forward(self, x):\n",
    "        return self.fc(x)\n",
    "\n",
    "def maml_train_step(model, optimizer, data_loader):\n",
    "    meta_loss = 0\n",
    "\n",
    "    for task_data in data_loader:\n",
    "        # 拆分数据为支持集和查询集\n",
    "        support_set, query_set = task_data\n",
    "        x_support, y_support = support_set\n",
    "        x_query, y_query = query_set\n",
    "\n",
    "        # 保存原始参数以便在每个任务后恢复\n",
    "        original_state_dict = model.state_dict()\n",
    "\n",
    "        # 内循环：在支持集上训练\n",
    "        for _ in range(num_inner_updates):\n",
    "            y_pred = model(x_support)\n",
    "            loss = nn.CrossEntropyLoss()(y_pred, y_support)\n",
    "            model.zero_grad()\n",
    "            loss.backward()\n",
    "            # 仅使用内循环学习率更新参数\n",
    "            for param in model.parameters():\n",
    "                param.data -= inner_lr * param.grad.data\n",
    "\n",
    "        # 外循环：在查询集上评估并更新元参数\n",
    "        y_pred_query = model(x_query)\n",
    "        query_loss = nn.CrossEntropyLoss()(y_pred_query, y_query)\n",
    "        meta_loss += query_loss\n",
    "\n",
    "        # 恢复模型到原始状态\n",
    "        model.load_state_dict(original_state_dict)\n",
    "\n",
    "    # 更新元参数\n",
    "    optimizer.zero_grad()\n",
    "    meta_loss.backward()\n",
    "    optimizer.step()\n",
    "\n",
    "    return meta_loss.item()\n",
    "\n",
    "# 实例化模型和优化器\n",
    "model = Model()\n",
    "optimizer = optim.Adam(model.parameters(), lr=meta_lr)\n",
    "\n",
    "\n",
    "X_tensor = torch.tensor(X.astype(float).values, dtype=torch.float32)\n",
    "y_tensor = torch.tensor(y.astype(int).values, dtype=torch.long)\n",
    "train_dataset = TensorDataset(X_tensor, y_tensor)\n",
    "\n",
    "X_test_tensor = torch.tensor(X_test.astype(float).values,dtype=torch.float32)\n",
    "y_test_tensor = torch.tensor(y_test.astype(int).values, dtype=torch.long)\n",
    "test_dataset = TensorDataset(X_test_tensor, y_test_tensor)\n",
    "\n",
    "train_data_loader = DataLoader(dataset=train_dataset, batch_size=32, shuffle=True)\n",
    "test_data_loader = DataLoader(dataset=test_dataset, batch_size=32, shuffle=True)\n",
    "\n",
    "num_epochs = 10\n",
    "# 训练循环（伪代码，需要根据实际情况调整）\n",
    "for epoch in tqdm(range(num_epochs)):\n",
    "    meta_loss = maml_train_step(model, optimizer, train_data_loader)\n",
    "    print(f\"Epoch {epoch}: Meta Loss {meta_loss}\")\n",
    "\n",
    "if not os.path.exists(\"models/\"):\n",
    "  os.makedirs(\"./models/\")\n",
    "torch.save({\"model\":model}, \"models/diabets_prediction_meta_learning.pth\")"
   ]
  },
  {
   "attachments": {},
   "cell_type": "markdown",
   "metadata": {},
   "source": [
    "# Model Training\n"
   ]
  }
 ],
 "metadata": {
  "kernelspec": {
   "display_name": "COMP0169",
   "language": "python",
   "name": "python3"
  },
  "language_info": {
   "codemirror_mode": {
    "name": "ipython",
    "version": 3
   },
   "file_extension": ".py",
   "mimetype": "text/x-python",
   "name": "python",
   "nbconvert_exporter": "python",
   "pygments_lexer": "ipython3",
   "version": "3.9.16"
  },
  "orig_nbformat": 4
 },
 "nbformat": 4,
 "nbformat_minor": 2
}
