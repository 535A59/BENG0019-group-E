{
 "cells": [
  {
   "attachments": {},
   "cell_type": "markdown",
   "metadata": {},
   "source": [
    "# Diabetic patients readmission rates preditction\n"
   ]
  },
  {
   "cell_type": "code",
   "execution_count": null,
   "metadata": {},
   "outputs": [],
   "source": [
    "# !pip install tqdm\n",
    "# !pip install tensorflow\n",
    "# !pip install umap-learn"
   ]
  },
  {
   "cell_type": "code",
   "execution_count": 1,
   "metadata": {},
   "outputs": [],
   "source": [
    "# Importing package\n",
    "#Standard Python libraries for data and visualisation\n",
    "import numpy as np\n",
    "import pandas as pd\n",
    "import matplotlib.pyplot as plt\n",
    "import seaborn as sns\n",
    "import os\n",
    "from tqdm import tqdm\n",
    "import seaborn as sns; sns.set()\n",
    "\n",
    "#sklearn packages for machine learning\n",
    "from sklearn.metrics import accuracy_score\n",
    "from sklearn.model_selection import train_test_split\n",
    "from sklearn.ensemble import RandomForestClassifier\n",
    "from sklearn.model_selection import RandomizedSearchCV\n",
    "from sklearn.ensemble import HistGradientBoostingClassifier\n",
    "from sklearn.decomposition import PCA\n",
    "from sklearn.manifold import TSNE\n",
    "from sklearn.preprocessing import MinMaxScaler\n",
    "from sklearn.discriminant_analysis import LinearDiscriminantAnalysis as LDA\n",
    "from sklearn.discriminant_analysis import QuadraticDiscriminantAnalysis as QDA\n",
    "from sklearn.naive_bayes import GaussianNB\n",
    "from sklearn.metrics import confusion_matrix\n",
    "\n",
    "#pytorch packages for deep learning\n",
    "import torch\n",
    "import torch.nn as nn\n",
    "import torch.optim as optim\n",
    "from torch.utils.data import TensorDataset, DataLoader\n",
    "import torch.nn.functional as F\n",
    "from torch.utils.data import Dataset\n",
    "\n",
    "%matplotlib inline\n"
   ]
  },
  {
   "attachments": {},
   "cell_type": "markdown",
   "metadata": {},
   "source": [
    "# Project introduction\n",
    "\n",
    "- Overview: <br>\n",
    "This project is focusing on developing a predictive model to ascertain the likelihood of readmission for diabetes patients.\n",
    "<br>\n",
    "\n",
    "- Target:<br>\n",
    "The main goal of this project is developing a powerful machine learning model which can predict the readmission rate of patient "
   ]
  },
  {
   "attachments": {},
   "cell_type": "markdown",
   "metadata": {},
   "source": [
    "# Data loading\n",
    "The following cells are used to load training and testing data for our prediction"
   ]
  },
  {
   "cell_type": "code",
   "execution_count": 861,
   "metadata": {},
   "outputs": [],
   "source": [
    "train_data = pd.read_csv(\"Dataset/diabetic_data_training.csv\")\n",
    "test_data = pd.read_csv(\"Dataset/diabetic_data_test.csv\")\n",
    "mapping_info = pd.read_csv(\"Dataset/IDS_mapping.csv\", header=None)\n",
    "pd.set_option('display.max_columns', None)"
   ]
  },
  {
   "cell_type": "code",
   "execution_count": 862,
   "metadata": {},
   "outputs": [],
   "source": [
    "# Function to handle different data types for plotting\n",
    "def plot_column(ax, column, df):\n",
    "    if df[column].dtype == 'object':\n",
    "        # Check if binary\n",
    "        if df[column].nunique() == 2:\n",
    "            # Binary data visualization\n",
    "            df[column].value_counts().plot(kind='bar', ax=ax)\n",
    "        else:\n",
    "            # Categorical data visualization\n",
    "            df[column].value_counts().plot(kind='pie', autopct='%1.1f%%', ax=ax)\n",
    "    elif df[column].dtype == 'int64' or df[column].dtype == 'float64':\n",
    "        # Numeric data visualization\n",
    "        df[column].plot(kind='hist', bins=20, ax=ax)\n",
    "    else:\n",
    "        ax.text(0.5, 0.5, f\"Unhandled data type for column: {column}\", \n",
    "                fontsize=12, ha='center')\n",
    "    ax.set_title(column)\n",
    "\n"
   ]
  },
  {
   "attachments": {},
   "cell_type": "markdown",
   "metadata": {},
   "source": [
    "# Data preprocessing\n",
    "The following cells are used to preprocess the training and testing data. There are two main goals in our preprocessing data section of the code\n",
    "- Change the string type data in our dataset to integer type data \n",
    "- Apply some applicable method to full up the missing value"
   ]
  },
  {
   "cell_type": "code",
   "execution_count": 863,
   "metadata": {},
   "outputs": [],
   "source": [
    "# this part is used to change all string type data to integer type\n",
    "# for the missing value, we will skip and process it at next step\n",
    "\n",
    "df = train_data.copy()\n",
    "df_test = test_data.copy()"
   ]
  },
  {
   "cell_type": "code",
   "execution_count": 864,
   "metadata": {},
   "outputs": [],
   "source": [
    "#creating new column duplicate which contains whether the row is duplicated or not. It is boolean.\n",
    "df['duplicate'] = df['patient_nbr'].duplicated()\n",
    "#only those rows which are not duplicated are kept in the dataset.\n",
    "df = df[df['duplicate'] == False]\n",
    "\n",
    "#the duplicate column is dropped.\n",
    "df = df.drop(['duplicate'], axis = 1)"
   ]
  },
  {
   "cell_type": "markdown",
   "metadata": {},
   "source": [
    "One-Hot Encoding For race:\n",
    "cons: One-hot encoding can lead to a significant increase in the dataset's dimensionality (a problem known as the \"curse of dimensionality\"), especially if the categorical feature has many unique values. This can increase the computational cost and may require more data to achieve good performance.\n",
    "Dems Redct Would be apply, so it doesn't matter\n",
    "pros: Map to a fix number implies an ordinal relationship between the categories which may not exist, but is ideal for non-ordinal categorical data. It's suitable for many machine learning models, especially those that assume no ordinal relationship between categories"
   ]
  },
  {
   "cell_type": "markdown",
   "metadata": {},
   "source": [
    "Race Process\n",
    "1. Remove missing since race is proved to be a significant impact to medical result.\n",
    "2. One-hot encode race"
   ]
  },
  {
   "cell_type": "code",
   "execution_count": 865,
   "metadata": {},
   "outputs": [],
   "source": [
    "def race_filter(df):\n",
    "    \"\"\"\n",
    "    Remove missing value from race\n",
    "    \n",
    "    Parameters:\n",
    "    df (pandas.dataframe): series containing a colum of the feature matrix.\n",
    "\n",
    "    Return:\n",
    "    Filtered dataframe free from ? for race\n",
    "    \"\"\"\n",
    "    race_mask = (df['race'] != \"?\")\n",
    "    df = df[race_mask]\n",
    "    return df"
   ]
  },
  {
   "cell_type": "code",
   "execution_count": 866,
   "metadata": {},
   "outputs": [],
   "source": [
    "df = race_filter(df)\n",
    "df_encoded = pd.get_dummies(df, columns=[\"race\"], prefix=\"race\",dtype=int)\n",
    "\n",
    "df_test = race_filter(df_test)\n",
    "df_test_encoded = pd.get_dummies(df_test, columns=[\"race\"], prefix=\"race\",dtype=int)"
   ]
  },
  {
   "cell_type": "markdown",
   "metadata": {},
   "source": [
    "Gender Process\n",
    "\n",
    "1. Remove Unknown/Invalid and missing\n",
    "2. One hot encode Gender"
   ]
  },
  {
   "cell_type": "code",
   "execution_count": 867,
   "metadata": {},
   "outputs": [],
   "source": [
    "def gender_filter(df):\n",
    "    \"\"\"\n",
    "    Remove missing value from race\n",
    "    \n",
    "    Parameters:\n",
    "    df (pandas.dataframe): series containing a colum of the feature matrix.\n",
    "\n",
    "    Return:\n",
    "    Filtered dataframe free from ? for race\n",
    "    \"\"\"\n",
    "    gender_mask = (df['gender'] != \"Unknown/Invalid\")\n",
    "    df = df[gender_mask]\n",
    "    return df"
   ]
  },
  {
   "cell_type": "code",
   "execution_count": 868,
   "metadata": {},
   "outputs": [],
   "source": [
    "df_encoded = gender_filter(df_encoded)\n",
    "df_test_encoded = gender_filter(df_test_encoded)\n",
    "gender_mapping = {'Male':0,'Female':1}\n",
    "df_encoded['gender'] = df_encoded['gender'].map(gender_mapping)\n",
    "df_test_encoded['gender'] = df_test_encoded['gender'].map(gender_mapping)"
   ]
  },
  {
   "cell_type": "markdown",
   "metadata": {},
   "source": [
    "encounter_id and patient_nbr Process \n",
    "1. n/a\n",
    "2. Drop since it provide no info to the result"
   ]
  },
  {
   "cell_type": "code",
   "execution_count": 869,
   "metadata": {},
   "outputs": [],
   "source": [
    "df_encoded.drop(columns=['encounter_id','patient_nbr'], inplace=True)\n",
    "df_test_encoded.drop(columns=['encounter_id','patient_nbr'],inplace=True)"
   ]
  },
  {
   "cell_type": "markdown",
   "metadata": {},
   "source": [
    "Age Process\n",
    "1. n/a\n",
    "2. Map age from range to mean"
   ]
  },
  {
   "cell_type": "code",
   "execution_count": 870,
   "metadata": {},
   "outputs": [],
   "source": [
    "df_encoded['age'] = (df['age'].str.extract(r'(\\d+)-(\\d+)')[0].astype(int)+df['age'].str.extract(r'(\\d+)-(\\d+)')[1].astype(int))//2\n",
    "df_test_encoded['age'] = (df_test['age'].str.extract(r'(\\d+)-(\\d+)')[0].astype(int)+df_test['age'].str.extract(r'(\\d+)-(\\d+)')[1].astype(int))//2"
   ]
  },
  {
   "cell_type": "markdown",
   "metadata": {},
   "source": [
    "Weight Process\n",
    "1. Drop Weight for too many missing values and no information to predict.\n",
    "2. n/a"
   ]
  },
  {
   "cell_type": "code",
   "execution_count": 871,
   "metadata": {},
   "outputs": [],
   "source": [
    "df_encoded.drop(columns=['weight'], inplace=True)\n",
    "df_test_encoded.drop(columns=['weight'], inplace=True)"
   ]
  },
  {
   "cell_type": "markdown",
   "metadata": {},
   "source": [
    "num_lab_procedures num_procedures num_medications number_outpatient number_emergency number_inpatient No need to be encode since no missing and integer."
   ]
  },
  {
   "cell_type": "markdown",
   "metadata": {},
   "source": [
    "diag_1,diag_2 and diag_3 Process:\n",
    "\n",
    "Filte diag_1, diag_2 and diag_3 by number_diagnoses. If the amount of diagnoses in diag_1, diag_2 and diag_3 doesn't match the number_diagnoses, then remove.\n",
    "Layer encoding diags according to the ICD-9 Code Category, drop original 3 diag"
   ]
  },
  {
   "cell_type": "code",
   "execution_count": 872,
   "metadata": {},
   "outputs": [],
   "source": [
    "def diag_missing_value_filter(df):\n",
    "\n",
    "    df['number_diagnoses'] = pd.to_numeric(df['number_diagnoses'], errors='coerce')\n",
    "    mask = ((df['number_diagnoses'] <= 3) & (\n",
    "            (3 - df[['diag_1', 'diag_2', 'diag_3']].apply(lambda x: x == \"?\").sum(axis=1)) >= df['number_diagnoses'])) | (\n",
    "    (df['number_diagnoses'] > 3) & (df[['diag_1', 'diag_2', 'diag_3']].apply(lambda x: x == \"?\").sum(axis=1)) == 0) \n",
    "    df_filtered = df[mask].copy()\n",
    "\n",
    "    return df_filtered\n",
    "\n",
    "def diag_layer_encoding(df):\n",
    "\n",
    "    # Define the encoding function\n",
    "    def encode_element(element):\n",
    "        encoding_result = [0] * 20  # Default encoding\n",
    "\n",
    "        if pd.notna(element):\n",
    "            if element[0].isdigit():\n",
    "                element = float(element)\n",
    "                # Encode based on numeric range\n",
    "                if 1 <= element <= 139:\n",
    "                    encoding_result[0] = 1\n",
    "                elif 140 <= element <= 239:\n",
    "                    encoding_result[1] = 1\n",
    "                elif 240 <= element <= 279:\n",
    "                    encoding_result[2] = 1\n",
    "                elif 280 <= element <= 289:\n",
    "                    encoding_result[3] = 1\n",
    "                elif 290 <= element <= 319:\n",
    "                    encoding_result[4] = 1\n",
    "                elif 320 <= element <= 389:\n",
    "                    encoding_result[5] = 1\n",
    "                elif 390 <= element <= 459:\n",
    "                    encoding_result[6] = 1\n",
    "                elif 460 <= element <= 519:\n",
    "                    encoding_result[7] = 1\n",
    "                elif 520 <= element <= 579:\n",
    "                    encoding_result[8] = 1\n",
    "                elif 580 <= element <= 629:\n",
    "                    encoding_result[9] = 1\n",
    "                elif 630 <= element <= 679:\n",
    "                    encoding_result[10] = 1\n",
    "                elif 680 <= element <= 709:\n",
    "                    encoding_result[11] = 1\n",
    "                elif 710 <= element <= 739:\n",
    "                    encoding_result[12] = 1\n",
    "                elif 740 <= element <= 759:\n",
    "                    encoding_result[13] = 1\n",
    "                elif 760 <= element <= 779:\n",
    "                    encoding_result[14] = 1\n",
    "                elif 780 <= element <= 799:\n",
    "                    encoding_result[15] = 1\n",
    "                elif 800 <= element <= 999:\n",
    "                    encoding_result[16] = 1\n",
    "                # Add more conditions for other ranges if needed\n",
    "            elif element[0].isalpha():\n",
    "                # Encode based on string prefix\n",
    "                if element.startswith('E'):\n",
    "                    encoding_result[17] = 1\n",
    "                elif element.startswith('V'):\n",
    "                    encoding_result[18] = 1\n",
    "                elif element.startswith('M'):\n",
    "                    encoding_result[19] = 1\n",
    "                # Add more conditions for other prefixes if needed\n",
    "\n",
    "        return encoding_result\n",
    "\n",
    "    for i in range(1,4):\n",
    "        encoded_columns = df[\"diag_\"+str(i)].apply(encode_element)\n",
    "\n",
    "    # Create new columns with \"diag_1\" as a prefix\n",
    "        for j in range(20):\n",
    "            new_column_name = \"diag_\" + str(i)+\"_\"+ str(j+1)\n",
    "            df[new_column_name] = encoded_columns.apply(lambda x: x[j])\n",
    "\n",
    "    return df\n"
   ]
  },
  {
   "cell_type": "code",
   "execution_count": 873,
   "metadata": {},
   "outputs": [],
   "source": [
    "df_encoded = diag_missing_value_filter(df_encoded)\n",
    "df_encoded = diag_layer_encoding(df_encoded)\n",
    "df_test_encoded = diag_missing_value_filter(df_test_encoded)\n",
    "df_test_encoded = diag_layer_encoding(df_test_encoded)\n",
    "\n",
    "for i in range(1,4):\n",
    "        df_encoded.drop(columns=[f'diag_{i}'], inplace=True)\n",
    "        df_test_encoded.drop(columns=[f'diag_{i}'], inplace=True)"
   ]
  },
  {
   "cell_type": "markdown",
   "metadata": {},
   "source": [
    "number_diagnoses pass since no missing and integer max_glu_serum and A1Cresult Process: \n",
    "1. n/a \n",
    "2. index map to 0-3\n",
    "\n"
   ]
  },
  {
   "cell_type": "code",
   "execution_count": 874,
   "metadata": {},
   "outputs": [],
   "source": [
    "max_glu_serum_mapping = {'>200': 2, '>300': 3, 'normal': 1}\n",
    "A1Cresult_mapping = {'>8':3,'>7':2,'normal':1}"
   ]
  },
  {
   "cell_type": "code",
   "execution_count": 875,
   "metadata": {},
   "outputs": [],
   "source": [
    "df_encoded['max_glu_serum'] = df_encoded['max_glu_serum'].map(max_glu_serum_mapping).fillna(0)\n",
    "df_test_encoded['max_glu_serum'] = df_test_encoded['max_glu_serum'].map(max_glu_serum_mapping).fillna(0)\n",
    "\n",
    "df_encoded[\"A1Cresult\"] = df_encoded['A1Cresult'].map(A1Cresult_mapping).fillna(0)\n",
    "df_test_encoded[\"A1Cresult\"] = df_test_encoded['A1Cresult'].map(A1Cresult_mapping).fillna(0)"
   ]
  },
  {
   "cell_type": "markdown",
   "metadata": {},
   "source": [
    "metformin repaglinide nateglinide chlorpropamide glimepiride acetohexamide glipizide glyburide tolbutamide pioglitazone rosiglitazone acarbose miglitol troglitazone tolazamide examide citoglipton insulin glyburide-metformin glipizide-metformin glimepiride-pioglitazone metformin-rosiglitazone metformin-pioglitazone Process:\n",
    "\n",
    "1. drop 'examide', 'citoglipton','glimepiride-pioglitazone' and 'metformin-rosiglitazone' since single value observed\n",
    "2. index map to 0-3"
   ]
  },
  {
   "cell_type": "code",
   "execution_count": 876,
   "metadata": {},
   "outputs": [],
   "source": [
    "df_encoded.drop(columns=['examide', 'citoglipton','glimepiride-pioglitazone','metformin-rosiglitazone'],axis=1,inplace=True)\n",
    "df_test_encoded.drop(columns=['examide', 'citoglipton','glimepiride-pioglitazone','metformin-rosiglitazone'],axis=1,inplace=True)\n",
    "medics = ['metformin','repaglinide', 'nateglinide', 'chlorpropamide', 'glimepiride',\n",
    "       'acetohexamide', 'glipizide', 'glyburide', 'tolbutamide',\n",
    "       'pioglitazone', 'rosiglitazone', 'acarbose', 'miglitol', 'troglitazone',\n",
    "       'tolazamide', 'insulin', 'glyburide-metformin', 'glipizide-metformin',\n",
    "        'metformin-pioglitazone']\n",
    "for i in medics:\n",
    "    df_encoded.loc[df_encoded[i] == 'Up', [i]] = 3  \n",
    "    df_encoded.loc[df_encoded[i] == 'Down', [i]] = 1 \n",
    "    df_encoded.loc[df_encoded[i] == 'Steady', [i]] = 2 \n",
    "    df_encoded.loc[df_encoded[i] == 'No', [i]] = 0\n",
    "    df_test_encoded.loc[df_test_encoded[i] == 'Up', [i]] = 3  \n",
    "    df_test_encoded.loc[df_test_encoded[i] == 'Down', [i]] = 1 \n",
    "    df_test_encoded.loc[df_test_encoded[i] == 'Steady', [i]] = 2 \n",
    "    df_test_encoded.loc[df_test_encoded[i] == 'No', [i]] = 0 \n",
    " "
   ]
  },
  {
   "cell_type": "markdown",
   "metadata": {},
   "source": [
    "change and diabetesMed Process\n",
    "\n",
    "1. n/a\n",
    "2. binary map to 1/0"
   ]
  },
  {
   "cell_type": "code",
   "execution_count": 877,
   "metadata": {},
   "outputs": [],
   "source": [
    "change_mapping = {'No':0,'Ch':1}\n",
    "diabetesMed_mapping = {'No':0,'Yes':1}\n",
    "\n",
    "df_encoded['change'] = df_encoded['change'].map(change_mapping)\n",
    "df_encoded['diabetesMed'] = df_encoded['diabetesMed'].map(diabetesMed_mapping)\n",
    "\n",
    "df_test_encoded['change'] = df_test_encoded['change'].map(change_mapping)\n",
    "df_test_encoded['diabetesMed'] = df_test_encoded['diabetesMed'].map(diabetesMed_mapping)"
   ]
  },
  {
   "cell_type": "markdown",
   "metadata": {},
   "source": [
    "readmitted Process: \n",
    "1. n/a \n",
    "2. index mapping, No as 0, >30 as 1 and <30 as most significant as 2 and drop readmitted for test"
   ]
  },
  {
   "cell_type": "code",
   "execution_count": 878,
   "metadata": {},
   "outputs": [],
   "source": [
    "readmitted_mapping = {'NO':0,'<30':2,'>30':1}\n",
    "df_encoded['readmitted'] = df_encoded['readmitted'].map(readmitted_mapping)\n",
    "df_test_encoded['readmitted'] = df_test_encoded['readmitted'].map(readmitted_mapping)\n",
    "\n",
    "y_readmitted = df_encoded[\"readmitted\"]\n",
    "y_test_readmitted = df_test_encoded[\"readmitted\"]\n",
    "\n",
    "df_encoded.drop(columns=[\"readmitted\"],axis=1,inplace=True)\n",
    "df_test_encoded.drop(columns=[\"readmitted\"],axis=1,inplace=True)"
   ]
  },
  {
   "cell_type": "markdown",
   "metadata": {},
   "source": [
    "'admission_type_id','discharge_disposition_id','admission_source_id' Process:\n",
    "1. n/a\n",
    "2. target encoding"
   ]
  },
  {
   "cell_type": "code",
   "execution_count": 879,
   "metadata": {},
   "outputs": [],
   "source": [
    "X_train = df_encoded\n",
    "Y_train = y_readmitted\n",
    "\n",
    "features = ['admission_type_id','discharge_disposition_id','admission_source_id']\n",
    "\n",
    "'''for name in names:\n",
    "    category_means = df_encoded.groupby(name)['readmitted'].mean().reset_index()\n",
    "    category_means.columns = [name,name+'_readmitted_Mean']\n",
    "    df_encoded = pd.merge(df_encoded, category_means, on=name, how='left')\n",
    "    df_encoded = df_encoded.drop(name, axis=1)'''\n",
    "\n",
    "\n",
    "for feature in features:\n",
    "    \n",
    "    mean_col_name = f'{feature}_Encoded'\n",
    "    means = X_train.join(Y_train).groupby(feature)['readmitted'].mean()\n",
    "    df_encoded[mean_col_name] = df_encoded[feature].map(means)\n",
    "    df_test_encoded[mean_col_name] = df_test_encoded[feature].map(means)\n",
    "\n",
    "    df_encoded = df_encoded.drop(feature, axis=1)\n",
    "    df_test_encoded = df_test_encoded.drop(feature, axis=1)"
   ]
  },
  {
   "cell_type": "markdown",
   "metadata": {},
   "source": [
    "Payer Code Process:\n",
    "\n",
    "1.2 RandomForestClassifier fill missing\n",
    "1.3 KNN filling missing\n",
    "\n",
    "2. index encoding payer code"
   ]
  },
  {
   "cell_type": "code",
   "execution_count": 880,
   "metadata": {},
   "outputs": [],
   "source": [
    "def payer_code_index_encoding(df):\n",
    "    df.loc[df['payer_code'] == 'MD', ['payer_code']] = 1\n",
    "    df.loc[df['payer_code'] == 'MC', ['payer_code']] = 2\n",
    "    df.loc[df['payer_code'] == 'HM', ['payer_code']] = 3\n",
    "    df.loc[df['payer_code'] == 'UN', ['payer_code']] = 4\n",
    "    df.loc[df['payer_code'] == 'BC', ['payer_code']] = 5\n",
    "    df.loc[df['payer_code'] == 'CP', ['payer_code']] = 6\n",
    "    df.loc[df['payer_code'] == 'SP', ['payer_code']] = 7\n",
    "    df.loc[df['payer_code'] == 'SI', ['payer_code']] = 8\n",
    "    df.loc[df['payer_code'] == 'CM', ['payer_code']] = 9\n",
    "    df.loc[df['payer_code'] == 'DM', ['payer_code']] = 10\n",
    "    df.loc[df['payer_code'] == 'CH', ['payer_code']] = 11\n",
    "    df.loc[df['payer_code'] == 'PO', ['payer_code']] = 12\n",
    "    df.loc[df['payer_code'] == 'WC', ['payer_code']] = 13\n",
    "    df.loc[df['payer_code'] == 'OG', ['payer_code']] = 14\n",
    "    df.loc[df['payer_code'] == 'OT', ['payer_code']] = 15\n",
    "    df.loc[df['payer_code'] == 'MP', ['payer_code']] = 16\n",
    "    df.loc[df['payer_code'] == 'FR', ['payer_code']] = 17\n",
    "    return df"
   ]
  },
  {
   "cell_type": "code",
   "execution_count": 881,
   "metadata": {},
   "outputs": [],
   "source": [
    "df_encoded = payer_code_index_encoding(df_encoded)\n",
    "df_test_encoded = payer_code_index_encoding(df_test_encoded)"
   ]
  },
  {
   "cell_type": "code",
   "execution_count": 882,
   "metadata": {},
   "outputs": [],
   "source": [
    "#separating the columns that contain null values and need to predicted.\n",
    "payer_code_col = ['payer_code']\n",
    "other_cols = list(df_encoded.columns)\n",
    "other_cols.remove(\"payer_code\")\n",
    "other_cols.remove(\"medical_specialty\")"
   ]
  },
  {
   "cell_type": "markdown",
   "metadata": {},
   "source": [
    "Random Forst"
   ]
  },
  {
   "cell_type": "code",
   "execution_count": 883,
   "metadata": {},
   "outputs": [],
   "source": [
    "payer_code_mask = (df_encoded[\"payer_code\"] != \"?\")\n",
    "df_notnans = df_encoded[payer_code_mask]\n",
    "X_train, X_test, y_train, y_test = train_test_split(df_notnans[other_cols], df_notnans[payer_code_col].astype(int),\n",
    "                                                    train_size=0.75,\n",
    "                                                    random_state=1)"
   ]
  },
  {
   "cell_type": "code",
   "execution_count": 884,
   "metadata": {},
   "outputs": [],
   "source": [
    "\n",
    "\n",
    "# rf = RandomForestClassifier()\n",
    "# paramsgrid  = {'n_estimators': [100,200,400],\n",
    "#                'max_depth': [25, 30,50,100],\n",
    "#  'min_samples_leaf': [1, 2, 3],\n",
    "#  'min_samples_split': [2, 5, 10]\n",
    "#  }\n",
    "\n",
    "# rf_random = RandomizedSearchCV(estimator = rf, param_distributions = paramsgrid, n_iter = 5, cv = 3, verbose=2, random_state=1, n_jobs = -1)\n",
    " \n",
    "# rf_random.fit(X_test, y_test.values.ravel())"
   ]
  },
  {
   "cell_type": "code",
   "execution_count": 885,
   "metadata": {},
   "outputs": [],
   "source": [
    "# rf_random.best_params_"
   ]
  },
  {
   "cell_type": "code",
   "execution_count": 886,
   "metadata": {},
   "outputs": [
    {
     "name": "stdout",
     "output_type": "stream",
     "text": [
      "Score is 0.5475635475635475\n"
     ]
    }
   ],
   "source": [
    "rf1 =(RandomForestClassifier(max_depth=100,n_estimators = 400,min_samples_leaf=1,min_samples_split=10))\n",
    "rf1.fit(X_train, y_train.values.ravel())\n",
    "score = rf1.score(X_test, y_test.values.ravel())\n",
    "\n",
    "print(f\"Score is {score}\")"
   ]
  },
  {
   "cell_type": "markdown",
   "metadata": {},
   "source": [
    "KNN filling"
   ]
  },
  {
   "cell_type": "code",
   "execution_count": 887,
   "metadata": {},
   "outputs": [],
   "source": [
    "# train_score = []\n",
    "# test_score = []\n",
    "\n",
    "# for i in range(6,30,2):\n",
    "\n",
    "#     knn = KNeighborsClassifier(i)\n",
    "#     knn.fit(X_train,y_train.values.ravel())\n",
    "    \n",
    "#     train_score.append(knn.score(X_train,y_train.values.ravel()))\n",
    "#     test_score.append(knn.score(X_test,y_test.values.ravel()))"
   ]
  },
  {
   "cell_type": "code",
   "execution_count": 888,
   "metadata": {},
   "outputs": [],
   "source": [
    "# plt.plot(train_score)\n",
    "# plt.plot(test_score)"
   ]
  },
  {
   "cell_type": "code",
   "execution_count": 889,
   "metadata": {},
   "outputs": [],
   "source": [
    "# knn2 =(KNeighborsClassifier(n_neighbors= 21))\n",
    "# # # Fit on the train data\n",
    "# knn2.fit(X_train, y_train.values.ravel())\n",
    "\n",
    "# # # Check the prediction score\n",
    "# score = knn2.score(X_test, y_test.values.ravel())\n",
    "# print(f\"The score on the testset is {score}\")"
   ]
  },
  {
   "cell_type": "markdown",
   "metadata": {},
   "source": [
    "56>53, therefore use randomforst for medical_specialty and payercode"
   ]
  },
  {
   "cell_type": "code",
   "execution_count": 890,
   "metadata": {},
   "outputs": [],
   "source": [
    "payer_code_mask = (df_encoded[\"payer_code\"] == \"?\")\n",
    "df_notnans = df_encoded[payer_code_mask]\n",
    "df_notnans[\"payer_code\"] = rf1.predict(df_notnans[other_cols])\n",
    "df_encoded.loc[payer_code_mask, 'payer_code'] = df_notnans['payer_code']\n"
   ]
  },
  {
   "cell_type": "code",
   "execution_count": null,
   "metadata": {},
   "outputs": [
    {
     "name": "stderr",
     "output_type": "stream",
     "text": [
      "/var/folders/wy/3sxd9blx6bxgs72tmypqqrzr0000gn/T/ipykernel_26725/1322505668.py:3: SettingWithCopyWarning: \n",
      "A value is trying to be set on a copy of a slice from a DataFrame.\n",
      "Try using .loc[row_indexer,col_indexer] = value instead\n",
      "\n",
      "See the caveats in the documentation: https://pandas.pydata.org/pandas-docs/stable/user_guide/indexing.html#returning-a-view-versus-a-copy\n",
      "  df_notnans[\"payer_code\"] = rf1.predict(df_notnans[other_cols])\n"
     ]
    }
   ],
   "source": [
    "test_payer_code_mask = (df_test_encoded[\"payer_code\"] == \"?\")\n",
    "df_notnans = df_test_encoded[test_payer_code_mask]\n",
    "df_notnans[\"payer_code\"] = rf1.predict(df_notnans[other_cols])\n",
    "df_test_encoded.loc[test_payer_code_mask, 'payer_code'] = df_notnans['payer_code']\n"
   ]
  },
  {
   "cell_type": "markdown",
   "metadata": {},
   "source": [
    "medical_specialty Proces:\n",
    "1. index encoding label\n",
    "2. RF and KNN filling"
   ]
  },
  {
   "cell_type": "code",
   "execution_count": null,
   "metadata": {},
   "outputs": [],
   "source": [
    "train_medical_specialty = df_encoded[\"medical_specialty\"].unique()\n",
    "test_medical_specialty = df_test_encoded[\"medical_specialty\"].unique()\n",
    "\n",
    "train_medical_specialty = list(train_medical_specialty)\n",
    "train_medical_specialty.remove(\"?\")\n",
    "train_medical_specialty = set(train_medical_specialty)\n",
    "\n",
    "test_medical_specialty = list(test_medical_specialty)\n",
    "test_medical_specialty.remove(\"?\")\n",
    "test_medical_specialty = set(test_medical_specialty)"
   ]
  },
  {
   "cell_type": "code",
   "execution_count": null,
   "metadata": {},
   "outputs": [
    {
     "name": "stderr",
     "output_type": "stream",
     "text": [
      "/var/folders/wy/3sxd9blx6bxgs72tmypqqrzr0000gn/T/ipykernel_26725/2194747546.py:10: SettingWithCopyWarning: \n",
      "A value is trying to be set on a copy of a slice from a DataFrame.\n",
      "Try using .loc[row_indexer,col_indexer] = value instead\n",
      "\n",
      "See the caveats in the documentation: https://pandas.pydata.org/pandas-docs/stable/user_guide/indexing.html#returning-a-view-versus-a-copy\n",
      "  medical_specialty_test_to_be_encoded['medical_specialty']= medical_specialty_test_to_be_encoded['medical_specialty'].map(lambda x: medical_specialty_dict[x])\n",
      "/var/folders/wy/3sxd9blx6bxgs72tmypqqrzr0000gn/T/ipykernel_26725/2194747546.py:13: SettingWithCopyWarning: \n",
      "A value is trying to be set on a copy of a slice from a DataFrame.\n",
      "Try using .loc[row_indexer,col_indexer] = value instead\n",
      "\n",
      "See the caveats in the documentation: https://pandas.pydata.org/pandas-docs/stable/user_guide/indexing.html#returning-a-view-versus-a-copy\n",
      "  medical_specialty_to_be_encoded['medical_specialty'] = medical_specialty_to_be_encoded['medical_specialty'].map(lambda x: medical_specialty_dict[x])\n"
     ]
    }
   ],
   "source": [
    "medical_specialty_lable = train_medical_specialty.union(test_medical_specialty)\n",
    "\n",
    "medical_specialty_nan_mask = (df_encoded['medical_specialty'] != \"?\")\n",
    "medical_specialty_test_nan_mask = (df_test_encoded['medical_specialty'] != \"?\")\n",
    "\n",
    "medical_specialty_dict = {element: index for index, element in enumerate(medical_specialty_lable)}\n",
    "\n",
    "\n",
    "medical_specialty_test_to_be_encoded = df_test_encoded[medical_specialty_test_nan_mask]\n",
    "medical_specialty_test_to_be_encoded['medical_specialty']= medical_specialty_test_to_be_encoded['medical_specialty'].map(lambda x: medical_specialty_dict[x])\n",
    "\n",
    "medical_specialty_to_be_encoded = df_encoded[medical_specialty_nan_mask]\n",
    "medical_specialty_to_be_encoded['medical_specialty'] = medical_specialty_to_be_encoded['medical_specialty'].map(lambda x: medical_specialty_dict[x])\n"
   ]
  },
  {
   "cell_type": "code",
   "execution_count": null,
   "metadata": {},
   "outputs": [],
   "source": [
    "df_encoded['medical_specialty'] = medical_specialty_to_be_encoded['medical_specialty']\n",
    "df_test_encoded['medical_specialty'] = medical_specialty_test_to_be_encoded['medical_specialty']\n"
   ]
  },
  {
   "cell_type": "markdown",
   "metadata": {},
   "source": [
    "RF for medical_specialty"
   ]
  },
  {
   "cell_type": "code",
   "execution_count": null,
   "metadata": {},
   "outputs": [
    {
     "name": "stdout",
     "output_type": "stream",
     "text": [
      "Fitting 3 folds for each of 5 candidates, totalling 15 fits\n"
     ]
    },
    {
     "name": "stderr",
     "output_type": "stream",
     "text": [
      "/Users/szy/Downloads/yes/envs/COMP0169/lib/python3.10/site-packages/sklearn/model_selection/_split.py:737: UserWarning: The least populated class in y has only 1 members, which is less than n_splits=3.\n",
      "  warnings.warn(\n"
     ]
    },
    {
     "name": "stderr",
     "output_type": "stream",
     "text": [
      "520676.42s - pydevd: Sending message related to process being replaced timed-out after 5 seconds\n",
      "520676.42s - pydevd: Sending message related to process being replaced timed-out after 5 seconds\n",
      "520676.42s - pydevd: Sending message related to process being replaced timed-out after 5 seconds\n",
      "520676.45s - pydevd: Sending message related to process being replaced timed-out after 5 seconds\n",
      "520676.47s - pydevd: Sending message related to process being replaced timed-out after 5 seconds\n",
      "520676.50s - pydevd: Sending message related to process being replaced timed-out after 5 seconds\n",
      "520676.52s - pydevd: Sending message related to process being replaced timed-out after 5 seconds\n",
      "520676.53s - pydevd: Sending message related to process being replaced timed-out after 5 seconds\n"
     ]
    },
    {
     "name": "stdout",
     "output_type": "stream",
     "text": [
      "[CV] END max_depth=100, min_samples_leaf=2, min_samples_split=2, n_estimators=100; total time=   2.2s\n",
      "[CV] END max_depth=100, min_samples_leaf=2, min_samples_split=2, n_estimators=100; total time=   2.2s\n",
      "[CV] END max_depth=100, min_samples_leaf=2, min_samples_split=2, n_estimators=100; total time=   2.4s\n",
      "[CV] END max_depth=100, min_samples_leaf=3, min_samples_split=2, n_estimators=200; total time=   4.0s\n",
      "[CV] END max_depth=100, min_samples_leaf=3, min_samples_split=2, n_estimators=200; total time=   4.0s\n",
      "[CV] END max_depth=100, min_samples_leaf=3, min_samples_split=2, n_estimators=200; total time=   4.0s\n",
      "[CV] END max_depth=100, min_samples_leaf=2, min_samples_split=2, n_estimators=400; total time=   8.7s\n",
      "[CV] END max_depth=100, min_samples_leaf=2, min_samples_split=2, n_estimators=400; total time=   8.8s\n",
      "[CV] END max_depth=100, min_samples_leaf=1, min_samples_split=10, n_estimators=400; total time=   9.0s\n",
      "[CV] END max_depth=100, min_samples_leaf=1, min_samples_split=10, n_estimators=400; total time=   9.1s\n",
      "[CV] END max_depth=100, min_samples_leaf=2, min_samples_split=2, n_estimators=400; total time=   9.3s\n",
      "[CV] END max_depth=100, min_samples_leaf=3, min_samples_split=2, n_estimators=400; total time=   7.9s\n",
      "[CV] END max_depth=100, min_samples_leaf=3, min_samples_split=2, n_estimators=400; total time=   7.9s\n",
      "[CV] END max_depth=100, min_samples_leaf=1, min_samples_split=10, n_estimators=400; total time=   8.6s\n",
      "[CV] END max_depth=100, min_samples_leaf=3, min_samples_split=2, n_estimators=400; total time=   5.2s\n"
     ]
    },
    {
     "data": {
      "text/html": [
       "<style>#sk-container-id-31 {color: black;}#sk-container-id-31 pre{padding: 0;}#sk-container-id-31 div.sk-toggleable {background-color: white;}#sk-container-id-31 label.sk-toggleable__label {cursor: pointer;display: block;width: 100%;margin-bottom: 0;padding: 0.3em;box-sizing: border-box;text-align: center;}#sk-container-id-31 label.sk-toggleable__label-arrow:before {content: \"▸\";float: left;margin-right: 0.25em;color: #696969;}#sk-container-id-31 label.sk-toggleable__label-arrow:hover:before {color: black;}#sk-container-id-31 div.sk-estimator:hover label.sk-toggleable__label-arrow:before {color: black;}#sk-container-id-31 div.sk-toggleable__content {max-height: 0;max-width: 0;overflow: hidden;text-align: left;background-color: #f0f8ff;}#sk-container-id-31 div.sk-toggleable__content pre {margin: 0.2em;color: black;border-radius: 0.25em;background-color: #f0f8ff;}#sk-container-id-31 input.sk-toggleable__control:checked~div.sk-toggleable__content {max-height: 200px;max-width: 100%;overflow: auto;}#sk-container-id-31 input.sk-toggleable__control:checked~label.sk-toggleable__label-arrow:before {content: \"▾\";}#sk-container-id-31 div.sk-estimator input.sk-toggleable__control:checked~label.sk-toggleable__label {background-color: #d4ebff;}#sk-container-id-31 div.sk-label input.sk-toggleable__control:checked~label.sk-toggleable__label {background-color: #d4ebff;}#sk-container-id-31 input.sk-hidden--visually {border: 0;clip: rect(1px 1px 1px 1px);clip: rect(1px, 1px, 1px, 1px);height: 1px;margin: -1px;overflow: hidden;padding: 0;position: absolute;width: 1px;}#sk-container-id-31 div.sk-estimator {font-family: monospace;background-color: #f0f8ff;border: 1px dotted black;border-radius: 0.25em;box-sizing: border-box;margin-bottom: 0.5em;}#sk-container-id-31 div.sk-estimator:hover {background-color: #d4ebff;}#sk-container-id-31 div.sk-parallel-item::after {content: \"\";width: 100%;border-bottom: 1px solid gray;flex-grow: 1;}#sk-container-id-31 div.sk-label:hover label.sk-toggleable__label {background-color: #d4ebff;}#sk-container-id-31 div.sk-serial::before {content: \"\";position: absolute;border-left: 1px solid gray;box-sizing: border-box;top: 0;bottom: 0;left: 50%;z-index: 0;}#sk-container-id-31 div.sk-serial {display: flex;flex-direction: column;align-items: center;background-color: white;padding-right: 0.2em;padding-left: 0.2em;position: relative;}#sk-container-id-31 div.sk-item {position: relative;z-index: 1;}#sk-container-id-31 div.sk-parallel {display: flex;align-items: stretch;justify-content: center;background-color: white;position: relative;}#sk-container-id-31 div.sk-item::before, #sk-container-id-31 div.sk-parallel-item::before {content: \"\";position: absolute;border-left: 1px solid gray;box-sizing: border-box;top: 0;bottom: 0;left: 50%;z-index: -1;}#sk-container-id-31 div.sk-parallel-item {display: flex;flex-direction: column;z-index: 1;position: relative;background-color: white;}#sk-container-id-31 div.sk-parallel-item:first-child::after {align-self: flex-end;width: 50%;}#sk-container-id-31 div.sk-parallel-item:last-child::after {align-self: flex-start;width: 50%;}#sk-container-id-31 div.sk-parallel-item:only-child::after {width: 0;}#sk-container-id-31 div.sk-dashed-wrapped {border: 1px dashed gray;margin: 0 0.4em 0.5em 0.4em;box-sizing: border-box;padding-bottom: 0.4em;background-color: white;}#sk-container-id-31 div.sk-label label {font-family: monospace;font-weight: bold;display: inline-block;line-height: 1.2em;}#sk-container-id-31 div.sk-label-container {text-align: center;}#sk-container-id-31 div.sk-container {/* jupyter's `normalize.less` sets `[hidden] { display: none; }` but bootstrap.min.css set `[hidden] { display: none !important; }` so we also need the `!important` here to be able to override the default hidden behavior on the sphinx rendered scikit-learn.org. See: https://github.com/scikit-learn/scikit-learn/issues/21755 */display: inline-block !important;position: relative;}#sk-container-id-31 div.sk-text-repr-fallback {display: none;}</style><div id=\"sk-container-id-31\" class=\"sk-top-container\"><div class=\"sk-text-repr-fallback\"><pre>RandomizedSearchCV(cv=3, estimator=RandomForestClassifier(), n_iter=5,\n",
       "                   n_jobs=-1,\n",
       "                   param_distributions={&#x27;max_depth&#x27;: [25, 30, 50, 100],\n",
       "                                        &#x27;min_samples_leaf&#x27;: [1, 2, 3],\n",
       "                                        &#x27;min_samples_split&#x27;: [2, 5, 10],\n",
       "                                        &#x27;n_estimators&#x27;: [100, 200, 400]},\n",
       "                   random_state=1, verbose=2)</pre><b>In a Jupyter environment, please rerun this cell to show the HTML representation or trust the notebook. <br />On GitHub, the HTML representation is unable to render, please try loading this page with nbviewer.org.</b></div><div class=\"sk-container\" hidden><div class=\"sk-item sk-dashed-wrapped\"><div class=\"sk-label-container\"><div class=\"sk-label sk-toggleable\"><input class=\"sk-toggleable__control sk-hidden--visually\" id=\"sk-estimator-id-43\" type=\"checkbox\" ><label for=\"sk-estimator-id-43\" class=\"sk-toggleable__label sk-toggleable__label-arrow\">RandomizedSearchCV</label><div class=\"sk-toggleable__content\"><pre>RandomizedSearchCV(cv=3, estimator=RandomForestClassifier(), n_iter=5,\n",
       "                   n_jobs=-1,\n",
       "                   param_distributions={&#x27;max_depth&#x27;: [25, 30, 50, 100],\n",
       "                                        &#x27;min_samples_leaf&#x27;: [1, 2, 3],\n",
       "                                        &#x27;min_samples_split&#x27;: [2, 5, 10],\n",
       "                                        &#x27;n_estimators&#x27;: [100, 200, 400]},\n",
       "                   random_state=1, verbose=2)</pre></div></div></div><div class=\"sk-parallel\"><div class=\"sk-parallel-item\"><div class=\"sk-item\"><div class=\"sk-label-container\"><div class=\"sk-label sk-toggleable\"><input class=\"sk-toggleable__control sk-hidden--visually\" id=\"sk-estimator-id-44\" type=\"checkbox\" ><label for=\"sk-estimator-id-44\" class=\"sk-toggleable__label sk-toggleable__label-arrow\">estimator: RandomForestClassifier</label><div class=\"sk-toggleable__content\"><pre>RandomForestClassifier()</pre></div></div></div><div class=\"sk-serial\"><div class=\"sk-item\"><div class=\"sk-estimator sk-toggleable\"><input class=\"sk-toggleable__control sk-hidden--visually\" id=\"sk-estimator-id-45\" type=\"checkbox\" ><label for=\"sk-estimator-id-45\" class=\"sk-toggleable__label sk-toggleable__label-arrow\">RandomForestClassifier</label><div class=\"sk-toggleable__content\"><pre>RandomForestClassifier()</pre></div></div></div></div></div></div></div></div></div></div>"
      ],
      "text/plain": [
       "RandomizedSearchCV(cv=3, estimator=RandomForestClassifier(), n_iter=5,\n",
       "                   n_jobs=-1,\n",
       "                   param_distributions={'max_depth': [25, 30, 50, 100],\n",
       "                                        'min_samples_leaf': [1, 2, 3],\n",
       "                                        'min_samples_split': [2, 5, 10],\n",
       "                                        'n_estimators': [100, 200, 400]},\n",
       "                   random_state=1, verbose=2)"
      ]
     },
     "execution_count": 845,
     "metadata": {},
     "output_type": "execute_result"
    }
   ],
   "source": [
    "medical_specialty_mask = df_encoded[\"medical_specialty\"].notnull()\n",
    "df_notnans = df_encoded[medical_specialty_mask]\n",
    "X_train, X_test, y_train, y_test = train_test_split(df_notnans[other_cols], df_notnans[\"medical_specialty\"].astype(int),\n",
    "                                                    train_size=0.75,\n",
    "                                                    random_state=1)\n",
    "\n",
    "\n",
    "rf = RandomForestClassifier()\n",
    "paramsgrid  = {'n_estimators': [100,200,400],\n",
    "               'max_depth': [25, 30,50,100],\n",
    " 'min_samples_leaf': [1, 2, 3],\n",
    " 'min_samples_split': [2, 5, 10]\n",
    " }\n",
    "\n",
    "rf_random = RandomizedSearchCV(estimator = rf, param_distributions = paramsgrid, n_iter = 5, cv = 3, verbose=2, random_state=1, n_jobs = -1)\n",
    " \n",
    "rf_random.fit(X_test, y_test.values.ravel())"
   ]
  },
  {
   "cell_type": "code",
   "execution_count": null,
   "metadata": {},
   "outputs": [
    {
     "data": {
      "text/plain": [
       "{'n_estimators': 400,\n",
       " 'min_samples_split': 10,\n",
       " 'min_samples_leaf': 1,\n",
       " 'max_depth': 100}"
      ]
     },
     "execution_count": 846,
     "metadata": {},
     "output_type": "execute_result"
    }
   ],
   "source": [
    "rf_random.best_params_"
   ]
  },
  {
   "cell_type": "code",
   "execution_count": null,
   "metadata": {},
   "outputs": [
    {
     "name": "stdout",
     "output_type": "stream",
     "text": [
      "Score is 0.5369945684972842\n"
     ]
    }
   ],
   "source": [
    "rf1 =(RandomForestClassifier(max_depth=100,n_estimators = 400,min_samples_leaf=2,min_samples_split=2))\n",
    "rf1.fit(X_train, y_train.values.ravel())\n",
    "score = rf1.score(X_test, y_test.values.ravel())\n",
    "\n",
    "print(f\"Score is {score}\")"
   ]
  },
  {
   "cell_type": "markdown",
   "metadata": {},
   "source": [
    "KNN for medical_specialty"
   ]
  },
  {
   "cell_type": "code",
   "execution_count": null,
   "metadata": {},
   "outputs": [],
   "source": [
    "# train_score = []\n",
    "# test_score = []\n",
    "\n",
    "# for i in range(5,100,2):\n",
    "\n",
    "#     knn = KNeighborsClassifier(i)\n",
    "#     knn.fit(X_train,y_train.values.ravel())\n",
    "#     trianscore = knn.score(X_train,y_train.values.ravel())\n",
    "#     testscore = knn.score(X_test,y_test.values.ravel())\n",
    "#     train_score.append(trianscore)\n",
    "#     test_score.append(testscore)\n",
    "#     print(f\"train score is: {trianscore}, test score is: {testscore}\")"
   ]
  },
  {
   "cell_type": "code",
   "execution_count": null,
   "metadata": {},
   "outputs": [],
   "source": [
    "# plt.plot(train_score)\n",
    "# plt.plot(test_score)"
   ]
  },
  {
   "cell_type": "code",
   "execution_count": null,
   "metadata": {},
   "outputs": [],
   "source": [
    "# knn2 =(KNeighborsClassifier(n_neighbors= 25))\n",
    "# # # Fit on the train data\n",
    "# knn2.fit(X_train, y_train.values.ravel())\n",
    "\n",
    "# # # Check the prediction score\n",
    "# score = knn2.score(X_test, y_test.values.ravel())\n",
    "# print(f\"The score on the testset is {score}\")"
   ]
  },
  {
   "cell_type": "markdown",
   "metadata": {},
   "source": [
    "53>35, therefore use RF"
   ]
  },
  {
   "cell_type": "code",
   "execution_count": null,
   "metadata": {},
   "outputs": [
    {
     "name": "stderr",
     "output_type": "stream",
     "text": [
      "/var/folders/wy/3sxd9blx6bxgs72tmypqqrzr0000gn/T/ipykernel_26725/2029475354.py:3: SettingWithCopyWarning: \n",
      "A value is trying to be set on a copy of a slice from a DataFrame.\n",
      "Try using .loc[row_indexer,col_indexer] = value instead\n",
      "\n",
      "See the caveats in the documentation: https://pandas.pydata.org/pandas-docs/stable/user_guide/indexing.html#returning-a-view-versus-a-copy\n",
      "  df_notnans[\"medical_specialty\"] = rf1.predict(df_notnans[other_cols])\n"
     ]
    }
   ],
   "source": [
    "medical_specialty_code_mask = df_encoded[\"medical_specialty\"].isna()\n",
    "df_notnans = df_encoded[medical_specialty_code_mask]\n",
    "df_notnans[\"medical_specialty\"] = rf1.predict(df_notnans[other_cols])\n",
    "df_encoded.loc[medical_specialty_code_mask, 'medical_specialty'] = df_notnans['medical_specialty']\n"
   ]
  },
  {
   "cell_type": "code",
   "execution_count": null,
   "metadata": {},
   "outputs": [
    {
     "data": {
      "text/plain": [
       "admission_source_id_Encoded\n",
       "0.521956    3046\n",
       "0.469694    1163\n",
       "0.528130     244\n",
       "0.377645     185\n",
       "0.456774     103\n",
       "0.328400      46\n",
       "0.442231      37\n",
       "0.780142      14\n",
       "0.561538      11\n",
       "0.312500       1\n",
       "0.250000       1\n",
       "Name: count, dtype: int64"
      ]
     },
     "execution_count": 857,
     "metadata": {},
     "output_type": "execute_result"
    }
   ],
   "source": [
    "df_notnans['admission_source_id_Encoded'].value_counts()"
   ]
  },
  {
   "cell_type": "code",
   "execution_count": null,
   "metadata": {},
   "outputs": [
    {
     "ename": "ValueError",
     "evalue": "Input X contains NaN.\nRandomForestClassifier does not accept missing values encoded as NaN natively. For supervised learning, you might want to consider sklearn.ensemble.HistGradientBoostingClassifier and Regressor which accept missing values encoded as NaNs natively. Alternatively, it is possible to preprocess the data, for instance by using an imputer transformer in a pipeline or drop samples with missing values. See https://scikit-learn.org/stable/modules/impute.html You can find a list of all estimators that handle NaN values at the following page: https://scikit-learn.org/stable/modules/impute.html#estimators-that-handle-nan-values",
     "output_type": "error",
     "traceback": [
      "\u001b[0;31m---------------------------------------------------------------------------\u001b[0m",
      "\u001b[0;31mValueError\u001b[0m                                Traceback (most recent call last)",
      "Cell \u001b[0;32mIn[852], line 3\u001b[0m\n\u001b[1;32m      1\u001b[0m medical_specialty_code_mask \u001b[38;5;241m=\u001b[39m df_test_encoded[\u001b[38;5;124m\"\u001b[39m\u001b[38;5;124mmedical_specialty\u001b[39m\u001b[38;5;124m\"\u001b[39m]\u001b[38;5;241m.\u001b[39misna()\n\u001b[1;32m      2\u001b[0m df_notnans \u001b[38;5;241m=\u001b[39m df_test_encoded[medical_specialty_code_mask]\n\u001b[0;32m----> 3\u001b[0m df_notnans[\u001b[38;5;124m\"\u001b[39m\u001b[38;5;124mmedical_specialty\u001b[39m\u001b[38;5;124m\"\u001b[39m] \u001b[38;5;241m=\u001b[39m \u001b[43mrf1\u001b[49m\u001b[38;5;241;43m.\u001b[39;49m\u001b[43mpredict\u001b[49m\u001b[43m(\u001b[49m\u001b[43mdf_notnans\u001b[49m\u001b[43m[\u001b[49m\u001b[43mother_cols\u001b[49m\u001b[43m]\u001b[49m\u001b[43m)\u001b[49m\n\u001b[1;32m      4\u001b[0m df_test_encoded\u001b[38;5;241m.\u001b[39mloc[medical_specialty_code_mask, \u001b[38;5;124m'\u001b[39m\u001b[38;5;124mmedical_specialty\u001b[39m\u001b[38;5;124m'\u001b[39m] \u001b[38;5;241m=\u001b[39m df_notnans[\u001b[38;5;124m'\u001b[39m\u001b[38;5;124mmedical_specialty\u001b[39m\u001b[38;5;124m'\u001b[39m]\n",
      "File \u001b[0;32m~/Downloads/yes/envs/COMP0169/lib/python3.10/site-packages/sklearn/ensemble/_forest.py:823\u001b[0m, in \u001b[0;36mForestClassifier.predict\u001b[0;34m(self, X)\u001b[0m\n\u001b[1;32m    802\u001b[0m \u001b[38;5;28;01mdef\u001b[39;00m \u001b[38;5;21mpredict\u001b[39m(\u001b[38;5;28mself\u001b[39m, X):\n\u001b[1;32m    803\u001b[0m \u001b[38;5;250m    \u001b[39m\u001b[38;5;124;03m\"\"\"\u001b[39;00m\n\u001b[1;32m    804\u001b[0m \u001b[38;5;124;03m    Predict class for X.\u001b[39;00m\n\u001b[1;32m    805\u001b[0m \n\u001b[0;32m   (...)\u001b[0m\n\u001b[1;32m    821\u001b[0m \u001b[38;5;124;03m        The predicted classes.\u001b[39;00m\n\u001b[1;32m    822\u001b[0m \u001b[38;5;124;03m    \"\"\"\u001b[39;00m\n\u001b[0;32m--> 823\u001b[0m     proba \u001b[38;5;241m=\u001b[39m \u001b[38;5;28;43mself\u001b[39;49m\u001b[38;5;241;43m.\u001b[39;49m\u001b[43mpredict_proba\u001b[49m\u001b[43m(\u001b[49m\u001b[43mX\u001b[49m\u001b[43m)\u001b[49m\n\u001b[1;32m    825\u001b[0m     \u001b[38;5;28;01mif\u001b[39;00m \u001b[38;5;28mself\u001b[39m\u001b[38;5;241m.\u001b[39mn_outputs_ \u001b[38;5;241m==\u001b[39m \u001b[38;5;241m1\u001b[39m:\n\u001b[1;32m    826\u001b[0m         \u001b[38;5;28;01mreturn\u001b[39;00m \u001b[38;5;28mself\u001b[39m\u001b[38;5;241m.\u001b[39mclasses_\u001b[38;5;241m.\u001b[39mtake(np\u001b[38;5;241m.\u001b[39margmax(proba, axis\u001b[38;5;241m=\u001b[39m\u001b[38;5;241m1\u001b[39m), axis\u001b[38;5;241m=\u001b[39m\u001b[38;5;241m0\u001b[39m)\n",
      "File \u001b[0;32m~/Downloads/yes/envs/COMP0169/lib/python3.10/site-packages/sklearn/ensemble/_forest.py:865\u001b[0m, in \u001b[0;36mForestClassifier.predict_proba\u001b[0;34m(self, X)\u001b[0m\n\u001b[1;32m    863\u001b[0m check_is_fitted(\u001b[38;5;28mself\u001b[39m)\n\u001b[1;32m    864\u001b[0m \u001b[38;5;66;03m# Check data\u001b[39;00m\n\u001b[0;32m--> 865\u001b[0m X \u001b[38;5;241m=\u001b[39m \u001b[38;5;28;43mself\u001b[39;49m\u001b[38;5;241;43m.\u001b[39;49m\u001b[43m_validate_X_predict\u001b[49m\u001b[43m(\u001b[49m\u001b[43mX\u001b[49m\u001b[43m)\u001b[49m\n\u001b[1;32m    867\u001b[0m \u001b[38;5;66;03m# Assign chunk of trees to jobs\u001b[39;00m\n\u001b[1;32m    868\u001b[0m n_jobs, _, _ \u001b[38;5;241m=\u001b[39m _partition_estimators(\u001b[38;5;28mself\u001b[39m\u001b[38;5;241m.\u001b[39mn_estimators, \u001b[38;5;28mself\u001b[39m\u001b[38;5;241m.\u001b[39mn_jobs)\n",
      "File \u001b[0;32m~/Downloads/yes/envs/COMP0169/lib/python3.10/site-packages/sklearn/ensemble/_forest.py:599\u001b[0m, in \u001b[0;36mBaseForest._validate_X_predict\u001b[0;34m(self, X)\u001b[0m\n\u001b[1;32m    596\u001b[0m \u001b[38;5;250m\u001b[39m\u001b[38;5;124;03m\"\"\"\u001b[39;00m\n\u001b[1;32m    597\u001b[0m \u001b[38;5;124;03mValidate X whenever one tries to predict, apply, predict_proba.\"\"\"\u001b[39;00m\n\u001b[1;32m    598\u001b[0m check_is_fitted(\u001b[38;5;28mself\u001b[39m)\n\u001b[0;32m--> 599\u001b[0m X \u001b[38;5;241m=\u001b[39m \u001b[38;5;28;43mself\u001b[39;49m\u001b[38;5;241;43m.\u001b[39;49m\u001b[43m_validate_data\u001b[49m\u001b[43m(\u001b[49m\u001b[43mX\u001b[49m\u001b[43m,\u001b[49m\u001b[43m \u001b[49m\u001b[43mdtype\u001b[49m\u001b[38;5;241;43m=\u001b[39;49m\u001b[43mDTYPE\u001b[49m\u001b[43m,\u001b[49m\u001b[43m \u001b[49m\u001b[43maccept_sparse\u001b[49m\u001b[38;5;241;43m=\u001b[39;49m\u001b[38;5;124;43m\"\u001b[39;49m\u001b[38;5;124;43mcsr\u001b[39;49m\u001b[38;5;124;43m\"\u001b[39;49m\u001b[43m,\u001b[49m\u001b[43m \u001b[49m\u001b[43mreset\u001b[49m\u001b[38;5;241;43m=\u001b[39;49m\u001b[38;5;28;43;01mFalse\u001b[39;49;00m\u001b[43m)\u001b[49m\n\u001b[1;32m    600\u001b[0m \u001b[38;5;28;01mif\u001b[39;00m issparse(X) \u001b[38;5;129;01mand\u001b[39;00m (X\u001b[38;5;241m.\u001b[39mindices\u001b[38;5;241m.\u001b[39mdtype \u001b[38;5;241m!=\u001b[39m np\u001b[38;5;241m.\u001b[39mintc \u001b[38;5;129;01mor\u001b[39;00m X\u001b[38;5;241m.\u001b[39mindptr\u001b[38;5;241m.\u001b[39mdtype \u001b[38;5;241m!=\u001b[39m np\u001b[38;5;241m.\u001b[39mintc):\n\u001b[1;32m    601\u001b[0m     \u001b[38;5;28;01mraise\u001b[39;00m \u001b[38;5;167;01mValueError\u001b[39;00m(\u001b[38;5;124m\"\u001b[39m\u001b[38;5;124mNo support for np.int64 index based sparse matrices\u001b[39m\u001b[38;5;124m\"\u001b[39m)\n",
      "File \u001b[0;32m~/Downloads/yes/envs/COMP0169/lib/python3.10/site-packages/sklearn/base.py:605\u001b[0m, in \u001b[0;36mBaseEstimator._validate_data\u001b[0;34m(self, X, y, reset, validate_separately, cast_to_ndarray, **check_params)\u001b[0m\n\u001b[1;32m    603\u001b[0m         out \u001b[38;5;241m=\u001b[39m X, y\n\u001b[1;32m    604\u001b[0m \u001b[38;5;28;01melif\u001b[39;00m \u001b[38;5;129;01mnot\u001b[39;00m no_val_X \u001b[38;5;129;01mand\u001b[39;00m no_val_y:\n\u001b[0;32m--> 605\u001b[0m     out \u001b[38;5;241m=\u001b[39m \u001b[43mcheck_array\u001b[49m\u001b[43m(\u001b[49m\u001b[43mX\u001b[49m\u001b[43m,\u001b[49m\u001b[43m \u001b[49m\u001b[43minput_name\u001b[49m\u001b[38;5;241;43m=\u001b[39;49m\u001b[38;5;124;43m\"\u001b[39;49m\u001b[38;5;124;43mX\u001b[39;49m\u001b[38;5;124;43m\"\u001b[39;49m\u001b[43m,\u001b[49m\u001b[43m \u001b[49m\u001b[38;5;241;43m*\u001b[39;49m\u001b[38;5;241;43m*\u001b[39;49m\u001b[43mcheck_params\u001b[49m\u001b[43m)\u001b[49m\n\u001b[1;32m    606\u001b[0m \u001b[38;5;28;01melif\u001b[39;00m no_val_X \u001b[38;5;129;01mand\u001b[39;00m \u001b[38;5;129;01mnot\u001b[39;00m no_val_y:\n\u001b[1;32m    607\u001b[0m     out \u001b[38;5;241m=\u001b[39m _check_y(y, \u001b[38;5;241m*\u001b[39m\u001b[38;5;241m*\u001b[39mcheck_params)\n",
      "File \u001b[0;32m~/Downloads/yes/envs/COMP0169/lib/python3.10/site-packages/sklearn/utils/validation.py:957\u001b[0m, in \u001b[0;36mcheck_array\u001b[0;34m(array, accept_sparse, accept_large_sparse, dtype, order, copy, force_all_finite, ensure_2d, allow_nd, ensure_min_samples, ensure_min_features, estimator, input_name)\u001b[0m\n\u001b[1;32m    951\u001b[0m         \u001b[38;5;28;01mraise\u001b[39;00m \u001b[38;5;167;01mValueError\u001b[39;00m(\n\u001b[1;32m    952\u001b[0m             \u001b[38;5;124m\"\u001b[39m\u001b[38;5;124mFound array with dim \u001b[39m\u001b[38;5;132;01m%d\u001b[39;00m\u001b[38;5;124m. \u001b[39m\u001b[38;5;132;01m%s\u001b[39;00m\u001b[38;5;124m expected <= 2.\u001b[39m\u001b[38;5;124m\"\u001b[39m\n\u001b[1;32m    953\u001b[0m             \u001b[38;5;241m%\u001b[39m (array\u001b[38;5;241m.\u001b[39mndim, estimator_name)\n\u001b[1;32m    954\u001b[0m         )\n\u001b[1;32m    956\u001b[0m     \u001b[38;5;28;01mif\u001b[39;00m force_all_finite:\n\u001b[0;32m--> 957\u001b[0m         \u001b[43m_assert_all_finite\u001b[49m\u001b[43m(\u001b[49m\n\u001b[1;32m    958\u001b[0m \u001b[43m            \u001b[49m\u001b[43marray\u001b[49m\u001b[43m,\u001b[49m\n\u001b[1;32m    959\u001b[0m \u001b[43m            \u001b[49m\u001b[43minput_name\u001b[49m\u001b[38;5;241;43m=\u001b[39;49m\u001b[43minput_name\u001b[49m\u001b[43m,\u001b[49m\n\u001b[1;32m    960\u001b[0m \u001b[43m            \u001b[49m\u001b[43mestimator_name\u001b[49m\u001b[38;5;241;43m=\u001b[39;49m\u001b[43mestimator_name\u001b[49m\u001b[43m,\u001b[49m\n\u001b[1;32m    961\u001b[0m \u001b[43m            \u001b[49m\u001b[43mallow_nan\u001b[49m\u001b[38;5;241;43m=\u001b[39;49m\u001b[43mforce_all_finite\u001b[49m\u001b[43m \u001b[49m\u001b[38;5;241;43m==\u001b[39;49m\u001b[43m \u001b[49m\u001b[38;5;124;43m\"\u001b[39;49m\u001b[38;5;124;43mallow-nan\u001b[39;49m\u001b[38;5;124;43m\"\u001b[39;49m\u001b[43m,\u001b[49m\n\u001b[1;32m    962\u001b[0m \u001b[43m        \u001b[49m\u001b[43m)\u001b[49m\n\u001b[1;32m    964\u001b[0m \u001b[38;5;28;01mif\u001b[39;00m ensure_min_samples \u001b[38;5;241m>\u001b[39m \u001b[38;5;241m0\u001b[39m:\n\u001b[1;32m    965\u001b[0m     n_samples \u001b[38;5;241m=\u001b[39m _num_samples(array)\n",
      "File \u001b[0;32m~/Downloads/yes/envs/COMP0169/lib/python3.10/site-packages/sklearn/utils/validation.py:122\u001b[0m, in \u001b[0;36m_assert_all_finite\u001b[0;34m(X, allow_nan, msg_dtype, estimator_name, input_name)\u001b[0m\n\u001b[1;32m    119\u001b[0m \u001b[38;5;28;01mif\u001b[39;00m first_pass_isfinite:\n\u001b[1;32m    120\u001b[0m     \u001b[38;5;28;01mreturn\u001b[39;00m\n\u001b[0;32m--> 122\u001b[0m \u001b[43m_assert_all_finite_element_wise\u001b[49m\u001b[43m(\u001b[49m\n\u001b[1;32m    123\u001b[0m \u001b[43m    \u001b[49m\u001b[43mX\u001b[49m\u001b[43m,\u001b[49m\n\u001b[1;32m    124\u001b[0m \u001b[43m    \u001b[49m\u001b[43mxp\u001b[49m\u001b[38;5;241;43m=\u001b[39;49m\u001b[43mxp\u001b[49m\u001b[43m,\u001b[49m\n\u001b[1;32m    125\u001b[0m \u001b[43m    \u001b[49m\u001b[43mallow_nan\u001b[49m\u001b[38;5;241;43m=\u001b[39;49m\u001b[43mallow_nan\u001b[49m\u001b[43m,\u001b[49m\n\u001b[1;32m    126\u001b[0m \u001b[43m    \u001b[49m\u001b[43mmsg_dtype\u001b[49m\u001b[38;5;241;43m=\u001b[39;49m\u001b[43mmsg_dtype\u001b[49m\u001b[43m,\u001b[49m\n\u001b[1;32m    127\u001b[0m \u001b[43m    \u001b[49m\u001b[43mestimator_name\u001b[49m\u001b[38;5;241;43m=\u001b[39;49m\u001b[43mestimator_name\u001b[49m\u001b[43m,\u001b[49m\n\u001b[1;32m    128\u001b[0m \u001b[43m    \u001b[49m\u001b[43minput_name\u001b[49m\u001b[38;5;241;43m=\u001b[39;49m\u001b[43minput_name\u001b[49m\u001b[43m,\u001b[49m\n\u001b[1;32m    129\u001b[0m \u001b[43m\u001b[49m\u001b[43m)\u001b[49m\n",
      "File \u001b[0;32m~/Downloads/yes/envs/COMP0169/lib/python3.10/site-packages/sklearn/utils/validation.py:171\u001b[0m, in \u001b[0;36m_assert_all_finite_element_wise\u001b[0;34m(X, xp, allow_nan, msg_dtype, estimator_name, input_name)\u001b[0m\n\u001b[1;32m    154\u001b[0m \u001b[38;5;28;01mif\u001b[39;00m estimator_name \u001b[38;5;129;01mand\u001b[39;00m input_name \u001b[38;5;241m==\u001b[39m \u001b[38;5;124m\"\u001b[39m\u001b[38;5;124mX\u001b[39m\u001b[38;5;124m\"\u001b[39m \u001b[38;5;129;01mand\u001b[39;00m has_nan_error:\n\u001b[1;32m    155\u001b[0m     \u001b[38;5;66;03m# Improve the error message on how to handle missing values in\u001b[39;00m\n\u001b[1;32m    156\u001b[0m     \u001b[38;5;66;03m# scikit-learn.\u001b[39;00m\n\u001b[1;32m    157\u001b[0m     msg_err \u001b[38;5;241m+\u001b[39m\u001b[38;5;241m=\u001b[39m (\n\u001b[1;32m    158\u001b[0m         \u001b[38;5;124mf\u001b[39m\u001b[38;5;124m\"\u001b[39m\u001b[38;5;130;01m\\n\u001b[39;00m\u001b[38;5;132;01m{\u001b[39;00mestimator_name\u001b[38;5;132;01m}\u001b[39;00m\u001b[38;5;124m does not accept missing values\u001b[39m\u001b[38;5;124m\"\u001b[39m\n\u001b[1;32m    159\u001b[0m         \u001b[38;5;124m\"\u001b[39m\u001b[38;5;124m encoded as NaN natively. For supervised learning, you might want\u001b[39m\u001b[38;5;124m\"\u001b[39m\n\u001b[0;32m   (...)\u001b[0m\n\u001b[1;32m    169\u001b[0m         \u001b[38;5;124m\"\u001b[39m\u001b[38;5;124m#estimators-that-handle-nan-values\u001b[39m\u001b[38;5;124m\"\u001b[39m\n\u001b[1;32m    170\u001b[0m     )\n\u001b[0;32m--> 171\u001b[0m \u001b[38;5;28;01mraise\u001b[39;00m \u001b[38;5;167;01mValueError\u001b[39;00m(msg_err)\n",
      "\u001b[0;31mValueError\u001b[0m: Input X contains NaN.\nRandomForestClassifier does not accept missing values encoded as NaN natively. For supervised learning, you might want to consider sklearn.ensemble.HistGradientBoostingClassifier and Regressor which accept missing values encoded as NaNs natively. Alternatively, it is possible to preprocess the data, for instance by using an imputer transformer in a pipeline or drop samples with missing values. See https://scikit-learn.org/stable/modules/impute.html You can find a list of all estimators that handle NaN values at the following page: https://scikit-learn.org/stable/modules/impute.html#estimators-that-handle-nan-values"
     ]
    }
   ],
   "source": [
    "medical_specialty_code_mask = df_test_encoded[\"medical_specialty\"].isna()\n",
    "df_notnans = df_test_encoded[medical_specialty_code_mask]\n",
    "df_notnans[\"medical_specialty\"] = rf1.predict(df_notnans[other_cols])\n",
    "df_test_encoded.loc[medical_specialty_code_mask, 'medical_specialty'] = df_notnans['medical_specialty']\n"
   ]
  },
  {
   "cell_type": "code",
   "execution_count": null,
   "metadata": {},
   "outputs": [
    {
     "data": {
      "text/plain": [
       "medical_specialty\n",
       "30.0    40719\n",
       "8.0     11143\n",
       "58.0    10153\n",
       "47.0     8194\n",
       "51.0     3845\n",
       "        ...  \n",
       "63.0        1\n",
       "12.0        1\n",
       "15.0        1\n",
       "26.0        1\n",
       "0.0         1\n",
       "Name: count, Length: 72, dtype: int64"
      ]
     },
     "execution_count": 718,
     "metadata": {},
     "output_type": "execute_result"
    }
   ],
   "source": [
    "df_encoded['medical_specialty'].value_counts()"
   ]
  },
  {
   "cell_type": "markdown",
   "metadata": {},
   "source": [
    "Normalization age, medical_specialty, num_lab_procedures and num_medications to keep the same order of magnitude"
   ]
  },
  {
   "cell_type": "code",
   "execution_count": null,
   "metadata": {},
   "outputs": [
    {
     "name": "stderr",
     "output_type": "stream",
     "text": [
      "/Users/szy/Downloads/yes/envs/COMP0169/lib/python3.10/site-packages/sklearn/base.py:458: UserWarning: X has feature names, but SelectFromModel was fitted without feature names\n",
      "  warnings.warn(\n",
      "/Users/szy/Downloads/yes/envs/COMP0169/lib/python3.10/site-packages/sklearn/base.py:458: UserWarning: X has feature names, but SelectFromModel was fitted without feature names\n",
      "  warnings.warn(\n"
     ]
    }
   ],
   "source": [
    "from sklearn.feature_selection import SelectFromModel\n",
    "\n",
    "clf = RandomForestClassifier(n_estimators=100, random_state=42)\n",
    "clf.fit(df_encoded, y_readmitted)\n",
    "\n",
    "feature_importances = pd.DataFrame(clf.feature_importances_, \n",
    "                                   index = df_encoded.columns,\n",
    "                                   columns=['importance']).sort_values('importance', ascending=False)\n",
    "                                  \n",
    "feature_importances.head(10)\n",
    "Selector = SelectFromModel(clf, prefit=True, threshold='mean')\n",
    "X_selected = Selector.transform(df_encoded)\n",
    "X_test_selected = Selector.transform(df_test_encoded)\n",
    "\n",
    "selected_features = df_encoded.columns[(Selector.get_support())]\n",
    "\n",
    "df_encoded = pd.DataFrame(X_selected, columns=selected_features)\n",
    "df_test_encoded = pd.DataFrame(X_test_selected, columns=selected_features)\n"
   ]
  },
  {
   "cell_type": "code",
   "execution_count": null,
   "metadata": {},
   "outputs": [],
   "source": [
    "scaler = MinMaxScaler(feature_range=(0, 1))\n",
    "features_to_scale = [\"age\",\"medical_specialty\",\"num_lab_procedures\",\"num_medications\"]\n",
    "df_encoded[features_to_scale] = scaler.fit_transform(df_encoded[features_to_scale])\n",
    "df_test_encoded[features_to_scale] = scaler.fit_transform(df_test_encoded[features_to_scale])"
   ]
  },
  {
   "cell_type": "code",
   "execution_count": null,
   "metadata": {},
   "outputs": [
    {
     "data": {
      "text/html": [
       "<div>\n",
       "<style scoped>\n",
       "    .dataframe tbody tr th:only-of-type {\n",
       "        vertical-align: middle;\n",
       "    }\n",
       "\n",
       "    .dataframe tbody tr th {\n",
       "        vertical-align: top;\n",
       "    }\n",
       "\n",
       "    .dataframe thead th {\n",
       "        text-align: right;\n",
       "    }\n",
       "</style>\n",
       "<table border=\"1\" class=\"dataframe\">\n",
       "  <thead>\n",
       "    <tr style=\"text-align: right;\">\n",
       "      <th></th>\n",
       "      <th>gender</th>\n",
       "      <th>age</th>\n",
       "      <th>time_in_hospital</th>\n",
       "      <th>payer_code</th>\n",
       "      <th>medical_specialty</th>\n",
       "      <th>num_lab_procedures</th>\n",
       "      <th>num_procedures</th>\n",
       "      <th>num_medications</th>\n",
       "      <th>number_outpatient</th>\n",
       "      <th>number_emergency</th>\n",
       "      <th>number_inpatient</th>\n",
       "      <th>number_diagnoses</th>\n",
       "      <th>A1Cresult</th>\n",
       "      <th>metformin</th>\n",
       "      <th>glipizide</th>\n",
       "      <th>glyburide</th>\n",
       "      <th>insulin</th>\n",
       "      <th>change</th>\n",
       "      <th>race_AfricanAmerican</th>\n",
       "      <th>race_Caucasian</th>\n",
       "      <th>diag_1_7</th>\n",
       "      <th>diag_2_3</th>\n",
       "      <th>diag_2_7</th>\n",
       "      <th>diag_3_3</th>\n",
       "      <th>diag_3_7</th>\n",
       "      <th>admission_type_id_Encoded</th>\n",
       "      <th>discharge_disposition_id_Encoded</th>\n",
       "      <th>admission_source_id_Encoded</th>\n",
       "    </tr>\n",
       "  </thead>\n",
       "  <tbody>\n",
       "    <tr>\n",
       "      <th>0</th>\n",
       "      <td>1</td>\n",
       "      <td>0.111111</td>\n",
       "      <td>3</td>\n",
       "      <td>1</td>\n",
       "      <td>0.422535</td>\n",
       "      <td>0.442748</td>\n",
       "      <td>0</td>\n",
       "      <td>0.2125</td>\n",
       "      <td>0</td>\n",
       "      <td>0</td>\n",
       "      <td>0</td>\n",
       "      <td>9</td>\n",
       "      <td>0.0</td>\n",
       "      <td>0</td>\n",
       "      <td>0</td>\n",
       "      <td>0</td>\n",
       "      <td>3</td>\n",
       "      <td>1</td>\n",
       "      <td>0</td>\n",
       "      <td>1</td>\n",
       "      <td>0</td>\n",
       "      <td>1</td>\n",
       "      <td>0</td>\n",
       "      <td>1</td>\n",
       "      <td>0</td>\n",
       "      <td>0.590542</td>\n",
       "      <td>0.547861</td>\n",
       "      <td>0.612805</td>\n",
       "    </tr>\n",
       "    <tr>\n",
       "      <th>1</th>\n",
       "      <td>1</td>\n",
       "      <td>0.222222</td>\n",
       "      <td>2</td>\n",
       "      <td>1</td>\n",
       "      <td>0.422535</td>\n",
       "      <td>0.076336</td>\n",
       "      <td>5</td>\n",
       "      <td>0.1500</td>\n",
       "      <td>2</td>\n",
       "      <td>0</td>\n",
       "      <td>1</td>\n",
       "      <td>6</td>\n",
       "      <td>0.0</td>\n",
       "      <td>0</td>\n",
       "      <td>2</td>\n",
       "      <td>0</td>\n",
       "      <td>0</td>\n",
       "      <td>0</td>\n",
       "      <td>1</td>\n",
       "      <td>0</td>\n",
       "      <td>0</td>\n",
       "      <td>1</td>\n",
       "      <td>0</td>\n",
       "      <td>0</td>\n",
       "      <td>0</td>\n",
       "      <td>0.590542</td>\n",
       "      <td>0.547861</td>\n",
       "      <td>0.612805</td>\n",
       "    </tr>\n",
       "    <tr>\n",
       "      <th>2</th>\n",
       "      <td>0</td>\n",
       "      <td>0.333333</td>\n",
       "      <td>2</td>\n",
       "      <td>7</td>\n",
       "      <td>0.422535</td>\n",
       "      <td>0.328244</td>\n",
       "      <td>1</td>\n",
       "      <td>0.1875</td>\n",
       "      <td>0</td>\n",
       "      <td>0</td>\n",
       "      <td>0</td>\n",
       "      <td>7</td>\n",
       "      <td>0.0</td>\n",
       "      <td>0</td>\n",
       "      <td>0</td>\n",
       "      <td>0</td>\n",
       "      <td>3</td>\n",
       "      <td>1</td>\n",
       "      <td>0</td>\n",
       "      <td>1</td>\n",
       "      <td>0</td>\n",
       "      <td>1</td>\n",
       "      <td>0</td>\n",
       "      <td>0</td>\n",
       "      <td>1</td>\n",
       "      <td>0.590542</td>\n",
       "      <td>0.547861</td>\n",
       "      <td>0.612805</td>\n",
       "    </tr>\n",
       "    <tr>\n",
       "      <th>3</th>\n",
       "      <td>0</td>\n",
       "      <td>0.444444</td>\n",
       "      <td>1</td>\n",
       "      <td>7</td>\n",
       "      <td>0.422535</td>\n",
       "      <td>0.381679</td>\n",
       "      <td>0</td>\n",
       "      <td>0.0875</td>\n",
       "      <td>0</td>\n",
       "      <td>0</td>\n",
       "      <td>0</td>\n",
       "      <td>5</td>\n",
       "      <td>0.0</td>\n",
       "      <td>0</td>\n",
       "      <td>2</td>\n",
       "      <td>0</td>\n",
       "      <td>2</td>\n",
       "      <td>1</td>\n",
       "      <td>0</td>\n",
       "      <td>1</td>\n",
       "      <td>0</td>\n",
       "      <td>0</td>\n",
       "      <td>0</td>\n",
       "      <td>1</td>\n",
       "      <td>0</td>\n",
       "      <td>0.590542</td>\n",
       "      <td>0.547861</td>\n",
       "      <td>0.612805</td>\n",
       "    </tr>\n",
       "    <tr>\n",
       "      <th>4</th>\n",
       "      <td>0</td>\n",
       "      <td>0.555556</td>\n",
       "      <td>3</td>\n",
       "      <td>2</td>\n",
       "      <td>0.661972</td>\n",
       "      <td>0.229008</td>\n",
       "      <td>6</td>\n",
       "      <td>0.1875</td>\n",
       "      <td>0</td>\n",
       "      <td>0</td>\n",
       "      <td>0</td>\n",
       "      <td>9</td>\n",
       "      <td>0.0</td>\n",
       "      <td>0</td>\n",
       "      <td>0</td>\n",
       "      <td>0</td>\n",
       "      <td>2</td>\n",
       "      <td>0</td>\n",
       "      <td>0</td>\n",
       "      <td>1</td>\n",
       "      <td>1</td>\n",
       "      <td>0</td>\n",
       "      <td>1</td>\n",
       "      <td>1</td>\n",
       "      <td>0</td>\n",
       "      <td>0.585561</td>\n",
       "      <td>0.547861</td>\n",
       "      <td>0.501625</td>\n",
       "    </tr>\n",
       "    <tr>\n",
       "      <th>...</th>\n",
       "      <td>...</td>\n",
       "      <td>...</td>\n",
       "      <td>...</td>\n",
       "      <td>...</td>\n",
       "      <td>...</td>\n",
       "      <td>...</td>\n",
       "      <td>...</td>\n",
       "      <td>...</td>\n",
       "      <td>...</td>\n",
       "      <td>...</td>\n",
       "      <td>...</td>\n",
       "      <td>...</td>\n",
       "      <td>...</td>\n",
       "      <td>...</td>\n",
       "      <td>...</td>\n",
       "      <td>...</td>\n",
       "      <td>...</td>\n",
       "      <td>...</td>\n",
       "      <td>...</td>\n",
       "      <td>...</td>\n",
       "      <td>...</td>\n",
       "      <td>...</td>\n",
       "      <td>...</td>\n",
       "      <td>...</td>\n",
       "      <td>...</td>\n",
       "      <td>...</td>\n",
       "      <td>...</td>\n",
       "      <td>...</td>\n",
       "    </tr>\n",
       "    <tr>\n",
       "      <th>89356</th>\n",
       "      <td>0</td>\n",
       "      <td>0.777778</td>\n",
       "      <td>3</td>\n",
       "      <td>2</td>\n",
       "      <td>0.422535</td>\n",
       "      <td>0.381679</td>\n",
       "      <td>0</td>\n",
       "      <td>0.1875</td>\n",
       "      <td>0</td>\n",
       "      <td>0</td>\n",
       "      <td>0</td>\n",
       "      <td>9</td>\n",
       "      <td>3.0</td>\n",
       "      <td>2</td>\n",
       "      <td>0</td>\n",
       "      <td>0</td>\n",
       "      <td>1</td>\n",
       "      <td>1</td>\n",
       "      <td>1</td>\n",
       "      <td>0</td>\n",
       "      <td>0</td>\n",
       "      <td>0</td>\n",
       "      <td>0</td>\n",
       "      <td>0</td>\n",
       "      <td>1</td>\n",
       "      <td>0.590542</td>\n",
       "      <td>0.645172</td>\n",
       "      <td>0.612805</td>\n",
       "    </tr>\n",
       "    <tr>\n",
       "      <th>89357</th>\n",
       "      <td>1</td>\n",
       "      <td>0.888889</td>\n",
       "      <td>5</td>\n",
       "      <td>2</td>\n",
       "      <td>0.422535</td>\n",
       "      <td>0.244275</td>\n",
       "      <td>3</td>\n",
       "      <td>0.2125</td>\n",
       "      <td>0</td>\n",
       "      <td>0</td>\n",
       "      <td>1</td>\n",
       "      <td>9</td>\n",
       "      <td>0.0</td>\n",
       "      <td>0</td>\n",
       "      <td>0</td>\n",
       "      <td>0</td>\n",
       "      <td>2</td>\n",
       "      <td>0</td>\n",
       "      <td>1</td>\n",
       "      <td>0</td>\n",
       "      <td>0</td>\n",
       "      <td>1</td>\n",
       "      <td>0</td>\n",
       "      <td>0</td>\n",
       "      <td>0</td>\n",
       "      <td>0.590542</td>\n",
       "      <td>0.590116</td>\n",
       "      <td>0.497333</td>\n",
       "    </tr>\n",
       "    <tr>\n",
       "      <th>89358</th>\n",
       "      <td>0</td>\n",
       "      <td>0.777778</td>\n",
       "      <td>1</td>\n",
       "      <td>2</td>\n",
       "      <td>0.422535</td>\n",
       "      <td>0.396947</td>\n",
       "      <td>0</td>\n",
       "      <td>0.1000</td>\n",
       "      <td>1</td>\n",
       "      <td>0</td>\n",
       "      <td>0</td>\n",
       "      <td>13</td>\n",
       "      <td>0.0</td>\n",
       "      <td>2</td>\n",
       "      <td>0</td>\n",
       "      <td>0</td>\n",
       "      <td>1</td>\n",
       "      <td>1</td>\n",
       "      <td>0</td>\n",
       "      <td>1</td>\n",
       "      <td>0</td>\n",
       "      <td>0</td>\n",
       "      <td>0</td>\n",
       "      <td>0</td>\n",
       "      <td>0</td>\n",
       "      <td>0.590542</td>\n",
       "      <td>0.547861</td>\n",
       "      <td>0.612805</td>\n",
       "    </tr>\n",
       "    <tr>\n",
       "      <th>89359</th>\n",
       "      <td>1</td>\n",
       "      <td>0.888889</td>\n",
       "      <td>10</td>\n",
       "      <td>2</td>\n",
       "      <td>0.718310</td>\n",
       "      <td>0.335878</td>\n",
       "      <td>2</td>\n",
       "      <td>0.2500</td>\n",
       "      <td>0</td>\n",
       "      <td>0</td>\n",
       "      <td>1</td>\n",
       "      <td>9</td>\n",
       "      <td>0.0</td>\n",
       "      <td>0</td>\n",
       "      <td>2</td>\n",
       "      <td>0</td>\n",
       "      <td>3</td>\n",
       "      <td>1</td>\n",
       "      <td>0</td>\n",
       "      <td>1</td>\n",
       "      <td>0</td>\n",
       "      <td>0</td>\n",
       "      <td>0</td>\n",
       "      <td>0</td>\n",
       "      <td>0</td>\n",
       "      <td>0.585561</td>\n",
       "      <td>0.645172</td>\n",
       "      <td>0.612805</td>\n",
       "    </tr>\n",
       "    <tr>\n",
       "      <th>89360</th>\n",
       "      <td>0</td>\n",
       "      <td>0.777778</td>\n",
       "      <td>6</td>\n",
       "      <td>2</td>\n",
       "      <td>0.112676</td>\n",
       "      <td>0.091603</td>\n",
       "      <td>3</td>\n",
       "      <td>0.0250</td>\n",
       "      <td>0</td>\n",
       "      <td>0</td>\n",
       "      <td>0</td>\n",
       "      <td>9</td>\n",
       "      <td>0.0</td>\n",
       "      <td>0</td>\n",
       "      <td>0</td>\n",
       "      <td>0</td>\n",
       "      <td>0</td>\n",
       "      <td>0</td>\n",
       "      <td>0</td>\n",
       "      <td>1</td>\n",
       "      <td>0</td>\n",
       "      <td>0</td>\n",
       "      <td>0</td>\n",
       "      <td>0</td>\n",
       "      <td>0</td>\n",
       "      <td>0.590542</td>\n",
       "      <td>0.547861</td>\n",
       "      <td>0.612805</td>\n",
       "    </tr>\n",
       "  </tbody>\n",
       "</table>\n",
       "<p>89361 rows × 28 columns</p>\n",
       "</div>"
      ],
      "text/plain": [
       "      gender       age time_in_hospital payer_code  medical_specialty  \\\n",
       "0          1  0.111111                3          1           0.422535   \n",
       "1          1  0.222222                2          1           0.422535   \n",
       "2          0  0.333333                2          7           0.422535   \n",
       "3          0  0.444444                1          7           0.422535   \n",
       "4          0  0.555556                3          2           0.661972   \n",
       "...      ...       ...              ...        ...                ...   \n",
       "89356      0  0.777778                3          2           0.422535   \n",
       "89357      1  0.888889                5          2           0.422535   \n",
       "89358      0  0.777778                1          2           0.422535   \n",
       "89359      1  0.888889               10          2           0.718310   \n",
       "89360      0  0.777778                6          2           0.112676   \n",
       "\n",
       "       num_lab_procedures num_procedures  num_medications number_outpatient  \\\n",
       "0                0.442748              0           0.2125                 0   \n",
       "1                0.076336              5           0.1500                 2   \n",
       "2                0.328244              1           0.1875                 0   \n",
       "3                0.381679              0           0.0875                 0   \n",
       "4                0.229008              6           0.1875                 0   \n",
       "...                   ...            ...              ...               ...   \n",
       "89356            0.381679              0           0.1875                 0   \n",
       "89357            0.244275              3           0.2125                 0   \n",
       "89358            0.396947              0           0.1000                 1   \n",
       "89359            0.335878              2           0.2500                 0   \n",
       "89360            0.091603              3           0.0250                 0   \n",
       "\n",
       "      number_emergency number_inpatient number_diagnoses A1Cresult metformin  \\\n",
       "0                    0                0                9       0.0         0   \n",
       "1                    0                1                6       0.0         0   \n",
       "2                    0                0                7       0.0         0   \n",
       "3                    0                0                5       0.0         0   \n",
       "4                    0                0                9       0.0         0   \n",
       "...                ...              ...              ...       ...       ...   \n",
       "89356                0                0                9       3.0         2   \n",
       "89357                0                1                9       0.0         0   \n",
       "89358                0                0               13       0.0         2   \n",
       "89359                0                1                9       0.0         0   \n",
       "89360                0                0                9       0.0         0   \n",
       "\n",
       "      glipizide glyburide insulin change race_AfricanAmerican race_Caucasian  \\\n",
       "0             0         0       3      1                    0              1   \n",
       "1             2         0       0      0                    1              0   \n",
       "2             0         0       3      1                    0              1   \n",
       "3             2         0       2      1                    0              1   \n",
       "4             0         0       2      0                    0              1   \n",
       "...         ...       ...     ...    ...                  ...            ...   \n",
       "89356         0         0       1      1                    1              0   \n",
       "89357         0         0       2      0                    1              0   \n",
       "89358         0         0       1      1                    0              1   \n",
       "89359         2         0       3      1                    0              1   \n",
       "89360         0         0       0      0                    0              1   \n",
       "\n",
       "      diag_1_7 diag_2_3 diag_2_7 diag_3_3 diag_3_7 admission_type_id_Encoded  \\\n",
       "0            0        1        0        1        0                  0.590542   \n",
       "1            0        1        0        0        0                  0.590542   \n",
       "2            0        1        0        0        1                  0.590542   \n",
       "3            0        0        0        1        0                  0.590542   \n",
       "4            1        0        1        1        0                  0.585561   \n",
       "...        ...      ...      ...      ...      ...                       ...   \n",
       "89356        0        0        0        0        1                  0.590542   \n",
       "89357        0        1        0        0        0                  0.590542   \n",
       "89358        0        0        0        0        0                  0.590542   \n",
       "89359        0        0        0        0        0                  0.585561   \n",
       "89360        0        0        0        0        0                  0.590542   \n",
       "\n",
       "      discharge_disposition_id_Encoded admission_source_id_Encoded  \n",
       "0                             0.547861                    0.612805  \n",
       "1                             0.547861                    0.612805  \n",
       "2                             0.547861                    0.612805  \n",
       "3                             0.547861                    0.612805  \n",
       "4                             0.547861                    0.501625  \n",
       "...                                ...                         ...  \n",
       "89356                         0.645172                    0.612805  \n",
       "89357                         0.590116                    0.497333  \n",
       "89358                         0.547861                    0.612805  \n",
       "89359                         0.645172                    0.612805  \n",
       "89360                         0.547861                    0.612805  \n",
       "\n",
       "[89361 rows x 28 columns]"
      ]
     },
     "execution_count": 724,
     "metadata": {},
     "output_type": "execute_result"
    }
   ],
   "source": [
    "df_encoded"
   ]
  },
  {
   "cell_type": "code",
   "execution_count": null,
   "metadata": {},
   "outputs": [],
   "source": [
    "df_encoded.to_csv('encoded_train.csv',index=False)\n",
    "df_test_encoded.to_csv('encoded_test.csv',index=False)\n",
    "y_readmitted.to_csv('y_readmitted.csv',index=False)\n",
    "y_test_readmitted.to_csv('y_test_readmitted.csv',index=False)"
   ]
  },
  {
   "cell_type": "code",
   "execution_count": null,
   "metadata": {},
   "outputs": [],
   "source": [
    "df_encoded = pd.read_csv('encoded_train.csv')\n",
    "df_test_encoded = pd.read_csv('encoded_test.csv')\n"
   ]
  },
  {
   "cell_type": "code",
   "execution_count": null,
   "metadata": {},
   "outputs": [],
   "source": [
    "y_readmitted = pd.read_csv('y_readmitted.csv').to_numpy()\n",
    "y_test_readmitted = pd.read_csv('y_test_readmitted.csv').to_numpy()"
   ]
  },
  {
   "cell_type": "code",
   "execution_count": null,
   "metadata": {},
   "outputs": [
    {
     "data": {
      "text/html": [
       "<div>\n",
       "<style scoped>\n",
       "    .dataframe tbody tr th:only-of-type {\n",
       "        vertical-align: middle;\n",
       "    }\n",
       "\n",
       "    .dataframe tbody tr th {\n",
       "        vertical-align: top;\n",
       "    }\n",
       "\n",
       "    .dataframe thead th {\n",
       "        text-align: right;\n",
       "    }\n",
       "</style>\n",
       "<table border=\"1\" class=\"dataframe\">\n",
       "  <thead>\n",
       "    <tr style=\"text-align: right;\">\n",
       "      <th></th>\n",
       "      <th>gender</th>\n",
       "      <th>age</th>\n",
       "      <th>time_in_hospital</th>\n",
       "      <th>payer_code</th>\n",
       "      <th>medical_specialty</th>\n",
       "      <th>num_lab_procedures</th>\n",
       "      <th>num_procedures</th>\n",
       "      <th>num_medications</th>\n",
       "      <th>number_outpatient</th>\n",
       "      <th>number_emergency</th>\n",
       "      <th>number_inpatient</th>\n",
       "      <th>number_diagnoses</th>\n",
       "      <th>A1Cresult</th>\n",
       "      <th>metformin</th>\n",
       "      <th>glipizide</th>\n",
       "      <th>glyburide</th>\n",
       "      <th>insulin</th>\n",
       "      <th>change</th>\n",
       "      <th>race_AfricanAmerican</th>\n",
       "      <th>race_Caucasian</th>\n",
       "      <th>diag_1_7</th>\n",
       "      <th>diag_2_3</th>\n",
       "      <th>diag_2_7</th>\n",
       "      <th>diag_3_3</th>\n",
       "      <th>diag_3_7</th>\n",
       "      <th>admission_type_id_Encoded</th>\n",
       "      <th>discharge_disposition_id_Encoded</th>\n",
       "      <th>admission_source_id_Encoded</th>\n",
       "    </tr>\n",
       "  </thead>\n",
       "  <tbody>\n",
       "    <tr>\n",
       "      <th>0</th>\n",
       "      <td>1</td>\n",
       "      <td>0.111111</td>\n",
       "      <td>3</td>\n",
       "      <td>1</td>\n",
       "      <td>0.422535</td>\n",
       "      <td>0.442748</td>\n",
       "      <td>0</td>\n",
       "      <td>0.2125</td>\n",
       "      <td>0</td>\n",
       "      <td>0</td>\n",
       "      <td>0</td>\n",
       "      <td>9</td>\n",
       "      <td>0.0</td>\n",
       "      <td>0</td>\n",
       "      <td>0</td>\n",
       "      <td>0</td>\n",
       "      <td>3</td>\n",
       "      <td>1</td>\n",
       "      <td>0</td>\n",
       "      <td>1</td>\n",
       "      <td>0</td>\n",
       "      <td>1</td>\n",
       "      <td>0</td>\n",
       "      <td>1</td>\n",
       "      <td>0</td>\n",
       "      <td>0.590542</td>\n",
       "      <td>0.547861</td>\n",
       "      <td>0.612805</td>\n",
       "    </tr>\n",
       "    <tr>\n",
       "      <th>1</th>\n",
       "      <td>1</td>\n",
       "      <td>0.222222</td>\n",
       "      <td>2</td>\n",
       "      <td>1</td>\n",
       "      <td>0.422535</td>\n",
       "      <td>0.076336</td>\n",
       "      <td>5</td>\n",
       "      <td>0.1500</td>\n",
       "      <td>2</td>\n",
       "      <td>0</td>\n",
       "      <td>1</td>\n",
       "      <td>6</td>\n",
       "      <td>0.0</td>\n",
       "      <td>0</td>\n",
       "      <td>2</td>\n",
       "      <td>0</td>\n",
       "      <td>0</td>\n",
       "      <td>0</td>\n",
       "      <td>1</td>\n",
       "      <td>0</td>\n",
       "      <td>0</td>\n",
       "      <td>1</td>\n",
       "      <td>0</td>\n",
       "      <td>0</td>\n",
       "      <td>0</td>\n",
       "      <td>0.590542</td>\n",
       "      <td>0.547861</td>\n",
       "      <td>0.612805</td>\n",
       "    </tr>\n",
       "    <tr>\n",
       "      <th>2</th>\n",
       "      <td>0</td>\n",
       "      <td>0.333333</td>\n",
       "      <td>2</td>\n",
       "      <td>7</td>\n",
       "      <td>0.422535</td>\n",
       "      <td>0.328244</td>\n",
       "      <td>1</td>\n",
       "      <td>0.1875</td>\n",
       "      <td>0</td>\n",
       "      <td>0</td>\n",
       "      <td>0</td>\n",
       "      <td>7</td>\n",
       "      <td>0.0</td>\n",
       "      <td>0</td>\n",
       "      <td>0</td>\n",
       "      <td>0</td>\n",
       "      <td>3</td>\n",
       "      <td>1</td>\n",
       "      <td>0</td>\n",
       "      <td>1</td>\n",
       "      <td>0</td>\n",
       "      <td>1</td>\n",
       "      <td>0</td>\n",
       "      <td>0</td>\n",
       "      <td>1</td>\n",
       "      <td>0.590542</td>\n",
       "      <td>0.547861</td>\n",
       "      <td>0.612805</td>\n",
       "    </tr>\n",
       "    <tr>\n",
       "      <th>3</th>\n",
       "      <td>0</td>\n",
       "      <td>0.444444</td>\n",
       "      <td>1</td>\n",
       "      <td>7</td>\n",
       "      <td>0.422535</td>\n",
       "      <td>0.381679</td>\n",
       "      <td>0</td>\n",
       "      <td>0.0875</td>\n",
       "      <td>0</td>\n",
       "      <td>0</td>\n",
       "      <td>0</td>\n",
       "      <td>5</td>\n",
       "      <td>0.0</td>\n",
       "      <td>0</td>\n",
       "      <td>2</td>\n",
       "      <td>0</td>\n",
       "      <td>2</td>\n",
       "      <td>1</td>\n",
       "      <td>0</td>\n",
       "      <td>1</td>\n",
       "      <td>0</td>\n",
       "      <td>0</td>\n",
       "      <td>0</td>\n",
       "      <td>1</td>\n",
       "      <td>0</td>\n",
       "      <td>0.590542</td>\n",
       "      <td>0.547861</td>\n",
       "      <td>0.612805</td>\n",
       "    </tr>\n",
       "    <tr>\n",
       "      <th>4</th>\n",
       "      <td>0</td>\n",
       "      <td>0.555556</td>\n",
       "      <td>3</td>\n",
       "      <td>2</td>\n",
       "      <td>0.661972</td>\n",
       "      <td>0.229008</td>\n",
       "      <td>6</td>\n",
       "      <td>0.1875</td>\n",
       "      <td>0</td>\n",
       "      <td>0</td>\n",
       "      <td>0</td>\n",
       "      <td>9</td>\n",
       "      <td>0.0</td>\n",
       "      <td>0</td>\n",
       "      <td>0</td>\n",
       "      <td>0</td>\n",
       "      <td>2</td>\n",
       "      <td>0</td>\n",
       "      <td>0</td>\n",
       "      <td>1</td>\n",
       "      <td>1</td>\n",
       "      <td>0</td>\n",
       "      <td>1</td>\n",
       "      <td>1</td>\n",
       "      <td>0</td>\n",
       "      <td>0.585561</td>\n",
       "      <td>0.547861</td>\n",
       "      <td>0.501625</td>\n",
       "    </tr>\n",
       "    <tr>\n",
       "      <th>...</th>\n",
       "      <td>...</td>\n",
       "      <td>...</td>\n",
       "      <td>...</td>\n",
       "      <td>...</td>\n",
       "      <td>...</td>\n",
       "      <td>...</td>\n",
       "      <td>...</td>\n",
       "      <td>...</td>\n",
       "      <td>...</td>\n",
       "      <td>...</td>\n",
       "      <td>...</td>\n",
       "      <td>...</td>\n",
       "      <td>...</td>\n",
       "      <td>...</td>\n",
       "      <td>...</td>\n",
       "      <td>...</td>\n",
       "      <td>...</td>\n",
       "      <td>...</td>\n",
       "      <td>...</td>\n",
       "      <td>...</td>\n",
       "      <td>...</td>\n",
       "      <td>...</td>\n",
       "      <td>...</td>\n",
       "      <td>...</td>\n",
       "      <td>...</td>\n",
       "      <td>...</td>\n",
       "      <td>...</td>\n",
       "      <td>...</td>\n",
       "    </tr>\n",
       "    <tr>\n",
       "      <th>89356</th>\n",
       "      <td>0</td>\n",
       "      <td>0.777778</td>\n",
       "      <td>3</td>\n",
       "      <td>2</td>\n",
       "      <td>0.422535</td>\n",
       "      <td>0.381679</td>\n",
       "      <td>0</td>\n",
       "      <td>0.1875</td>\n",
       "      <td>0</td>\n",
       "      <td>0</td>\n",
       "      <td>0</td>\n",
       "      <td>9</td>\n",
       "      <td>3.0</td>\n",
       "      <td>2</td>\n",
       "      <td>0</td>\n",
       "      <td>0</td>\n",
       "      <td>1</td>\n",
       "      <td>1</td>\n",
       "      <td>1</td>\n",
       "      <td>0</td>\n",
       "      <td>0</td>\n",
       "      <td>0</td>\n",
       "      <td>0</td>\n",
       "      <td>0</td>\n",
       "      <td>1</td>\n",
       "      <td>0.590542</td>\n",
       "      <td>0.645172</td>\n",
       "      <td>0.612805</td>\n",
       "    </tr>\n",
       "    <tr>\n",
       "      <th>89357</th>\n",
       "      <td>1</td>\n",
       "      <td>0.888889</td>\n",
       "      <td>5</td>\n",
       "      <td>2</td>\n",
       "      <td>0.422535</td>\n",
       "      <td>0.244275</td>\n",
       "      <td>3</td>\n",
       "      <td>0.2125</td>\n",
       "      <td>0</td>\n",
       "      <td>0</td>\n",
       "      <td>1</td>\n",
       "      <td>9</td>\n",
       "      <td>0.0</td>\n",
       "      <td>0</td>\n",
       "      <td>0</td>\n",
       "      <td>0</td>\n",
       "      <td>2</td>\n",
       "      <td>0</td>\n",
       "      <td>1</td>\n",
       "      <td>0</td>\n",
       "      <td>0</td>\n",
       "      <td>1</td>\n",
       "      <td>0</td>\n",
       "      <td>0</td>\n",
       "      <td>0</td>\n",
       "      <td>0.590542</td>\n",
       "      <td>0.590116</td>\n",
       "      <td>0.497333</td>\n",
       "    </tr>\n",
       "    <tr>\n",
       "      <th>89358</th>\n",
       "      <td>0</td>\n",
       "      <td>0.777778</td>\n",
       "      <td>1</td>\n",
       "      <td>2</td>\n",
       "      <td>0.422535</td>\n",
       "      <td>0.396947</td>\n",
       "      <td>0</td>\n",
       "      <td>0.1000</td>\n",
       "      <td>1</td>\n",
       "      <td>0</td>\n",
       "      <td>0</td>\n",
       "      <td>13</td>\n",
       "      <td>0.0</td>\n",
       "      <td>2</td>\n",
       "      <td>0</td>\n",
       "      <td>0</td>\n",
       "      <td>1</td>\n",
       "      <td>1</td>\n",
       "      <td>0</td>\n",
       "      <td>1</td>\n",
       "      <td>0</td>\n",
       "      <td>0</td>\n",
       "      <td>0</td>\n",
       "      <td>0</td>\n",
       "      <td>0</td>\n",
       "      <td>0.590542</td>\n",
       "      <td>0.547861</td>\n",
       "      <td>0.612805</td>\n",
       "    </tr>\n",
       "    <tr>\n",
       "      <th>89359</th>\n",
       "      <td>1</td>\n",
       "      <td>0.888889</td>\n",
       "      <td>10</td>\n",
       "      <td>2</td>\n",
       "      <td>0.718310</td>\n",
       "      <td>0.335878</td>\n",
       "      <td>2</td>\n",
       "      <td>0.2500</td>\n",
       "      <td>0</td>\n",
       "      <td>0</td>\n",
       "      <td>1</td>\n",
       "      <td>9</td>\n",
       "      <td>0.0</td>\n",
       "      <td>0</td>\n",
       "      <td>2</td>\n",
       "      <td>0</td>\n",
       "      <td>3</td>\n",
       "      <td>1</td>\n",
       "      <td>0</td>\n",
       "      <td>1</td>\n",
       "      <td>0</td>\n",
       "      <td>0</td>\n",
       "      <td>0</td>\n",
       "      <td>0</td>\n",
       "      <td>0</td>\n",
       "      <td>0.585561</td>\n",
       "      <td>0.645172</td>\n",
       "      <td>0.612805</td>\n",
       "    </tr>\n",
       "    <tr>\n",
       "      <th>89360</th>\n",
       "      <td>0</td>\n",
       "      <td>0.777778</td>\n",
       "      <td>6</td>\n",
       "      <td>2</td>\n",
       "      <td>0.112676</td>\n",
       "      <td>0.091603</td>\n",
       "      <td>3</td>\n",
       "      <td>0.0250</td>\n",
       "      <td>0</td>\n",
       "      <td>0</td>\n",
       "      <td>0</td>\n",
       "      <td>9</td>\n",
       "      <td>0.0</td>\n",
       "      <td>0</td>\n",
       "      <td>0</td>\n",
       "      <td>0</td>\n",
       "      <td>0</td>\n",
       "      <td>0</td>\n",
       "      <td>0</td>\n",
       "      <td>1</td>\n",
       "      <td>0</td>\n",
       "      <td>0</td>\n",
       "      <td>0</td>\n",
       "      <td>0</td>\n",
       "      <td>0</td>\n",
       "      <td>0.590542</td>\n",
       "      <td>0.547861</td>\n",
       "      <td>0.612805</td>\n",
       "    </tr>\n",
       "  </tbody>\n",
       "</table>\n",
       "<p>89361 rows × 28 columns</p>\n",
       "</div>"
      ],
      "text/plain": [
       "       gender       age  time_in_hospital  payer_code  medical_specialty  \\\n",
       "0           1  0.111111                 3           1           0.422535   \n",
       "1           1  0.222222                 2           1           0.422535   \n",
       "2           0  0.333333                 2           7           0.422535   \n",
       "3           0  0.444444                 1           7           0.422535   \n",
       "4           0  0.555556                 3           2           0.661972   \n",
       "...       ...       ...               ...         ...                ...   \n",
       "89356       0  0.777778                 3           2           0.422535   \n",
       "89357       1  0.888889                 5           2           0.422535   \n",
       "89358       0  0.777778                 1           2           0.422535   \n",
       "89359       1  0.888889                10           2           0.718310   \n",
       "89360       0  0.777778                 6           2           0.112676   \n",
       "\n",
       "       num_lab_procedures  num_procedures  num_medications  number_outpatient  \\\n",
       "0                0.442748               0           0.2125                  0   \n",
       "1                0.076336               5           0.1500                  2   \n",
       "2                0.328244               1           0.1875                  0   \n",
       "3                0.381679               0           0.0875                  0   \n",
       "4                0.229008               6           0.1875                  0   \n",
       "...                   ...             ...              ...                ...   \n",
       "89356            0.381679               0           0.1875                  0   \n",
       "89357            0.244275               3           0.2125                  0   \n",
       "89358            0.396947               0           0.1000                  1   \n",
       "89359            0.335878               2           0.2500                  0   \n",
       "89360            0.091603               3           0.0250                  0   \n",
       "\n",
       "       number_emergency  number_inpatient  number_diagnoses  A1Cresult  \\\n",
       "0                     0                 0                 9        0.0   \n",
       "1                     0                 1                 6        0.0   \n",
       "2                     0                 0                 7        0.0   \n",
       "3                     0                 0                 5        0.0   \n",
       "4                     0                 0                 9        0.0   \n",
       "...                 ...               ...               ...        ...   \n",
       "89356                 0                 0                 9        3.0   \n",
       "89357                 0                 1                 9        0.0   \n",
       "89358                 0                 0                13        0.0   \n",
       "89359                 0                 1                 9        0.0   \n",
       "89360                 0                 0                 9        0.0   \n",
       "\n",
       "       metformin  glipizide  glyburide  insulin  change  race_AfricanAmerican  \\\n",
       "0              0          0          0        3       1                     0   \n",
       "1              0          2          0        0       0                     1   \n",
       "2              0          0          0        3       1                     0   \n",
       "3              0          2          0        2       1                     0   \n",
       "4              0          0          0        2       0                     0   \n",
       "...          ...        ...        ...      ...     ...                   ...   \n",
       "89356          2          0          0        1       1                     1   \n",
       "89357          0          0          0        2       0                     1   \n",
       "89358          2          0          0        1       1                     0   \n",
       "89359          0          2          0        3       1                     0   \n",
       "89360          0          0          0        0       0                     0   \n",
       "\n",
       "       race_Caucasian  diag_1_7  diag_2_3  diag_2_7  diag_3_3  diag_3_7  \\\n",
       "0                   1         0         1         0         1         0   \n",
       "1                   0         0         1         0         0         0   \n",
       "2                   1         0         1         0         0         1   \n",
       "3                   1         0         0         0         1         0   \n",
       "4                   1         1         0         1         1         0   \n",
       "...               ...       ...       ...       ...       ...       ...   \n",
       "89356               0         0         0         0         0         1   \n",
       "89357               0         0         1         0         0         0   \n",
       "89358               1         0         0         0         0         0   \n",
       "89359               1         0         0         0         0         0   \n",
       "89360               1         0         0         0         0         0   \n",
       "\n",
       "       admission_type_id_Encoded  discharge_disposition_id_Encoded  \\\n",
       "0                       0.590542                          0.547861   \n",
       "1                       0.590542                          0.547861   \n",
       "2                       0.590542                          0.547861   \n",
       "3                       0.590542                          0.547861   \n",
       "4                       0.585561                          0.547861   \n",
       "...                          ...                               ...   \n",
       "89356                   0.590542                          0.645172   \n",
       "89357                   0.590542                          0.590116   \n",
       "89358                   0.590542                          0.547861   \n",
       "89359                   0.585561                          0.645172   \n",
       "89360                   0.590542                          0.547861   \n",
       "\n",
       "       admission_source_id_Encoded  \n",
       "0                         0.612805  \n",
       "1                         0.612805  \n",
       "2                         0.612805  \n",
       "3                         0.612805  \n",
       "4                         0.501625  \n",
       "...                            ...  \n",
       "89356                     0.612805  \n",
       "89357                     0.497333  \n",
       "89358                     0.612805  \n",
       "89359                     0.612805  \n",
       "89360                     0.612805  \n",
       "\n",
       "[89361 rows x 28 columns]"
      ]
     },
     "execution_count": 728,
     "metadata": {},
     "output_type": "execute_result"
    }
   ],
   "source": [
    "df_encoded"
   ]
  },
  {
   "cell_type": "markdown",
   "metadata": {},
   "source": [
    "Dems Redct\n",
    "1. PCA/PPCA\n",
    "2. LDA/QDA\n",
    "3. following to T-SNE\n",
    "3. Autoencoders\n",
    "4. Unsupervised Algorithmn"
   ]
  },
  {
   "cell_type": "code",
   "execution_count": null,
   "metadata": {},
   "outputs": [],
   "source": [
    "               \n",
    "def plot_2d(projected, y_train, title):\n",
    "    fig = plt.figure(figsize=(8, 6), dpi=80)\n",
    "    ax = fig.add_subplot(111)\n",
    "\n",
    "    p = ax.scatter(projected[:, 0], projected[:, 1],\n",
    "                c=y_train, edgecolor='none', alpha=0.5,\n",
    "                  cmap='tab10')\n",
    "    ax.set_xlabel('component 1')\n",
    "    ax.set_ylabel('component 2')\n",
    "    ax.set_title(title)\n",
    "    fig.colorbar(p);\n",
    "    \n",
    "def print_results(y_pred, y_test):\n",
    "    mat = confusion_matrix(y_test, y_pred)\n",
    "    sns.heatmap(mat.T, square=True, annot=True, fmt='d', cbar=False)\n",
    "    plt.xlabel('true label')\n",
    "    plt.ylabel('predicted label');\n",
    "\n",
    "    print(\"Accuracy on test set: \", accuracy_score(y_test, y_pred))\n"
   ]
  },
  {
   "cell_type": "markdown",
   "metadata": {},
   "source": [
    "Correlation"
   ]
  },
  {
   "cell_type": "code",
   "execution_count": null,
   "metadata": {},
   "outputs": [
    {
     "data": {
      "image/png": "[encoded data removed]",
      "text/plain": [
       "<Figure size 1000x800 with 2 Axes>"
      ]
     },
     "metadata": {},
     "output_type": "display_data"
    }
   ],
   "source": [
    "corr = df_encoded.corr()\n",
    "\n",
    "from seaborn import heatmap\n",
    "heatmap(corr)\n",
    "\n",
    "plt.show()"
   ]
  },
  {
   "cell_type": "code",
   "execution_count": null,
   "metadata": {},
   "outputs": [],
   "source": [
    "pca = PCA(n_components=0.95)  # Keep 95% of the variance\n",
    "pca_result = pca.fit_transform(df_encoded)\n",
    "test_pca_result = pca.fit_transform(df_test_encoded)\n"
   ]
  },
  {
   "cell_type": "markdown",
   "metadata": {},
   "source": [
    "Naive Bayes for demstionality reduction result evaluation, This algorithm is very fast and works well with high-dimensional data. It assumes independence between the features, which may or may not hold after dimensionality reduction. According to the covr graph, mostly independent."
   ]
  },
  {
   "cell_type": "code",
   "execution_count": null,
   "metadata": {},
   "outputs": [],
   "source": [
    "def naive_bayes_score(train, label, test, test_label):\n",
    "    nb = GaussianNB()\n",
    "    nb.fit(train, label)\n",
    "    y_nb = nb.predict(test)\n",
    "    mse = np.mean((test_label - y_nb) ** 2)\n",
    "    accuracy = accuracy_score(y_nb,test_label)\n",
    "\n",
    "    return mse, accuracy"
   ]
  },
  {
   "cell_type": "code",
   "execution_count": null,
   "metadata": {},
   "outputs": [
    {
     "name": "stderr",
     "output_type": "stream",
     "text": [
      "/Users/szy/Downloads/yes/envs/COMP0169/lib/python3.10/site-packages/sklearn/utils/validation.py:1183: DataConversionWarning: A column-vector y was passed when a 1d array was expected. Please change the shape of y to (n_samples, ), for example using ravel().\n",
      "  y = column_or_1d(y, warn=True)\n"
     ]
    },
    {
     "name": "stdout",
     "output_type": "stream",
     "text": [
      "(9947,) (9947, 1)\n",
      "Full param mse score is 0.8310350982657062\n"
     ]
    }
   ],
   "source": [
    "non_dr_score = naive_bayes_score(df_encoded,y_readmitted,df_test_encoded,y_test_readmitted)\n",
    "print(f\"Full param mse score is {non_dr_score}\")"
   ]
  },
  {
   "cell_type": "code",
   "execution_count": null,
   "metadata": {},
   "outputs": [
    {
     "name": "stderr",
     "output_type": "stream",
     "text": [
      "/Users/szy/Downloads/yes/envs/COMP0169/lib/python3.10/site-packages/sklearn/utils/validation.py:1183: DataConversionWarning: A column-vector y was passed when a 1d array was expected. Please change the shape of y to (n_samples, ), for example using ravel().\n",
      "  y = column_or_1d(y, warn=True)\n"
     ]
    },
    {
     "name": "stdout",
     "output_type": "stream",
     "text": [
      "(9947,) (9947, 1)\n",
      "PCA mse score is 0.7946666240292409\n"
     ]
    }
   ],
   "source": [
    "pca_score = naive_bayes_score(pca_result,y_readmitted,test_pca_result,y_test_readmitted)\n",
    "print(f\"PCA mse score is {pca_score}\")"
   ]
  },
  {
   "cell_type": "code",
   "execution_count": null,
   "metadata": {},
   "outputs": [
    {
     "ename": "KeyboardInterrupt",
     "evalue": "",
     "output_type": "error",
     "traceback": [
      "\u001b[0;31m---------------------------------------------------------------------------\u001b[0m",
      "\u001b[0;31mKeyboardInterrupt\u001b[0m                         Traceback (most recent call last)",
      "Cell \u001b[0;32mIn[735], line 2\u001b[0m\n\u001b[1;32m      1\u001b[0m tsne \u001b[38;5;241m=\u001b[39m TSNE(n_components\u001b[38;5;241m=\u001b[39m\u001b[38;5;241m3\u001b[39m, perplexity\u001b[38;5;241m=\u001b[39m\u001b[38;5;241m30\u001b[39m, n_iter\u001b[38;5;241m=\u001b[39m\u001b[38;5;241m300\u001b[39m)\n\u001b[0;32m----> 2\u001b[0m tsne_result \u001b[38;5;241m=\u001b[39m \u001b[43mtsne\u001b[49m\u001b[38;5;241;43m.\u001b[39;49m\u001b[43mfit_transform\u001b[49m\u001b[43m(\u001b[49m\u001b[43mdf_encoded\u001b[49m\u001b[43m)\u001b[49m\n",
      "File \u001b[0;32m~/Downloads/yes/envs/COMP0169/lib/python3.10/site-packages/sklearn/utils/_set_output.py:157\u001b[0m, in \u001b[0;36m_wrap_method_output.<locals>.wrapped\u001b[0;34m(self, X, *args, **kwargs)\u001b[0m\n\u001b[1;32m    155\u001b[0m \u001b[38;5;129m@wraps\u001b[39m(f)\n\u001b[1;32m    156\u001b[0m \u001b[38;5;28;01mdef\u001b[39;00m \u001b[38;5;21mwrapped\u001b[39m(\u001b[38;5;28mself\u001b[39m, X, \u001b[38;5;241m*\u001b[39margs, \u001b[38;5;241m*\u001b[39m\u001b[38;5;241m*\u001b[39mkwargs):\n\u001b[0;32m--> 157\u001b[0m     data_to_wrap \u001b[38;5;241m=\u001b[39m \u001b[43mf\u001b[49m\u001b[43m(\u001b[49m\u001b[38;5;28;43mself\u001b[39;49m\u001b[43m,\u001b[49m\u001b[43m \u001b[49m\u001b[43mX\u001b[49m\u001b[43m,\u001b[49m\u001b[43m \u001b[49m\u001b[38;5;241;43m*\u001b[39;49m\u001b[43margs\u001b[49m\u001b[43m,\u001b[49m\u001b[43m \u001b[49m\u001b[38;5;241;43m*\u001b[39;49m\u001b[38;5;241;43m*\u001b[39;49m\u001b[43mkwargs\u001b[49m\u001b[43m)\u001b[49m\n\u001b[1;32m    158\u001b[0m     \u001b[38;5;28;01mif\u001b[39;00m \u001b[38;5;28misinstance\u001b[39m(data_to_wrap, \u001b[38;5;28mtuple\u001b[39m):\n\u001b[1;32m    159\u001b[0m         \u001b[38;5;66;03m# only wrap the first output for cross decomposition\u001b[39;00m\n\u001b[1;32m    160\u001b[0m         return_tuple \u001b[38;5;241m=\u001b[39m (\n\u001b[1;32m    161\u001b[0m             _wrap_data_with_container(method, data_to_wrap[\u001b[38;5;241m0\u001b[39m], X, \u001b[38;5;28mself\u001b[39m),\n\u001b[1;32m    162\u001b[0m             \u001b[38;5;241m*\u001b[39mdata_to_wrap[\u001b[38;5;241m1\u001b[39m:],\n\u001b[1;32m    163\u001b[0m         )\n",
      "File \u001b[0;32m~/Downloads/yes/envs/COMP0169/lib/python3.10/site-packages/sklearn/base.py:1152\u001b[0m, in \u001b[0;36m_fit_context.<locals>.decorator.<locals>.wrapper\u001b[0;34m(estimator, *args, **kwargs)\u001b[0m\n\u001b[1;32m   1145\u001b[0m     estimator\u001b[38;5;241m.\u001b[39m_validate_params()\n\u001b[1;32m   1147\u001b[0m \u001b[38;5;28;01mwith\u001b[39;00m config_context(\n\u001b[1;32m   1148\u001b[0m     skip_parameter_validation\u001b[38;5;241m=\u001b[39m(\n\u001b[1;32m   1149\u001b[0m         prefer_skip_nested_validation \u001b[38;5;129;01mor\u001b[39;00m global_skip_validation\n\u001b[1;32m   1150\u001b[0m     )\n\u001b[1;32m   1151\u001b[0m ):\n\u001b[0;32m-> 1152\u001b[0m     \u001b[38;5;28;01mreturn\u001b[39;00m \u001b[43mfit_method\u001b[49m\u001b[43m(\u001b[49m\u001b[43mestimator\u001b[49m\u001b[43m,\u001b[49m\u001b[43m \u001b[49m\u001b[38;5;241;43m*\u001b[39;49m\u001b[43margs\u001b[49m\u001b[43m,\u001b[49m\u001b[43m \u001b[49m\u001b[38;5;241;43m*\u001b[39;49m\u001b[38;5;241;43m*\u001b[39;49m\u001b[43mkwargs\u001b[49m\u001b[43m)\u001b[49m\n",
      "File \u001b[0;32m~/Downloads/yes/envs/COMP0169/lib/python3.10/site-packages/sklearn/manifold/_t_sne.py:1111\u001b[0m, in \u001b[0;36mTSNE.fit_transform\u001b[0;34m(self, X, y)\u001b[0m\n\u001b[1;32m   1090\u001b[0m \u001b[38;5;250m\u001b[39m\u001b[38;5;124;03m\"\"\"Fit X into an embedded space and return that transformed output.\u001b[39;00m\n\u001b[1;32m   1091\u001b[0m \n\u001b[1;32m   1092\u001b[0m \u001b[38;5;124;03mParameters\u001b[39;00m\n\u001b[0;32m   (...)\u001b[0m\n\u001b[1;32m   1108\u001b[0m \u001b[38;5;124;03m    Embedding of the training data in low-dimensional space.\u001b[39;00m\n\u001b[1;32m   1109\u001b[0m \u001b[38;5;124;03m\"\"\"\u001b[39;00m\n\u001b[1;32m   1110\u001b[0m \u001b[38;5;28mself\u001b[39m\u001b[38;5;241m.\u001b[39m_check_params_vs_input(X)\n\u001b[0;32m-> 1111\u001b[0m embedding \u001b[38;5;241m=\u001b[39m \u001b[38;5;28;43mself\u001b[39;49m\u001b[38;5;241;43m.\u001b[39;49m\u001b[43m_fit\u001b[49m\u001b[43m(\u001b[49m\u001b[43mX\u001b[49m\u001b[43m)\u001b[49m\n\u001b[1;32m   1112\u001b[0m \u001b[38;5;28mself\u001b[39m\u001b[38;5;241m.\u001b[39membedding_ \u001b[38;5;241m=\u001b[39m embedding\n\u001b[1;32m   1113\u001b[0m \u001b[38;5;28;01mreturn\u001b[39;00m \u001b[38;5;28mself\u001b[39m\u001b[38;5;241m.\u001b[39membedding_\n",
      "File \u001b[0;32m~/Downloads/yes/envs/COMP0169/lib/python3.10/site-packages/sklearn/manifold/_t_sne.py:1001\u001b[0m, in \u001b[0;36mTSNE._fit\u001b[0;34m(self, X, skip_num_points)\u001b[0m\n\u001b[1;32m    995\u001b[0m \u001b[38;5;66;03m# Degrees of freedom of the Student's t-distribution. The suggestion\u001b[39;00m\n\u001b[1;32m    996\u001b[0m \u001b[38;5;66;03m# degrees_of_freedom = n_components - 1 comes from\u001b[39;00m\n\u001b[1;32m    997\u001b[0m \u001b[38;5;66;03m# \"Learning a Parametric Embedding by Preserving Local Structure\"\u001b[39;00m\n\u001b[1;32m    998\u001b[0m \u001b[38;5;66;03m# Laurens van der Maaten, 2009.\u001b[39;00m\n\u001b[1;32m    999\u001b[0m degrees_of_freedom \u001b[38;5;241m=\u001b[39m \u001b[38;5;28mmax\u001b[39m(\u001b[38;5;28mself\u001b[39m\u001b[38;5;241m.\u001b[39mn_components \u001b[38;5;241m-\u001b[39m \u001b[38;5;241m1\u001b[39m, \u001b[38;5;241m1\u001b[39m)\n\u001b[0;32m-> 1001\u001b[0m \u001b[38;5;28;01mreturn\u001b[39;00m \u001b[38;5;28;43mself\u001b[39;49m\u001b[38;5;241;43m.\u001b[39;49m\u001b[43m_tsne\u001b[49m\u001b[43m(\u001b[49m\n\u001b[1;32m   1002\u001b[0m \u001b[43m    \u001b[49m\u001b[43mP\u001b[49m\u001b[43m,\u001b[49m\n\u001b[1;32m   1003\u001b[0m \u001b[43m    \u001b[49m\u001b[43mdegrees_of_freedom\u001b[49m\u001b[43m,\u001b[49m\n\u001b[1;32m   1004\u001b[0m \u001b[43m    \u001b[49m\u001b[43mn_samples\u001b[49m\u001b[43m,\u001b[49m\n\u001b[1;32m   1005\u001b[0m \u001b[43m    \u001b[49m\u001b[43mX_embedded\u001b[49m\u001b[38;5;241;43m=\u001b[39;49m\u001b[43mX_embedded\u001b[49m\u001b[43m,\u001b[49m\n\u001b[1;32m   1006\u001b[0m \u001b[43m    \u001b[49m\u001b[43mneighbors\u001b[49m\u001b[38;5;241;43m=\u001b[39;49m\u001b[43mneighbors_nn\u001b[49m\u001b[43m,\u001b[49m\n\u001b[1;32m   1007\u001b[0m \u001b[43m    \u001b[49m\u001b[43mskip_num_points\u001b[49m\u001b[38;5;241;43m=\u001b[39;49m\u001b[43mskip_num_points\u001b[49m\u001b[43m,\u001b[49m\n\u001b[1;32m   1008\u001b[0m \u001b[43m\u001b[49m\u001b[43m)\u001b[49m\n",
      "File \u001b[0;32m~/Downloads/yes/envs/COMP0169/lib/python3.10/site-packages/sklearn/manifold/_t_sne.py:1053\u001b[0m, in \u001b[0;36mTSNE._tsne\u001b[0;34m(self, P, degrees_of_freedom, n_samples, X_embedded, neighbors, skip_num_points)\u001b[0m\n\u001b[1;32m   1050\u001b[0m \u001b[38;5;66;03m# Learning schedule (part 1): do 250 iteration with lower momentum but\u001b[39;00m\n\u001b[1;32m   1051\u001b[0m \u001b[38;5;66;03m# higher learning rate controlled via the early exaggeration parameter\u001b[39;00m\n\u001b[1;32m   1052\u001b[0m P \u001b[38;5;241m*\u001b[39m\u001b[38;5;241m=\u001b[39m \u001b[38;5;28mself\u001b[39m\u001b[38;5;241m.\u001b[39mearly_exaggeration\n\u001b[0;32m-> 1053\u001b[0m params, kl_divergence, it \u001b[38;5;241m=\u001b[39m \u001b[43m_gradient_descent\u001b[49m\u001b[43m(\u001b[49m\u001b[43mobj_func\u001b[49m\u001b[43m,\u001b[49m\u001b[43m \u001b[49m\u001b[43mparams\u001b[49m\u001b[43m,\u001b[49m\u001b[43m \u001b[49m\u001b[38;5;241;43m*\u001b[39;49m\u001b[38;5;241;43m*\u001b[39;49m\u001b[43mopt_args\u001b[49m\u001b[43m)\u001b[49m\n\u001b[1;32m   1054\u001b[0m \u001b[38;5;28;01mif\u001b[39;00m \u001b[38;5;28mself\u001b[39m\u001b[38;5;241m.\u001b[39mverbose:\n\u001b[1;32m   1055\u001b[0m     \u001b[38;5;28mprint\u001b[39m(\n\u001b[1;32m   1056\u001b[0m         \u001b[38;5;124m\"\u001b[39m\u001b[38;5;124m[t-SNE] KL divergence after \u001b[39m\u001b[38;5;132;01m%d\u001b[39;00m\u001b[38;5;124m iterations with early exaggeration: \u001b[39m\u001b[38;5;132;01m%f\u001b[39;00m\u001b[38;5;124m\"\u001b[39m\n\u001b[1;32m   1057\u001b[0m         \u001b[38;5;241m%\u001b[39m (it \u001b[38;5;241m+\u001b[39m \u001b[38;5;241m1\u001b[39m, kl_divergence)\n\u001b[1;32m   1058\u001b[0m     )\n",
      "File \u001b[0;32m~/Downloads/yes/envs/COMP0169/lib/python3.10/site-packages/sklearn/manifold/_t_sne.py:402\u001b[0m, in \u001b[0;36m_gradient_descent\u001b[0;34m(objective, p0, it, n_iter, n_iter_check, n_iter_without_progress, momentum, learning_rate, min_gain, min_grad_norm, verbose, args, kwargs)\u001b[0m\n\u001b[1;32m    399\u001b[0m \u001b[38;5;66;03m# only compute the error when needed\u001b[39;00m\n\u001b[1;32m    400\u001b[0m kwargs[\u001b[38;5;124m\"\u001b[39m\u001b[38;5;124mcompute_error\u001b[39m\u001b[38;5;124m\"\u001b[39m] \u001b[38;5;241m=\u001b[39m check_convergence \u001b[38;5;129;01mor\u001b[39;00m i \u001b[38;5;241m==\u001b[39m n_iter \u001b[38;5;241m-\u001b[39m \u001b[38;5;241m1\u001b[39m\n\u001b[0;32m--> 402\u001b[0m error, grad \u001b[38;5;241m=\u001b[39m \u001b[43mobjective\u001b[49m\u001b[43m(\u001b[49m\u001b[43mp\u001b[49m\u001b[43m,\u001b[49m\u001b[43m \u001b[49m\u001b[38;5;241;43m*\u001b[39;49m\u001b[43margs\u001b[49m\u001b[43m,\u001b[49m\u001b[43m \u001b[49m\u001b[38;5;241;43m*\u001b[39;49m\u001b[38;5;241;43m*\u001b[39;49m\u001b[43mkwargs\u001b[49m\u001b[43m)\u001b[49m\n\u001b[1;32m    404\u001b[0m inc \u001b[38;5;241m=\u001b[39m update \u001b[38;5;241m*\u001b[39m grad \u001b[38;5;241m<\u001b[39m \u001b[38;5;241m0.0\u001b[39m\n\u001b[1;32m    405\u001b[0m dec \u001b[38;5;241m=\u001b[39m np\u001b[38;5;241m.\u001b[39minvert(inc)\n",
      "File \u001b[0;32m~/Downloads/yes/envs/COMP0169/lib/python3.10/site-packages/sklearn/manifold/_t_sne.py:283\u001b[0m, in \u001b[0;36m_kl_divergence_bh\u001b[0;34m(params, P, degrees_of_freedom, n_samples, n_components, angle, skip_num_points, verbose, compute_error, num_threads)\u001b[0m\n\u001b[1;32m    280\u001b[0m indptr \u001b[38;5;241m=\u001b[39m P\u001b[38;5;241m.\u001b[39mindptr\u001b[38;5;241m.\u001b[39mastype(np\u001b[38;5;241m.\u001b[39mint64, copy\u001b[38;5;241m=\u001b[39m\u001b[38;5;28;01mFalse\u001b[39;00m)\n\u001b[1;32m    282\u001b[0m grad \u001b[38;5;241m=\u001b[39m np\u001b[38;5;241m.\u001b[39mzeros(X_embedded\u001b[38;5;241m.\u001b[39mshape, dtype\u001b[38;5;241m=\u001b[39mnp\u001b[38;5;241m.\u001b[39mfloat32)\n\u001b[0;32m--> 283\u001b[0m error \u001b[38;5;241m=\u001b[39m \u001b[43m_barnes_hut_tsne\u001b[49m\u001b[38;5;241;43m.\u001b[39;49m\u001b[43mgradient\u001b[49m\u001b[43m(\u001b[49m\n\u001b[1;32m    284\u001b[0m \u001b[43m    \u001b[49m\u001b[43mval_P\u001b[49m\u001b[43m,\u001b[49m\n\u001b[1;32m    285\u001b[0m \u001b[43m    \u001b[49m\u001b[43mX_embedded\u001b[49m\u001b[43m,\u001b[49m\n\u001b[1;32m    286\u001b[0m \u001b[43m    \u001b[49m\u001b[43mneighbors\u001b[49m\u001b[43m,\u001b[49m\n\u001b[1;32m    287\u001b[0m \u001b[43m    \u001b[49m\u001b[43mindptr\u001b[49m\u001b[43m,\u001b[49m\n\u001b[1;32m    288\u001b[0m \u001b[43m    \u001b[49m\u001b[43mgrad\u001b[49m\u001b[43m,\u001b[49m\n\u001b[1;32m    289\u001b[0m \u001b[43m    \u001b[49m\u001b[43mangle\u001b[49m\u001b[43m,\u001b[49m\n\u001b[1;32m    290\u001b[0m \u001b[43m    \u001b[49m\u001b[43mn_components\u001b[49m\u001b[43m,\u001b[49m\n\u001b[1;32m    291\u001b[0m \u001b[43m    \u001b[49m\u001b[43mverbose\u001b[49m\u001b[43m,\u001b[49m\n\u001b[1;32m    292\u001b[0m \u001b[43m    \u001b[49m\u001b[43mdof\u001b[49m\u001b[38;5;241;43m=\u001b[39;49m\u001b[43mdegrees_of_freedom\u001b[49m\u001b[43m,\u001b[49m\n\u001b[1;32m    293\u001b[0m \u001b[43m    \u001b[49m\u001b[43mcompute_error\u001b[49m\u001b[38;5;241;43m=\u001b[39;49m\u001b[43mcompute_error\u001b[49m\u001b[43m,\u001b[49m\n\u001b[1;32m    294\u001b[0m \u001b[43m    \u001b[49m\u001b[43mnum_threads\u001b[49m\u001b[38;5;241;43m=\u001b[39;49m\u001b[43mnum_threads\u001b[49m\u001b[43m,\u001b[49m\n\u001b[1;32m    295\u001b[0m \u001b[43m\u001b[49m\u001b[43m)\u001b[49m\n\u001b[1;32m    296\u001b[0m c \u001b[38;5;241m=\u001b[39m \u001b[38;5;241m2.0\u001b[39m \u001b[38;5;241m*\u001b[39m (degrees_of_freedom \u001b[38;5;241m+\u001b[39m \u001b[38;5;241m1.0\u001b[39m) \u001b[38;5;241m/\u001b[39m degrees_of_freedom\n\u001b[1;32m    297\u001b[0m grad \u001b[38;5;241m=\u001b[39m grad\u001b[38;5;241m.\u001b[39mravel()\n",
      "\u001b[0;31mKeyboardInterrupt\u001b[0m: "
     ]
    }
   ],
   "source": [
    "tsne = TSNE(n_components=3, perplexity=30, n_iter=300)\n",
    "tsne_result = tsne.fit_transform(df_encoded)"
   ]
  },
  {
   "cell_type": "code",
   "execution_count": null,
   "metadata": {},
   "outputs": [],
   "source": [
    "tsne = TSNE(n_components=3, perplexity=30, n_iter=300)\n",
    "tsne_test_result = tsne.fit_transform(df_test_encoded)"
   ]
  },
  {
   "cell_type": "code",
   "execution_count": null,
   "metadata": {},
   "outputs": [
    {
     "name": "stderr",
     "output_type": "stream",
     "text": [
      "/Users/szy/Downloads/yes/envs/COMP0169/lib/python3.10/site-packages/sklearn/utils/validation.py:1183: DataConversionWarning: A column-vector y was passed when a 1d array was expected. Please change the shape of y to (n_samples, ), for example using ravel().\n",
      "  y = column_or_1d(y, warn=True)\n"
     ]
    },
    {
     "name": "stdout",
     "output_type": "stream",
     "text": [
      "(9947,) (9947, 1)\n",
      "tsne mse score is 0.7911758498790953\n"
     ]
    }
   ],
   "source": [
    "tsne_score = naive_bayes_score(tsne_result,y_readmitted,tsne_test_result,y_test_readmitted)\n",
    "print(f\"tsne mse score is {tsne_score}\")"
   ]
  },
  {
   "cell_type": "markdown",
   "metadata": {},
   "source": [
    "UMAP"
   ]
  },
  {
   "cell_type": "code",
   "execution_count": null,
   "metadata": {},
   "outputs": [
    {
     "name": "stderr",
     "output_type": "stream",
     "text": [
      "OMP: Info #276: omp_set_nested routine deprecated, please use omp_set_max_active_levels instead.\n"
     ]
    }
   ],
   "source": [
    "umap_model = umap.UMAP(n_neighbors=5, min_dist=0.3, n_components=2)\n",
    "umap_result = umap_model.fit_transform(df_encoded)\n",
    "umap_test_result = umap_model.fit_transform(df_test_encoded)\n"
   ]
  },
  {
   "cell_type": "code",
   "execution_count": null,
   "metadata": {},
   "outputs": [
    {
     "name": "stderr",
     "output_type": "stream",
     "text": [
      "/Users/szy/Downloads/yes/envs/COMP0169/lib/python3.10/site-packages/sklearn/utils/validation.py:1183: DataConversionWarning: A column-vector y was passed when a 1d array was expected. Please change the shape of y to (n_samples, ), for example using ravel().\n",
      "  y = column_or_1d(y, warn=True)\n"
     ]
    },
    {
     "name": "stdout",
     "output_type": "stream",
     "text": [
      "(9947,) (9947, 1)\n",
      "umpa mse score is 0.7914949230923897\n"
     ]
    }
   ],
   "source": [
    "umpa_score = naive_bayes_score(umap_result,y_readmitted,umap_test_result,y_test_readmitted)\n",
    "print(f\"umpa mse score is {umpa_score}\")"
   ]
  },
  {
   "cell_type": "markdown",
   "metadata": {},
   "source": [
    "PCA and t-sne"
   ]
  },
  {
   "cell_type": "code",
   "execution_count": null,
   "metadata": {},
   "outputs": [],
   "source": [
    "tsne = TSNE(n_components=3, perplexity=30, n_iter=300)\n",
    "pca_tsne_trian_result = tsne.fit_transform(pca_result)"
   ]
  },
  {
   "cell_type": "code",
   "execution_count": null,
   "metadata": {},
   "outputs": [],
   "source": [
    "tsne = TSNE(n_components=3, perplexity=30, n_iter=300)\n",
    "pca_tsne_result = tsne.fit_transform(test_pca_result)"
   ]
  },
  {
   "cell_type": "code",
   "execution_count": null,
   "metadata": {},
   "outputs": [
    {
     "name": "stderr",
     "output_type": "stream",
     "text": [
      "/Users/szy/Downloads/yes/envs/COMP0169/lib/python3.10/site-packages/sklearn/utils/validation.py:1183: DataConversionWarning: A column-vector y was passed when a 1d array was expected. Please change the shape of y to (n_samples, ), for example using ravel().\n",
      "  y = column_or_1d(y, warn=True)\n"
     ]
    },
    {
     "name": "stdout",
     "output_type": "stream",
     "text": [
      "(9947,) (9947, 1)\n",
      "pca-tsne mse score is 0.7901026036161961\n"
     ]
    }
   ],
   "source": [
    "pca_tsne_score = naive_bayes_score(pca_tsne_trian_result,y_readmitted,pca_tsne_result,y_test_readmitted)\n",
    "print(f\"pca-tsne mse score is {pca_tsne_score}\")"
   ]
  },
  {
   "cell_type": "code",
   "execution_count": null,
   "metadata": {},
   "outputs": [],
   "source": [
    "from sklearn.preprocessing import MinMaxScaler\n",
    "from tensorflow.keras.models import Model\n",
    "from tensorflow.keras.layers import Input, Dense\n",
    "from tensorflow.keras.optimizers import Adam"
   ]
  },
  {
   "cell_type": "code",
   "execution_count": null,
   "metadata": {},
   "outputs": [],
   "source": [
    "# Number of features in your dataset\n",
    "n_features = len(df_encoded.columns)  # Change this to the actual number of features\n",
    "\n",
    "# Define the encoder\n",
    "input_layer = Input(shape=(n_features,))\n",
    "encoder = Dense(64, activation='relu')(input_layer)\n",
    "encoder = Dense(32, activation='relu')(encoder)\n",
    "\n",
    "# Define the bottleneck\n",
    "bottleneck = Dense(10, activation='relu')(encoder)  # This is the latent space representation\n",
    "\n",
    "# Define the decoder (mirror the encoder)\n",
    "decoder = Dense(32, activation='relu')(bottleneck)\n",
    "decoder = Dense(64, activation='relu')(decoder)\n",
    "\n",
    "# Output layer\n",
    "output_layer = Dense(n_features, activation='sigmoid')(decoder)  # Use 'sigmoid' or 'relu'\n",
    "\n",
    "# Define the autoencoder model\n",
    "autoencoder = Model(inputs=input_layer, outputs=output_layer)\n",
    "\n",
    "# Compile the autoencoder\n",
    "autoencoder.compile(optimizer='adam', loss='mse')"
   ]
  },
  {
   "cell_type": "code",
   "execution_count": null,
   "metadata": {},
   "outputs": [
    {
     "name": "stdout",
     "output_type": "stream",
     "text": [
      "Epoch 1/200\n",
      "699/699 [==============================] - 2s 2ms/step - loss: 3.0804 - val_loss: 3.0044\n",
      "Epoch 2/200\n",
      "699/699 [==============================] - 1s 1ms/step - loss: 3.0040 - val_loss: 2.9736\n",
      "Epoch 3/200\n",
      "699/699 [==============================] - 1s 1ms/step - loss: 2.9856 - val_loss: 2.9653\n",
      "Epoch 4/200\n",
      "699/699 [==============================] - 1s 1ms/step - loss: 2.9801 - val_loss: 2.9605\n",
      "Epoch 5/200\n",
      "699/699 [==============================] - 1s 1ms/step - loss: 2.9765 - val_loss: 2.9586\n",
      "Epoch 6/200\n",
      "699/699 [==============================] - 1s 1ms/step - loss: 2.9751 - val_loss: 2.9573\n",
      "Epoch 7/200\n",
      "699/699 [==============================] - 1s 1ms/step - loss: 2.9741 - val_loss: 2.9571\n",
      "Epoch 8/200\n",
      "699/699 [==============================] - 1s 1ms/step - loss: 2.9729 - val_loss: 2.9552\n",
      "Epoch 9/200\n",
      "699/699 [==============================] - 1s 1ms/step - loss: 2.9723 - val_loss: 2.9578\n",
      "Epoch 10/200\n",
      "699/699 [==============================] - 1s 1ms/step - loss: 2.9720 - val_loss: 2.9549\n",
      "Epoch 11/200\n",
      "699/699 [==============================] - 1s 1ms/step - loss: 2.9714 - val_loss: 2.9538\n",
      "Epoch 12/200\n",
      "699/699 [==============================] - 1s 1ms/step - loss: 2.9711 - val_loss: 2.9538\n",
      "Epoch 13/200\n",
      "699/699 [==============================] - 1s 1ms/step - loss: 2.9707 - val_loss: 2.9530\n",
      "Epoch 14/200\n",
      "699/699 [==============================] - 1s 1ms/step - loss: 2.9702 - val_loss: 2.9526\n",
      "Epoch 15/200\n",
      "699/699 [==============================] - 1s 1ms/step - loss: 2.9711 - val_loss: 2.9529\n",
      "Epoch 16/200\n",
      "699/699 [==============================] - 1s 1ms/step - loss: 2.9698 - val_loss: 2.9526\n",
      "Epoch 17/200\n",
      "699/699 [==============================] - 1s 1ms/step - loss: 2.9698 - val_loss: 2.9525\n",
      "Epoch 18/200\n",
      "699/699 [==============================] - 1s 1ms/step - loss: 2.9696 - val_loss: 2.9524\n",
      "Epoch 19/200\n",
      "699/699 [==============================] - 1s 1ms/step - loss: 2.9696 - val_loss: 2.9539\n",
      "Epoch 20/200\n",
      "699/699 [==============================] - 1s 1ms/step - loss: 2.9702 - val_loss: 2.9526\n",
      "Epoch 21/200\n",
      "699/699 [==============================] - 1s 1ms/step - loss: 2.9693 - val_loss: 2.9522\n",
      "Epoch 22/200\n",
      "699/699 [==============================] - 1s 1ms/step - loss: 2.9692 - val_loss: 2.9521\n",
      "Epoch 23/200\n",
      "699/699 [==============================] - 1s 1ms/step - loss: 2.9698 - val_loss: 2.9519\n",
      "Epoch 24/200\n",
      "699/699 [==============================] - 1s 1ms/step - loss: 2.9693 - val_loss: 2.9517\n",
      "Epoch 25/200\n",
      "699/699 [==============================] - 1s 1ms/step - loss: 2.9690 - val_loss: 2.9519\n",
      "Epoch 26/200\n",
      "699/699 [==============================] - 1s 1ms/step - loss: 2.9690 - val_loss: 2.9519\n",
      "Epoch 27/200\n",
      "699/699 [==============================] - 1s 1ms/step - loss: 2.9692 - val_loss: 2.9522\n",
      "Epoch 28/200\n",
      "699/699 [==============================] - 1s 1ms/step - loss: 2.9689 - val_loss: 2.9518\n",
      "Epoch 29/200\n",
      "699/699 [==============================] - 1s 1ms/step - loss: 2.9690 - val_loss: 2.9515\n",
      "Epoch 30/200\n",
      "699/699 [==============================] - 1s 1ms/step - loss: 2.9688 - val_loss: 2.9514\n",
      "Epoch 31/200\n",
      "699/699 [==============================] - 1s 1ms/step - loss: 2.9687 - val_loss: 2.9513\n",
      "Epoch 32/200\n",
      "699/699 [==============================] - 1s 1ms/step - loss: 2.9685 - val_loss: 2.9510\n",
      "Epoch 33/200\n",
      "699/699 [==============================] - 1s 1ms/step - loss: 2.9687 - val_loss: 2.9510\n",
      "Epoch 34/200\n",
      "699/699 [==============================] - 1s 1ms/step - loss: 2.9684 - val_loss: 2.9510\n",
      "Epoch 35/200\n",
      "699/699 [==============================] - 1s 1ms/step - loss: 2.9683 - val_loss: 2.9510\n",
      "Epoch 36/200\n",
      "699/699 [==============================] - 1s 1ms/step - loss: 2.9684 - val_loss: 2.9515\n",
      "Epoch 37/200\n",
      "699/699 [==============================] - 1s 1ms/step - loss: 2.9683 - val_loss: 2.9508\n",
      "Epoch 38/200\n",
      "699/699 [==============================] - 1s 1ms/step - loss: 2.9683 - val_loss: 2.9509\n",
      "Epoch 39/200\n",
      "699/699 [==============================] - 1s 1ms/step - loss: 2.9683 - val_loss: 2.9514\n",
      "Epoch 40/200\n",
      "699/699 [==============================] - 1s 1ms/step - loss: 2.9682 - val_loss: 2.9508\n",
      "Epoch 41/200\n",
      "699/699 [==============================] - 1s 1ms/step - loss: 2.9689 - val_loss: 2.9519\n",
      "Epoch 42/200\n",
      "699/699 [==============================] - 1s 1ms/step - loss: 2.9682 - val_loss: 2.9510\n",
      "Epoch 43/200\n",
      "699/699 [==============================] - 1s 1ms/step - loss: 2.9683 - val_loss: 2.9508\n",
      "Epoch 44/200\n",
      "699/699 [==============================] - 1s 1ms/step - loss: 2.9685 - val_loss: 2.9508\n",
      "Epoch 45/200\n",
      "699/699 [==============================] - 1s 1ms/step - loss: 2.9682 - val_loss: 2.9512\n",
      "Epoch 46/200\n",
      "699/699 [==============================] - 1s 1ms/step - loss: 2.9683 - val_loss: 2.9508\n",
      "Epoch 47/200\n",
      "699/699 [==============================] - 1s 1ms/step - loss: 2.9681 - val_loss: 2.9508\n",
      "Epoch 48/200\n",
      "699/699 [==============================] - 1s 1ms/step - loss: 2.9681 - val_loss: 2.9508\n",
      "Epoch 49/200\n",
      "699/699 [==============================] - 1s 1ms/step - loss: 2.9681 - val_loss: 2.9508\n",
      "Epoch 50/200\n",
      "699/699 [==============================] - 1s 1ms/step - loss: 2.9685 - val_loss: 2.9507\n",
      "Epoch 51/200\n",
      "699/699 [==============================] - 1s 1ms/step - loss: 2.9681 - val_loss: 2.9508\n",
      "Epoch 52/200\n",
      "699/699 [==============================] - 1s 1ms/step - loss: 2.9692 - val_loss: 2.9516\n",
      "Epoch 53/200\n",
      "699/699 [==============================] - 1s 1ms/step - loss: 2.9683 - val_loss: 2.9508\n",
      "Epoch 54/200\n",
      "699/699 [==============================] - 1s 1ms/step - loss: 2.9681 - val_loss: 2.9507\n",
      "Epoch 55/200\n",
      "699/699 [==============================] - 1s 1ms/step - loss: 2.9691 - val_loss: 2.9509\n",
      "Epoch 56/200\n",
      "699/699 [==============================] - 1s 1ms/step - loss: 2.9681 - val_loss: 2.9509\n",
      "Epoch 57/200\n",
      "699/699 [==============================] - 1s 1ms/step - loss: 2.9682 - val_loss: 2.9513\n",
      "Epoch 58/200\n",
      "699/699 [==============================] - 1s 1ms/step - loss: 2.9681 - val_loss: 2.9507\n",
      "Epoch 59/200\n",
      "699/699 [==============================] - 1s 1ms/step - loss: 2.9683 - val_loss: 2.9511\n",
      "Epoch 60/200\n",
      "699/699 [==============================] - 1s 1ms/step - loss: 2.9682 - val_loss: 2.9507\n",
      "Epoch 61/200\n",
      "699/699 [==============================] - 1s 1ms/step - loss: 2.9681 - val_loss: 2.9510\n",
      "Epoch 62/200\n",
      "699/699 [==============================] - 1s 1ms/step - loss: 2.9681 - val_loss: 2.9510\n",
      "Epoch 63/200\n",
      "699/699 [==============================] - 1s 1ms/step - loss: 2.9681 - val_loss: 2.9509\n",
      "Epoch 64/200\n",
      "699/699 [==============================] - 1s 1ms/step - loss: 2.9683 - val_loss: 2.9506\n",
      "Epoch 65/200\n",
      "699/699 [==============================] - 1s 1ms/step - loss: 2.9681 - val_loss: 2.9510\n",
      "Epoch 66/200\n",
      "699/699 [==============================] - 1s 1ms/step - loss: 2.9681 - val_loss: 2.9507\n",
      "Epoch 67/200\n",
      "699/699 [==============================] - 1s 1ms/step - loss: 2.9685 - val_loss: 2.9511\n",
      "Epoch 68/200\n",
      "699/699 [==============================] - 1s 1ms/step - loss: 2.9681 - val_loss: 2.9507\n",
      "Epoch 69/200\n",
      "699/699 [==============================] - 1s 1ms/step - loss: 2.9694 - val_loss: 2.9520\n",
      "Epoch 70/200\n",
      "699/699 [==============================] - 1s 1ms/step - loss: 2.9682 - val_loss: 2.9508\n",
      "Epoch 71/200\n",
      "699/699 [==============================] - 1s 1ms/step - loss: 2.9681 - val_loss: 2.9508\n",
      "Epoch 72/200\n",
      "699/699 [==============================] - 1s 1ms/step - loss: 2.9681 - val_loss: 2.9508\n",
      "Epoch 73/200\n",
      "699/699 [==============================] - 1s 1ms/step - loss: 2.9683 - val_loss: 2.9507\n",
      "Epoch 74/200\n",
      "699/699 [==============================] - 1s 1ms/step - loss: 2.9681 - val_loss: 2.9507\n",
      "Epoch 75/200\n",
      "699/699 [==============================] - 1s 1ms/step - loss: 2.9686 - val_loss: 2.9509\n",
      "Epoch 76/200\n",
      "699/699 [==============================] - 1s 1ms/step - loss: 2.9681 - val_loss: 2.9507\n",
      "Epoch 77/200\n",
      "699/699 [==============================] - 1s 1ms/step - loss: 2.9681 - val_loss: 2.9507\n",
      "Epoch 78/200\n",
      "699/699 [==============================] - 1s 1ms/step - loss: 2.9684 - val_loss: 2.9509\n",
      "Epoch 79/200\n",
      "699/699 [==============================] - 1s 1ms/step - loss: 2.9680 - val_loss: 2.9507\n",
      "Epoch 80/200\n",
      "699/699 [==============================] - 1s 1ms/step - loss: 2.9680 - val_loss: 2.9506\n",
      "Epoch 81/200\n",
      "699/699 [==============================] - 1s 1ms/step - loss: 2.9683 - val_loss: 2.9506\n",
      "Epoch 82/200\n",
      "699/699 [==============================] - 1s 1ms/step - loss: 2.9680 - val_loss: 2.9506\n",
      "Epoch 83/200\n",
      "699/699 [==============================] - 1s 1ms/step - loss: 2.9685 - val_loss: 2.9510\n",
      "Epoch 84/200\n",
      "699/699 [==============================] - 1s 1ms/step - loss: 2.9680 - val_loss: 2.9508\n",
      "Epoch 85/200\n",
      "699/699 [==============================] - 1s 1ms/step - loss: 2.9680 - val_loss: 2.9506\n",
      "Epoch 86/200\n",
      "699/699 [==============================] - 1s 1ms/step - loss: 2.9680 - val_loss: 2.9506\n",
      "Epoch 87/200\n",
      "699/699 [==============================] - 1s 1ms/step - loss: 2.9682 - val_loss: 2.9505\n",
      "Epoch 88/200\n",
      "699/699 [==============================] - 1s 1ms/step - loss: 2.9679 - val_loss: 2.9505\n",
      "Epoch 89/200\n",
      "699/699 [==============================] - 1s 1ms/step - loss: 2.9682 - val_loss: 2.9505\n",
      "Epoch 90/200\n",
      "699/699 [==============================] - 1s 1ms/step - loss: 2.9679 - val_loss: 2.9505\n",
      "Epoch 91/200\n",
      "699/699 [==============================] - 1s 1ms/step - loss: 2.9681 - val_loss: 2.9506\n",
      "Epoch 92/200\n",
      "699/699 [==============================] - 1s 1ms/step - loss: 2.9679 - val_loss: 2.9505\n",
      "Epoch 93/200\n",
      "699/699 [==============================] - 1s 1ms/step - loss: 2.9687 - val_loss: 2.9518\n",
      "Epoch 94/200\n",
      "699/699 [==============================] - 1s 1ms/step - loss: 2.9694 - val_loss: 2.9518\n",
      "Epoch 95/200\n",
      "699/699 [==============================] - 1s 1ms/step - loss: 2.9693 - val_loss: 2.9584\n",
      "Epoch 96/200\n",
      "699/699 [==============================] - 1s 1ms/step - loss: 2.9695 - val_loss: 2.9518\n",
      "Epoch 97/200\n",
      "699/699 [==============================] - 1s 1ms/step - loss: 2.9695 - val_loss: 2.9518\n",
      "Epoch 98/200\n",
      "699/699 [==============================] - 1s 1ms/step - loss: 2.9693 - val_loss: 2.9518\n",
      "Epoch 99/200\n",
      "699/699 [==============================] - 1s 1ms/step - loss: 2.9693 - val_loss: 2.9518\n",
      "Epoch 100/200\n",
      "699/699 [==============================] - 1s 1ms/step - loss: 2.9696 - val_loss: 2.9519\n",
      "Epoch 101/200\n",
      "699/699 [==============================] - 1s 1ms/step - loss: 2.9683 - val_loss: 2.9506\n",
      "Epoch 102/200\n",
      "699/699 [==============================] - 1s 1ms/step - loss: 2.9681 - val_loss: 2.9506\n",
      "Epoch 103/200\n",
      "699/699 [==============================] - 1s 1ms/step - loss: 2.9681 - val_loss: 2.9508\n",
      "Epoch 104/200\n",
      "699/699 [==============================] - 1s 1ms/step - loss: 2.9684 - val_loss: 2.9507\n",
      "Epoch 105/200\n",
      "699/699 [==============================] - 2s 2ms/step - loss: 2.9681 - val_loss: 2.9506\n",
      "Epoch 106/200\n",
      "699/699 [==============================] - 1s 1ms/step - loss: 2.9680 - val_loss: 2.9506\n",
      "Epoch 107/200\n",
      "699/699 [==============================] - 1s 1ms/step - loss: 2.9683 - val_loss: 2.9507\n",
      "Epoch 108/200\n",
      "699/699 [==============================] - 1s 1ms/step - loss: 2.9680 - val_loss: 2.9506\n",
      "Epoch 109/200\n",
      "699/699 [==============================] - 1s 1ms/step - loss: 2.9680 - val_loss: 2.9506\n",
      "Epoch 110/200\n",
      "699/699 [==============================] - 1s 1ms/step - loss: 2.9681 - val_loss: 2.9513\n",
      "Epoch 111/200\n",
      "699/699 [==============================] - 1s 1ms/step - loss: 2.9681 - val_loss: 2.9507\n",
      "Epoch 112/200\n",
      "699/699 [==============================] - 1s 1ms/step - loss: 2.9686 - val_loss: 2.9579\n",
      "Epoch 113/200\n",
      "699/699 [==============================] - 1s 2ms/step - loss: 2.9683 - val_loss: 2.9507\n",
      "Epoch 114/200\n",
      "699/699 [==============================] - 2s 2ms/step - loss: 2.9680 - val_loss: 2.9506\n",
      "Epoch 115/200\n",
      "699/699 [==============================] - 1s 1ms/step - loss: 2.9680 - val_loss: 2.9507\n",
      "Epoch 116/200\n",
      "699/699 [==============================] - 1s 1ms/step - loss: 2.9682 - val_loss: 2.9507\n",
      "Epoch 117/200\n",
      "699/699 [==============================] - 1s 1ms/step - loss: 2.9680 - val_loss: 2.9507\n",
      "Epoch 118/200\n",
      "699/699 [==============================] - 1s 1ms/step - loss: 2.9680 - val_loss: 2.9507\n",
      "Epoch 119/200\n",
      "699/699 [==============================] - 1s 1ms/step - loss: 2.9680 - val_loss: 2.9506\n",
      "Epoch 120/200\n",
      "699/699 [==============================] - 1s 1ms/step - loss: 2.9680 - val_loss: 2.9506\n",
      "Epoch 121/200\n",
      "699/699 [==============================] - 1s 1ms/step - loss: 2.9682 - val_loss: 2.9507\n",
      "Epoch 122/200\n",
      "699/699 [==============================] - 1s 1ms/step - loss: 2.9681 - val_loss: 2.9506\n",
      "Epoch 123/200\n",
      "699/699 [==============================] - 1s 1ms/step - loss: 2.9681 - val_loss: 2.9507\n",
      "Epoch 124/200\n",
      "699/699 [==============================] - 1s 2ms/step - loss: 2.9680 - val_loss: 2.9506\n",
      "Epoch 125/200\n",
      "699/699 [==============================] - 1s 1ms/step - loss: 2.9680 - val_loss: 2.9512\n",
      "Epoch 126/200\n",
      "699/699 [==============================] - 1s 1ms/step - loss: 2.9681 - val_loss: 2.9506\n",
      "Epoch 127/200\n",
      "699/699 [==============================] - 1s 1ms/step - loss: 2.9680 - val_loss: 2.9506\n",
      "Epoch 128/200\n",
      "699/699 [==============================] - 1s 1ms/step - loss: 2.9691 - val_loss: 2.9515\n",
      "Epoch 129/200\n",
      "699/699 [==============================] - 1s 1ms/step - loss: 2.9681 - val_loss: 2.9505\n",
      "Epoch 130/200\n",
      "699/699 [==============================] - 1s 1ms/step - loss: 2.9680 - val_loss: 2.9506\n",
      "Epoch 131/200\n",
      "699/699 [==============================] - 1s 1ms/step - loss: 2.9680 - val_loss: 2.9505\n",
      "Epoch 132/200\n",
      "699/699 [==============================] - 1s 1ms/step - loss: 2.9686 - val_loss: 2.9511\n",
      "Epoch 133/200\n",
      "699/699 [==============================] - 1s 1ms/step - loss: 2.9682 - val_loss: 2.9506\n",
      "Epoch 134/200\n",
      "699/699 [==============================] - 1s 1ms/step - loss: 2.9680 - val_loss: 2.9506\n",
      "Epoch 135/200\n",
      "699/699 [==============================] - 1s 1ms/step - loss: 2.9680 - val_loss: 2.9505\n",
      "Epoch 136/200\n",
      "699/699 [==============================] - 1s 1ms/step - loss: 2.9682 - val_loss: 2.9506\n",
      "Epoch 137/200\n",
      "699/699 [==============================] - 1s 1ms/step - loss: 2.9680 - val_loss: 2.9506\n",
      "Epoch 138/200\n",
      "699/699 [==============================] - 1s 2ms/step - loss: 2.9680 - val_loss: 2.9506\n",
      "Epoch 139/200\n",
      "699/699 [==============================] - 1s 1ms/step - loss: 2.9680 - val_loss: 2.9507\n",
      "Epoch 140/200\n",
      "699/699 [==============================] - 1s 1ms/step - loss: 2.9681 - val_loss: 2.9505\n",
      "Epoch 141/200\n",
      "699/699 [==============================] - 1s 1ms/step - loss: 2.9680 - val_loss: 2.9506\n",
      "Epoch 142/200\n",
      "699/699 [==============================] - 1s 1ms/step - loss: 2.9680 - val_loss: 2.9506\n",
      "Epoch 143/200\n",
      "699/699 [==============================] - 1s 1ms/step - loss: 2.9680 - val_loss: 2.9505\n",
      "Epoch 144/200\n",
      "699/699 [==============================] - 1s 1ms/step - loss: 2.9681 - val_loss: 2.9506\n",
      "Epoch 145/200\n",
      "699/699 [==============================] - 1s 1ms/step - loss: 2.9682 - val_loss: 2.9506\n",
      "Epoch 146/200\n",
      "699/699 [==============================] - 1s 1ms/step - loss: 2.9680 - val_loss: 2.9506\n",
      "Epoch 147/200\n",
      "699/699 [==============================] - 1s 1ms/step - loss: 2.9680 - val_loss: 2.9505\n",
      "Epoch 148/200\n",
      "699/699 [==============================] - 1s 1ms/step - loss: 2.9680 - val_loss: 2.9505\n",
      "Epoch 149/200\n",
      "699/699 [==============================] - 1s 1ms/step - loss: 2.9682 - val_loss: 2.9507\n",
      "Epoch 150/200\n",
      "699/699 [==============================] - 1s 1ms/step - loss: 2.9681 - val_loss: 2.9505\n",
      "Epoch 151/200\n",
      "699/699 [==============================] - 1s 1ms/step - loss: 2.9680 - val_loss: 2.9505\n",
      "Epoch 152/200\n",
      "699/699 [==============================] - 1s 1ms/step - loss: 2.9680 - val_loss: 2.9506\n",
      "Epoch 153/200\n",
      "699/699 [==============================] - 1s 1ms/step - loss: 2.9679 - val_loss: 2.9505\n",
      "Epoch 154/200\n",
      "699/699 [==============================] - 1s 1ms/step - loss: 2.9681 - val_loss: 2.9506\n",
      "Epoch 155/200\n",
      "699/699 [==============================] - 1s 1ms/step - loss: 2.9679 - val_loss: 2.9505\n",
      "Epoch 156/200\n",
      "699/699 [==============================] - 1s 1ms/step - loss: 2.9679 - val_loss: 2.9505\n",
      "Epoch 157/200\n",
      "699/699 [==============================] - 1s 1ms/step - loss: 2.9679 - val_loss: 2.9504\n",
      "Epoch 158/200\n",
      "699/699 [==============================] - 1s 1ms/step - loss: 2.9686 - val_loss: 2.9523\n",
      "Epoch 159/200\n",
      "699/699 [==============================] - 1s 1ms/step - loss: 2.9680 - val_loss: 2.9504\n",
      "Epoch 160/200\n",
      "699/699 [==============================] - 1s 1ms/step - loss: 2.9679 - val_loss: 2.9505\n",
      "Epoch 161/200\n",
      "699/699 [==============================] - 1s 1ms/step - loss: 2.9679 - val_loss: 2.9504\n",
      "Epoch 162/200\n",
      "699/699 [==============================] - 1s 1ms/step - loss: 2.9680 - val_loss: 2.9506\n",
      "Epoch 163/200\n",
      "699/699 [==============================] - 1s 1ms/step - loss: 2.9679 - val_loss: 2.9506\n",
      "Epoch 164/200\n",
      "699/699 [==============================] - 1s 1ms/step - loss: 2.9679 - val_loss: 2.9512\n",
      "Epoch 165/200\n",
      "699/699 [==============================] - 1s 1ms/step - loss: 2.9681 - val_loss: 2.9504\n",
      "Epoch 166/200\n",
      "699/699 [==============================] - 1s 1ms/step - loss: 2.9678 - val_loss: 2.9503\n",
      "Epoch 167/200\n",
      "699/699 [==============================] - 1s 1ms/step - loss: 2.9678 - val_loss: 2.9503\n",
      "Epoch 168/200\n",
      "699/699 [==============================] - 1s 1ms/step - loss: 2.9678 - val_loss: 2.9503\n",
      "Epoch 169/200\n",
      "699/699 [==============================] - 1s 1ms/step - loss: 2.9682 - val_loss: 2.9504\n",
      "Epoch 170/200\n",
      "699/699 [==============================] - 1s 1ms/step - loss: 2.9679 - val_loss: 2.9503\n",
      "Epoch 171/200\n",
      "699/699 [==============================] - 1s 1ms/step - loss: 2.9679 - val_loss: 2.9503\n",
      "Epoch 172/200\n",
      "699/699 [==============================] - 1s 1ms/step - loss: 2.9678 - val_loss: 2.9503\n",
      "Epoch 173/200\n",
      "699/699 [==============================] - 1s 2ms/step - loss: 2.9679 - val_loss: 2.9504\n",
      "Epoch 174/200\n",
      "699/699 [==============================] - 1s 1ms/step - loss: 2.9679 - val_loss: 2.9522\n",
      "Epoch 175/200\n",
      "699/699 [==============================] - 1s 2ms/step - loss: 2.9679 - val_loss: 2.9503\n",
      "Epoch 176/200\n",
      "699/699 [==============================] - 1s 2ms/step - loss: 2.9678 - val_loss: 2.9504\n",
      "Epoch 177/200\n",
      "699/699 [==============================] - 1s 1ms/step - loss: 2.9683 - val_loss: 2.9504\n",
      "Epoch 178/200\n",
      "699/699 [==============================] - 1s 1ms/step - loss: 2.9678 - val_loss: 2.9504\n",
      "Epoch 179/200\n",
      "699/699 [==============================] - 1s 1ms/step - loss: 2.9679 - val_loss: 2.9503\n",
      "Epoch 180/200\n",
      "699/699 [==============================] - 1s 1ms/step - loss: 2.9678 - val_loss: 2.9504\n",
      "Epoch 181/200\n",
      "699/699 [==============================] - 1s 2ms/step - loss: 2.9678 - val_loss: 2.9504\n",
      "Epoch 182/200\n",
      "699/699 [==============================] - 1s 2ms/step - loss: 2.9680 - val_loss: 2.9503\n",
      "Epoch 183/200\n",
      "699/699 [==============================] - 1s 1ms/step - loss: 2.9678 - val_loss: 2.9503\n",
      "Epoch 184/200\n",
      "699/699 [==============================] - 1s 1ms/step - loss: 2.9678 - val_loss: 2.9505\n",
      "Epoch 185/200\n",
      "699/699 [==============================] - 1s 1ms/step - loss: 2.9681 - val_loss: 2.9504\n",
      "Epoch 186/200\n",
      "699/699 [==============================] - 1s 1ms/step - loss: 2.9678 - val_loss: 2.9503\n",
      "Epoch 187/200\n",
      "699/699 [==============================] - 1s 1ms/step - loss: 2.9679 - val_loss: 2.9503\n",
      "Epoch 188/200\n",
      "699/699 [==============================] - 1s 1ms/step - loss: 2.9678 - val_loss: 2.9503\n",
      "Epoch 189/200\n",
      "699/699 [==============================] - 1s 1ms/step - loss: 2.9678 - val_loss: 2.9503\n",
      "Epoch 190/200\n",
      "699/699 [==============================] - 1s 1ms/step - loss: 2.9681 - val_loss: 2.9504\n",
      "Epoch 191/200\n",
      "699/699 [==============================] - 1s 1ms/step - loss: 2.9678 - val_loss: 2.9503\n",
      "Epoch 192/200\n",
      "699/699 [==============================] - 1s 1ms/step - loss: 2.9678 - val_loss: 2.9503\n",
      "Epoch 193/200\n",
      "699/699 [==============================] - 1s 1ms/step - loss: 2.9678 - val_loss: 2.9503\n",
      "Epoch 194/200\n",
      "699/699 [==============================] - 1s 1ms/step - loss: 2.9679 - val_loss: 2.9503\n",
      "Epoch 195/200\n",
      "699/699 [==============================] - 1s 1ms/step - loss: 2.9679 - val_loss: 2.9504\n",
      "Epoch 196/200\n",
      "699/699 [==============================] - 1s 1ms/step - loss: 2.9679 - val_loss: 2.9503\n",
      "Epoch 197/200\n",
      "699/699 [==============================] - 1s 1ms/step - loss: 2.9678 - val_loss: 2.9691\n",
      "Epoch 198/200\n",
      "699/699 [==============================] - 1s 1ms/step - loss: 2.9683 - val_loss: 2.9503\n",
      "Epoch 199/200\n",
      "699/699 [==============================] - 1s 1ms/step - loss: 2.9679 - val_loss: 2.9503\n",
      "Epoch 200/200\n",
      "699/699 [==============================] - 1s 1ms/step - loss: 2.9678 - val_loss: 2.9506\n"
     ]
    },
    {
     "data": {
      "text/plain": [
       "<keras.callbacks.History at 0x3db953100>"
      ]
     },
     "execution_count": 738,
     "metadata": {},
     "output_type": "execute_result"
    }
   ],
   "source": [
    "df_encoded = df_encoded.astype('float32')\n",
    "df_test_encoded = df_test_encoded.astype('float32')\n",
    "autoencoder.fit(df_encoded, df_encoded,  # The target is the input data itself\n",
    "                epochs=200,\n",
    "                batch_size=128,\n",
    "                shuffle=True,\n",
    "                validation_data=(df_test_encoded, df_test_encoded))"
   ]
  },
  {
   "cell_type": "code",
   "execution_count": null,
   "metadata": {},
   "outputs": [
    {
     "name": "stdout",
     "output_type": "stream",
     "text": [
      "2793/2793 [==============================] - 2s 780us/step\n",
      "2793/2793 [==============================] - 2s 791us/step\n",
      "311/311 [==============================] - 0s 671us/step\n",
      "311/311 [==============================] - 0s 960us/step\n"
     ]
    }
   ],
   "source": [
    "encoder_model = Model(inputs=input_layer, outputs=bottleneck)\n",
    "compressed_data = encoder_model.predict(df_encoded)\n",
    "reconstructed_data = autoencoder.predict(df_encoded)\n",
    "\n",
    "compressed_test_data = encoder_model.predict(df_test_encoded)\n",
    "reconstructed_test_data = autoencoder.predict(df_test_encoded)"
   ]
  },
  {
   "cell_type": "code",
   "execution_count": null,
   "metadata": {},
   "outputs": [
    {
     "name": "stderr",
     "output_type": "stream",
     "text": [
      "/Users/szy/Downloads/yes/envs/COMP0169/lib/python3.10/site-packages/sklearn/utils/validation.py:1183: DataConversionWarning: A column-vector y was passed when a 1d array was expected. Please change the shape of y to (n_samples, ), for example using ravel().\n",
      "  y = column_or_1d(y, warn=True)\n"
     ]
    },
    {
     "name": "stdout",
     "output_type": "stream",
     "text": [
      "AE mse score is 0.7734944537505499, AE accuracy score is 0.5512214738111993\n"
     ]
    }
   ],
   "source": [
    "AE_score, accuracy = naive_bayes_score(reconstructed_data,y_readmitted,reconstructed_test_data,y_test_readmitted)\n",
    "print(f\"AE mse score is {AE_score}, AE accuracy score is {accuracy}\")"
   ]
  },
  {
   "attachments": {},
   "cell_type": "markdown",
   "metadata": {},
   "source": [
    "# Model Building\n",
    "We will build two models: \n",
    "1. A traditional machine learning model using Random Forest.\n",
    "2. A deep learning model using PyTorch.\n"
   ]
  },
  {
   "attachments": {},
   "cell_type": "markdown",
   "metadata": {},
   "source": [
    "At the first step we will try to use the Random Forest method to get the result"
   ]
  },
  {
   "cell_type": "code",
   "execution_count": null,
   "metadata": {},
   "outputs": [],
   "source": [
    "'''\n",
    "X = reconstructed_data\n",
    "y = y_readmitted\n",
    "X_test = reconstructed_test_data\n",
    "y_test = y_test_readmitted\n",
    "\n",
    "\n",
    "from sklearn.datasets import make_classification\n",
    "from imblearn.over_sampling import SMOTE\n",
    "from collections import Counter\n",
    "\n",
    "sm = SMOTE(random_state=42)\n",
    "X, y = sm.fit_resample(X, y)\n",
    "'''\n",
    "X = df_encoded\n",
    "y = y_readmitted\n",
    "X_test = df_test_encoded\n",
    "y_test = y_test_readmitted"
   ]
  },
  {
   "cell_type": "code",
   "execution_count": null,
   "metadata": {},
   "outputs": [
    {
     "name": "stderr",
     "output_type": "stream",
     "text": [
      "/Users/szy/Downloads/yes/envs/COMP0169/lib/python3.10/site-packages/sklearn/utils/validation.py:1183: DataConversionWarning: A column-vector y was passed when a 1d array was expected. Please change the shape of y to (n_samples, ), for example using ravel().\n",
      "  y = column_or_1d(y, warn=True)\n"
     ]
    },
    {
     "name": "stdout",
     "output_type": "stream",
     "text": [
      "0.5867095606715592\n"
     ]
    }
   ],
   "source": [
    "HGB_classifier = HistGradientBoostingClassifier(max_iter=100)\n",
    "HGB_classifier.fit(X, y)\n",
    "Y_pred = HGB_classifier.predict(X_test)\n",
    "print(accuracy_score(y_test,Y_pred))"
   ]
  },
  {
   "cell_type": "code",
   "execution_count": null,
   "metadata": {},
   "outputs": [],
   "source": [
    "pd.DataFrame(Y_pred).to_csv(\"temp.csv\",index = False)"
   ]
  },
  {
   "cell_type": "code",
   "execution_count": null,
   "metadata": {},
   "outputs": [
    {
     "name": "stderr",
     "output_type": "stream",
     "text": [
      "/Users/szy/Downloads/yes/envs/COMP0169/lib/python3.10/site-packages/sklearn/base.py:1152: DataConversionWarning: A column-vector y was passed when a 1d array was expected. Please change the shape of y to (n_samples,), for example using ravel().\n",
      "  return fit_method(estimator, *args, **kwargs)\n"
     ]
    },
    {
     "name": "stdout",
     "output_type": "stream",
     "text": [
      "0.5757514828591536\n"
     ]
    }
   ],
   "source": [
    "# the code for Random Forest algorithm\n",
    "from sklearn.feature_selection import SelectFromModel\n",
    "\n",
    "RF_classifier = RandomForestClassifier(n_estimators=100)\n",
    "RF_classifier.fit(X, y)\n",
    "\n",
    "Y_pred = RF_classifier.predict(X_test)\n",
    "print(accuracy_score(y_test,Y_pred))"
   ]
  },
  {
   "cell_type": "code",
   "execution_count": null,
   "metadata": {},
   "outputs": [
    {
     "data": {
      "text/plain": [
       "array([0, 0, 0, ..., 0, 0, 1])"
      ]
     },
     "execution_count": 796,
     "metadata": {},
     "output_type": "execute_result"
    }
   ],
   "source": []
  },
  {
   "cell_type": "code",
   "execution_count": null,
   "metadata": {},
   "outputs": [],
   "source": [
    "X = pd.DataFrame(X)"
   ]
  },
  {
   "cell_type": "code",
   "execution_count": null,
   "metadata": {},
   "outputs": [
    {
     "name": "stdout",
     "output_type": "stream",
     "text": [
      "torch.Size([89361, 3])\n",
      "tensor([[0., 1., 0.],\n",
      "        [1., 0., 0.],\n",
      "        [1., 0., 0.],\n",
      "        ...,\n",
      "        [1., 0., 0.],\n",
      "        [1., 0., 0.],\n",
      "        [1., 0., 0.]])\n"
     ]
    },
    {
     "name": "stderr",
     "output_type": "stream",
     "text": [
      "100%|██████████| 90/90 [00:01<00:00, 74.22it/s]\n",
      "100%|██████████| 90/90 [00:01<00:00, 83.30it/s]\n",
      "100%|██████████| 90/90 [00:01<00:00, 85.30it/s]\n",
      "100%|██████████| 90/90 [00:00<00:00, 92.27it/s]\n",
      "100%|██████████| 90/90 [00:00<00:00, 93.74it/s]\n",
      "100%|██████████| 90/90 [00:00<00:00, 90.56it/s]\n",
      "100%|██████████| 90/90 [00:00<00:00, 96.46it/s]\n",
      "100%|██████████| 90/90 [00:00<00:00, 94.84it/s]\n",
      "100%|██████████| 90/90 [00:01<00:00, 86.79it/s]\n",
      "100%|██████████| 90/90 [00:00<00:00, 92.46it/s]\n",
      "100%|██████████| 90/90 [00:00<00:00, 92.25it/s]\n",
      "100%|██████████| 90/90 [00:00<00:00, 94.07it/s]\n",
      "100%|██████████| 90/90 [00:00<00:00, 93.98it/s]\n",
      "100%|██████████| 90/90 [00:01<00:00, 84.09it/s]\n",
      "100%|██████████| 90/90 [00:00<00:00, 95.41it/s]\n",
      "100%|██████████| 90/90 [00:00<00:00, 94.50it/s]\n",
      "100%|██████████| 90/90 [00:00<00:00, 96.20it/s]\n",
      "100%|██████████| 90/90 [00:00<00:00, 93.28it/s]\n",
      "100%|██████████| 90/90 [00:00<00:00, 93.97it/s]\n",
      "100%|██████████| 90/90 [00:00<00:00, 93.55it/s]\n",
      "100%|██████████| 90/90 [00:00<00:00, 93.45it/s]\n",
      "100%|██████████| 90/90 [00:00<00:00, 94.68it/s]\n",
      "100%|██████████| 90/90 [00:01<00:00, 89.94it/s]\n",
      "100%|██████████| 90/90 [00:00<00:00, 96.02it/s]\n",
      "100%|██████████| 90/90 [00:00<00:00, 94.91it/s]\n",
      "100%|██████████| 90/90 [00:00<00:00, 93.41it/s]\n",
      "100%|██████████| 90/90 [00:13<00:00,  6.44it/s]\n",
      "100%|██████████| 90/90 [00:00<00:00, 96.65it/s]\n",
      "100%|██████████| 90/90 [00:00<00:00, 95.35it/s]\n",
      "100%|██████████| 90/90 [00:00<00:00, 93.94it/s]\n",
      "100%|██████████| 90/90 [00:00<00:00, 91.96it/s]\n",
      "100%|██████████| 90/90 [00:00<00:00, 96.99it/s]\n",
      "100%|██████████| 90/90 [00:00<00:00, 94.77it/s]\n",
      "100%|██████████| 90/90 [00:00<00:00, 90.29it/s]\n",
      "100%|██████████| 90/90 [00:00<00:00, 90.41it/s]\n",
      "100%|██████████| 90/90 [00:00<00:00, 96.58it/s]\n",
      "100%|██████████| 90/90 [00:00<00:00, 96.81it/s]\n",
      "100%|██████████| 90/90 [00:00<00:00, 95.88it/s]\n",
      "100%|██████████| 90/90 [00:00<00:00, 95.59it/s]\n",
      "100%|██████████| 90/90 [00:00<00:00, 95.96it/s]\n",
      "100%|██████████| 90/90 [00:00<00:00, 93.24it/s]\n",
      "100%|██████████| 90/90 [00:00<00:00, 97.40it/s]\n",
      "100%|██████████| 90/90 [00:00<00:00, 95.84it/s]\n",
      "100%|██████████| 90/90 [00:00<00:00, 96.41it/s]\n",
      "100%|██████████| 90/90 [00:00<00:00, 92.95it/s]\n",
      "100%|██████████| 90/90 [00:00<00:00, 97.74it/s]\n",
      "100%|██████████| 90/90 [00:00<00:00, 93.34it/s]\n",
      "100%|██████████| 90/90 [00:00<00:00, 92.58it/s]\n",
      "100%|██████████| 90/90 [00:00<00:00, 95.47it/s]\n",
      "100%|██████████| 90/90 [00:00<00:00, 92.34it/s]\n"
     ]
    }
   ],
   "source": [
    "# the code for Nerual Network\n",
    "class MLP(nn.Module):\n",
    "    '''\n",
    "    MLP class for predicting pixel values based on positions.\n",
    "    '''\n",
    "    def __init__(self, input_dimension, nb_layers, embedding_dimension, output_dimension):\n",
    "        super(MLP, self).__init__()\n",
    "\n",
    "        # Create a list to hold all layers\n",
    "        layers = []\n",
    "\n",
    "        # First layer\n",
    "        layers.append(nn.Linear(input_dimension, embedding_dimension))\n",
    "        layers.append(nn.Sigmoid())\n",
    "\n",
    "        # Additional hidden layers\n",
    "        for _ in range(nb_layers - 2):\n",
    "            layers.append(nn.Linear(embedding_dimension, embedding_dimension))\n",
    "            layers.append(nn.Sigmoid())\n",
    "\n",
    "        # Output layer\n",
    "        layers.append(nn.Linear(embedding_dimension, output_dimension))\n",
    "\n",
    "        # Combine all layers\n",
    "        self.layers = nn.Sequential(*layers)\n",
    "\n",
    "    def forward(self, input):\n",
    "        # Pass the input through all layers\n",
    "        prediction = self.layers(input)\n",
    "\n",
    "        return prediction\n",
    "\n",
    "model = MLP(len(X.columns),5,32,3)\n",
    "\n",
    "class CustomDataset(Dataset):\n",
    "    def __init__(self, data, labels):\n",
    "        self.data = data\n",
    "        self.labels = labels\n",
    "\n",
    "    def __len__(self):\n",
    "        return len(self.data)\n",
    "\n",
    "    def __getitem__(self, idx):\n",
    "        return self.data[idx], self.labels[idx]\n",
    "\n",
    "def loss_function(predict,target):\n",
    "    loss_func = nn.CrossEntropyLoss()\n",
    "    return loss_func(predict,target) \n",
    "\n",
    "\n",
    "X_tensor = torch.tensor(X.values.astype(float), dtype=torch.float32)\n",
    "df_y = pd.DataFrame(y)\n",
    "Y_dl = pd.get_dummies(df_y[0])\n",
    "\n",
    "y_tensor = torch.tensor(Y_dl.values.astype(float), dtype=torch.float32).squeeze(1)\n",
    "print(y_tensor.shape)\n",
    "print(y_tensor)\n",
    "\n",
    "\n",
    "target_task_data = CustomDataset(X_tensor,y_tensor)  # Load your target task data\n",
    "optimizer = torch.optim.Adam(model.parameters(), lr=0.001)\n",
    "device = 'cpu'\n",
    "model.to(device)\n",
    "model.train()\n",
    "\n",
    "for _ in range(50):\n",
    "    for batch in tqdm(DataLoader(target_task_data, batch_size=1000, shuffle=True)):\n",
    "        inputs, targets = batch\n",
    "        optimizer.zero_grad()\n",
    "        predictions = model(inputs)\n",
    "        loss = loss_function(predictions, targets)\n",
    "        loss.backward()\n",
    "        optimizer.step()\n",
    "\n",
    "if not os.path.exists(\"models/\"):\n",
    "  os.makedirs(\"./models/\")\n",
    "torch.save({\"model\":model}, \"models/diabets_prediction.pth\")"
   ]
  },
  {
   "cell_type": "code",
   "execution_count": null,
   "metadata": {},
   "outputs": [],
   "source": [
    "X_test = pd.DataFrame(X_test)"
   ]
  },
  {
   "cell_type": "code",
   "execution_count": null,
   "metadata": {},
   "outputs": [
    {
     "ename": "RuntimeError",
     "evalue": "mat1 and mat2 shapes cannot be multiplied (1x28 and 50x40)",
     "output_type": "error",
     "traceback": [
      "\u001b[0;31m---------------------------------------------------------------------------\u001b[0m",
      "\u001b[0;31mRuntimeError\u001b[0m                              Traceback (most recent call last)",
      "Cell \u001b[0;32mIn[787], line 11\u001b[0m\n\u001b[1;32m      9\u001b[0m \u001b[38;5;28;01mfor\u001b[39;00m data \u001b[38;5;129;01min\u001b[39;00m test_loader:  \u001b[38;5;66;03m# 假设 test_loader 是测试数据的 DataLoader\u001b[39;00m\n\u001b[1;32m     10\u001b[0m     inputs, labels \u001b[38;5;241m=\u001b[39m data\n\u001b[0;32m---> 11\u001b[0m     outputs \u001b[38;5;241m=\u001b[39m \u001b[43mmodel\u001b[49m\u001b[43m(\u001b[49m\u001b[43minputs\u001b[49m\u001b[43m)\u001b[49m\n\u001b[1;32m     12\u001b[0m     _, predicted \u001b[38;5;241m=\u001b[39m torch\u001b[38;5;241m.\u001b[39mmax(outputs\u001b[38;5;241m.\u001b[39mdata,\u001b[38;5;241m0\u001b[39m)\n\u001b[1;32m     14\u001b[0m     y_pred \u001b[38;5;241m=\u001b[39m predicted\u001b[38;5;241m.\u001b[39mitem()\n",
      "File \u001b[0;32m~/Downloads/yes/envs/COMP0169/lib/python3.10/site-packages/torch/nn/modules/module.py:1518\u001b[0m, in \u001b[0;36mModule._wrapped_call_impl\u001b[0;34m(self, *args, **kwargs)\u001b[0m\n\u001b[1;32m   1516\u001b[0m     \u001b[38;5;28;01mreturn\u001b[39;00m \u001b[38;5;28mself\u001b[39m\u001b[38;5;241m.\u001b[39m_compiled_call_impl(\u001b[38;5;241m*\u001b[39margs, \u001b[38;5;241m*\u001b[39m\u001b[38;5;241m*\u001b[39mkwargs)  \u001b[38;5;66;03m# type: ignore[misc]\u001b[39;00m\n\u001b[1;32m   1517\u001b[0m \u001b[38;5;28;01melse\u001b[39;00m:\n\u001b[0;32m-> 1518\u001b[0m     \u001b[38;5;28;01mreturn\u001b[39;00m \u001b[38;5;28;43mself\u001b[39;49m\u001b[38;5;241;43m.\u001b[39;49m\u001b[43m_call_impl\u001b[49m\u001b[43m(\u001b[49m\u001b[38;5;241;43m*\u001b[39;49m\u001b[43margs\u001b[49m\u001b[43m,\u001b[49m\u001b[43m \u001b[49m\u001b[38;5;241;43m*\u001b[39;49m\u001b[38;5;241;43m*\u001b[39;49m\u001b[43mkwargs\u001b[49m\u001b[43m)\u001b[49m\n",
      "File \u001b[0;32m~/Downloads/yes/envs/COMP0169/lib/python3.10/site-packages/torch/nn/modules/module.py:1527\u001b[0m, in \u001b[0;36mModule._call_impl\u001b[0;34m(self, *args, **kwargs)\u001b[0m\n\u001b[1;32m   1522\u001b[0m \u001b[38;5;66;03m# If we don't have any hooks, we want to skip the rest of the logic in\u001b[39;00m\n\u001b[1;32m   1523\u001b[0m \u001b[38;5;66;03m# this function, and just call forward.\u001b[39;00m\n\u001b[1;32m   1524\u001b[0m \u001b[38;5;28;01mif\u001b[39;00m \u001b[38;5;129;01mnot\u001b[39;00m (\u001b[38;5;28mself\u001b[39m\u001b[38;5;241m.\u001b[39m_backward_hooks \u001b[38;5;129;01mor\u001b[39;00m \u001b[38;5;28mself\u001b[39m\u001b[38;5;241m.\u001b[39m_backward_pre_hooks \u001b[38;5;129;01mor\u001b[39;00m \u001b[38;5;28mself\u001b[39m\u001b[38;5;241m.\u001b[39m_forward_hooks \u001b[38;5;129;01mor\u001b[39;00m \u001b[38;5;28mself\u001b[39m\u001b[38;5;241m.\u001b[39m_forward_pre_hooks\n\u001b[1;32m   1525\u001b[0m         \u001b[38;5;129;01mor\u001b[39;00m _global_backward_pre_hooks \u001b[38;5;129;01mor\u001b[39;00m _global_backward_hooks\n\u001b[1;32m   1526\u001b[0m         \u001b[38;5;129;01mor\u001b[39;00m _global_forward_hooks \u001b[38;5;129;01mor\u001b[39;00m _global_forward_pre_hooks):\n\u001b[0;32m-> 1527\u001b[0m     \u001b[38;5;28;01mreturn\u001b[39;00m \u001b[43mforward_call\u001b[49m\u001b[43m(\u001b[49m\u001b[38;5;241;43m*\u001b[39;49m\u001b[43margs\u001b[49m\u001b[43m,\u001b[49m\u001b[43m \u001b[49m\u001b[38;5;241;43m*\u001b[39;49m\u001b[38;5;241;43m*\u001b[39;49m\u001b[43mkwargs\u001b[49m\u001b[43m)\u001b[49m\n\u001b[1;32m   1529\u001b[0m \u001b[38;5;28;01mtry\u001b[39;00m:\n\u001b[1;32m   1530\u001b[0m     result \u001b[38;5;241m=\u001b[39m \u001b[38;5;28;01mNone\u001b[39;00m\n",
      "Cell \u001b[0;32mIn[783], line 24\u001b[0m, in \u001b[0;36mModel.forward\u001b[0;34m(self, x)\u001b[0m\n\u001b[1;32m     23\u001b[0m \u001b[38;5;28;01mdef\u001b[39;00m \u001b[38;5;21mforward\u001b[39m(\u001b[38;5;28mself\u001b[39m, x):\n\u001b[0;32m---> 24\u001b[0m     \u001b[38;5;28;01mreturn\u001b[39;00m \u001b[38;5;28;43mself\u001b[39;49m\u001b[38;5;241;43m.\u001b[39;49m\u001b[43mfc\u001b[49m\u001b[43m(\u001b[49m\u001b[43mx\u001b[49m\u001b[43m)\u001b[49m\n",
      "File \u001b[0;32m~/Downloads/yes/envs/COMP0169/lib/python3.10/site-packages/torch/nn/modules/module.py:1518\u001b[0m, in \u001b[0;36mModule._wrapped_call_impl\u001b[0;34m(self, *args, **kwargs)\u001b[0m\n\u001b[1;32m   1516\u001b[0m     \u001b[38;5;28;01mreturn\u001b[39;00m \u001b[38;5;28mself\u001b[39m\u001b[38;5;241m.\u001b[39m_compiled_call_impl(\u001b[38;5;241m*\u001b[39margs, \u001b[38;5;241m*\u001b[39m\u001b[38;5;241m*\u001b[39mkwargs)  \u001b[38;5;66;03m# type: ignore[misc]\u001b[39;00m\n\u001b[1;32m   1517\u001b[0m \u001b[38;5;28;01melse\u001b[39;00m:\n\u001b[0;32m-> 1518\u001b[0m     \u001b[38;5;28;01mreturn\u001b[39;00m \u001b[38;5;28;43mself\u001b[39;49m\u001b[38;5;241;43m.\u001b[39;49m\u001b[43m_call_impl\u001b[49m\u001b[43m(\u001b[49m\u001b[38;5;241;43m*\u001b[39;49m\u001b[43margs\u001b[49m\u001b[43m,\u001b[49m\u001b[43m \u001b[49m\u001b[38;5;241;43m*\u001b[39;49m\u001b[38;5;241;43m*\u001b[39;49m\u001b[43mkwargs\u001b[49m\u001b[43m)\u001b[49m\n",
      "File \u001b[0;32m~/Downloads/yes/envs/COMP0169/lib/python3.10/site-packages/torch/nn/modules/module.py:1527\u001b[0m, in \u001b[0;36mModule._call_impl\u001b[0;34m(self, *args, **kwargs)\u001b[0m\n\u001b[1;32m   1522\u001b[0m \u001b[38;5;66;03m# If we don't have any hooks, we want to skip the rest of the logic in\u001b[39;00m\n\u001b[1;32m   1523\u001b[0m \u001b[38;5;66;03m# this function, and just call forward.\u001b[39;00m\n\u001b[1;32m   1524\u001b[0m \u001b[38;5;28;01mif\u001b[39;00m \u001b[38;5;129;01mnot\u001b[39;00m (\u001b[38;5;28mself\u001b[39m\u001b[38;5;241m.\u001b[39m_backward_hooks \u001b[38;5;129;01mor\u001b[39;00m \u001b[38;5;28mself\u001b[39m\u001b[38;5;241m.\u001b[39m_backward_pre_hooks \u001b[38;5;129;01mor\u001b[39;00m \u001b[38;5;28mself\u001b[39m\u001b[38;5;241m.\u001b[39m_forward_hooks \u001b[38;5;129;01mor\u001b[39;00m \u001b[38;5;28mself\u001b[39m\u001b[38;5;241m.\u001b[39m_forward_pre_hooks\n\u001b[1;32m   1525\u001b[0m         \u001b[38;5;129;01mor\u001b[39;00m _global_backward_pre_hooks \u001b[38;5;129;01mor\u001b[39;00m _global_backward_hooks\n\u001b[1;32m   1526\u001b[0m         \u001b[38;5;129;01mor\u001b[39;00m _global_forward_hooks \u001b[38;5;129;01mor\u001b[39;00m _global_forward_pre_hooks):\n\u001b[0;32m-> 1527\u001b[0m     \u001b[38;5;28;01mreturn\u001b[39;00m \u001b[43mforward_call\u001b[49m\u001b[43m(\u001b[49m\u001b[38;5;241;43m*\u001b[39;49m\u001b[43margs\u001b[49m\u001b[43m,\u001b[49m\u001b[43m \u001b[49m\u001b[38;5;241;43m*\u001b[39;49m\u001b[38;5;241;43m*\u001b[39;49m\u001b[43mkwargs\u001b[49m\u001b[43m)\u001b[49m\n\u001b[1;32m   1529\u001b[0m \u001b[38;5;28;01mtry\u001b[39;00m:\n\u001b[1;32m   1530\u001b[0m     result \u001b[38;5;241m=\u001b[39m \u001b[38;5;28;01mNone\u001b[39;00m\n",
      "File \u001b[0;32m~/Downloads/yes/envs/COMP0169/lib/python3.10/site-packages/torch/nn/modules/container.py:215\u001b[0m, in \u001b[0;36mSequential.forward\u001b[0;34m(self, input)\u001b[0m\n\u001b[1;32m    213\u001b[0m \u001b[38;5;28;01mdef\u001b[39;00m \u001b[38;5;21mforward\u001b[39m(\u001b[38;5;28mself\u001b[39m, \u001b[38;5;28minput\u001b[39m):\n\u001b[1;32m    214\u001b[0m     \u001b[38;5;28;01mfor\u001b[39;00m module \u001b[38;5;129;01min\u001b[39;00m \u001b[38;5;28mself\u001b[39m:\n\u001b[0;32m--> 215\u001b[0m         \u001b[38;5;28minput\u001b[39m \u001b[38;5;241m=\u001b[39m \u001b[43mmodule\u001b[49m\u001b[43m(\u001b[49m\u001b[38;5;28;43minput\u001b[39;49m\u001b[43m)\u001b[49m\n\u001b[1;32m    216\u001b[0m     \u001b[38;5;28;01mreturn\u001b[39;00m \u001b[38;5;28minput\u001b[39m\n",
      "File \u001b[0;32m~/Downloads/yes/envs/COMP0169/lib/python3.10/site-packages/torch/nn/modules/module.py:1518\u001b[0m, in \u001b[0;36mModule._wrapped_call_impl\u001b[0;34m(self, *args, **kwargs)\u001b[0m\n\u001b[1;32m   1516\u001b[0m     \u001b[38;5;28;01mreturn\u001b[39;00m \u001b[38;5;28mself\u001b[39m\u001b[38;5;241m.\u001b[39m_compiled_call_impl(\u001b[38;5;241m*\u001b[39margs, \u001b[38;5;241m*\u001b[39m\u001b[38;5;241m*\u001b[39mkwargs)  \u001b[38;5;66;03m# type: ignore[misc]\u001b[39;00m\n\u001b[1;32m   1517\u001b[0m \u001b[38;5;28;01melse\u001b[39;00m:\n\u001b[0;32m-> 1518\u001b[0m     \u001b[38;5;28;01mreturn\u001b[39;00m \u001b[38;5;28;43mself\u001b[39;49m\u001b[38;5;241;43m.\u001b[39;49m\u001b[43m_call_impl\u001b[49m\u001b[43m(\u001b[49m\u001b[38;5;241;43m*\u001b[39;49m\u001b[43margs\u001b[49m\u001b[43m,\u001b[49m\u001b[43m \u001b[49m\u001b[38;5;241;43m*\u001b[39;49m\u001b[38;5;241;43m*\u001b[39;49m\u001b[43mkwargs\u001b[49m\u001b[43m)\u001b[49m\n",
      "File \u001b[0;32m~/Downloads/yes/envs/COMP0169/lib/python3.10/site-packages/torch/nn/modules/module.py:1527\u001b[0m, in \u001b[0;36mModule._call_impl\u001b[0;34m(self, *args, **kwargs)\u001b[0m\n\u001b[1;32m   1522\u001b[0m \u001b[38;5;66;03m# If we don't have any hooks, we want to skip the rest of the logic in\u001b[39;00m\n\u001b[1;32m   1523\u001b[0m \u001b[38;5;66;03m# this function, and just call forward.\u001b[39;00m\n\u001b[1;32m   1524\u001b[0m \u001b[38;5;28;01mif\u001b[39;00m \u001b[38;5;129;01mnot\u001b[39;00m (\u001b[38;5;28mself\u001b[39m\u001b[38;5;241m.\u001b[39m_backward_hooks \u001b[38;5;129;01mor\u001b[39;00m \u001b[38;5;28mself\u001b[39m\u001b[38;5;241m.\u001b[39m_backward_pre_hooks \u001b[38;5;129;01mor\u001b[39;00m \u001b[38;5;28mself\u001b[39m\u001b[38;5;241m.\u001b[39m_forward_hooks \u001b[38;5;129;01mor\u001b[39;00m \u001b[38;5;28mself\u001b[39m\u001b[38;5;241m.\u001b[39m_forward_pre_hooks\n\u001b[1;32m   1525\u001b[0m         \u001b[38;5;129;01mor\u001b[39;00m _global_backward_pre_hooks \u001b[38;5;129;01mor\u001b[39;00m _global_backward_hooks\n\u001b[1;32m   1526\u001b[0m         \u001b[38;5;129;01mor\u001b[39;00m _global_forward_hooks \u001b[38;5;129;01mor\u001b[39;00m _global_forward_pre_hooks):\n\u001b[0;32m-> 1527\u001b[0m     \u001b[38;5;28;01mreturn\u001b[39;00m \u001b[43mforward_call\u001b[49m\u001b[43m(\u001b[49m\u001b[38;5;241;43m*\u001b[39;49m\u001b[43margs\u001b[49m\u001b[43m,\u001b[49m\u001b[43m \u001b[49m\u001b[38;5;241;43m*\u001b[39;49m\u001b[38;5;241;43m*\u001b[39;49m\u001b[43mkwargs\u001b[49m\u001b[43m)\u001b[49m\n\u001b[1;32m   1529\u001b[0m \u001b[38;5;28;01mtry\u001b[39;00m:\n\u001b[1;32m   1530\u001b[0m     result \u001b[38;5;241m=\u001b[39m \u001b[38;5;28;01mNone\u001b[39;00m\n",
      "File \u001b[0;32m~/Downloads/yes/envs/COMP0169/lib/python3.10/site-packages/torch/nn/modules/linear.py:114\u001b[0m, in \u001b[0;36mLinear.forward\u001b[0;34m(self, input)\u001b[0m\n\u001b[1;32m    113\u001b[0m \u001b[38;5;28;01mdef\u001b[39;00m \u001b[38;5;21mforward\u001b[39m(\u001b[38;5;28mself\u001b[39m, \u001b[38;5;28minput\u001b[39m: Tensor) \u001b[38;5;241m-\u001b[39m\u001b[38;5;241m>\u001b[39m Tensor:\n\u001b[0;32m--> 114\u001b[0m     \u001b[38;5;28;01mreturn\u001b[39;00m \u001b[43mF\u001b[49m\u001b[38;5;241;43m.\u001b[39;49m\u001b[43mlinear\u001b[49m\u001b[43m(\u001b[49m\u001b[38;5;28;43minput\u001b[39;49m\u001b[43m,\u001b[49m\u001b[43m \u001b[49m\u001b[38;5;28;43mself\u001b[39;49m\u001b[38;5;241;43m.\u001b[39;49m\u001b[43mweight\u001b[49m\u001b[43m,\u001b[49m\u001b[43m \u001b[49m\u001b[38;5;28;43mself\u001b[39;49m\u001b[38;5;241;43m.\u001b[39;49m\u001b[43mbias\u001b[49m\u001b[43m)\u001b[49m\n",
      "\u001b[0;31mRuntimeError\u001b[0m: mat1 and mat2 shapes cannot be multiplied (1x28 and 50x40)"
     ]
    }
   ],
   "source": [
    "X_test_tensor = torch.tensor(X_test.values.astype(float),dtype=torch.float32)\n",
    "y_test_tensor = torch.tensor(y_test.astype(float), dtype=torch.float32)\n",
    "test_loader = TensorDataset(X_test_tensor, y_test_tensor)\n",
    "\n",
    "model.eval()\n",
    "total = 0\n",
    "correct = 0\n",
    "with torch.no_grad():\n",
    "    for data in test_loader:  # 假设 test_loader 是测试数据的 DataLoader\n",
    "        inputs, labels = data\n",
    "        outputs = model(inputs)\n",
    "        _, predicted = torch.max(outputs.data,0)\n",
    "        \n",
    "        y_pred = predicted.item()\n",
    "        total += 1\n",
    "        if( y_pred == labels):\n",
    "            correct += 1\n",
    "\n",
    "accuracy = correct / total\n",
    "print(accuracy)\n",
    "print(correct)\n",
    "print(total)"
   ]
  },
  {
   "cell_type": "code",
   "execution_count": null,
   "metadata": {},
   "outputs": [
    {
     "ename": "AttributeError",
     "evalue": "'numpy.ndarray' object has no attribute 'values'",
     "output_type": "error",
     "traceback": [
      "\u001b[0;31m---------------------------------------------------------------------------\u001b[0m",
      "\u001b[0;31mAttributeError\u001b[0m                            Traceback (most recent call last)",
      "Cell \u001b[0;32mIn[783], line 69\u001b[0m\n\u001b[1;32m     65\u001b[0m optimizer \u001b[38;5;241m=\u001b[39m optim\u001b[38;5;241m.\u001b[39mAdam(model\u001b[38;5;241m.\u001b[39mparameters(), lr\u001b[38;5;241m=\u001b[39mmeta_lr)\n\u001b[1;32m     68\u001b[0m X_tensor \u001b[38;5;241m=\u001b[39m torch\u001b[38;5;241m.\u001b[39mtensor(X\u001b[38;5;241m.\u001b[39mastype(\u001b[38;5;28mfloat\u001b[39m)\u001b[38;5;241m.\u001b[39mvalues, dtype\u001b[38;5;241m=\u001b[39mtorch\u001b[38;5;241m.\u001b[39mfloat32)\n\u001b[0;32m---> 69\u001b[0m y_tensor \u001b[38;5;241m=\u001b[39m torch\u001b[38;5;241m.\u001b[39mtensor(\u001b[43my\u001b[49m\u001b[38;5;241;43m.\u001b[39;49m\u001b[43mastype\u001b[49m\u001b[43m(\u001b[49m\u001b[38;5;28;43mint\u001b[39;49m\u001b[43m)\u001b[49m\u001b[38;5;241;43m.\u001b[39;49m\u001b[43mvalues\u001b[49m, dtype\u001b[38;5;241m=\u001b[39mtorch\u001b[38;5;241m.\u001b[39mlong)\n\u001b[1;32m     70\u001b[0m train_dataset \u001b[38;5;241m=\u001b[39m TensorDataset(X_tensor, y_tensor)\n\u001b[1;32m     72\u001b[0m X_test_tensor \u001b[38;5;241m=\u001b[39m torch\u001b[38;5;241m.\u001b[39mtensor(X_test\u001b[38;5;241m.\u001b[39mastype(\u001b[38;5;28mfloat\u001b[39m)\u001b[38;5;241m.\u001b[39mvalues,dtype\u001b[38;5;241m=\u001b[39mtorch\u001b[38;5;241m.\u001b[39mfloat32)\n",
      "\u001b[0;31mAttributeError\u001b[0m: 'numpy.ndarray' object has no attribute 'values'"
     ]
    }
   ],
   "source": [
    "# meta learning\n",
    "np.random.seed(0)\n",
    "torch.manual_seed(0)\n",
    "\n",
    "# 模型配置\n",
    "inner_lr = 0.01    # 内循环学习率\n",
    "meta_lr = 0.001    # 元学习率\n",
    "num_inner_updates = 1  # 每个任务的内部更新次数\n",
    "\n",
    "class Model(nn.Module):\n",
    "    def __init__(self):\n",
    "        super(Model, self).__init__()\n",
    "        self.fc = nn.Sequential(\n",
    "            nn.Linear(50, 40),\n",
    "            nn.ReLU(),\n",
    "            nn.Linear(40, 40),\n",
    "            nn.ReLU(),\n",
    "            nn.Linear(40,20),\n",
    "            nn.Sigmoid(),\n",
    "            nn.Linear(20, 3)\n",
    "        )\n",
    "\n",
    "    def forward(self, x):\n",
    "        return self.fc(x)\n",
    "\n",
    "def maml_train_step(model, optimizer, data_loader):\n",
    "    meta_loss = 0\n",
    "\n",
    "    for task_data in data_loader:\n",
    "        # 拆分数据为支持集和查询集\n",
    "        support_set, query_set = task_data\n",
    "        x_support, y_support = support_set\n",
    "        x_query, y_query = query_set\n",
    "\n",
    "        # 保存原始参数以便在每个任务后恢复\n",
    "        original_state_dict = model.state_dict()\n",
    "\n",
    "        # 内循环：在支持集上训练\n",
    "        for _ in range(num_inner_updates):\n",
    "            y_pred = model(x_support)\n",
    "            loss = nn.CrossEntropyLoss()(y_pred, y_support)\n",
    "            model.zero_grad()\n",
    "            loss.backward()\n",
    "            # 仅使用内循环学习率更新参数\n",
    "            for param in model.parameters():\n",
    "                param.data -= inner_lr * param.grad.data\n",
    "\n",
    "        # 外循环：在查询集上评估并更新元参数\n",
    "        y_pred_query = model(x_query)\n",
    "        query_loss = nn.CrossEntropyLoss()(y_pred_query, y_query)\n",
    "        meta_loss += query_loss\n",
    "\n",
    "        # 恢复模型到原始状态\n",
    "        model.load_state_dict(original_state_dict)\n",
    "\n",
    "    # 更新元参数\n",
    "    optimizer.zero_grad()\n",
    "    meta_loss.backward()\n",
    "    optimizer.step()\n",
    "\n",
    "    return meta_loss.item()\n",
    "\n",
    "# 实例化模型和优化器\n",
    "model = Model()\n",
    "optimizer = optim.Adam(model.parameters(), lr=meta_lr)\n",
    "\n",
    "\n",
    "X_tensor = torch.tensor(X.astype(float).values, dtype=torch.float32)\n",
    "y_tensor = torch.tensor(y.astype(int).values, dtype=torch.long)\n",
    "train_dataset = TensorDataset(X_tensor, y_tensor)\n",
    "\n",
    "X_test_tensor = torch.tensor(X_test.astype(float).values,dtype=torch.float32)\n",
    "y_test_tensor = torch.tensor(y_test.astype(int).values, dtype=torch.long)\n",
    "test_dataset = TensorDataset(X_test_tensor, y_test_tensor)\n",
    "\n",
    "train_data_loader = DataLoader(dataset=train_dataset, batch_size=32, shuffle=True)\n",
    "test_data_loader = DataLoader(dataset=test_dataset, batch_size=32, shuffle=True)\n",
    "\n",
    "num_epochs = 10\n",
    "# 训练循环（伪代码，需要根据实际情况调整）\n",
    "for epoch in tqdm(range(num_epochs)):\n",
    "    meta_loss = maml_train_step(model, optimizer, train_data_loader)\n",
    "    print(f\"Epoch {epoch}: Meta Loss {meta_loss}\")\n",
    "\n",
    "if not os.path.exists(\"models/\"):\n",
    "  os.makedirs(\"./models/\")\n",
    "torch.save({\"model\":model}, \"models/diabets_prediction_meta_learning.pth\")"
   ]
  },
  {
   "attachments": {},
   "cell_type": "markdown",
   "metadata": {},
   "source": [
    "# Model Training\n"
   ]
  }
 ],
 "metadata": {
  "kernelspec": {
   "display_name": "COMP0169",
   "language": "python",
   "name": "python3"
  },
  "language_info": {
   "codemirror_mode": {
    "name": "ipython",
    "version": 3
   },
   "file_extension": ".py",
   "mimetype": "text/x-python",
   "name": "python",
   "nbconvert_exporter": "python",
   "pygments_lexer": "ipython3",
   "version": "3.9.16"
  },
  "orig_nbformat": 4
 },
 "nbformat": 4,
 "nbformat_minor": 2
}
