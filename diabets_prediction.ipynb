{
 "cells": [
  {
   "attachments": {},
   "cell_type": "markdown",
   "metadata": {},
   "source": [
    "# Diabetic patients readmission rates preditction\n"
   ]
  },
  {
   "cell_type": "code",
   "execution_count": 470,
   "metadata": {},
   "outputs": [],
   "source": [
    "# Importing packages\n",
    "import numpy as np\n",
    "import pandas as pd\n",
    "import matplotlib.pyplot as plt\n",
    "import seaborn as sns\n",
    "\n",
    "from scipy import optimize\n",
    "from sklearn import datasets as skdataset\n",
    "from sklearn.metrics import accuracy_score\n",
    "from sklearn.model_selection import train_test_split\n",
    "from sklearn.ensemble import RandomForestClassifier\n",
    "from sklearn.model_selection import RandomizedSearchCV\n",
    "from sklearn.ensemble import HistGradientBoostingClassifier\n",
    "from sklearn.neighbors import KNeighborsClassifier\n",
    "\n",
    "\n",
    "import os\n",
    "\n",
    "import torch\n",
    "import torch.nn as nn\n",
    "import torch.optim as optim\n",
    "from torch.utils.data import TensorDataset, DataLoader\n",
    "import torch.nn.functional as F\n",
    "from torch.utils.data import Dataset\n",
    "\n",
    "from learn2learn.algorithms.maml import MAML\n",
    "from learn2learn.data import TaskDataset\n",
    "\n",
    "from tqdm import tqdm"
   ]
  },
  {
   "attachments": {},
   "cell_type": "markdown",
   "metadata": {},
   "source": [
    "# Project introduction\n",
    "\n",
    "- Overview: <br>\n",
    "This project is focusing on developing a predictive model to ascertain the likelihood of readmission for diabetes patients.\n",
    "<br>\n",
    "\n",
    "- Target:<br>\n",
    "The main goal of this project is developing a powerful machine learning model which can predict the readmission rate of patient "
   ]
  },
  {
   "attachments": {},
   "cell_type": "markdown",
   "metadata": {},
   "source": [
    "# Data loading\n",
    "The following cells are used to load training and testing data for our prediction"
   ]
  },
  {
   "cell_type": "code",
   "execution_count": 400,
   "metadata": {},
   "outputs": [],
   "source": [
    "train_data = pd.read_csv(\"Dataset/diabetic_data_training.csv\")\n",
    "test_data = pd.read_csv(\"Dataset/diabetic_data_test.csv\")\n",
    "mapping_info = pd.read_csv(\"Dataset/IDS_mapping.csv\", header=None)\n",
    "pd.set_option('display.max_columns', None)"
   ]
  },
  {
   "cell_type": "code",
   "execution_count": 401,
   "metadata": {},
   "outputs": [],
   "source": [
    "# Function to handle different data types for plotting\n",
    "def plot_column(ax, column, df):\n",
    "    if df[column].dtype == 'object':\n",
    "        # Check if binary\n",
    "        if df[column].nunique() == 2:\n",
    "            # Binary data visualization\n",
    "            df[column].value_counts().plot(kind='bar', ax=ax)\n",
    "        else:\n",
    "            # Categorical data visualization\n",
    "            df[column].value_counts().plot(kind='pie', autopct='%1.1f%%', ax=ax)\n",
    "    elif df[column].dtype == 'int64' or df[column].dtype == 'float64':\n",
    "        # Numeric data visualization\n",
    "        df[column].plot(kind='hist', bins=20, ax=ax)\n",
    "    else:\n",
    "        ax.text(0.5, 0.5, f\"Unhandled data type for column: {column}\", \n",
    "                fontsize=12, ha='center')\n",
    "    ax.set_title(column)\n",
    "\n"
   ]
  },
  {
   "cell_type": "code",
   "execution_count": 402,
   "metadata": {},
   "outputs": [],
   "source": [
    "# fig, axes = plt.subplots(nrows=13, ncols=4, figsize=(20, 65))\n",
    "# fig.tight_layout(pad=5.0)\n",
    "\n",
    "\n",
    "# for i, col in enumerate(train_data.columns):\n",
    "\n",
    "#     plot_column(axes[i//4, i%4], col,train_data)\n",
    "\n",
    "\n",
    "# plt.show()"
   ]
  },
  {
   "attachments": {},
   "cell_type": "markdown",
   "metadata": {},
   "source": [
    "# Data preprocessing\n",
    "The following cells are used to preprocess the training and testing data. There are two main goals in our preprocessing data section of the code\n",
    "- Change the string type data in our dataset to integer type data \n",
    "- Apply some applicable method to full up the missing value"
   ]
  },
  {
   "cell_type": "code",
   "execution_count": 403,
   "metadata": {},
   "outputs": [],
   "source": [
    "# this part is used to change all string type data to integer type\n",
    "# for the missing value, we will skip and process it at next step\n",
    "\n",
    "# df = train_data.copy()\n",
    "\n",
    "# df.drop(columns = ['weight','encounter_id','patient_nbr', 'examide', 'citoglipton',\n",
    "# 'glimepiride-pioglitazone'],inplace=True)\n",
    "# df.replace('?', np.nan, inplace=True)\n",
    "\n",
    "# df_test = test_data.copy()\n",
    "# df_test.drop(columns = ['weight','encounter_id','patient_nbr', 'examide', 'citoglipton',\n",
    "# 'glimepiride-pioglitazone'],inplace=True)\n",
    "# df_test.replace('?', np.nan, inplace=True)\n",
    "df = train_data.copy()\n",
    "df_test = test_data.copy()"
   ]
  },
  {
   "cell_type": "markdown",
   "metadata": {},
   "source": [
    "One-Hot Encoding For race:\n",
    "cons: One-hot encoding can lead to a significant increase in the dataset's dimensionality (a problem known as the \"curse of dimensionality\"), especially if the categorical feature has many unique values. This can increase the computational cost and may require more data to achieve good performance.\n",
    "Dems Redct Would be apply, so it doesn't matter\n",
    "pros: Map to a fix number implies an ordinal relationship between the categories which may not exist, but is ideal for non-ordinal categorical data. It's suitable for many machine learning models, especially those that assume no ordinal relationship between categories"
   ]
  },
  {
   "cell_type": "markdown",
   "metadata": {},
   "source": [
    "Race Process\n",
    "1. Remove missing since race is proved to be a significant impact to medical result.\n",
    "2. One-hot encode race"
   ]
  },
  {
   "cell_type": "code",
   "execution_count": 404,
   "metadata": {},
   "outputs": [],
   "source": [
    "def race_filter(df):\n",
    "    \"\"\"\n",
    "    Remove missing value from race\n",
    "    \n",
    "    Parameters:\n",
    "    df (pandas.dataframe): series containing a colum of the feature matrix.\n",
    "\n",
    "    Return:\n",
    "    Filtered dataframe free from ? for race\n",
    "    \"\"\"\n",
    "    race_mask = (df['race'] != \"?\")\n",
    "    df = df[race_mask]\n",
    "    return df"
   ]
  },
  {
   "cell_type": "code",
   "execution_count": 405,
   "metadata": {},
   "outputs": [],
   "source": [
    "df = race_filter(df)\n",
    "df_encoded = pd.get_dummies(df, columns=[\"race\"], prefix=\"race\",dtype=int)\n",
    "\n",
    "df_test = race_filter(df_test)\n",
    "df_test_encoded = pd.get_dummies(df_test, columns=[\"race\"], prefix=\"race\",dtype=int)"
   ]
  },
  {
   "cell_type": "markdown",
   "metadata": {},
   "source": [
    "Gender Process\n",
    "\n",
    "1. Remove Unknown/Invalid and missing\n",
    "2. One hot encode Gender"
   ]
  },
  {
   "cell_type": "code",
   "execution_count": 406,
   "metadata": {},
   "outputs": [],
   "source": [
    "def gender_filter(df):\n",
    "    \"\"\"\n",
    "    Remove missing value from race\n",
    "    \n",
    "    Parameters:\n",
    "    df (pandas.dataframe): series containing a colum of the feature matrix.\n",
    "\n",
    "    Return:\n",
    "    Filtered dataframe free from ? for race\n",
    "    \"\"\"\n",
    "    gender_mask = (df['gender'] != \"Unknown/Invalid\")\n",
    "    df = df[gender_mask]\n",
    "    return df"
   ]
  },
  {
   "cell_type": "code",
   "execution_count": 407,
   "metadata": {},
   "outputs": [],
   "source": [
    "df_encoded = gender_filter(df_encoded)\n",
    "df_test_encoded = gender_filter(df_test_encoded)\n",
    "gender_mapping = {'Male':0,'Female':1}\n",
    "df_encoded['gender'] = df_encoded['gender'].map(gender_mapping)\n",
    "df_test_encoded['gender'] = df_test_encoded['gender'].map(gender_mapping)"
   ]
  },
  {
   "cell_type": "markdown",
   "metadata": {},
   "source": [
    "encounter_id and patient_nbr Process \n",
    "1. n/a\n",
    "2. Drop since it provide no info to the result"
   ]
  },
  {
   "cell_type": "code",
   "execution_count": 408,
   "metadata": {},
   "outputs": [],
   "source": [
    "df_encoded.drop(columns=['encounter_id','patient_nbr'], inplace=True)\n",
    "df_test_encoded.drop(columns=['encounter_id','patient_nbr'],inplace=True)"
   ]
  },
  {
   "cell_type": "markdown",
   "metadata": {},
   "source": [
    "Age Process\n",
    "1. n/a\n",
    "2. Map age from range to mean"
   ]
  },
  {
   "cell_type": "code",
   "execution_count": 409,
   "metadata": {},
   "outputs": [],
   "source": [
    "df_encoded['age'] = (df['age'].str.extract(r'(\\d+)-(\\d+)')[0].astype(int)+df['age'].str.extract(r'(\\d+)-(\\d+)')[1].astype(int))//2\n",
    "df_test_encoded['age'] = (df_test['age'].str.extract(r'(\\d+)-(\\d+)')[0].astype(int)+df_test['age'].str.extract(r'(\\d+)-(\\d+)')[1].astype(int))//2"
   ]
  },
  {
   "cell_type": "markdown",
   "metadata": {},
   "source": [
    "Weight Process\n",
    "1. Drop Weight for too many missing values and no information to predict.\n",
    "2. n/a"
   ]
  },
  {
   "cell_type": "code",
   "execution_count": 410,
   "metadata": {},
   "outputs": [],
   "source": [
    "df_encoded.drop(columns=['weight'], inplace=True)\n",
    "df_test_encoded.drop(columns=['weight'], inplace=True)"
   ]
  },
  {
   "cell_type": "markdown",
   "metadata": {},
   "source": [
    "num_lab_procedures num_procedures num_medications number_outpatient number_emergency number_inpatient No need to be encode since no missing and integer."
   ]
  },
  {
   "cell_type": "markdown",
   "metadata": {},
   "source": [
    "diag_1,diag_2 and diag_3 Process:\n",
    "\n",
    "Filte diag_1, diag_2 and diag_3 by number_diagnoses. If the amount of diagnoses in diag_1, diag_2 and diag_3 doesn't match the number_diagnoses, then remove.\n",
    "Layer encoding diags according to the ICD-9 Code Category, drop original 3 diag"
   ]
  },
  {
   "cell_type": "code",
   "execution_count": 411,
   "metadata": {},
   "outputs": [],
   "source": [
    "def diag_missing_value_filter(df):\n",
    "\n",
    "    df['number_diagnoses'] = pd.to_numeric(df['number_diagnoses'], errors='coerce')\n",
    "    mask = ((df['number_diagnoses'] <= 3) & (\n",
    "            (3 - df[['diag_1', 'diag_2', 'diag_3']].apply(lambda x: x == \"?\").sum(axis=1)) >= df['number_diagnoses'])) | (\n",
    "    (df['number_diagnoses'] > 3) & (df[['diag_1', 'diag_2', 'diag_3']].apply(lambda x: x == \"?\").sum(axis=1)) == 0) \n",
    "    df_filtered = df[mask].copy()\n",
    "\n",
    "    return df_filtered\n",
    "\n",
    "def diag_layer_encoding(df):\n",
    "\n",
    "    # Define the encoding function\n",
    "    def encode_element(element):\n",
    "        encoding_result = [0] * 20  # Default encoding\n",
    "\n",
    "        if pd.notna(element):\n",
    "            if element[0].isdigit():\n",
    "                element = float(element)\n",
    "                # Encode based on numeric range\n",
    "                if 1 <= element <= 139:\n",
    "                    encoding_result[0] = 1\n",
    "                elif 140 <= element <= 239:\n",
    "                    encoding_result[1] = 1\n",
    "                elif 240 <= element <= 279:\n",
    "                    encoding_result[2] = 1\n",
    "                elif 280 <= element <= 289:\n",
    "                    encoding_result[3] = 1\n",
    "                elif 290 <= element <= 319:\n",
    "                    encoding_result[4] = 1\n",
    "                elif 320 <= element <= 389:\n",
    "                    encoding_result[5] = 1\n",
    "                elif 390 <= element <= 459:\n",
    "                    encoding_result[6] = 1\n",
    "                elif 460 <= element <= 519:\n",
    "                    encoding_result[7] = 1\n",
    "                elif 520 <= element <= 579:\n",
    "                    encoding_result[8] = 1\n",
    "                elif 580 <= element <= 629:\n",
    "                    encoding_result[9] = 1\n",
    "                elif 630 <= element <= 679:\n",
    "                    encoding_result[10] = 1\n",
    "                elif 680 <= element <= 709:\n",
    "                    encoding_result[11] = 1\n",
    "                elif 710 <= element <= 739:\n",
    "                    encoding_result[12] = 1\n",
    "                elif 740 <= element <= 759:\n",
    "                    encoding_result[13] = 1\n",
    "                elif 760 <= element <= 779:\n",
    "                    encoding_result[14] = 1\n",
    "                elif 780 <= element <= 799:\n",
    "                    encoding_result[15] = 1\n",
    "                elif 800 <= element <= 999:\n",
    "                    encoding_result[16] = 1\n",
    "                # Add more conditions for other ranges if needed\n",
    "            elif element[0].isalpha():\n",
    "                # Encode based on string prefix\n",
    "                if element.startswith('E'):\n",
    "                    encoding_result[17] = 1\n",
    "                elif element.startswith('V'):\n",
    "                    encoding_result[18] = 1\n",
    "                elif element.startswith('M'):\n",
    "                    encoding_result[19] = 1\n",
    "                # Add more conditions for other prefixes if needed\n",
    "\n",
    "        return encoding_result\n",
    "\n",
    "    for i in range(1,4):\n",
    "        encoded_columns = df[\"diag_\"+str(i)].apply(encode_element)\n",
    "\n",
    "    # Create new columns with \"diag_1\" as a prefix\n",
    "        for j in range(20):\n",
    "            new_column_name = \"diag_\" + str(i)+\"_\"+ str(j+1)\n",
    "            df[new_column_name] = encoded_columns.apply(lambda x: x[j])\n",
    "\n",
    "    return df\n"
   ]
  },
  {
   "cell_type": "code",
   "execution_count": 412,
   "metadata": {},
   "outputs": [],
   "source": [
    "df_encoded = diag_missing_value_filter(df_encoded)\n",
    "df_encoded = diag_layer_encoding(df_encoded)\n",
    "df_test_encoded = diag_missing_value_filter(df_test_encoded)\n",
    "df_test_encoded = diag_layer_encoding(df_test_encoded)\n",
    "\n",
    "for i in range(1,4):\n",
    "        df_encoded.drop(columns=[f'diag_{i}'], inplace=True)\n",
    "        df_test_encoded.drop(columns=[f'diag_{i}'], inplace=True)"
   ]
  },
  {
   "cell_type": "markdown",
   "metadata": {},
   "source": [
    "number_diagnoses pass since no missing and integer max_glu_serum and A1Cresult Process: \n",
    "1. n/a \n",
    "2. index map to 0-3\n",
    "\n"
   ]
  },
  {
   "cell_type": "code",
   "execution_count": 413,
   "metadata": {},
   "outputs": [],
   "source": [
    "max_glu_serum_mapping = {'>200': 2, '>300': 3, 'normal': 1}\n",
    "A1Cresult_mapping = {'>8':3,'>7':2,'normal':1}"
   ]
  },
  {
   "cell_type": "code",
   "execution_count": 414,
   "metadata": {},
   "outputs": [],
   "source": [
    "df_encoded['max_glu_serum'] = df_encoded['max_glu_serum'].map(max_glu_serum_mapping).fillna(0)\n",
    "df_test_encoded['max_glu_serum'] = df_test_encoded['max_glu_serum'].map(max_glu_serum_mapping).fillna(0)\n",
    "\n",
    "df_encoded[\"A1Cresult\"] = df_encoded['A1Cresult'].map(A1Cresult_mapping).fillna(0)\n",
    "df_test_encoded[\"A1Cresult\"] = df_test_encoded['A1Cresult'].map(A1Cresult_mapping).fillna(0)"
   ]
  },
  {
   "cell_type": "markdown",
   "metadata": {},
   "source": [
    "metformin repaglinide nateglinide chlorpropamide glimepiride acetohexamide glipizide glyburide tolbutamide pioglitazone rosiglitazone acarbose miglitol troglitazone tolazamide examide citoglipton insulin glyburide-metformin glipizide-metformin glimepiride-pioglitazone metformin-rosiglitazone metformin-pioglitazone Process:\n",
    "\n",
    "1. drop 'examide', 'citoglipton','glimepiride-pioglitazone' and 'metformin-rosiglitazone' since single value observed\n",
    "2. index map to 0-3"
   ]
  },
  {
   "cell_type": "code",
   "execution_count": 415,
   "metadata": {},
   "outputs": [],
   "source": [
    "df_encoded.drop(columns=['examide', 'citoglipton','glimepiride-pioglitazone','metformin-rosiglitazone'],axis=1,inplace=True)\n",
    "df_test_encoded.drop(columns=['examide', 'citoglipton','glimepiride-pioglitazone','metformin-rosiglitazone'],axis=1,inplace=True)\n",
    "medics = ['metformin','repaglinide', 'nateglinide', 'chlorpropamide', 'glimepiride',\n",
    "       'acetohexamide', 'glipizide', 'glyburide', 'tolbutamide',\n",
    "       'pioglitazone', 'rosiglitazone', 'acarbose', 'miglitol', 'troglitazone',\n",
    "       'tolazamide', 'insulin', 'glyburide-metformin', 'glipizide-metformin',\n",
    "        'metformin-pioglitazone']\n",
    "for i in medics:\n",
    "    df_encoded.loc[df_encoded[i] == 'Up', [i]] = 3  \n",
    "    df_encoded.loc[df_encoded[i] == 'Down', [i]] = 1 \n",
    "    df_encoded.loc[df_encoded[i] == 'Steady', [i]] = 2 \n",
    "    df_encoded.loc[df_encoded[i] == 'No', [i]] = 0\n",
    "    df_test_encoded.loc[df_test_encoded[i] == 'Up', [i]] = 3  \n",
    "    df_test_encoded.loc[df_test_encoded[i] == 'Down', [i]] = 1 \n",
    "    df_test_encoded.loc[df_test_encoded[i] == 'Steady', [i]] = 2 \n",
    "    df_test_encoded.loc[df_test_encoded[i] == 'No', [i]] = 0 \n",
    " "
   ]
  },
  {
   "cell_type": "markdown",
   "metadata": {},
   "source": [
    "change and diabetesMed Process\n",
    "\n",
    "1. n/a\n",
    "2. binary map to 1/0"
   ]
  },
  {
   "cell_type": "code",
   "execution_count": 416,
   "metadata": {},
   "outputs": [],
   "source": [
    "change_mapping = {'No':0,'Ch':1}\n",
    "diabetesMed_mapping = {'No':0,'Yes':1}\n",
    "\n",
    "df_encoded['change'] = df_encoded['change'].map(change_mapping)\n",
    "df_encoded['diabetesMed'] = df_encoded['diabetesMed'].map(diabetesMed_mapping)\n",
    "\n",
    "df_test_encoded['change'] = df_test_encoded['change'].map(change_mapping)\n",
    "df_test_encoded['diabetesMed'] = df_test_encoded['diabetesMed'].map(diabetesMed_mapping)"
   ]
  },
  {
   "cell_type": "markdown",
   "metadata": {},
   "source": [
    "readmitted Process: \n",
    "1. n/a \n",
    "2. index mapping, No as 0, >30 as 1 and <30 as most significant as 2 and drop readmitted for test"
   ]
  },
  {
   "cell_type": "code",
   "execution_count": 417,
   "metadata": {},
   "outputs": [],
   "source": [
    "readmitted_mapping = {'NO':0,'<30':2,'>30':1}\n",
    "df_encoded['readmitted'] = df_encoded['readmitted'].map(readmitted_mapping)\n",
    "df_test_encoded['readmitted'] = df_test_encoded['readmitted'].map(readmitted_mapping)\n",
    "\n",
    "y_test_readmitted = df_encoded[\"readmitted\"]\n",
    "y_readmitted = df_test_encoded[\"readmitted\"]\n",
    "\n",
    "df_encoded.drop(columns=[\"readmitted\"],axis=1,inplace=True)\n",
    "df_test_encoded.drop(columns=[\"readmitted\"],axis=1,inplace=True)"
   ]
  },
  {
   "cell_type": "markdown",
   "metadata": {},
   "source": [
    "'admission_type_id','discharge_disposition_id','admission_source_id' Process:\n",
    "1. n/a\n",
    "2. target encoding"
   ]
  },
  {
   "cell_type": "code",
   "execution_count": 418,
   "metadata": {},
   "outputs": [],
   "source": [
    "X_train = df_encoded\n",
    "Y_train = y_test_readmitted\n",
    "\n",
    "features = ['admission_type_id','discharge_disposition_id','admission_source_id']\n",
    "\n",
    "'''for name in names:\n",
    "    category_means = df_encoded.groupby(name)['readmitted'].mean().reset_index()\n",
    "    category_means.columns = [name,name+'_readmitted_Mean']\n",
    "    df_encoded = pd.merge(df_encoded, category_means, on=name, how='left')\n",
    "    df_encoded = df_encoded.drop(name, axis=1)'''\n",
    "\n",
    "\n",
    "for feature in features:\n",
    "    \n",
    "    mean_col_name = f'{feature}_Encoded'\n",
    "    means = X_train.join(Y_train).groupby(feature)['readmitted'].mean()\n",
    "    df_encoded[mean_col_name] = df_encoded[feature].map(means)\n",
    "    df_test_encoded[mean_col_name] = df_test_encoded[feature].map(means)\n",
    "\n",
    "    df_encoded = df_encoded.drop(feature, axis=1)\n",
    "    df_test_encoded = df_test_encoded.drop(feature, axis=1)"
   ]
  },
  {
   "cell_type": "markdown",
   "metadata": {},
   "source": [
    "Payer Code and medical_specialty Process:\n",
    "1.1 index encoding payer code\n",
    "1.2 RandomForestClassifier fill missing\n",
    "\n",
    "\n",
    "1.3 KNN filling missing\n",
    "\n",
    "2. target encoding"
   ]
  },
  {
   "cell_type": "code",
   "execution_count": 419,
   "metadata": {},
   "outputs": [],
   "source": [
    "def payer_code_index_encoding(df):\n",
    "    df.loc[df['payer_code'] == 'MD', ['payer_code']] = 1\n",
    "    df.loc[df['payer_code'] == 'MC', ['payer_code']] = 2\n",
    "    df.loc[df['payer_code'] == 'HM', ['payer_code']] = 3\n",
    "    df.loc[df['payer_code'] == 'UN', ['payer_code']] = 4\n",
    "    df.loc[df['payer_code'] == 'BC', ['payer_code']] = 5\n",
    "    df.loc[df['payer_code'] == 'CP', ['payer_code']] = 6\n",
    "    df.loc[df['payer_code'] == 'SP', ['payer_code']] = 7\n",
    "    df.loc[df['payer_code'] == 'SI', ['payer_code']] = 8\n",
    "    df.loc[df['payer_code'] == 'CM', ['payer_code']] = 9\n",
    "    df.loc[df['payer_code'] == 'DM', ['payer_code']] = 10\n",
    "    df.loc[df['payer_code'] == 'CH', ['payer_code']] = 11\n",
    "    df.loc[df['payer_code'] == 'PO', ['payer_code']] = 12\n",
    "    df.loc[df['payer_code'] == 'WC', ['payer_code']] = 13\n",
    "    df.loc[df['payer_code'] == 'OG', ['payer_code']] = 14\n",
    "    df.loc[df['payer_code'] == 'OT', ['payer_code']] = 15\n",
    "    df.loc[df['payer_code'] == 'MP', ['payer_code']] = 16\n",
    "    df.loc[df['payer_code'] == 'FR', ['payer_code']] = 17\n",
    "    return df"
   ]
  },
  {
   "cell_type": "code",
   "execution_count": 420,
   "metadata": {},
   "outputs": [],
   "source": [
    "df_encoded = payer_code_index_encoding(df_encoded)\n",
    "df_test_encoded = payer_code_index_encoding(df_test_encoded)"
   ]
  },
  {
   "cell_type": "code",
   "execution_count": 421,
   "metadata": {},
   "outputs": [
    {
     "data": {
      "text/plain": [
       "payer_code\n",
       "?     35739\n",
       "2     28319\n",
       "3      5512\n",
       "7      4281\n",
       "5      4056\n",
       "1      3092\n",
       "6      2215\n",
       "4      2051\n",
       "9      1721\n",
       "14      922\n",
       "12      526\n",
       "10      477\n",
       "11      130\n",
       "13      116\n",
       "15       83\n",
       "16       68\n",
       "8        53\n",
       "Name: count, dtype: int64"
      ]
     },
     "execution_count": 421,
     "metadata": {},
     "output_type": "execute_result"
    }
   ],
   "source": [
    "df_encoded['payer_code'].value_counts()"
   ]
  },
  {
   "cell_type": "code",
   "execution_count": 422,
   "metadata": {},
   "outputs": [],
   "source": [
    "#separating the columns that contain null values and need to predicted.\n",
    "payer_code_col = ['payer_code']\n",
    "medical_specialty_cols = ['medical_specialty']\n",
    "other_cols = list(df_encoded.columns)\n",
    "other_cols.remove(\"payer_code\")\n",
    "other_cols.remove(\"medical_specialty\")"
   ]
  },
  {
   "cell_type": "markdown",
   "metadata": {},
   "source": [
    "Random Forst"
   ]
  },
  {
   "cell_type": "code",
   "execution_count": 423,
   "metadata": {},
   "outputs": [
    {
     "name": "stdout",
     "output_type": "stream",
     "text": [
      "Fitting 3 folds for each of 5 candidates, totalling 15 fits\n"
     ]
    },
    {
     "name": "stderr",
     "output_type": "stream",
     "text": [
      "375447.96s - pydevd: Sending message related to process being replaced timed-out after 5 seconds\n",
      "375447.99s - pydevd: Sending message related to process being replaced timed-out after 5 seconds\n",
      "375448.02s - pydevd: Sending message related to process being replaced timed-out after 5 seconds\n",
      "375448.04s - pydevd: Sending message related to process being replaced timed-out after 5 seconds\n",
      "375448.06s - pydevd: Sending message related to process being replaced timed-out after 5 seconds\n",
      "375448.07s - pydevd: Sending message related to process being replaced timed-out after 5 seconds\n",
      "375448.09s - pydevd: Sending message related to process being replaced timed-out after 5 seconds\n",
      "375448.11s - pydevd: Sending message related to process being replaced timed-out after 5 seconds\n"
     ]
    },
    {
     "name": "stdout",
     "output_type": "stream",
     "text": [
      "[CV] END max_depth=100, min_samples_leaf=2, min_samples_split=2, n_estimators=100; total time=   2.8s\n",
      "[CV] END max_depth=100, min_samples_leaf=2, min_samples_split=2, n_estimators=100; total time=   2.9s\n",
      "[CV] END max_depth=100, min_samples_leaf=2, min_samples_split=2, n_estimators=100; total time=   2.9s\n",
      "[CV] END max_depth=100, min_samples_leaf=3, min_samples_split=2, n_estimators=200; total time=   4.9s\n",
      "[CV] END max_depth=100, min_samples_leaf=3, min_samples_split=2, n_estimators=200; total time=   5.0s\n",
      "[CV] END max_depth=100, min_samples_leaf=3, min_samples_split=2, n_estimators=200; total time=   5.0s\n",
      "[CV] END max_depth=100, min_samples_leaf=2, min_samples_split=2, n_estimators=400; total time=  10.8s\n",
      "[CV] END max_depth=100, min_samples_leaf=2, min_samples_split=2, n_estimators=400; total time=  10.9s\n",
      "[CV] END max_depth=100, min_samples_leaf=1, min_samples_split=10, n_estimators=400; total time=  10.3s\n",
      "[CV] END max_depth=100, min_samples_leaf=1, min_samples_split=10, n_estimators=400; total time=  10.4s\n",
      "[CV] END max_depth=100, min_samples_leaf=2, min_samples_split=2, n_estimators=400; total time=  10.8s\n",
      "[CV] END max_depth=100, min_samples_leaf=3, min_samples_split=2, n_estimators=400; total time=   9.1s\n",
      "[CV] END max_depth=100, min_samples_leaf=3, min_samples_split=2, n_estimators=400; total time=   9.2s\n",
      "[CV] END max_depth=100, min_samples_leaf=1, min_samples_split=10, n_estimators=400; total time=   9.8s\n",
      "[CV] END max_depth=100, min_samples_leaf=3, min_samples_split=2, n_estimators=400; total time=   6.2s\n"
     ]
    },
    {
     "data": {
      "text/html": [
       "<style>#sk-container-id-15 {color: black;}#sk-container-id-15 pre{padding: 0;}#sk-container-id-15 div.sk-toggleable {background-color: white;}#sk-container-id-15 label.sk-toggleable__label {cursor: pointer;display: block;width: 100%;margin-bottom: 0;padding: 0.3em;box-sizing: border-box;text-align: center;}#sk-container-id-15 label.sk-toggleable__label-arrow:before {content: \"▸\";float: left;margin-right: 0.25em;color: #696969;}#sk-container-id-15 label.sk-toggleable__label-arrow:hover:before {color: black;}#sk-container-id-15 div.sk-estimator:hover label.sk-toggleable__label-arrow:before {color: black;}#sk-container-id-15 div.sk-toggleable__content {max-height: 0;max-width: 0;overflow: hidden;text-align: left;background-color: #f0f8ff;}#sk-container-id-15 div.sk-toggleable__content pre {margin: 0.2em;color: black;border-radius: 0.25em;background-color: #f0f8ff;}#sk-container-id-15 input.sk-toggleable__control:checked~div.sk-toggleable__content {max-height: 200px;max-width: 100%;overflow: auto;}#sk-container-id-15 input.sk-toggleable__control:checked~label.sk-toggleable__label-arrow:before {content: \"▾\";}#sk-container-id-15 div.sk-estimator input.sk-toggleable__control:checked~label.sk-toggleable__label {background-color: #d4ebff;}#sk-container-id-15 div.sk-label input.sk-toggleable__control:checked~label.sk-toggleable__label {background-color: #d4ebff;}#sk-container-id-15 input.sk-hidden--visually {border: 0;clip: rect(1px 1px 1px 1px);clip: rect(1px, 1px, 1px, 1px);height: 1px;margin: -1px;overflow: hidden;padding: 0;position: absolute;width: 1px;}#sk-container-id-15 div.sk-estimator {font-family: monospace;background-color: #f0f8ff;border: 1px dotted black;border-radius: 0.25em;box-sizing: border-box;margin-bottom: 0.5em;}#sk-container-id-15 div.sk-estimator:hover {background-color: #d4ebff;}#sk-container-id-15 div.sk-parallel-item::after {content: \"\";width: 100%;border-bottom: 1px solid gray;flex-grow: 1;}#sk-container-id-15 div.sk-label:hover label.sk-toggleable__label {background-color: #d4ebff;}#sk-container-id-15 div.sk-serial::before {content: \"\";position: absolute;border-left: 1px solid gray;box-sizing: border-box;top: 0;bottom: 0;left: 50%;z-index: 0;}#sk-container-id-15 div.sk-serial {display: flex;flex-direction: column;align-items: center;background-color: white;padding-right: 0.2em;padding-left: 0.2em;position: relative;}#sk-container-id-15 div.sk-item {position: relative;z-index: 1;}#sk-container-id-15 div.sk-parallel {display: flex;align-items: stretch;justify-content: center;background-color: white;position: relative;}#sk-container-id-15 div.sk-item::before, #sk-container-id-15 div.sk-parallel-item::before {content: \"\";position: absolute;border-left: 1px solid gray;box-sizing: border-box;top: 0;bottom: 0;left: 50%;z-index: -1;}#sk-container-id-15 div.sk-parallel-item {display: flex;flex-direction: column;z-index: 1;position: relative;background-color: white;}#sk-container-id-15 div.sk-parallel-item:first-child::after {align-self: flex-end;width: 50%;}#sk-container-id-15 div.sk-parallel-item:last-child::after {align-self: flex-start;width: 50%;}#sk-container-id-15 div.sk-parallel-item:only-child::after {width: 0;}#sk-container-id-15 div.sk-dashed-wrapped {border: 1px dashed gray;margin: 0 0.4em 0.5em 0.4em;box-sizing: border-box;padding-bottom: 0.4em;background-color: white;}#sk-container-id-15 div.sk-label label {font-family: monospace;font-weight: bold;display: inline-block;line-height: 1.2em;}#sk-container-id-15 div.sk-label-container {text-align: center;}#sk-container-id-15 div.sk-container {/* jupyter's `normalize.less` sets `[hidden] { display: none; }` but bootstrap.min.css set `[hidden] { display: none !important; }` so we also need the `!important` here to be able to override the default hidden behavior on the sphinx rendered scikit-learn.org. See: https://github.com/scikit-learn/scikit-learn/issues/21755 */display: inline-block !important;position: relative;}#sk-container-id-15 div.sk-text-repr-fallback {display: none;}</style><div id=\"sk-container-id-15\" class=\"sk-top-container\"><div class=\"sk-text-repr-fallback\"><pre>RandomizedSearchCV(cv=3, estimator=RandomForestClassifier(), n_iter=5,\n",
       "                   n_jobs=-1,\n",
       "                   param_distributions={&#x27;max_depth&#x27;: [25, 30, 50, 100],\n",
       "                                        &#x27;min_samples_leaf&#x27;: [1, 2, 3],\n",
       "                                        &#x27;min_samples_split&#x27;: [2, 5, 10],\n",
       "                                        &#x27;n_estimators&#x27;: [100, 200, 400]},\n",
       "                   random_state=1, verbose=2)</pre><b>In a Jupyter environment, please rerun this cell to show the HTML representation or trust the notebook. <br />On GitHub, the HTML representation is unable to render, please try loading this page with nbviewer.org.</b></div><div class=\"sk-container\" hidden><div class=\"sk-item sk-dashed-wrapped\"><div class=\"sk-label-container\"><div class=\"sk-label sk-toggleable\"><input class=\"sk-toggleable__control sk-hidden--visually\" id=\"sk-estimator-id-21\" type=\"checkbox\" ><label for=\"sk-estimator-id-21\" class=\"sk-toggleable__label sk-toggleable__label-arrow\">RandomizedSearchCV</label><div class=\"sk-toggleable__content\"><pre>RandomizedSearchCV(cv=3, estimator=RandomForestClassifier(), n_iter=5,\n",
       "                   n_jobs=-1,\n",
       "                   param_distributions={&#x27;max_depth&#x27;: [25, 30, 50, 100],\n",
       "                                        &#x27;min_samples_leaf&#x27;: [1, 2, 3],\n",
       "                                        &#x27;min_samples_split&#x27;: [2, 5, 10],\n",
       "                                        &#x27;n_estimators&#x27;: [100, 200, 400]},\n",
       "                   random_state=1, verbose=2)</pre></div></div></div><div class=\"sk-parallel\"><div class=\"sk-parallel-item\"><div class=\"sk-item\"><div class=\"sk-label-container\"><div class=\"sk-label sk-toggleable\"><input class=\"sk-toggleable__control sk-hidden--visually\" id=\"sk-estimator-id-22\" type=\"checkbox\" ><label for=\"sk-estimator-id-22\" class=\"sk-toggleable__label sk-toggleable__label-arrow\">estimator: RandomForestClassifier</label><div class=\"sk-toggleable__content\"><pre>RandomForestClassifier()</pre></div></div></div><div class=\"sk-serial\"><div class=\"sk-item\"><div class=\"sk-estimator sk-toggleable\"><input class=\"sk-toggleable__control sk-hidden--visually\" id=\"sk-estimator-id-23\" type=\"checkbox\" ><label for=\"sk-estimator-id-23\" class=\"sk-toggleable__label sk-toggleable__label-arrow\">RandomForestClassifier</label><div class=\"sk-toggleable__content\"><pre>RandomForestClassifier()</pre></div></div></div></div></div></div></div></div></div></div>"
      ],
      "text/plain": [
       "RandomizedSearchCV(cv=3, estimator=RandomForestClassifier(), n_iter=5,\n",
       "                   n_jobs=-1,\n",
       "                   param_distributions={'max_depth': [25, 30, 50, 100],\n",
       "                                        'min_samples_leaf': [1, 2, 3],\n",
       "                                        'min_samples_split': [2, 5, 10],\n",
       "                                        'n_estimators': [100, 200, 400]},\n",
       "                   random_state=1, verbose=2)"
      ]
     },
     "execution_count": 423,
     "metadata": {},
     "output_type": "execute_result"
    }
   ],
   "source": [
    "payer_code_mask = (df_encoded[\"payer_code\"] != \"?\")\n",
    "df_notnans = df_encoded[payer_code_mask]\n",
    "\n",
    "X_train, X_test, y_train, y_test = train_test_split(df_notnans[other_cols], df_notnans[payer_code_col].astype(int),\n",
    "                                                    train_size=0.75,\n",
    "                                                    random_state=1)\n",
    "\n",
    "rf = RandomForestClassifier()\n",
    "paramsgrid  = {'n_estimators': [100,200,400],\n",
    "               'max_depth': [25, 30,50,100],\n",
    " 'min_samples_leaf': [1, 2, 3],\n",
    " 'min_samples_split': [2, 5, 10]\n",
    " }\n",
    "\n",
    "rf_random = RandomizedSearchCV(estimator = rf, param_distributions = paramsgrid, n_iter = 5, cv = 3, verbose=2, random_state=1, n_jobs = -1)\n",
    " \n",
    "rf_random.fit(X_test, y_test.values.ravel())"
   ]
  },
  {
   "cell_type": "code",
   "execution_count": 424,
   "metadata": {},
   "outputs": [
    {
     "data": {
      "text/plain": [
       "{'n_estimators': 100,\n",
       " 'min_samples_split': 2,\n",
       " 'min_samples_leaf': 2,\n",
       " 'max_depth': 100}"
      ]
     },
     "execution_count": 424,
     "metadata": {},
     "output_type": "execute_result"
    }
   ],
   "source": [
    "rf_random.best_params_"
   ]
  },
  {
   "cell_type": "code",
   "execution_count": 425,
   "metadata": {},
   "outputs": [
    {
     "name": "stdout",
     "output_type": "stream",
     "text": [
      "Score is 0.5643741608235119\n"
     ]
    }
   ],
   "source": [
    "rf1 =(RandomForestClassifier(max_depth=100,n_estimators = 400,min_samples_leaf=1,min_samples_split=10))\n",
    "rf1.fit(X_train, y_train.values.ravel())\n",
    "score = rf1.score(X_test, y_test.values.ravel())\n",
    "\n",
    "print(f\"Score is {score}\")"
   ]
  },
  {
   "cell_type": "markdown",
   "metadata": {},
   "source": [
    "KNN filling"
   ]
  },
  {
   "cell_type": "code",
   "execution_count": 426,
   "metadata": {},
   "outputs": [],
   "source": [
    "train_score = []\n",
    "test_score = []\n",
    "\n",
    "for i in range(6,30,2):\n",
    "\n",
    "    knn = KNeighborsClassifier(i)\n",
    "    knn.fit(X_train,y_train.values.ravel())\n",
    "    \n",
    "    train_score.append(knn.score(X_train,y_train.values.ravel()))\n",
    "    test_score.append(knn.score(X_test,y_test.values.ravel()))"
   ]
  },
  {
   "cell_type": "code",
   "execution_count": 427,
   "metadata": {},
   "outputs": [
    {
     "data": {
      "text/plain": [
       "[<matplotlib.lines.Line2D at 0x3af3d3d90>]"
      ]
     },
     "execution_count": 427,
     "metadata": {},
     "output_type": "execute_result"
    },
    {
     "data": {
      "image/png": "[encoded data removed]",
      "text/plain": [
       "<Figure size 1000x800 with 1 Axes>"
      ]
     },
     "metadata": {},
     "output_type": "display_data"
    }
   ],
   "source": [
    "plt.plot(train_score)\n",
    "plt.plot(test_score)"
   ]
  },
  {
   "cell_type": "code",
   "execution_count": 428,
   "metadata": {},
   "outputs": [
    {
     "name": "stdout",
     "output_type": "stream",
     "text": [
      "Thescore on the testset is 0.539236162912129\n"
     ]
    }
   ],
   "source": [
    "knn2 =(KNeighborsClassifier(n_neighbors= 21))\n",
    "# # Fit on the train data\n",
    "knn2.fit(X_train, y_train.values.ravel())\n",
    "\n",
    "# # Check the prediction score\n",
    "score = knn2.score(X_test, y_test.values.ravel())\n",
    "print(f\"Thescore on the testset is {score}\")"
   ]
  },
  {
   "cell_type": "markdown",
   "metadata": {},
   "source": [
    "Hist Gradient Boosting prediction"
   ]
  },
  {
   "cell_type": "code",
   "execution_count": 429,
   "metadata": {},
   "outputs": [
    {
     "name": "stderr",
     "output_type": "stream",
     "text": [
      "/Users/szy/Downloads/yes/envs/COMP0169/lib/python3.10/site-packages/sklearn/utils/validation.py:1183: DataConversionWarning: A column-vector y was passed when a 1d array was expected. Please change the shape of y to (n_samples, ), for example using ravel().\n",
      "  y = column_or_1d(y, warn=True)\n"
     ]
    },
    {
     "data": {
      "text/html": [
       "<style>#sk-container-id-16 {color: black;}#sk-container-id-16 pre{padding: 0;}#sk-container-id-16 div.sk-toggleable {background-color: white;}#sk-container-id-16 label.sk-toggleable__label {cursor: pointer;display: block;width: 100%;margin-bottom: 0;padding: 0.3em;box-sizing: border-box;text-align: center;}#sk-container-id-16 label.sk-toggleable__label-arrow:before {content: \"▸\";float: left;margin-right: 0.25em;color: #696969;}#sk-container-id-16 label.sk-toggleable__label-arrow:hover:before {color: black;}#sk-container-id-16 div.sk-estimator:hover label.sk-toggleable__label-arrow:before {color: black;}#sk-container-id-16 div.sk-toggleable__content {max-height: 0;max-width: 0;overflow: hidden;text-align: left;background-color: #f0f8ff;}#sk-container-id-16 div.sk-toggleable__content pre {margin: 0.2em;color: black;border-radius: 0.25em;background-color: #f0f8ff;}#sk-container-id-16 input.sk-toggleable__control:checked~div.sk-toggleable__content {max-height: 200px;max-width: 100%;overflow: auto;}#sk-container-id-16 input.sk-toggleable__control:checked~label.sk-toggleable__label-arrow:before {content: \"▾\";}#sk-container-id-16 div.sk-estimator input.sk-toggleable__control:checked~label.sk-toggleable__label {background-color: #d4ebff;}#sk-container-id-16 div.sk-label input.sk-toggleable__control:checked~label.sk-toggleable__label {background-color: #d4ebff;}#sk-container-id-16 input.sk-hidden--visually {border: 0;clip: rect(1px 1px 1px 1px);clip: rect(1px, 1px, 1px, 1px);height: 1px;margin: -1px;overflow: hidden;padding: 0;position: absolute;width: 1px;}#sk-container-id-16 div.sk-estimator {font-family: monospace;background-color: #f0f8ff;border: 1px dotted black;border-radius: 0.25em;box-sizing: border-box;margin-bottom: 0.5em;}#sk-container-id-16 div.sk-estimator:hover {background-color: #d4ebff;}#sk-container-id-16 div.sk-parallel-item::after {content: \"\";width: 100%;border-bottom: 1px solid gray;flex-grow: 1;}#sk-container-id-16 div.sk-label:hover label.sk-toggleable__label {background-color: #d4ebff;}#sk-container-id-16 div.sk-serial::before {content: \"\";position: absolute;border-left: 1px solid gray;box-sizing: border-box;top: 0;bottom: 0;left: 50%;z-index: 0;}#sk-container-id-16 div.sk-serial {display: flex;flex-direction: column;align-items: center;background-color: white;padding-right: 0.2em;padding-left: 0.2em;position: relative;}#sk-container-id-16 div.sk-item {position: relative;z-index: 1;}#sk-container-id-16 div.sk-parallel {display: flex;align-items: stretch;justify-content: center;background-color: white;position: relative;}#sk-container-id-16 div.sk-item::before, #sk-container-id-16 div.sk-parallel-item::before {content: \"\";position: absolute;border-left: 1px solid gray;box-sizing: border-box;top: 0;bottom: 0;left: 50%;z-index: -1;}#sk-container-id-16 div.sk-parallel-item {display: flex;flex-direction: column;z-index: 1;position: relative;background-color: white;}#sk-container-id-16 div.sk-parallel-item:first-child::after {align-self: flex-end;width: 50%;}#sk-container-id-16 div.sk-parallel-item:last-child::after {align-self: flex-start;width: 50%;}#sk-container-id-16 div.sk-parallel-item:only-child::after {width: 0;}#sk-container-id-16 div.sk-dashed-wrapped {border: 1px dashed gray;margin: 0 0.4em 0.5em 0.4em;box-sizing: border-box;padding-bottom: 0.4em;background-color: white;}#sk-container-id-16 div.sk-label label {font-family: monospace;font-weight: bold;display: inline-block;line-height: 1.2em;}#sk-container-id-16 div.sk-label-container {text-align: center;}#sk-container-id-16 div.sk-container {/* jupyter's `normalize.less` sets `[hidden] { display: none; }` but bootstrap.min.css set `[hidden] { display: none !important; }` so we also need the `!important` here to be able to override the default hidden behavior on the sphinx rendered scikit-learn.org. See: https://github.com/scikit-learn/scikit-learn/issues/21755 */display: inline-block !important;position: relative;}#sk-container-id-16 div.sk-text-repr-fallback {display: none;}</style><div id=\"sk-container-id-16\" class=\"sk-top-container\"><div class=\"sk-text-repr-fallback\"><pre>HistGradientBoostingClassifier()</pre><b>In a Jupyter environment, please rerun this cell to show the HTML representation or trust the notebook. <br />On GitHub, the HTML representation is unable to render, please try loading this page with nbviewer.org.</b></div><div class=\"sk-container\" hidden><div class=\"sk-item\"><div class=\"sk-estimator sk-toggleable\"><input class=\"sk-toggleable__control sk-hidden--visually\" id=\"sk-estimator-id-24\" type=\"checkbox\" checked><label for=\"sk-estimator-id-24\" class=\"sk-toggleable__label sk-toggleable__label-arrow\">HistGradientBoostingClassifier</label><div class=\"sk-toggleable__content\"><pre>HistGradientBoostingClassifier()</pre></div></div></div></div></div>"
      ],
      "text/plain": [
       "HistGradientBoostingClassifier()"
      ]
     },
     "execution_count": 429,
     "metadata": {},
     "output_type": "execute_result"
    }
   ],
   "source": [
    "\n",
    "HGB_classifier = HistGradientBoostingClassifier(max_iter=100)\n",
    "HGB_classifier.fit(X_train,y_train)"
   ]
  },
  {
   "cell_type": "code",
   "execution_count": 430,
   "metadata": {},
   "outputs": [
    {
     "name": "stdout",
     "output_type": "stream",
     "text": [
      "Score is 0.5605698940772789\n"
     ]
    }
   ],
   "source": [
    "score = HGB_classifier.score(X_test, y_test.values.ravel())\n",
    "\n",
    "print(f\"Score is {score}\")"
   ]
  },
  {
   "cell_type": "code",
   "execution_count": 431,
   "metadata": {},
   "outputs": [
    {
     "name": "stderr",
     "output_type": "stream",
     "text": [
      "/var/folders/wy/3sxd9blx6bxgs72tmypqqrzr0000gn/T/ipykernel_26725/421159950.py:2: SettingWithCopyWarning: \n",
      "A value is trying to be set on a copy of a slice from a DataFrame\n",
      "\n",
      "See the caveats in the documentation: https://pandas.pydata.org/pandas-docs/stable/user_guide/indexing.html#returning-a-view-versus-a-copy\n",
      "  df_encoded['payer_code'].loc[payer_code_predicting_index] = rf1.predict(df_encoded[other_cols].loc[payer_code_predicting_index])\n",
      "/var/folders/wy/3sxd9blx6bxgs72tmypqqrzr0000gn/T/ipykernel_26725/421159950.py:5: SettingWithCopyWarning: \n",
      "A value is trying to be set on a copy of a slice from a DataFrame\n",
      "\n",
      "See the caveats in the documentation: https://pandas.pydata.org/pandas-docs/stable/user_guide/indexing.html#returning-a-view-versus-a-copy\n",
      "  df_test_encoded['payer_code'].loc[test_payer_code_predicting_index] = rf1.predict(df_test_encoded[other_cols].loc[test_payer_code_predicting_index])\n"
     ]
    }
   ],
   "source": [
    "payer_code_predicting_index = df_encoded.index[df_encoded[\"payer_code\"] == \"?\"]\n",
    "df_encoded['payer_code'].loc[payer_code_predicting_index] = rf1.predict(df_encoded[other_cols].loc[payer_code_predicting_index])\n",
    "\n",
    "test_payer_code_predicting_index = df_test_encoded.index[df_test_encoded[\"payer_code\"] == \"?\"]\n",
    "df_test_encoded['payer_code'].loc[test_payer_code_predicting_index] = rf1.predict(df_test_encoded[other_cols].loc[test_payer_code_predicting_index])"
   ]
  },
  {
   "cell_type": "code",
   "execution_count": 432,
   "metadata": {},
   "outputs": [
    {
     "data": {
      "text/plain": [
       "payer_code\n",
       "2     58564\n",
       "3      7817\n",
       "5      5620\n",
       "7      5317\n",
       "1      3624\n",
       "6      2231\n",
       "4      2084\n",
       "9      1721\n",
       "14      929\n",
       "12      526\n",
       "10      478\n",
       "11      130\n",
       "13      116\n",
       "15       83\n",
       "16       68\n",
       "8        53\n",
       "Name: count, dtype: int64"
      ]
     },
     "execution_count": 432,
     "metadata": {},
     "output_type": "execute_result"
    }
   ],
   "source": [
    "df_encoded['payer_code'].value_counts()"
   ]
  },
  {
   "cell_type": "markdown",
   "metadata": {},
   "source": [
    "Predict and target encoding medical_specialty"
   ]
  },
  {
   "cell_type": "code",
   "execution_count": 433,
   "metadata": {},
   "outputs": [],
   "source": [
    "category_mapping = {category: i for i, category in enumerate(df_encoded['medical_specialty'].unique())}\n",
    "df_encoded['medical_specialty'] = df_encoded['medical_specialty'].map(category_mapping)\n",
    "df_test_encoded['medical_specialty'] = df_test_encoded['medical_specialty'].map(category_mapping)"
   ]
  },
  {
   "cell_type": "code",
   "execution_count": 434,
   "metadata": {},
   "outputs": [],
   "source": [
    "medical_specialty_mask = (df_encoded[\"medical_specialty\"] != 0)\n",
    "df_notnans = df_encoded[medical_specialty_mask]\n",
    "\n",
    "index = df_notnans.index[df_notnans['medical_specialty'].duplicated(keep=False)]\n",
    "df_notnans = df_notnans.loc[index]\n",
    "\n",
    "\n",
    "X_train, X_test, y_train, y_test = train_test_split(df_notnans[other_cols], df_notnans[medical_specialty_cols].astype(int),\n",
    "                                                    train_size=0.75,\n",
    "                                                    random_state=1)\n",
    "index = y_train.index[y_train.duplicated(keep=False)]\n",
    "X_train = X_train.loc[index]\n",
    "y_train = y_train.loc[index]"
   ]
  },
  {
   "cell_type": "code",
   "execution_count": 435,
   "metadata": {},
   "outputs": [
    {
     "name": "stdout",
     "output_type": "stream",
     "text": [
      "0.540436005625879\n"
     ]
    }
   ],
   "source": [
    "rf1 =(RandomForestClassifier(max_depth=100,n_estimators = 400,min_samples_leaf=1,min_samples_split=10))\n",
    "rf1.fit(X_train, y_train.values.ravel())\n",
    "print(rf1.score(X_test,y_test))\n"
   ]
  },
  {
   "cell_type": "code",
   "execution_count": 436,
   "metadata": {},
   "outputs": [
    {
     "name": "stderr",
     "output_type": "stream",
     "text": [
      "/Users/szy/Downloads/yes/envs/COMP0169/lib/python3.10/site-packages/sklearn/utils/validation.py:1183: DataConversionWarning: A column-vector y was passed when a 1d array was expected. Please change the shape of y to (n_samples, ), for example using ravel().\n",
      "  y = column_or_1d(y, warn=True)\n"
     ]
    },
    {
     "name": "stdout",
     "output_type": "stream",
     "text": [
      "Score is 0.4153481012658228\n"
     ]
    }
   ],
   "source": [
    "HGB_classifier = HistGradientBoostingClassifier(max_iter=100)\n",
    "HGB_classifier.fit(X_train,y_train)\n",
    "score = HGB_classifier.score(X_test, y_test.values.ravel())\n",
    "\n",
    "print(f\"Score is {score}\")"
   ]
  },
  {
   "cell_type": "code",
   "execution_count": 437,
   "metadata": {},
   "outputs": [],
   "source": [
    "train_score = []\n",
    "test_score = []\n",
    "\n",
    "for i in range(60,90,2):\n",
    "\n",
    "    knn = KNeighborsClassifier(i)\n",
    "    knn.fit(X_train,y_train.values.ravel())\n",
    "    \n",
    "    train_score.append(knn.score(X_train,y_train.values.ravel()))\n",
    "    test_score.append(knn.score(X_test,y_test.values.ravel()))"
   ]
  },
  {
   "cell_type": "code",
   "execution_count": 438,
   "metadata": {},
   "outputs": [
    {
     "data": {
      "text/plain": [
       "[<matplotlib.lines.Line2D at 0x2a81db250>]"
      ]
     },
     "execution_count": 438,
     "metadata": {},
     "output_type": "execute_result"
    },
    {
     "data": {
      "image/png": "[encoded data removed]",
      "text/plain": [
       "<Figure size 1000x800 with 1 Axes>"
      ]
     },
     "metadata": {},
     "output_type": "display_data"
    }
   ],
   "source": [
    "plt.plot(train_score)\n",
    "plt.plot(test_score)"
   ]
  },
  {
   "cell_type": "code",
   "execution_count": 439,
   "metadata": {},
   "outputs": [
    {
     "name": "stdout",
     "output_type": "stream",
     "text": [
      "Thescore on the testset is 0.3513537271448664\n"
     ]
    }
   ],
   "source": [
    "knn2 =(KNeighborsClassifier(n_neighbors= 80))\n",
    "# # Fit on the train data\n",
    "knn2.fit(X_train, y_train.values.ravel())\n",
    "\n",
    "# # Check the prediction score\n",
    "score = knn2.score(X_test, y_test.values.ravel())\n",
    "print(f\"Thescore on the testset is {score}\")"
   ]
  },
  {
   "cell_type": "markdown",
   "metadata": {},
   "source": [
    "adding payer code and medical specialty"
   ]
  },
  {
   "cell_type": "code",
   "execution_count": 440,
   "metadata": {},
   "outputs": [
    {
     "name": "stderr",
     "output_type": "stream",
     "text": [
      "/var/folders/wy/3sxd9blx6bxgs72tmypqqrzr0000gn/T/ipykernel_26725/3127860092.py:2: SettingWithCopyWarning: \n",
      "A value is trying to be set on a copy of a slice from a DataFrame\n",
      "\n",
      "See the caveats in the documentation: https://pandas.pydata.org/pandas-docs/stable/user_guide/indexing.html#returning-a-view-versus-a-copy\n",
      "  df_encoded['medical_specialty'].loc[medical_specialty_predicting_index] = rf1.predict(df_encoded[other_cols].loc[medical_specialty_predicting_index])\n",
      "/var/folders/wy/3sxd9blx6bxgs72tmypqqrzr0000gn/T/ipykernel_26725/3127860092.py:5: SettingWithCopyWarning: \n",
      "A value is trying to be set on a copy of a slice from a DataFrame\n",
      "\n",
      "See the caveats in the documentation: https://pandas.pydata.org/pandas-docs/stable/user_guide/indexing.html#returning-a-view-versus-a-copy\n",
      "  df_test_encoded['medical_specialty'].loc[test_medical_specialty_predicting_index] = rf1.predict(df_test_encoded[other_cols].loc[test_medical_specialty_predicting_index])\n"
     ]
    }
   ],
   "source": [
    "medical_specialty_predicting_index = df_encoded.index[df_encoded[\"medical_specialty\"] == 0]\n",
    "df_encoded['medical_specialty'].loc[medical_specialty_predicting_index] = rf1.predict(df_encoded[other_cols].loc[medical_specialty_predicting_index])\n",
    "\n",
    "test_medical_specialty_predicting_index = df_test_encoded.index[df_test_encoded[\"medical_specialty\"] == 0]\n",
    "df_test_encoded['medical_specialty'].loc[test_medical_specialty_predicting_index] = rf1.predict(df_test_encoded[other_cols].loc[test_medical_specialty_predicting_index])"
   ]
  },
  {
   "cell_type": "code",
   "execution_count": 441,
   "metadata": {},
   "outputs": [],
   "source": [
    "# this part will recognise the ?, the missing value in training data\n",
    "# When we have recognised it, we will use **** method to full up it\n",
    "# the method we can discuss: \n",
    "#   delete\n",
    "#   mean,median or mode\n",
    "#   knn to predict\n",
    "#   Multiple Imputation"
   ]
  },
  {
   "cell_type": "code",
   "execution_count": 442,
   "metadata": {},
   "outputs": [],
   "source": [
    "\n",
    "# predict_nan = df_encoded.copy()\n",
    "\n",
    "\n",
    "# df_real_ms_index = predict_nan.index[predict_nan['medical_specialty'] != 0]\n",
    "# unique_rows_index = predict_nan.index[predict_nan['medical_specialty'].duplicated(keep=False)]\n",
    "# df_real_ms_index_total = df_real_ms_index.join(unique_rows_index,how = 'inner')\n",
    "\n",
    "# df_real_pc_index = predict_nan.index[predict_nan['payer_code'] != 0]\n",
    "# unique_rows_index = predict_nan.index[predict_nan['payer_code'].duplicated(keep=False)]\n",
    "# df_real_pc_index_total = df_real_pc_index.join(unique_rows_index,how = 'inner')\n",
    "\n",
    "# df_real_ms = predict_nan.loc[df_real_ms_index_total,['medical_specialty']]\n",
    "# df_real_pc = predict_nan.loc[df_real_pc_index_total,['payer_code']]\n",
    "\n",
    "# predict_nan.drop(columns = ['medical_specialty','payer_code'],inplace = True)\n",
    "\n",
    "# df_data_train_ms = predict_nan.loc[df_real_ms_index_total]\n",
    "# df_data_predict_ms = predict_nan.loc[~predict_nan.index.isin(df_real_ms_index)]\n",
    "\n",
    "# df_data_train_pc = predict_nan.loc[df_real_pc_index_total]\n",
    "# df_data_predict_pc = predict_nan.loc[~predict_nan.index.isin(df_real_pc_index)]"
   ]
  },
  {
   "cell_type": "code",
   "execution_count": 443,
   "metadata": {},
   "outputs": [],
   "source": [
    "# # this part will reduce the dimension our training data\n",
    "\n",
    "# missing_value_predict_model = HistGradientBoostingClassifier(max_iter=100)\n",
    "# missing_value_predict_model.fit(df_data_train_ms,df_real_ms['medical_specialty'])\n",
    "# df_encoded['medical_specialty'].loc[~df_encoded['medical_specialty'].index.isin(df_real_ms_index)] = missing_value_predict_model.predict(df_data_predict_ms)\n",
    "\n",
    "# missing_value_predict_model = HistGradientBoostingClassifier(max_iter=100)\n",
    "# missing_value_predict_model.fit(df_data_train_pc,df_real_pc)\n",
    "# df_encoded['payer_code'].loc[~df_encoded['payer_code'].index.isin(df_real_pc_index)] = missing_value_predict_model.predict(df_data_predict_pc)"
   ]
  },
  {
   "cell_type": "code",
   "execution_count": 456,
   "metadata": {},
   "outputs": [
    {
     "data": {
      "text/plain": [
       "payer_code\n",
       "2     6555\n",
       "3      854\n",
       "5      633\n",
       "7      585\n",
       "1      387\n",
       "6      249\n",
       "4      218\n",
       "9      197\n",
       "14     104\n",
       "12      62\n",
       "10      57\n",
       "11      14\n",
       "15      12\n",
       "13       9\n",
       "16       9\n",
       "8        2\n",
       "Name: count, dtype: int64"
      ]
     },
     "execution_count": 456,
     "metadata": {},
     "output_type": "execute_result"
    }
   ],
   "source": []
  },
  {
   "cell_type": "markdown",
   "metadata": {},
   "source": [
    "Dems Redct\n",
    "1. PCA/PPCA\n",
    "2. LDA/QDA\n",
    "3. following to T-SNE\n",
    "3. Autoencoders\n",
    "4. Unsupervised Algorithmn"
   ]
  },
  {
   "cell_type": "code",
   "execution_count": 444,
   "metadata": {},
   "outputs": [
    {
     "name": "stderr",
     "output_type": "stream",
     "text": [
      "/Users/szy/Downloads/yes/envs/COMP0169/lib/python3.10/site-packages/sklearn/preprocessing/_encoders.py:975: FutureWarning: `sparse` was renamed to `sparse_output` in version 1.2 and will be removed in 1.4. `sparse_output` is ignored unless you leave `sparse` to its default value.\n",
      "  warnings.warn(\n"
     ]
    },
    {
     "data": {
      "text/plain": [
       "Text(0.5, 0, 't-SNE Axis 1')"
      ]
     },
     "execution_count": 444,
     "metadata": {},
     "output_type": "execute_result"
    },
    {
     "data": {
      "image/png": "[encoded data removed]",
      "text/plain": [
       "<Figure size 1000x800 with 1 Axes>"
      ]
     },
     "metadata": {},
     "output_type": "display_data"
    }
   ],
   "source": [
    "from sklearn.preprocessing import StandardScaler, OneHotEncoder\n",
    "from sklearn.decomposition import PCA\n",
    "from sklearn.manifold import TSNE\n",
    "import matplotlib.pyplot as plt\n",
    "\n",
    "\n",
    "# Simulating Data\n",
    "np.random.seed(0)\n",
    "num_samples = 1000\n",
    "num_features = 5\n",
    "\n",
    "# Numerical data\n",
    "numeric_data = np.random.randn(num_samples, num_features)\n",
    "\n",
    "# Categorical data (let's say, colors)\n",
    "colors = ['Red', 'Green', 'Blue']\n",
    "categorical_data = np.random.choice(colors, size=num_samples)\n",
    "\n",
    "# Convert categorical data to one-hot encoding\n",
    "encoder = OneHotEncoder(sparse=False)\n",
    "categorical_encoded = encoder.fit_transform(categorical_data.reshape(-1, 1))\n",
    "\n",
    "# Combining numerical and categorical data\n",
    "combined_data = np.hstack((numeric_data, categorical_encoded))\n",
    "\n",
    "# Standardize the numerical features\n",
    "scaler = StandardScaler()\n",
    "scaled_data = scaler.fit_transform(combined_data)\n",
    "\n",
    "# Apply PCA\n",
    "pca = PCA(n_components=0.95)  # Keep 95% of the variance\n",
    "pca_result = pca.fit_transform(scaled_data)\n",
    "\n",
    "# Apply t-SNE\n",
    "tsne = TSNE(n_components=2, perplexity=30, n_iter=300)\n",
    "tsne_result = tsne.fit_transform(pca_result)\n",
    "\n",
    "# Plotting the results\n",
    "sns.set(rc={'figure.figsize':(10,8)})\n",
    "sns.scatterplot(x=tsne_result[:,0], y=tsne_result[:,1], hue=categorical_data, palette='bright')\n",
    "plt.title('t-SNE plot of the dataset')\n",
    "plt.xlabel('t-SNE Axis 1')\n"
   ]
  },
  {
   "cell_type": "code",
   "execution_count": 445,
   "metadata": {},
   "outputs": [
    {
     "name": "stdout",
     "output_type": "stream",
     "text": [
      "Epoch 1/50\n",
      "4/4 [==============================] - 0s 2ms/step - loss: 0.6563\n",
      "Epoch 2/50\n",
      "4/4 [==============================] - 0s 2ms/step - loss: 0.6319\n",
      "Epoch 3/50\n",
      "4/4 [==============================] - 0s 2ms/step - loss: 0.6080\n",
      "Epoch 4/50\n",
      "4/4 [==============================] - 0s 4ms/step - loss: 0.5840\n",
      "Epoch 5/50\n",
      "4/4 [==============================] - 0s 7ms/step - loss: 0.5602\n",
      "Epoch 6/50\n",
      "4/4 [==============================] - 0s 3ms/step - loss: 0.5365\n",
      "Epoch 7/50\n",
      "4/4 [==============================] - 0s 5ms/step - loss: 0.5130\n",
      "Epoch 8/50\n",
      "4/4 [==============================] - 0s 2ms/step - loss: 0.4894\n",
      "Epoch 9/50\n",
      "4/4 [==============================] - 0s 2ms/step - loss: 0.4657\n",
      "Epoch 10/50\n",
      "4/4 [==============================] - 0s 2ms/step - loss: 0.4423\n",
      "Epoch 11/50\n",
      "4/4 [==============================] - 0s 2ms/step - loss: 0.4184\n",
      "Epoch 12/50\n",
      "4/4 [==============================] - 0s 2ms/step - loss: 0.3945\n",
      "Epoch 13/50\n",
      "4/4 [==============================] - 0s 2ms/step - loss: 0.3705\n",
      "Epoch 14/50\n",
      "4/4 [==============================] - 0s 3ms/step - loss: 0.3464\n",
      "Epoch 15/50\n",
      "4/4 [==============================] - 0s 9ms/step - loss: 0.3220\n",
      "Epoch 16/50\n",
      "4/4 [==============================] - 0s 2ms/step - loss: 0.2970\n",
      "Epoch 17/50\n",
      "4/4 [==============================] - 0s 3ms/step - loss: 0.2720\n",
      "Epoch 18/50\n",
      "4/4 [==============================] - 0s 2ms/step - loss: 0.2468\n",
      "Epoch 19/50\n",
      "4/4 [==============================] - 0s 2ms/step - loss: 0.2211\n",
      "Epoch 20/50\n",
      "4/4 [==============================] - 0s 2ms/step - loss: 0.1952\n",
      "Epoch 21/50\n",
      "4/4 [==============================] - 0s 2ms/step - loss: 0.1690\n",
      "Epoch 22/50\n",
      "4/4 [==============================] - 0s 2ms/step - loss: 0.1421\n",
      "Epoch 23/50\n",
      "4/4 [==============================] - 0s 2ms/step - loss: 0.1152\n",
      "Epoch 24/50\n",
      "4/4 [==============================] - 0s 6ms/step - loss: 0.0874\n",
      "Epoch 25/50\n",
      "4/4 [==============================] - 0s 5ms/step - loss: 0.0597\n",
      "Epoch 26/50\n",
      "4/4 [==============================] - 0s 2ms/step - loss: 0.0311\n",
      "Epoch 27/50\n",
      "4/4 [==============================] - 0s 4ms/step - loss: 0.0023\n",
      "Epoch 28/50\n",
      "4/4 [==============================] - 0s 2ms/step - loss: -0.0271\n",
      "Epoch 29/50\n",
      "4/4 [==============================] - 0s 2ms/step - loss: -0.0571\n",
      "Epoch 30/50\n",
      "4/4 [==============================] - 0s 2ms/step - loss: -0.0870\n",
      "Epoch 31/50\n",
      "4/4 [==============================] - 0s 2ms/step - loss: -0.1180\n",
      "Epoch 32/50\n",
      "4/4 [==============================] - 0s 2ms/step - loss: -0.1493\n",
      "Epoch 33/50\n",
      "4/4 [==============================] - 0s 2ms/step - loss: -0.1813\n",
      "Epoch 34/50\n",
      "4/4 [==============================] - 0s 2ms/step - loss: -0.2134\n",
      "Epoch 35/50\n",
      "4/4 [==============================] - 0s 2ms/step - loss: -0.2467\n",
      "Epoch 36/50\n",
      "4/4 [==============================] - 0s 2ms/step - loss: -0.2799\n",
      "Epoch 37/50\n",
      "4/4 [==============================] - 0s 3ms/step - loss: -0.3137\n",
      "Epoch 38/50\n",
      "4/4 [==============================] - 0s 2ms/step - loss: -0.3485\n",
      "Epoch 39/50\n",
      "4/4 [==============================] - 0s 2ms/step - loss: -0.3837\n",
      "Epoch 40/50\n",
      "4/4 [==============================] - 0s 2ms/step - loss: -0.4195\n",
      "Epoch 41/50\n",
      "4/4 [==============================] - 0s 2ms/step - loss: -0.4561\n",
      "Epoch 42/50\n",
      "4/4 [==============================] - 0s 3ms/step - loss: -0.4931\n",
      "Epoch 43/50\n",
      "4/4 [==============================] - 0s 2ms/step - loss: -0.5307\n",
      "Epoch 44/50\n",
      "4/4 [==============================] - 0s 2ms/step - loss: -0.5692\n",
      "Epoch 45/50\n",
      "4/4 [==============================] - 0s 2ms/step - loss: -0.6084\n",
      "Epoch 46/50\n",
      "4/4 [==============================] - 0s 2ms/step - loss: -0.6484\n",
      "Epoch 47/50\n",
      "4/4 [==============================] - 0s 2ms/step - loss: -0.6880\n",
      "Epoch 48/50\n",
      "4/4 [==============================] - 0s 2ms/step - loss: -0.7294\n",
      "Epoch 49/50\n",
      "4/4 [==============================] - 0s 2ms/step - loss: -0.7710\n",
      "Epoch 50/50\n",
      "4/4 [==============================] - 0s 7ms/step - loss: -0.8140\n"
     ]
    },
    {
     "data": {
      "text/plain": [
       "<keras.callbacks.History at 0x3e81a4580>"
      ]
     },
     "execution_count": 445,
     "metadata": {},
     "output_type": "execute_result"
    }
   ],
   "source": [
    "from tensorflow.keras.models import Model\n",
    "from tensorflow.keras.layers import Input, Dense\n",
    "\n",
    "input_shape = combined_data.shape[1]  # combined data from previous steps\n",
    "encoding_dim = 32  # example of encoding dimension\n",
    "\n",
    "# This is our input placeholder\n",
    "input_data = Input(shape=(input_shape,))\n",
    "\n",
    "# \"encoded\" is the encoded representation of the input\n",
    "encoded = Dense(encoding_dim, activation='relu')(input_data)\n",
    "\n",
    "# \"decoded\" is the lossy reconstruction of the input\n",
    "decoded = Dense(input_shape, activation='sigmoid')(encoded)\n",
    "\n",
    "# This model maps an input to its reconstruction\n",
    "autoencoder = Model(input_data, decoded)\n",
    "\n",
    "autoencoder.compile(optimizer='adam', loss='binary_crossentropy')\n",
    "autoencoder.fit(combined_data, combined_data, epochs=50, batch_size=256, shuffle=True)\n"
   ]
  },
  {
   "attachments": {},
   "cell_type": "markdown",
   "metadata": {},
   "source": [
    "# Model Building\n",
    "We will build two models: \n",
    "1. A traditional machine learning model using Random Forest.\n",
    "2. A deep learning model using PyTorch.\n"
   ]
  },
  {
   "attachments": {},
   "cell_type": "markdown",
   "metadata": {},
   "source": [
    "At the first step we will try to use the Random Forest method to get the result"
   ]
  },
  {
   "cell_type": "code",
   "execution_count": 446,
   "metadata": {},
   "outputs": [],
   "source": [
    "# the code for Random Forest algorithm"
   ]
  },
  {
   "cell_type": "code",
   "execution_count": 447,
   "metadata": {},
   "outputs": [],
   "source": [
    "# the code for Nerual Network"
   ]
  },
  {
   "attachments": {},
   "cell_type": "markdown",
   "metadata": {},
   "source": [
    "# Model Training\n"
   ]
  },
  {
   "cell_type": "code",
   "execution_count": 477,
   "metadata": {},
   "outputs": [],
   "source": [
    "X = df_encoded\n",
    "y = y_test_readmitted\n",
    "X_test = df_test_encoded\n",
    "y_test = y_readmitted\n"
   ]
  },
  {
   "cell_type": "code",
   "execution_count": 552,
   "metadata": {},
   "outputs": [
    {
     "data": {
      "text/html": [
       "<style>#sk-container-id-27 {color: black;}#sk-container-id-27 pre{padding: 0;}#sk-container-id-27 div.sk-toggleable {background-color: white;}#sk-container-id-27 label.sk-toggleable__label {cursor: pointer;display: block;width: 100%;margin-bottom: 0;padding: 0.3em;box-sizing: border-box;text-align: center;}#sk-container-id-27 label.sk-toggleable__label-arrow:before {content: \"▸\";float: left;margin-right: 0.25em;color: #696969;}#sk-container-id-27 label.sk-toggleable__label-arrow:hover:before {color: black;}#sk-container-id-27 div.sk-estimator:hover label.sk-toggleable__label-arrow:before {color: black;}#sk-container-id-27 div.sk-toggleable__content {max-height: 0;max-width: 0;overflow: hidden;text-align: left;background-color: #f0f8ff;}#sk-container-id-27 div.sk-toggleable__content pre {margin: 0.2em;color: black;border-radius: 0.25em;background-color: #f0f8ff;}#sk-container-id-27 input.sk-toggleable__control:checked~div.sk-toggleable__content {max-height: 200px;max-width: 100%;overflow: auto;}#sk-container-id-27 input.sk-toggleable__control:checked~label.sk-toggleable__label-arrow:before {content: \"▾\";}#sk-container-id-27 div.sk-estimator input.sk-toggleable__control:checked~label.sk-toggleable__label {background-color: #d4ebff;}#sk-container-id-27 div.sk-label input.sk-toggleable__control:checked~label.sk-toggleable__label {background-color: #d4ebff;}#sk-container-id-27 input.sk-hidden--visually {border: 0;clip: rect(1px 1px 1px 1px);clip: rect(1px, 1px, 1px, 1px);height: 1px;margin: -1px;overflow: hidden;padding: 0;position: absolute;width: 1px;}#sk-container-id-27 div.sk-estimator {font-family: monospace;background-color: #f0f8ff;border: 1px dotted black;border-radius: 0.25em;box-sizing: border-box;margin-bottom: 0.5em;}#sk-container-id-27 div.sk-estimator:hover {background-color: #d4ebff;}#sk-container-id-27 div.sk-parallel-item::after {content: \"\";width: 100%;border-bottom: 1px solid gray;flex-grow: 1;}#sk-container-id-27 div.sk-label:hover label.sk-toggleable__label {background-color: #d4ebff;}#sk-container-id-27 div.sk-serial::before {content: \"\";position: absolute;border-left: 1px solid gray;box-sizing: border-box;top: 0;bottom: 0;left: 50%;z-index: 0;}#sk-container-id-27 div.sk-serial {display: flex;flex-direction: column;align-items: center;background-color: white;padding-right: 0.2em;padding-left: 0.2em;position: relative;}#sk-container-id-27 div.sk-item {position: relative;z-index: 1;}#sk-container-id-27 div.sk-parallel {display: flex;align-items: stretch;justify-content: center;background-color: white;position: relative;}#sk-container-id-27 div.sk-item::before, #sk-container-id-27 div.sk-parallel-item::before {content: \"\";position: absolute;border-left: 1px solid gray;box-sizing: border-box;top: 0;bottom: 0;left: 50%;z-index: -1;}#sk-container-id-27 div.sk-parallel-item {display: flex;flex-direction: column;z-index: 1;position: relative;background-color: white;}#sk-container-id-27 div.sk-parallel-item:first-child::after {align-self: flex-end;width: 50%;}#sk-container-id-27 div.sk-parallel-item:last-child::after {align-self: flex-start;width: 50%;}#sk-container-id-27 div.sk-parallel-item:only-child::after {width: 0;}#sk-container-id-27 div.sk-dashed-wrapped {border: 1px dashed gray;margin: 0 0.4em 0.5em 0.4em;box-sizing: border-box;padding-bottom: 0.4em;background-color: white;}#sk-container-id-27 div.sk-label label {font-family: monospace;font-weight: bold;display: inline-block;line-height: 1.2em;}#sk-container-id-27 div.sk-label-container {text-align: center;}#sk-container-id-27 div.sk-container {/* jupyter's `normalize.less` sets `[hidden] { display: none; }` but bootstrap.min.css set `[hidden] { display: none !important; }` so we also need the `!important` here to be able to override the default hidden behavior on the sphinx rendered scikit-learn.org. See: https://github.com/scikit-learn/scikit-learn/issues/21755 */display: inline-block !important;position: relative;}#sk-container-id-27 div.sk-text-repr-fallback {display: none;}</style><div id=\"sk-container-id-27\" class=\"sk-top-container\"><div class=\"sk-text-repr-fallback\"><pre>HistGradientBoostingClassifier()</pre><b>In a Jupyter environment, please rerun this cell to show the HTML representation or trust the notebook. <br />On GitHub, the HTML representation is unable to render, please try loading this page with nbviewer.org.</b></div><div class=\"sk-container\" hidden><div class=\"sk-item\"><div class=\"sk-estimator sk-toggleable\"><input class=\"sk-toggleable__control sk-hidden--visually\" id=\"sk-estimator-id-35\" type=\"checkbox\" checked><label for=\"sk-estimator-id-35\" class=\"sk-toggleable__label sk-toggleable__label-arrow\">HistGradientBoostingClassifier</label><div class=\"sk-toggleable__content\"><pre>HistGradientBoostingClassifier()</pre></div></div></div></div></div>"
      ],
      "text/plain": [
       "HistGradientBoostingClassifier()"
      ]
     },
     "execution_count": 552,
     "metadata": {},
     "output_type": "execute_result"
    }
   ],
   "source": [
    "# training loop\n",
    "# Random Forest\n",
    "from sklearn.feature_selection import SelectKBest, chi2\n",
    "\n",
    "# 选择最好的K个特征\n",
    "\n",
    "\n",
    "HGB_classifier = HistGradientBoostingClassifier(max_iter=100)\n",
    "HGB_classifier.fit(X, y)\n",
    "\n",
    "# Nerual Network"
   ]
  },
  {
   "cell_type": "code",
   "execution_count": 553,
   "metadata": {},
   "outputs": [
    {
     "name": "stdout",
     "output_type": "stream",
     "text": [
      "0.5907308736302402\n"
     ]
    }
   ],
   "source": [
    "# use testing dataset to predict\n",
    "Y_test = y_readmitted\n",
    "#df_test_normalized = pd.DataFrame(scaler.fit_transform(df_test_encoded), columns=df_test_encoded.columns)\n",
    "X_test = df_test_encoded\n",
    "#X_test = selector.transform(X_test)\n",
    "\n",
    "Y_pred = HGB_classifier.predict(X_test)\n",
    "print(accuracy_score(Y_test,Y_pred))"
   ]
  },
  {
   "cell_type": "code",
   "execution_count": 554,
   "metadata": {},
   "outputs": [
    {
     "data": {
      "text/html": [
       "<style>#sk-container-id-28 {color: black;}#sk-container-id-28 pre{padding: 0;}#sk-container-id-28 div.sk-toggleable {background-color: white;}#sk-container-id-28 label.sk-toggleable__label {cursor: pointer;display: block;width: 100%;margin-bottom: 0;padding: 0.3em;box-sizing: border-box;text-align: center;}#sk-container-id-28 label.sk-toggleable__label-arrow:before {content: \"▸\";float: left;margin-right: 0.25em;color: #696969;}#sk-container-id-28 label.sk-toggleable__label-arrow:hover:before {color: black;}#sk-container-id-28 div.sk-estimator:hover label.sk-toggleable__label-arrow:before {color: black;}#sk-container-id-28 div.sk-toggleable__content {max-height: 0;max-width: 0;overflow: hidden;text-align: left;background-color: #f0f8ff;}#sk-container-id-28 div.sk-toggleable__content pre {margin: 0.2em;color: black;border-radius: 0.25em;background-color: #f0f8ff;}#sk-container-id-28 input.sk-toggleable__control:checked~div.sk-toggleable__content {max-height: 200px;max-width: 100%;overflow: auto;}#sk-container-id-28 input.sk-toggleable__control:checked~label.sk-toggleable__label-arrow:before {content: \"▾\";}#sk-container-id-28 div.sk-estimator input.sk-toggleable__control:checked~label.sk-toggleable__label {background-color: #d4ebff;}#sk-container-id-28 div.sk-label input.sk-toggleable__control:checked~label.sk-toggleable__label {background-color: #d4ebff;}#sk-container-id-28 input.sk-hidden--visually {border: 0;clip: rect(1px 1px 1px 1px);clip: rect(1px, 1px, 1px, 1px);height: 1px;margin: -1px;overflow: hidden;padding: 0;position: absolute;width: 1px;}#sk-container-id-28 div.sk-estimator {font-family: monospace;background-color: #f0f8ff;border: 1px dotted black;border-radius: 0.25em;box-sizing: border-box;margin-bottom: 0.5em;}#sk-container-id-28 div.sk-estimator:hover {background-color: #d4ebff;}#sk-container-id-28 div.sk-parallel-item::after {content: \"\";width: 100%;border-bottom: 1px solid gray;flex-grow: 1;}#sk-container-id-28 div.sk-label:hover label.sk-toggleable__label {background-color: #d4ebff;}#sk-container-id-28 div.sk-serial::before {content: \"\";position: absolute;border-left: 1px solid gray;box-sizing: border-box;top: 0;bottom: 0;left: 50%;z-index: 0;}#sk-container-id-28 div.sk-serial {display: flex;flex-direction: column;align-items: center;background-color: white;padding-right: 0.2em;padding-left: 0.2em;position: relative;}#sk-container-id-28 div.sk-item {position: relative;z-index: 1;}#sk-container-id-28 div.sk-parallel {display: flex;align-items: stretch;justify-content: center;background-color: white;position: relative;}#sk-container-id-28 div.sk-item::before, #sk-container-id-28 div.sk-parallel-item::before {content: \"\";position: absolute;border-left: 1px solid gray;box-sizing: border-box;top: 0;bottom: 0;left: 50%;z-index: -1;}#sk-container-id-28 div.sk-parallel-item {display: flex;flex-direction: column;z-index: 1;position: relative;background-color: white;}#sk-container-id-28 div.sk-parallel-item:first-child::after {align-self: flex-end;width: 50%;}#sk-container-id-28 div.sk-parallel-item:last-child::after {align-self: flex-start;width: 50%;}#sk-container-id-28 div.sk-parallel-item:only-child::after {width: 0;}#sk-container-id-28 div.sk-dashed-wrapped {border: 1px dashed gray;margin: 0 0.4em 0.5em 0.4em;box-sizing: border-box;padding-bottom: 0.4em;background-color: white;}#sk-container-id-28 div.sk-label label {font-family: monospace;font-weight: bold;display: inline-block;line-height: 1.2em;}#sk-container-id-28 div.sk-label-container {text-align: center;}#sk-container-id-28 div.sk-container {/* jupyter's `normalize.less` sets `[hidden] { display: none; }` but bootstrap.min.css set `[hidden] { display: none !important; }` so we also need the `!important` here to be able to override the default hidden behavior on the sphinx rendered scikit-learn.org. See: https://github.com/scikit-learn/scikit-learn/issues/21755 */display: inline-block !important;position: relative;}#sk-container-id-28 div.sk-text-repr-fallback {display: none;}</style><div id=\"sk-container-id-28\" class=\"sk-top-container\"><div class=\"sk-text-repr-fallback\"><pre>RandomForestClassifier()</pre><b>In a Jupyter environment, please rerun this cell to show the HTML representation or trust the notebook. <br />On GitHub, the HTML representation is unable to render, please try loading this page with nbviewer.org.</b></div><div class=\"sk-container\" hidden><div class=\"sk-item\"><div class=\"sk-estimator sk-toggleable\"><input class=\"sk-toggleable__control sk-hidden--visually\" id=\"sk-estimator-id-36\" type=\"checkbox\" checked><label for=\"sk-estimator-id-36\" class=\"sk-toggleable__label sk-toggleable__label-arrow\">RandomForestClassifier</label><div class=\"sk-toggleable__content\"><pre>RandomForestClassifier()</pre></div></div></div></div></div>"
      ],
      "text/plain": [
       "RandomForestClassifier()"
      ]
     },
     "execution_count": 554,
     "metadata": {},
     "output_type": "execute_result"
    }
   ],
   "source": [
    "\n",
    "RF_classifier = RandomForestClassifier(n_estimators=100)\n",
    "RF_classifier.fit(X, y)"
   ]
  },
  {
   "cell_type": "code",
   "execution_count": 555,
   "metadata": {},
   "outputs": [
    {
     "name": "stdout",
     "output_type": "stream",
     "text": [
      "0.5834925103046145\n"
     ]
    }
   ],
   "source": [
    "Y_pred = RF_classifier.predict(X_test)\n",
    "print(accuracy_score(Y_test,Y_pred))"
   ]
  },
  {
   "cell_type": "code",
   "execution_count": 549,
   "metadata": {},
   "outputs": [
    {
     "data": {
      "text/html": [
       "<style>#sk-container-id-26 {color: black;}#sk-container-id-26 pre{padding: 0;}#sk-container-id-26 div.sk-toggleable {background-color: white;}#sk-container-id-26 label.sk-toggleable__label {cursor: pointer;display: block;width: 100%;margin-bottom: 0;padding: 0.3em;box-sizing: border-box;text-align: center;}#sk-container-id-26 label.sk-toggleable__label-arrow:before {content: \"▸\";float: left;margin-right: 0.25em;color: #696969;}#sk-container-id-26 label.sk-toggleable__label-arrow:hover:before {color: black;}#sk-container-id-26 div.sk-estimator:hover label.sk-toggleable__label-arrow:before {color: black;}#sk-container-id-26 div.sk-toggleable__content {max-height: 0;max-width: 0;overflow: hidden;text-align: left;background-color: #f0f8ff;}#sk-container-id-26 div.sk-toggleable__content pre {margin: 0.2em;color: black;border-radius: 0.25em;background-color: #f0f8ff;}#sk-container-id-26 input.sk-toggleable__control:checked~div.sk-toggleable__content {max-height: 200px;max-width: 100%;overflow: auto;}#sk-container-id-26 input.sk-toggleable__control:checked~label.sk-toggleable__label-arrow:before {content: \"▾\";}#sk-container-id-26 div.sk-estimator input.sk-toggleable__control:checked~label.sk-toggleable__label {background-color: #d4ebff;}#sk-container-id-26 div.sk-label input.sk-toggleable__control:checked~label.sk-toggleable__label {background-color: #d4ebff;}#sk-container-id-26 input.sk-hidden--visually {border: 0;clip: rect(1px 1px 1px 1px);clip: rect(1px, 1px, 1px, 1px);height: 1px;margin: -1px;overflow: hidden;padding: 0;position: absolute;width: 1px;}#sk-container-id-26 div.sk-estimator {font-family: monospace;background-color: #f0f8ff;border: 1px dotted black;border-radius: 0.25em;box-sizing: border-box;margin-bottom: 0.5em;}#sk-container-id-26 div.sk-estimator:hover {background-color: #d4ebff;}#sk-container-id-26 div.sk-parallel-item::after {content: \"\";width: 100%;border-bottom: 1px solid gray;flex-grow: 1;}#sk-container-id-26 div.sk-label:hover label.sk-toggleable__label {background-color: #d4ebff;}#sk-container-id-26 div.sk-serial::before {content: \"\";position: absolute;border-left: 1px solid gray;box-sizing: border-box;top: 0;bottom: 0;left: 50%;z-index: 0;}#sk-container-id-26 div.sk-serial {display: flex;flex-direction: column;align-items: center;background-color: white;padding-right: 0.2em;padding-left: 0.2em;position: relative;}#sk-container-id-26 div.sk-item {position: relative;z-index: 1;}#sk-container-id-26 div.sk-parallel {display: flex;align-items: stretch;justify-content: center;background-color: white;position: relative;}#sk-container-id-26 div.sk-item::before, #sk-container-id-26 div.sk-parallel-item::before {content: \"\";position: absolute;border-left: 1px solid gray;box-sizing: border-box;top: 0;bottom: 0;left: 50%;z-index: -1;}#sk-container-id-26 div.sk-parallel-item {display: flex;flex-direction: column;z-index: 1;position: relative;background-color: white;}#sk-container-id-26 div.sk-parallel-item:first-child::after {align-self: flex-end;width: 50%;}#sk-container-id-26 div.sk-parallel-item:last-child::after {align-self: flex-start;width: 50%;}#sk-container-id-26 div.sk-parallel-item:only-child::after {width: 0;}#sk-container-id-26 div.sk-dashed-wrapped {border: 1px dashed gray;margin: 0 0.4em 0.5em 0.4em;box-sizing: border-box;padding-bottom: 0.4em;background-color: white;}#sk-container-id-26 div.sk-label label {font-family: monospace;font-weight: bold;display: inline-block;line-height: 1.2em;}#sk-container-id-26 div.sk-label-container {text-align: center;}#sk-container-id-26 div.sk-container {/* jupyter's `normalize.less` sets `[hidden] { display: none; }` but bootstrap.min.css set `[hidden] { display: none !important; }` so we also need the `!important` here to be able to override the default hidden behavior on the sphinx rendered scikit-learn.org. See: https://github.com/scikit-learn/scikit-learn/issues/21755 */display: inline-block !important;position: relative;}#sk-container-id-26 div.sk-text-repr-fallback {display: none;}</style><div id=\"sk-container-id-26\" class=\"sk-top-container\"><div class=\"sk-text-repr-fallback\"><pre>KNeighborsClassifier(n_neighbors=3)</pre><b>In a Jupyter environment, please rerun this cell to show the HTML representation or trust the notebook. <br />On GitHub, the HTML representation is unable to render, please try loading this page with nbviewer.org.</b></div><div class=\"sk-container\" hidden><div class=\"sk-item\"><div class=\"sk-estimator sk-toggleable\"><input class=\"sk-toggleable__control sk-hidden--visually\" id=\"sk-estimator-id-34\" type=\"checkbox\" checked><label for=\"sk-estimator-id-34\" class=\"sk-toggleable__label sk-toggleable__label-arrow\">KNeighborsClassifier</label><div class=\"sk-toggleable__content\"><pre>KNeighborsClassifier(n_neighbors=3)</pre></div></div></div></div></div>"
      ],
      "text/plain": [
       "KNeighborsClassifier(n_neighbors=3)"
      ]
     },
     "execution_count": 549,
     "metadata": {},
     "output_type": "execute_result"
    }
   ],
   "source": [
    "k = 3  # 选择 K 值\n",
    "knn_classifier = KNeighborsClassifier(n_neighbors=k)\n",
    "knn_classifier.fit(X,y)"
   ]
  },
  {
   "cell_type": "code",
   "execution_count": 550,
   "metadata": {},
   "outputs": [
    {
     "name": "stdout",
     "output_type": "stream",
     "text": [
      "0.5024630541871922\n"
     ]
    }
   ],
   "source": [
    "Y_pred = knn_classifier.predict(X_test)\n",
    "print(accuracy_score(Y_test,Y_pred))"
   ]
  },
  {
   "cell_type": "code",
   "execution_count": 551,
   "metadata": {},
   "outputs": [
    {
     "name": "stdout",
     "output_type": "stream",
     "text": [
      "0.5627827485674073\n"
     ]
    }
   ],
   "source": [
    "from sklearn import svm\n",
    "SVM_model = svm.SVC()\n",
    "SVM_model.fit(X,y)\n",
    "y_pred = SVM_model.predict(X_test)\n",
    "print(accuracy_score(y_pred,y_test))"
   ]
  },
  {
   "cell_type": "code",
   "execution_count": 481,
   "metadata": {},
   "outputs": [
    {
     "name": "stderr",
     "output_type": "stream",
     "text": [
      "  0%|          | 0/10 [00:00<?, ?it/s]\n"
     ]
    },
    {
     "ename": "ValueError",
     "evalue": "too many values to unpack (expected 2)",
     "output_type": "error",
     "traceback": [
      "\u001b[0;31m---------------------------------------------------------------------------\u001b[0m",
      "\u001b[0;31mValueError\u001b[0m                                Traceback (most recent call last)",
      "Cell \u001b[0;32mIn[481], line 82\u001b[0m\n\u001b[1;32m     80\u001b[0m \u001b[38;5;66;03m# 训练循环（伪代码，需要根据实际情况调整）\u001b[39;00m\n\u001b[1;32m     81\u001b[0m \u001b[38;5;28;01mfor\u001b[39;00m epoch \u001b[38;5;129;01min\u001b[39;00m tqdm(\u001b[38;5;28mrange\u001b[39m(num_epochs)):\n\u001b[0;32m---> 82\u001b[0m     meta_loss \u001b[38;5;241m=\u001b[39m \u001b[43mmaml_train_step\u001b[49m\u001b[43m(\u001b[49m\u001b[43mmodel\u001b[49m\u001b[43m,\u001b[49m\u001b[43m \u001b[49m\u001b[43moptimizer\u001b[49m\u001b[43m,\u001b[49m\u001b[43m \u001b[49m\u001b[43mtrain_data_loader\u001b[49m\u001b[43m)\u001b[49m\n\u001b[1;32m     83\u001b[0m     \u001b[38;5;28mprint\u001b[39m(\u001b[38;5;124mf\u001b[39m\u001b[38;5;124m\"\u001b[39m\u001b[38;5;124mEpoch \u001b[39m\u001b[38;5;132;01m{\u001b[39;00mepoch\u001b[38;5;132;01m}\u001b[39;00m\u001b[38;5;124m: Meta Loss \u001b[39m\u001b[38;5;132;01m{\u001b[39;00mmeta_loss\u001b[38;5;132;01m}\u001b[39;00m\u001b[38;5;124m\"\u001b[39m)\n\u001b[1;32m     85\u001b[0m \u001b[38;5;28;01mif\u001b[39;00m \u001b[38;5;129;01mnot\u001b[39;00m os\u001b[38;5;241m.\u001b[39mpath\u001b[38;5;241m.\u001b[39mexists(\u001b[38;5;124m\"\u001b[39m\u001b[38;5;124mmodels/\u001b[39m\u001b[38;5;124m\"\u001b[39m):\n",
      "Cell \u001b[0;32mIn[481], line 32\u001b[0m, in \u001b[0;36mmaml_train_step\u001b[0;34m(model, optimizer, data_loader)\u001b[0m\n\u001b[1;32m     29\u001b[0m \u001b[38;5;28;01mfor\u001b[39;00m task_data \u001b[38;5;129;01min\u001b[39;00m data_loader:\n\u001b[1;32m     30\u001b[0m     \u001b[38;5;66;03m# 拆分数据为支持集和查询集\u001b[39;00m\n\u001b[1;32m     31\u001b[0m     support_set, query_set \u001b[38;5;241m=\u001b[39m task_data\n\u001b[0;32m---> 32\u001b[0m     x_support, y_support \u001b[38;5;241m=\u001b[39m support_set\n\u001b[1;32m     33\u001b[0m     x_query, y_query \u001b[38;5;241m=\u001b[39m query_set\n\u001b[1;32m     35\u001b[0m     \u001b[38;5;66;03m# 保存原始参数以便在每个任务后恢复\u001b[39;00m\n",
      "\u001b[0;31mValueError\u001b[0m: too many values to unpack (expected 2)"
     ]
    }
   ],
   "source": [
    "# meta learning\n",
    "np.random.seed(0)\n",
    "torch.manual_seed(0)\n",
    "\n",
    "# 模型配置\n",
    "inner_lr = 0.01    # 内循环学习率\n",
    "meta_lr = 0.001    # 元学习率\n",
    "num_inner_updates = 1  # 每个任务的内部更新次数\n",
    "\n",
    "class Model(nn.Module):\n",
    "    def __init__(self):\n",
    "        super(Model, self).__init__()\n",
    "        self.fc = nn.Sequential(\n",
    "            nn.Linear(50, 40),\n",
    "            nn.ReLU(),\n",
    "            nn.Linear(40, 40),\n",
    "            nn.ReLU(),\n",
    "            nn.Linear(40,20),\n",
    "            nn.Sigmoid(),\n",
    "            nn.Linear(20, 3)\n",
    "        )\n",
    "\n",
    "    def forward(self, x):\n",
    "        return self.fc(x)\n",
    "\n",
    "def maml_train_step(model, optimizer, data_loader):\n",
    "    meta_loss = 0\n",
    "\n",
    "    for task_data in data_loader:\n",
    "        # 拆分数据为支持集和查询集\n",
    "        support_set, query_set = task_data\n",
    "        x_support, y_support = support_set\n",
    "        x_query, y_query = query_set\n",
    "\n",
    "        # 保存原始参数以便在每个任务后恢复\n",
    "        original_state_dict = model.state_dict()\n",
    "\n",
    "        # 内循环：在支持集上训练\n",
    "        for _ in range(num_inner_updates):\n",
    "            y_pred = model(x_support)\n",
    "            loss = nn.CrossEntropyLoss()(y_pred, y_support)\n",
    "            model.zero_grad()\n",
    "            loss.backward()\n",
    "            # 仅使用内循环学习率更新参数\n",
    "            for param in model.parameters():\n",
    "                param.data -= inner_lr * param.grad.data\n",
    "\n",
    "        # 外循环：在查询集上评估并更新元参数\n",
    "        y_pred_query = model(x_query)\n",
    "        query_loss = nn.CrossEntropyLoss()(y_pred_query, y_query)\n",
    "        meta_loss += query_loss\n",
    "\n",
    "        # 恢复模型到原始状态\n",
    "        model.load_state_dict(original_state_dict)\n",
    "\n",
    "    # 更新元参数\n",
    "    optimizer.zero_grad()\n",
    "    meta_loss.backward()\n",
    "    optimizer.step()\n",
    "\n",
    "    return meta_loss.item()\n",
    "\n",
    "# 实例化模型和优化器\n",
    "model = Model()\n",
    "optimizer = optim.Adam(model.parameters(), lr=meta_lr)\n",
    "\n",
    "\n",
    "X_tensor = torch.tensor(X.astype(float).values, dtype=torch.float32)\n",
    "y_tensor = torch.tensor(y.astype(int).values, dtype=torch.long)\n",
    "train_dataset = TensorDataset(X_tensor, y_tensor)\n",
    "\n",
    "X_test_tensor = torch.tensor(X_test.astype(float).values,dtype=torch.float32)\n",
    "y_test_tensor = torch.tensor(y_test.astype(int).values, dtype=torch.long)\n",
    "test_dataset = TensorDataset(X_test_tensor, y_test_tensor)\n",
    "\n",
    "train_data_loader = DataLoader(dataset=train_dataset, batch_size=32, shuffle=True)\n",
    "test_data_loader = DataLoader(dataset=test_dataset, batch_size=32, shuffle=True)\n",
    "\n",
    "num_epochs = 10\n",
    "# 训练循环（伪代码，需要根据实际情况调整）\n",
    "for epoch in tqdm(range(num_epochs)):\n",
    "    meta_loss = maml_train_step(model, optimizer, train_data_loader)\n",
    "    print(f\"Epoch {epoch}: Meta Loss {meta_loss}\")\n",
    "\n",
    "if not os.path.exists(\"models/\"):\n",
    "  os.makedirs(\"./models/\")\n",
    "torch.save({\"model\":model}, \"models/diabets_prediction_meta_learning.pth\")"
   ]
  },
  {
   "cell_type": "code",
   "execution_count": 538,
   "metadata": {},
   "outputs": [
    {
     "name": "stdout",
     "output_type": "stream",
     "text": [
      "torch.Size([89361, 3])\n",
      "tensor([[0., 1., 0.],\n",
      "        [1., 0., 0.],\n",
      "        [1., 0., 0.],\n",
      "        ...,\n",
      "        [1., 0., 0.],\n",
      "        [1., 0., 0.],\n",
      "        [1., 0., 0.]])\n"
     ]
    },
    {
     "name": "stderr",
     "output_type": "stream",
     "text": [
      "100%|██████████| 90/90 [00:00<00:00, 128.07it/s]\n",
      "100%|██████████| 90/90 [00:00<00:00, 130.50it/s]\n",
      "100%|██████████| 90/90 [00:00<00:00, 135.44it/s]\n",
      "100%|██████████| 90/90 [00:00<00:00, 131.68it/s]\n",
      "100%|██████████| 90/90 [00:00<00:00, 134.94it/s]\n",
      "100%|██████████| 90/90 [00:00<00:00, 135.28it/s]\n",
      "100%|██████████| 90/90 [00:00<00:00, 133.41it/s]\n",
      "100%|██████████| 90/90 [00:00<00:00, 136.68it/s]\n",
      "100%|██████████| 90/90 [00:00<00:00, 134.16it/s]\n",
      "100%|██████████| 90/90 [00:00<00:00, 135.36it/s]\n",
      "100%|██████████| 90/90 [00:00<00:00, 134.40it/s]\n",
      "100%|██████████| 90/90 [00:00<00:00, 135.80it/s]\n",
      "100%|██████████| 90/90 [00:00<00:00, 141.57it/s]\n",
      "100%|██████████| 90/90 [00:00<00:00, 134.57it/s]\n",
      "100%|██████████| 90/90 [00:00<00:00, 135.97it/s]\n",
      "100%|██████████| 90/90 [00:00<00:00, 134.56it/s]\n",
      "100%|██████████| 90/90 [00:00<00:00, 135.27it/s]\n",
      "100%|██████████| 90/90 [00:00<00:00, 134.97it/s]\n",
      "100%|██████████| 90/90 [00:00<00:00, 135.53it/s]\n",
      "100%|██████████| 90/90 [00:00<00:00, 135.31it/s]\n",
      "100%|██████████| 90/90 [00:00<00:00, 131.11it/s]\n",
      "100%|██████████| 90/90 [00:00<00:00, 144.84it/s]\n",
      "100%|██████████| 90/90 [00:00<00:00, 134.39it/s]\n",
      "100%|██████████| 90/90 [00:00<00:00, 135.24it/s]\n",
      "100%|██████████| 90/90 [00:00<00:00, 135.05it/s]\n",
      "100%|██████████| 90/90 [00:00<00:00, 135.45it/s]\n",
      "100%|██████████| 90/90 [00:00<00:00, 136.11it/s]\n",
      "100%|██████████| 90/90 [00:00<00:00, 136.64it/s]\n",
      "100%|██████████| 90/90 [00:00<00:00, 143.75it/s]\n",
      "100%|██████████| 90/90 [00:00<00:00, 130.81it/s]\n"
     ]
    }
   ],
   "source": [
    "class MLP(nn.Module):\n",
    "    '''\n",
    "    MLP class for predicting pixel values based on positions.\n",
    "    '''\n",
    "    def __init__(self, input_dimension, nb_layers, embedding_dimension, output_dimension):\n",
    "        super(MLP, self).__init__()\n",
    "\n",
    "        # Create a list to hold all layers\n",
    "        layers = []\n",
    "\n",
    "        # First layer\n",
    "        layers.append(nn.Linear(input_dimension, embedding_dimension))\n",
    "        layers.append(nn.Sigmoid())\n",
    "\n",
    "        # Additional hidden layers\n",
    "        for _ in range(nb_layers - 2):\n",
    "            layers.append(nn.Linear(embedding_dimension, embedding_dimension))\n",
    "            layers.append(nn.Sigmoid())\n",
    "\n",
    "        # Output layer\n",
    "        layers.append(nn.Linear(embedding_dimension, output_dimension))\n",
    "\n",
    "        # Combine all layers\n",
    "        self.layers = nn.Sequential(*layers)\n",
    "\n",
    "    def forward(self, input):\n",
    "        # Pass the input through all layers\n",
    "        prediction = self.layers(input)\n",
    "\n",
    "        return prediction\n",
    "\n",
    "model = MLP(103,5,64,3)\n",
    "\n",
    "class CustomDataset(Dataset):\n",
    "    def __init__(self, data, labels):\n",
    "        self.data = data\n",
    "        self.labels = labels\n",
    "\n",
    "    def __len__(self):\n",
    "        return len(self.data)\n",
    "\n",
    "    def __getitem__(self, idx):\n",
    "        return self.data[idx], self.labels[idx]\n",
    "\n",
    "def loss_function(predict,target):\n",
    "    loss_func = nn.CrossEntropyLoss()\n",
    "    return loss_func(predict,target) \n",
    "\n",
    "\n",
    "X_tensor = torch.tensor(X.values.astype(float), dtype=torch.float32)\n",
    "Y_dl = pd.get_dummies(Y)\n",
    "\n",
    "\n",
    "y_tensor = torch.tensor(Y_dl.values.astype(float), dtype=torch.float32).squeeze(1)\n",
    "print(y_tensor.shape)\n",
    "print(y_tensor)\n",
    "\n",
    "\n",
    "target_task_data = CustomDataset(X_tensor,y_tensor)  # Load your target task data\n",
    "optimizer = torch.optim.Adam(model.parameters(), lr=0.001)\n",
    "device = 'cpu'\n",
    "model.to(device)\n",
    "model.train()\n",
    "for _ in range(30):\n",
    "    for batch in tqdm(DataLoader(target_task_data, batch_size=1000, shuffle=True)):\n",
    "        inputs, targets = batch\n",
    "        optimizer.zero_grad()\n",
    "        predictions = model(inputs)\n",
    "        loss = loss_function(predictions, targets)\n",
    "        loss.backward()\n",
    "        optimizer.step()\n",
    "\n",
    "if not os.path.exists(\"models/\"):\n",
    "  os.makedirs(\"./models/\")\n",
    "torch.save({\"model\":model}, \"models/diabets_prediction.pth\")"
   ]
  },
  {
   "cell_type": "code",
   "execution_count": 518,
   "metadata": {},
   "outputs": [
    {
     "data": {
      "text/plain": [
       "0        False\n",
       "1        False\n",
       "2        False\n",
       "3        False\n",
       "4        False\n",
       "         ...  \n",
       "91584    False\n",
       "91585    False\n",
       "91586    False\n",
       "91587    False\n",
       "91588    False\n",
       "Name: 2, Length: 89361, dtype: bool"
      ]
     },
     "execution_count": 518,
     "metadata": {},
     "output_type": "execute_result"
    }
   ],
   "source": [
    "Y_dl[2]"
   ]
  },
  {
   "cell_type": "code",
   "execution_count": 539,
   "metadata": {},
   "outputs": [],
   "source": [
    "\n",
    "X_test_tensor = torch.tensor(X_test.astype(float).values,dtype=torch.float32)\n",
    "y_test_tensor = torch.tensor(y_test.astype(float).values, dtype=torch.float32)\n",
    "test_loader = TensorDataset(X_test_tensor, y_test_tensor)\n",
    "\n",
    "model.eval()\n",
    "total = 0\n",
    "correct = 0\n",
    "with torch.no_grad():\n",
    "    for data in test_loader:  # 假设 test_loader 是测试数据的 DataLoader\n",
    "        inputs, labels = data\n",
    "        outputs = model(inputs)\n",
    "        _, predicted = torch.max(outputs.data,0)\n",
    "        y_pred = predicted.item()\n",
    "        total += 1\n",
    "        if( y_pred == labels):\n",
    "            correct += 1\n",
    "\n",
    "accuracy = correct / total"
   ]
  },
  {
   "cell_type": "code",
   "execution_count": 540,
   "metadata": {},
   "outputs": [
    {
     "name": "stdout",
     "output_type": "stream",
     "text": [
      "0.5749472202674173\n",
      "5719\n",
      "9947\n"
     ]
    }
   ],
   "source": [
    "print(accuracy)\n",
    "print(correct)\n",
    "print(total)"
   ]
  },
  {
   "attachments": {},
   "cell_type": "markdown",
   "metadata": {},
   "source": [
    "# Model Evaluation"
   ]
  }
 ],
 "metadata": {
  "kernelspec": {
   "display_name": "COMP0169",
   "language": "python",
   "name": "python3"
  },
  "language_info": {
   "codemirror_mode": {
    "name": "ipython",
    "version": 3
   },
   "file_extension": ".py",
   "mimetype": "text/x-python",
   "name": "python",
   "nbconvert_exporter": "python",
   "pygments_lexer": "ipython3",
   "version": "3.10.13"
  },
  "orig_nbformat": 4
 },
 "nbformat": 4,
 "nbformat_minor": 2
}
